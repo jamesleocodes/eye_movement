{
 "cells": [
  {
   "cell_type": "code",
   "execution_count": 1,
   "metadata": {},
   "outputs": [
    {
     "name": "stderr",
     "output_type": "stream",
     "text": [
      "/Users/zaw/miniforge3/envs/tensorflow/lib/python3.9/site-packages/xgboost/compat.py:36: FutureWarning: pandas.Int64Index is deprecated and will be removed from pandas in a future version. Use pandas.Index with the appropriate dtype instead.\n",
      "  from pandas import MultiIndex, Int64Index\n"
     ]
    }
   ],
   "source": [
    "\"\"\"\n",
    "Created on Tuesday 3 April 2022\n",
    "Author: ZMW\n",
    "\"\"\"\n",
    "#import libraries\n",
    "\n",
    "import pandas as pd\n",
    "from sklearn.preprocessing import LabelEncoder\n",
    "import numpy as np\n",
    "import matplotlib.pyplot as plt\n",
    "from sklearn.model_selection import train_test_split\n",
    "from sklearn.preprocessing import StandardScaler\n",
    "from sklearn.ensemble import RandomForestClassifier\n",
    "from sklearn import metrics\n",
    "from sklearn.model_selection import cross_val_score\n",
    "from sklearn.model_selection import RepeatedStratifiedKFold\n",
    "from sklearn.preprocessing import StandardScaler\n",
    "from sklearn.metrics import classification_report, confusion_matrix\n",
    "from sklearn.metrics import roc_curve,roc_auc_score\n",
    "from sklearn.metrics import accuracy_score\n",
    "from sklearn.model_selection import learning_curve\n",
    "from sklearn.pipeline import make_pipeline\n",
    "from sklearn.model_selection import StratifiedKFold\n",
    "from sklearn.model_selection import LeaveOneOut\n",
    "from numpy import mean\n",
    "from numpy import std\n",
    "import xgboost as xgb\n",
    "from xgboost import plot_importance\n",
    "from hyperopt import STATUS_OK, Trials, fmin, hp, tpe\n",
    "import shap"
   ]
  },
  {
   "cell_type": "code",
   "execution_count": 16,
   "metadata": {},
   "outputs": [],
   "source": [
    "#Load the fitted dataset\n",
    "data = pd.read_csv('data.csv')"
   ]
  },
  {
   "cell_type": "code",
   "execution_count": 17,
   "metadata": {},
   "outputs": [
    {
     "data": {
      "text/html": [
       "<div>\n",
       "<style scoped>\n",
       "    .dataframe tbody tr th:only-of-type {\n",
       "        vertical-align: middle;\n",
       "    }\n",
       "\n",
       "    .dataframe tbody tr th {\n",
       "        vertical-align: top;\n",
       "    }\n",
       "\n",
       "    .dataframe thead th {\n",
       "        text-align: right;\n",
       "    }\n",
       "</style>\n",
       "<table border=\"1\" class=\"dataframe\">\n",
       "  <thead>\n",
       "    <tr style=\"text-align: right;\">\n",
       "      <th></th>\n",
       "      <th>Label</th>\n",
       "      <th>Patient</th>\n",
       "      <th>A1_1Deg</th>\n",
       "      <th>A1_1Deg_err</th>\n",
       "      <th>B1_1Deg</th>\n",
       "      <th>B1_1Deg_err</th>\n",
       "      <th>C1_1Deg</th>\n",
       "      <th>C1_1Deg_err</th>\n",
       "      <th>1_Deg_ResSoS_1</th>\n",
       "      <th>1Deg_AdjR2_1</th>\n",
       "      <th>...</th>\n",
       "      <th>8_Deg_ResSoS_1</th>\n",
       "      <th>8Deg_AdjR2_1</th>\n",
       "      <th>A2_8Deg</th>\n",
       "      <th>A2_8Deg_err</th>\n",
       "      <th>B2_8Deg</th>\n",
       "      <th>B2_8Deg_err</th>\n",
       "      <th>C2_8Deg</th>\n",
       "      <th>C2_8Deg_err</th>\n",
       "      <th>8_Deg_ResSoS_2</th>\n",
       "      <th>8Deg_AdjR2_2</th>\n",
       "    </tr>\n",
       "  </thead>\n",
       "  <tbody>\n",
       "    <tr>\n",
       "      <th>0</th>\n",
       "      <td>Not_Parkinson's</td>\n",
       "      <td>PD001</td>\n",
       "      <td>10.388190</td>\n",
       "      <td>0.006132</td>\n",
       "      <td>0.049329</td>\n",
       "      <td>0.000006</td>\n",
       "      <td>0.011989</td>\n",
       "      <td>0.000337</td>\n",
       "      <td>8928.709194</td>\n",
       "      <td>0.990598</td>\n",
       "      <td>...</td>\n",
       "      <td>6698.838281</td>\n",
       "      <td>0.951413</td>\n",
       "      <td>10.273124</td>\n",
       "      <td>0.044206</td>\n",
       "      <td>0.386347</td>\n",
       "      <td>0.000384</td>\n",
       "      <td>0.037356</td>\n",
       "      <td>0.002439</td>\n",
       "      <td>6809.455800</td>\n",
       "      <td>0.939095</td>\n",
       "    </tr>\n",
       "    <tr>\n",
       "      <th>1</th>\n",
       "      <td>Not_Parkinson's</td>\n",
       "      <td>PD002</td>\n",
       "      <td>10.429055</td>\n",
       "      <td>0.006929</td>\n",
       "      <td>0.049478</td>\n",
       "      <td>0.000007</td>\n",
       "      <td>0.002837</td>\n",
       "      <td>0.000379</td>\n",
       "      <td>11388.604704</td>\n",
       "      <td>0.988092</td>\n",
       "      <td>...</td>\n",
       "      <td>4769.901822</td>\n",
       "      <td>0.967360</td>\n",
       "      <td>11.482500</td>\n",
       "      <td>0.049154</td>\n",
       "      <td>0.395412</td>\n",
       "      <td>0.000380</td>\n",
       "      <td>-0.002486</td>\n",
       "      <td>0.002419</td>\n",
       "      <td>8383.481840</td>\n",
       "      <td>0.939586</td>\n",
       "    </tr>\n",
       "    <tr>\n",
       "      <th>2</th>\n",
       "      <td>Not_Parkinson's</td>\n",
       "      <td>PD003</td>\n",
       "      <td>10.097088</td>\n",
       "      <td>0.005091</td>\n",
       "      <td>0.049368</td>\n",
       "      <td>0.000006</td>\n",
       "      <td>0.005707</td>\n",
       "      <td>0.000287</td>\n",
       "      <td>6140.292312</td>\n",
       "      <td>0.993141</td>\n",
       "      <td>...</td>\n",
       "      <td>3488.747176</td>\n",
       "      <td>0.968709</td>\n",
       "      <td>10.084338</td>\n",
       "      <td>0.019838</td>\n",
       "      <td>0.394595</td>\n",
       "      <td>0.000174</td>\n",
       "      <td>-0.035466</td>\n",
       "      <td>0.001106</td>\n",
       "      <td>1349.962240</td>\n",
       "      <td>0.987259</td>\n",
       "    </tr>\n",
       "    <tr>\n",
       "      <th>3</th>\n",
       "      <td>Not_Parkinson's</td>\n",
       "      <td>PD004</td>\n",
       "      <td>10.482881</td>\n",
       "      <td>0.022179</td>\n",
       "      <td>0.049585</td>\n",
       "      <td>0.000023</td>\n",
       "      <td>0.016056</td>\n",
       "      <td>0.001212</td>\n",
       "      <td>117748.979710</td>\n",
       "      <td>0.879372</td>\n",
       "      <td>...</td>\n",
       "      <td>10972.045844</td>\n",
       "      <td>0.920137</td>\n",
       "      <td>11.493414</td>\n",
       "      <td>0.048867</td>\n",
       "      <td>0.401386</td>\n",
       "      <td>0.000377</td>\n",
       "      <td>-0.042463</td>\n",
       "      <td>0.002395</td>\n",
       "      <td>8242.136178</td>\n",
       "      <td>0.940370</td>\n",
       "    </tr>\n",
       "    <tr>\n",
       "      <th>4</th>\n",
       "      <td>Not_Parkinson's</td>\n",
       "      <td>PD005</td>\n",
       "      <td>10.181273</td>\n",
       "      <td>0.008833</td>\n",
       "      <td>0.049368</td>\n",
       "      <td>0.000010</td>\n",
       "      <td>0.001569</td>\n",
       "      <td>0.000494</td>\n",
       "      <td>18447.340517</td>\n",
       "      <td>0.979692</td>\n",
       "      <td>...</td>\n",
       "      <td>18268.960666</td>\n",
       "      <td>0.809586</td>\n",
       "      <td>10.370348</td>\n",
       "      <td>0.036121</td>\n",
       "      <td>0.395392</td>\n",
       "      <td>0.000308</td>\n",
       "      <td>-0.030769</td>\n",
       "      <td>0.001960</td>\n",
       "      <td>4485.300264</td>\n",
       "      <td>0.960035</td>\n",
       "    </tr>\n",
       "  </tbody>\n",
       "</table>\n",
       "<p>5 rows × 82 columns</p>\n",
       "</div>"
      ],
      "text/plain": [
       "             Label Patient    A1_1Deg  A1_1Deg_err   B1_1Deg  B1_1Deg_err  \\\n",
       "0  Not_Parkinson's   PD001  10.388190     0.006132  0.049329     0.000006   \n",
       "1  Not_Parkinson's   PD002  10.429055     0.006929  0.049478     0.000007   \n",
       "2  Not_Parkinson's   PD003  10.097088     0.005091  0.049368     0.000006   \n",
       "3  Not_Parkinson's   PD004  10.482881     0.022179  0.049585     0.000023   \n",
       "4  Not_Parkinson's   PD005  10.181273     0.008833  0.049368     0.000010   \n",
       "\n",
       "    C1_1Deg  C1_1Deg_err  1_Deg_ResSoS_1  1Deg_AdjR2_1  ...  8_Deg_ResSoS_1  \\\n",
       "0  0.011989     0.000337     8928.709194      0.990598  ...     6698.838281   \n",
       "1  0.002837     0.000379    11388.604704      0.988092  ...     4769.901822   \n",
       "2  0.005707     0.000287     6140.292312      0.993141  ...     3488.747176   \n",
       "3  0.016056     0.001212   117748.979710      0.879372  ...    10972.045844   \n",
       "4  0.001569     0.000494    18447.340517      0.979692  ...    18268.960666   \n",
       "\n",
       "   8Deg_AdjR2_1    A2_8Deg  A2_8Deg_err   B2_8Deg  B2_8Deg_err   C2_8Deg  \\\n",
       "0      0.951413  10.273124     0.044206  0.386347     0.000384  0.037356   \n",
       "1      0.967360  11.482500     0.049154  0.395412     0.000380 -0.002486   \n",
       "2      0.968709  10.084338     0.019838  0.394595     0.000174 -0.035466   \n",
       "3      0.920137  11.493414     0.048867  0.401386     0.000377 -0.042463   \n",
       "4      0.809586  10.370348     0.036121  0.395392     0.000308 -0.030769   \n",
       "\n",
       "   C2_8Deg_err  8_Deg_ResSoS_2  8Deg_AdjR2_2  \n",
       "0     0.002439     6809.455800      0.939095  \n",
       "1     0.002419     8383.481840      0.939586  \n",
       "2     0.001106     1349.962240      0.987259  \n",
       "3     0.002395     8242.136178      0.940370  \n",
       "4     0.001960     4485.300264      0.960035  \n",
       "\n",
       "[5 rows x 82 columns]"
      ]
     },
     "execution_count": 17,
     "metadata": {},
     "output_type": "execute_result"
    }
   ],
   "source": [
    "data.head()"
   ]
  },
  {
   "cell_type": "code",
   "execution_count": 15,
   "metadata": {},
   "outputs": [],
   "source": [
    "columns = ['Label','A2_1Deg','A2_1Deg_err','B2_1Deg','B2_1Deg_err','C2_1Deg_err','1_Deg_ResSoS_2','1Deg_AdjR2_2',\n",
    "            'A2_2Deg','A2_2Deg_err','B2_2Deg','B2_2Deg_err','C2_2Deg_err','2_Deg_ResSoS_2','2Deg_AdjR2_2',\n",
    "            'A2_4Deg','A2_4Deg_err','B2_4Deg','B2_4Deg_err','C2_4Deg_err','4_Deg_ResSoS_2','4Deg_AdjR2_2',\n",
    "            'A2_6Deg','A2_6Deg_err','B2_6Deg','B2_6Deg_err','C2_6Deg_err','6_Deg_ResSoS_2','6Deg_AdjR2_2',\n",
    "            'A2_8Deg','A2_8Deg_err','B2_8Deg','B2_8Deg_err','C2_8Deg_err','8_Deg_ResSoS_2','8Deg_AdjR2_2',]"
   ]
  },
  {
   "cell_type": "code",
   "execution_count": 18,
   "metadata": {},
   "outputs": [],
   "source": [
    "data_second = data[columns]"
   ]
  },
  {
   "cell_type": "code",
   "execution_count": 19,
   "metadata": {},
   "outputs": [],
   "source": [
    "# Features and labels\n",
    "x = data_second.iloc[:,2:].values\n",
    "y = data_second.iloc[:,0].values"
   ]
  },
  {
   "cell_type": "code",
   "execution_count": 20,
   "metadata": {},
   "outputs": [],
   "source": [
    "## Convert the categorical variables to number\n",
    "LabelEncoder_gender = LabelEncoder()\n",
    "y = LabelEncoder_gender.fit_transform(y)"
   ]
  },
  {
   "cell_type": "code",
   "execution_count": 227,
   "metadata": {},
   "outputs": [],
   "source": [
    "# sc_x = StandardScaler()\n",
    "# data.iloc[:,2:] = sc_x.fit_transform(data.iloc[:,2:])"
   ]
  },
  {
   "cell_type": "code",
   "execution_count": 197,
   "metadata": {},
   "outputs": [],
   "source": [
    "# # Rescale feature\n",
    "# def scale(col):\n",
    "#     return (col - np.min(col))/(np.max(col)-np.min(col))\n",
    "\n",
    "# x = x.apply(scale,axis=0)"
   ]
  },
  {
   "cell_type": "code",
   "execution_count": 21,
   "metadata": {},
   "outputs": [],
   "source": [
    "# spliting feature\n",
    "x_train, x_test,y_train,y_test = train_test_split(x,y,test_size=0.3,random_state=0)"
   ]
  },
  {
   "cell_type": "markdown",
   "metadata": {},
   "source": [
    "## XGBOOST"
   ]
  },
  {
   "cell_type": "code",
   "execution_count": 22,
   "metadata": {},
   "outputs": [
    {
     "name": "stdout",
     "output_type": "stream",
     "text": [
      "[[3 1]\n",
      " [2 3]]\n",
      "Accuracy score: 0.6666666666666666\n",
      "Precision score: 0.75\n",
      "Recall Score: 0.6\n"
     ]
    }
   ],
   "source": [
    "import xgboost as xgb\n",
    "classifier = xgb.XGBClassifier(eval_metric='mlogloss',use_label_encoder=False)\n",
    "classifier.fit(x_train,y_train)\n",
    "\n",
    "\n",
    "y_pred = classifier.predict(x_test)\n",
    "cm = metrics.confusion_matrix(y_test, y_pred)\n",
    "print(cm)\n",
    "accuracy = metrics.accuracy_score(y_test, y_pred)\n",
    "print('Accuracy score:',accuracy)\n",
    "precision = metrics.precision_score(y_test,y_pred)\n",
    "print(\"Precision score:\",precision)\n",
    "recall = metrics.recall_score(y_test, y_pred)\n",
    "print('Recall Score:',recall)"
   ]
  },
  {
   "cell_type": "code",
   "execution_count": 16,
   "metadata": {},
   "outputs": [
    {
     "name": "stdout",
     "output_type": "stream",
     "text": [
      "Cross Validation accuracy scores: [1.         0.33333333 0.66666667 0.66666667 0.33333333 0.66666667\n",
      " 0.66666667 1.         0.66666667 1.        ]\n",
      "Cross Validation accuracy: 0.700 +/- 0.233\n"
     ]
    }
   ],
   "source": [
    "pipeline = make_pipeline(StandardScaler(), classifier)\n",
    "#\n",
    "# Pass instance of pipeline and training and test data set\n",
    "# cv=10 represents the StratifiedKFold with 10 folds\n",
    "#\n",
    "scores = cross_val_score(pipeline, X=x, y=y, cv=10, n_jobs=1)\n",
    " \n",
    "print('Cross Validation accuracy scores: %s' % scores)\n",
    " \n",
    "print('Cross Validation accuracy: %.3f +/- %.3f' % (np.mean(scores),np.std(scores)))"
   ]
  },
  {
   "cell_type": "markdown",
   "metadata": {},
   "source": [
    "### Hyperparameter Tuning"
   ]
  },
  {
   "cell_type": "code",
   "execution_count": 25,
   "metadata": {},
   "outputs": [],
   "source": [
    "params = {'learning_rate': hp.uniform('learning_rate', 0.01, 0.2),\n",
    "          'gamma': hp.uniform('gamma', 0, 0.2),\n",
    "          'min_child_weight': hp.choice('min_child_weight', range(1, 6)),\n",
    "          'subsample': hp.uniform('subsample', 0.7, 1.0),\n",
    "          'colsample_bytree': hp.uniform('colsample_bytree', 0.7, 1.0),\n",
    "          'max_depth': hp.choice('max_depth', range(3, 10)),\n",
    "          'n_estimators': hp.choice('n_estimators', [50, 100, 200, 300, 400, 500, 1000])}\n",
    "    \n",
    "min_child_weight_ls = range(1, 6)\n",
    "max_depth_ls = range(3, 10)\n",
    "n_estimators_ls = [100, 200, 300, 400, 500, 1000, 1500, 2000]"
   ]
  },
  {
   "cell_type": "code",
   "execution_count": 26,
   "metadata": {},
   "outputs": [],
   "source": [
    "def hyperparameter_tuning(params):\n",
    "    clf=xgb.XGBClassifier(**params, n_jobs=6, random_state=1, seed=1,\n",
    "                              use_label_encoder=False)\n",
    "    clf.fit(x_train, y_train,eval_metric='auc')\n",
    "    pred = clf.predict(x_test)\n",
    "    accuracy = accuracy_score(y_test, pred>0.5)\n",
    "#     print (\"SCORE:\", accuracy)\n",
    "    return {'loss': -accuracy, 'status': STATUS_OK }"
   ]
  },
  {
   "cell_type": "code",
   "execution_count": 27,
   "metadata": {},
   "outputs": [
    {
     "name": "stdout",
     "output_type": "stream",
     "text": [
      "100%|██████████| 50/50 [00:04<00:00, 10.80trial/s, best loss: -0.7777777777777778]\n"
     ]
    }
   ],
   "source": [
    "trials = Trials()\n",
    "\n",
    "best_hyperparams = fmin(fn = hyperparameter_tuning,\n",
    "                        space = params,\n",
    "                        algo = tpe.suggest,\n",
    "                        max_evals = 50,\n",
    "                        trials = trials)"
   ]
  },
  {
   "cell_type": "code",
   "execution_count": 28,
   "metadata": {},
   "outputs": [
    {
     "data": {
      "text/plain": [
       "{'colsample_bytree': 0.9513415367239471,\n",
       " 'gamma': 0.05126026224903906,\n",
       " 'learning_rate': 0.1372294512967831,\n",
       " 'max_depth': 6,\n",
       " 'min_child_weight': 1,\n",
       " 'n_estimators': 4,\n",
       " 'subsample': 0.8365461698351383}"
      ]
     },
     "execution_count": 28,
     "metadata": {},
     "output_type": "execute_result"
    }
   ],
   "source": [
    "best_hyperparams"
   ]
  },
  {
   "cell_type": "code",
   "execution_count": 33,
   "metadata": {},
   "outputs": [],
   "source": [
    "best_model = xgb.XGBClassifier(n_estimators=n_estimators_ls[best_hyperparams['n_estimators']],\n",
    "                               max_depth=max_depth_ls[best_hyperparams['max_depth']],\n",
    "                               min_child_weight=min_child_weight_ls[best_hyperparams['min_child_weight']],\n",
    "                               learning_rate=best_hyperparams['learning_rate'],\n",
    "                               gamma=best_hyperparams['gamma'],\n",
    "                               subsample=best_hyperparams['subsample'],\n",
    "                               colsample_bytree=best_hyperparams['colsample_bytree'],\n",
    "                               n_jobs=6, random_state=1, seed=1)\n",
    "    "
   ]
  },
  {
   "cell_type": "code",
   "execution_count": 34,
   "metadata": {},
   "outputs": [
    {
     "name": "stdout",
     "output_type": "stream",
     "text": [
      "[[4 0]\n",
      " [2 3]]\n",
      "Accuracy score: 0.7777777777777778\n",
      "Precision score: 1.0\n",
      "Recall Score: 0.6\n"
     ]
    },
    {
     "name": "stderr",
     "output_type": "stream",
     "text": [
      "The use of label encoder in XGBClassifier is deprecated and will be removed in a future release. To remove this warning, do the following: 1) Pass option use_label_encoder=False when constructing XGBClassifier object; and 2) Encode your labels (y) as integers starting with 0, i.e. 0, 1, 2, ..., [num_class - 1].\n"
     ]
    }
   ],
   "source": [
    "best_model.fit(x_train,y_train,eval_metric='auc')\n",
    "y_pred = best_model.predict(x_test)\n",
    "cm = metrics.confusion_matrix(y_test, y_pred)\n",
    "print(cm)\n",
    "accuracy = metrics.accuracy_score(y_test, y_pred)\n",
    "print('Accuracy score:',accuracy)\n",
    "precision = metrics.precision_score(y_test,y_pred)\n",
    "print(\"Precision score:\",precision)\n",
    "recall = metrics.recall_score(y_test, y_pred)\n",
    "print('Recall Score:',recall)"
   ]
  },
  {
   "cell_type": "code",
   "execution_count": 35,
   "metadata": {},
   "outputs": [
    {
     "name": "stdout",
     "output_type": "stream",
     "text": [
      "Cross Validation accuracy scores: [1.         0.33333333 1.         0.66666667 0.         0.66666667\n",
      " 1.         1.         0.33333333 0.5       ]\n",
      "Cross Validation accuracy: 0.650 +/- 0.337\n"
     ]
    }
   ],
   "source": [
    "# cross validation\n",
    "best_model = xgb.XGBClassifier(n_estimators=n_estimators_ls[best_hyperparams['n_estimators']],\n",
    "                               max_depth=max_depth_ls[best_hyperparams['max_depth']],\n",
    "                               min_child_weight=min_child_weight_ls[best_hyperparams['min_child_weight']],\n",
    "                               learning_rate=best_hyperparams['learning_rate'],\n",
    "                               gamma=best_hyperparams['gamma'],\n",
    "                               subsample=best_hyperparams['subsample'],\n",
    "                               colsample_bytree=best_hyperparams['colsample_bytree'],\n",
    "                               n_jobs=6, random_state=1, seed=1,use_label_encoder=False,verbosity = 0,silent=True)\n",
    "scores = cross_val_score(best_model, X=x, y=y, cv=10, n_jobs=1)\n",
    " \n",
    "print('Cross Validation accuracy scores: %s' % scores)\n",
    " \n",
    "print('Cross Validation accuracy: %.3f +/- %.3f' % (np.mean(scores),np.std(scores)))"
   ]
  },
  {
   "cell_type": "code",
   "execution_count": null,
   "metadata": {},
   "outputs": [],
   "source": []
  },
  {
   "cell_type": "code",
   "execution_count": 36,
   "metadata": {},
   "outputs": [],
   "source": [
    "def run_best_model(arg):\n",
    "    # data set preparation\n",
    "    # data = pd.read_csv('data.csv')\n",
    "    data = arg\n",
    "\n",
    "    ## Convert the categorical variables to number\n",
    "    LabelEncoder_gender = LabelEncoder()\n",
    "    data['Label'] = LabelEncoder_gender.fit_transform(data['Label'])\n",
    "    \n",
    "    # run 30 repetitions\n",
    "    splits = 30\n",
    "    all_set = []\n",
    "    for split in range(1,splits+1):\n",
    "        \n",
    "        seed = split\n",
    "\n",
    "        # data set preparation\n",
    "        train , test = train_test_split(data,train_size = 0.7,shuffle=True,random_state=seed)\n",
    "        #validate , test = train_test_split(rest, train_size = 0.5, shuffle=True)\n",
    "\n",
    "        # training set\n",
    "        data_tra_x = train.iloc[:,2:].values\n",
    "        data_tra_y = train.iloc[:,0].values\n",
    "\n",
    "\n",
    "        # validation set\n",
    "        # data_val_x = validate.iloc[:,2:].values\n",
    "        # data_val_y = validate.iloc[:,0].values\n",
    "\n",
    "\n",
    "        # test set\n",
    "        data_tes_x = test.iloc[:,2:].values\n",
    "        data_tes_y =  test.iloc[:,0].values\n",
    "\n",
    "        best_model = xgb.XGBClassifier(n_estimators=n_estimators_ls[best_hyperparams['n_estimators']],\n",
    "                               max_depth=max_depth_ls[best_hyperparams['max_depth']],\n",
    "                               min_child_weight=min_child_weight_ls[best_hyperparams['min_child_weight']],\n",
    "                               learning_rate=best_hyperparams['learning_rate'],\n",
    "                               gamma=best_hyperparams['gamma'],\n",
    "                               subsample=best_hyperparams['subsample'],\n",
    "                               colsample_bytree=best_hyperparams['colsample_bytree'],\n",
    "                               n_jobs=6, random_state=1, seed=1,use_label_encoder=False)\n",
    "    \n",
    "        best_model.fit(data_tra_x,data_tra_y,eval_metric='auc')\n",
    "\n",
    "        # training error\n",
    "        tra_pred = best_model.predict_proba(data_tra_x)\n",
    "        tra_results = [split,'tra',roc_auc_score(data_tra_y,tra_pred[:,1])]\n",
    "      \n",
    "\n",
    "        # validation error\n",
    "        # val_pred = best_model.predict_proba(data_val_x)\n",
    "        # val_results = [split,'val',roc_auc_score(data_val_y,val_pred[:,1])]\n",
    "        \n",
    "\n",
    "        # testing error\n",
    "        tes_pred = best_model.predict_proba(data_tes_x)\n",
    "        tes_results = [' ','tes',roc_auc_score(data_tes_y,tes_pred[:,1])]\n",
    "    \n",
    "\n",
    "        all_set += tra_results,tes_results\n",
    "\n",
    "    all_set_df = pd.DataFrame(all_set,columns=['split','set','acc'])\n",
    "\n",
    "    print('train accuracy',all_set_df[all_set_df['set'] == 'tra']['acc'].mean(),'std',all_set_df[all_set_df['set'] == 'tra']['acc'].std())\n",
    "    #print('validation accuracy',all_set_df[all_set_df['set'] == 'val']['acc'].mean(),'std',all_set_df[all_set_df['set'] == 'tra']['acc'].std())\n",
    "    print('test accuracy',all_set_df[all_set_df['set'] == 'tes']['acc'].mean(),'std',all_set_df[all_set_df['set'] == 'tes']['acc'].std())\n",
    "\n",
    "#run_best_model(data)"
   ]
  },
  {
   "cell_type": "code",
   "execution_count": 37,
   "metadata": {},
   "outputs": [
    {
     "name": "stdout",
     "output_type": "stream",
     "text": [
      "train accuracy 0.9899060060310059 std 0.009137519472191038\n",
      "test accuracy 0.6039153439153441 std 0.2298636287699014\n"
     ]
    }
   ],
   "source": [
    "run_best_model(data)"
   ]
  },
  {
   "cell_type": "code",
   "execution_count": 239,
   "metadata": {},
   "outputs": [
    {
     "name": "stdout",
     "output_type": "stream",
     "text": [
      "[[4 1]\n",
      " [0 4]]\n",
      "1.0\n",
      "0.8\n",
      "0.9\n"
     ]
    }
   ],
   "source": [
    "#confusion matrix\n",
    "confusion = confusion_matrix(y_pred,y_test)\n",
    "print(confusion)\n",
    "\n",
    "#  Sensitivity \n",
    "TP = confusion[1,1] # true positives\n",
    "TN = confusion[0,0] # true negatives\n",
    "FP = confusion[0,1] # False positives\n",
    "FN = confusion[1,0] # false negatives\n",
    "\n",
    "sensitivity = TP/float(TP+FN)\n",
    "print(sensitivity)\n",
    "\n",
    "# Specificity\n",
    "specificity = TN/float(TN+FP)\n",
    "print(specificity)\n",
    "\n",
    "\n",
    "auc_score = roc_auc_score(y_test, y_pred)\n",
    "fpr , tpr , thresholds = roc_curve (y_test, y_pred)\n",
    "print(auc_score)"
   ]
  },
  {
   "cell_type": "code",
   "execution_count": 240,
   "metadata": {},
   "outputs": [
    {
     "data": {
      "image/png": "[encoded data removed]",
      "text/plain": [
       "<Figure size 432x288 with 1 Axes>"
      ]
     },
     "metadata": {
      "needs_background": "light"
     },
     "output_type": "display_data"
    }
   ],
   "source": [
    "def plot_roc_curve(fpr,tpr): \n",
    "  random_probs = [0 for i in range(len(y_test))]\n",
    "  p_fpr, p_tpr, _ = roc_curve(y_test, random_probs, pos_label=1)\n",
    "  plt.plot(fpr,tpr,label='ROC(area=0.80')\n",
    "  plt.plot(p_fpr, p_tpr,'--',color='black') \n",
    "  plt.axis([-0.05,1.05,-0.05,1.05]) \n",
    "  plt.title('ROC curve')\n",
    "  plt.xlabel('False Positive Rate') \n",
    "  plt.ylabel('True Positive Rate') \n",
    "  plt.legend()\n",
    "  #plt.savefig('roc_curve.png',dpi=300)\n",
    "  plt.show()    \n",
    "  \n",
    "plot_roc_curve (fpr,tpr)"
   ]
  },
  {
   "cell_type": "code",
   "execution_count": 31,
   "metadata": {},
   "outputs": [
    {
     "name": "stdout",
     "output_type": "stream",
     "text": [
      "Cross Validation accuracy scores: [0.5 0.5 0.5 0.5 0.5 0.5 0.5 0.5 0.5 0.5]\n",
      "Cross Validation accuracy: 0.500 +/- 0.000\n"
     ]
    }
   ],
   "source": [
    "# cross validation\n",
    "pipeline = make_pipeline(StandardScaler(), xgb.XGBClassifier( max_depth = best_hyperparams['max_depth'],\n",
    "                             gamma = best_hyperparams['gamma'],reg_alpha = best_hyperparams['reg_alpha'],\n",
    "                             reg_lambda = best_hyperparams['reg_lambda'],\n",
    "                             min_child_weight=best_hyperparams['min_child_weight'],\n",
    "                             colsample_bytree= best_hyperparams['colsample_bytree'],use_label_encoder=False,eval_metric='mlogloss'))\n",
    "#\n",
    "# Pass instance of pipeline and training and test data set\n",
    "# cv=10 represents the StratifiedKFold with 10 folds\n",
    "#\n",
    "scores = cross_val_score(pipeline, X=x_train, y=y_train, cv=10, n_jobs=1)\n",
    " \n",
    "print('Cross Validation accuracy scores: %s' % scores)\n",
    " \n",
    "print('Cross Validation accuracy: %.3f +/- %.3f' % (np.mean(scores),np.std(scores)))"
   ]
  },
  {
   "cell_type": "code",
   "execution_count": 183,
   "metadata": {},
   "outputs": [
    {
     "name": "stdout",
     "output_type": "stream",
     "text": [
      "Accuracy: 0.586\n"
     ]
    }
   ],
   "source": [
    "cv = LeaveOneOut()\n",
    "y_true, y_pred = list(), list()\n",
    "for train_ix, test_ix in cv.split(x):\n",
    "\t# split data\n",
    "\tX_train, X_test = x[train_ix, :], x[test_ix, :]\n",
    "\ty_train, y_test = y[train_ix], y[test_ix]\n",
    "\t# fit model\n",
    "\tmodel = RandomForestClassifier(random_state=1)\n",
    "\tmodel.fit(X_train, y_train)\n",
    "\t# evaluate model\n",
    "\tyhat = model.predict(X_test)\n",
    "\t# store\n",
    "\ty_true.append(y_test[0])\n",
    "\ty_pred.append(yhat[0])\n",
    "# calculate accuracy\n",
    "acc = accuracy_score(y_true, y_pred)\n",
    "print('Accuracy: %.3f' % acc)"
   ]
  },
  {
   "cell_type": "markdown",
   "metadata": {},
   "source": [
    "### Feature importance"
   ]
  },
  {
   "cell_type": "code",
   "execution_count": 39,
   "metadata": {},
   "outputs": [
    {
     "ename": "ValueError",
     "evalue": "All arrays must be of the same length",
     "output_type": "error",
     "traceback": [
      "\u001b[0;31m---------------------------------------------------------------------------\u001b[0m",
      "\u001b[0;31mValueError\u001b[0m                                Traceback (most recent call last)",
      "\u001b[0;32m/var/folders/hj/4_1_bgn11_dgm99bq0lnjxl80000gn/T/ipykernel_71895/2093823640.py\u001b[0m in \u001b[0;36m<module>\u001b[0;34m\u001b[0m\n\u001b[1;32m      1\u001b[0m \u001b[0;31m# Feature importance\u001b[0m\u001b[0;34m\u001b[0m\u001b[0;34m\u001b[0m\u001b[0;34m\u001b[0m\u001b[0m\n\u001b[1;32m      2\u001b[0m \u001b[0mX_training\u001b[0m \u001b[0;34m=\u001b[0m \u001b[0mdata\u001b[0m\u001b[0;34m.\u001b[0m\u001b[0mdrop\u001b[0m\u001b[0;34m(\u001b[0m\u001b[0;34m[\u001b[0m\u001b[0;34m'Label'\u001b[0m\u001b[0;34m,\u001b[0m \u001b[0;34m'Patient'\u001b[0m\u001b[0;34m]\u001b[0m\u001b[0;34m,\u001b[0m \u001b[0maxis\u001b[0m \u001b[0;34m=\u001b[0m \u001b[0;36m1\u001b[0m\u001b[0;34m)\u001b[0m\u001b[0;34m.\u001b[0m\u001b[0mcopy\u001b[0m\u001b[0;34m(\u001b[0m\u001b[0;34m)\u001b[0m\u001b[0;34m\u001b[0m\u001b[0;34m\u001b[0m\u001b[0m\n\u001b[0;32m----> 3\u001b[0;31m \u001b[0mimportances\u001b[0m \u001b[0;34m=\u001b[0m \u001b[0mpd\u001b[0m\u001b[0;34m.\u001b[0m\u001b[0mDataFrame\u001b[0m\u001b[0;34m(\u001b[0m\u001b[0;34m{\u001b[0m\u001b[0;34m'feature'\u001b[0m\u001b[0;34m:\u001b[0m\u001b[0mX_training\u001b[0m\u001b[0;34m.\u001b[0m\u001b[0mcolumns\u001b[0m\u001b[0;34m,\u001b[0m\u001b[0;34m'importance'\u001b[0m\u001b[0;34m:\u001b[0m\u001b[0mnp\u001b[0m\u001b[0;34m.\u001b[0m\u001b[0mround\u001b[0m\u001b[0;34m(\u001b[0m\u001b[0mclassifier\u001b[0m\u001b[0;34m.\u001b[0m\u001b[0mfeature_importances_\u001b[0m\u001b[0;34m,\u001b[0m\u001b[0;36m3\u001b[0m\u001b[0;34m)\u001b[0m\u001b[0;34m}\u001b[0m\u001b[0;34m)\u001b[0m\u001b[0;34m\u001b[0m\u001b[0;34m\u001b[0m\u001b[0m\n\u001b[0m\u001b[1;32m      4\u001b[0m \u001b[0mimportances\u001b[0m \u001b[0;34m=\u001b[0m \u001b[0mimportances\u001b[0m\u001b[0;34m.\u001b[0m\u001b[0msort_values\u001b[0m\u001b[0;34m(\u001b[0m\u001b[0;34m'importance'\u001b[0m\u001b[0;34m,\u001b[0m\u001b[0mascending\u001b[0m\u001b[0;34m=\u001b[0m\u001b[0;32mFalse\u001b[0m\u001b[0;34m)\u001b[0m\u001b[0;34m.\u001b[0m\u001b[0mset_index\u001b[0m\u001b[0;34m(\u001b[0m\u001b[0;34m'feature'\u001b[0m\u001b[0;34m)\u001b[0m\u001b[0;34m\u001b[0m\u001b[0;34m\u001b[0m\u001b[0m\n\u001b[1;32m      5\u001b[0m \u001b[0mimportances\u001b[0m \u001b[0;34m=\u001b[0m \u001b[0mimportances\u001b[0m\u001b[0;34m[\u001b[0m\u001b[0;36m0\u001b[0m\u001b[0;34m:\u001b[0m\u001b[0;36m10\u001b[0m\u001b[0;34m]\u001b[0m\u001b[0;34m\u001b[0m\u001b[0;34m\u001b[0m\u001b[0m\n",
      "\u001b[0;32m~/miniforge3/envs/tensorflow/lib/python3.9/site-packages/pandas/core/frame.py\u001b[0m in \u001b[0;36m__init__\u001b[0;34m(self, data, index, columns, dtype, copy)\u001b[0m\n\u001b[1;32m    634\u001b[0m         \u001b[0;32melif\u001b[0m \u001b[0misinstance\u001b[0m\u001b[0;34m(\u001b[0m\u001b[0mdata\u001b[0m\u001b[0;34m,\u001b[0m \u001b[0mdict\u001b[0m\u001b[0;34m)\u001b[0m\u001b[0;34m:\u001b[0m\u001b[0;34m\u001b[0m\u001b[0;34m\u001b[0m\u001b[0m\n\u001b[1;32m    635\u001b[0m             \u001b[0;31m# GH#38939 de facto copy defaults to False only in non-dict cases\u001b[0m\u001b[0;34m\u001b[0m\u001b[0;34m\u001b[0m\u001b[0;34m\u001b[0m\u001b[0m\n\u001b[0;32m--> 636\u001b[0;31m             \u001b[0mmgr\u001b[0m \u001b[0;34m=\u001b[0m \u001b[0mdict_to_mgr\u001b[0m\u001b[0;34m(\u001b[0m\u001b[0mdata\u001b[0m\u001b[0;34m,\u001b[0m \u001b[0mindex\u001b[0m\u001b[0;34m,\u001b[0m \u001b[0mcolumns\u001b[0m\u001b[0;34m,\u001b[0m \u001b[0mdtype\u001b[0m\u001b[0;34m=\u001b[0m\u001b[0mdtype\u001b[0m\u001b[0;34m,\u001b[0m \u001b[0mcopy\u001b[0m\u001b[0;34m=\u001b[0m\u001b[0mcopy\u001b[0m\u001b[0;34m,\u001b[0m \u001b[0mtyp\u001b[0m\u001b[0;34m=\u001b[0m\u001b[0mmanager\u001b[0m\u001b[0;34m)\u001b[0m\u001b[0;34m\u001b[0m\u001b[0;34m\u001b[0m\u001b[0m\n\u001b[0m\u001b[1;32m    637\u001b[0m         \u001b[0;32melif\u001b[0m \u001b[0misinstance\u001b[0m\u001b[0;34m(\u001b[0m\u001b[0mdata\u001b[0m\u001b[0;34m,\u001b[0m \u001b[0mma\u001b[0m\u001b[0;34m.\u001b[0m\u001b[0mMaskedArray\u001b[0m\u001b[0;34m)\u001b[0m\u001b[0;34m:\u001b[0m\u001b[0;34m\u001b[0m\u001b[0;34m\u001b[0m\u001b[0m\n\u001b[1;32m    638\u001b[0m             \u001b[0;32mimport\u001b[0m \u001b[0mnumpy\u001b[0m\u001b[0;34m.\u001b[0m\u001b[0mma\u001b[0m\u001b[0;34m.\u001b[0m\u001b[0mmrecords\u001b[0m \u001b[0;32mas\u001b[0m \u001b[0mmrecords\u001b[0m\u001b[0;34m\u001b[0m\u001b[0;34m\u001b[0m\u001b[0m\n",
      "\u001b[0;32m~/miniforge3/envs/tensorflow/lib/python3.9/site-packages/pandas/core/internals/construction.py\u001b[0m in \u001b[0;36mdict_to_mgr\u001b[0;34m(data, index, columns, dtype, typ, copy)\u001b[0m\n\u001b[1;32m    500\u001b[0m         \u001b[0;31m# TODO: can we get rid of the dt64tz special case above?\u001b[0m\u001b[0;34m\u001b[0m\u001b[0;34m\u001b[0m\u001b[0;34m\u001b[0m\u001b[0m\n\u001b[1;32m    501\u001b[0m \u001b[0;34m\u001b[0m\u001b[0m\n\u001b[0;32m--> 502\u001b[0;31m     \u001b[0;32mreturn\u001b[0m \u001b[0marrays_to_mgr\u001b[0m\u001b[0;34m(\u001b[0m\u001b[0marrays\u001b[0m\u001b[0;34m,\u001b[0m \u001b[0mcolumns\u001b[0m\u001b[0;34m,\u001b[0m \u001b[0mindex\u001b[0m\u001b[0;34m,\u001b[0m \u001b[0mdtype\u001b[0m\u001b[0;34m=\u001b[0m\u001b[0mdtype\u001b[0m\u001b[0;34m,\u001b[0m \u001b[0mtyp\u001b[0m\u001b[0;34m=\u001b[0m\u001b[0mtyp\u001b[0m\u001b[0;34m,\u001b[0m \u001b[0mconsolidate\u001b[0m\u001b[0;34m=\u001b[0m\u001b[0mcopy\u001b[0m\u001b[0;34m)\u001b[0m\u001b[0;34m\u001b[0m\u001b[0;34m\u001b[0m\u001b[0m\n\u001b[0m\u001b[1;32m    503\u001b[0m \u001b[0;34m\u001b[0m\u001b[0m\n\u001b[1;32m    504\u001b[0m \u001b[0;34m\u001b[0m\u001b[0m\n",
      "\u001b[0;32m~/miniforge3/envs/tensorflow/lib/python3.9/site-packages/pandas/core/internals/construction.py\u001b[0m in \u001b[0;36marrays_to_mgr\u001b[0;34m(arrays, columns, index, dtype, verify_integrity, typ, consolidate)\u001b[0m\n\u001b[1;32m    118\u001b[0m         \u001b[0;31m# figure out the index, if necessary\u001b[0m\u001b[0;34m\u001b[0m\u001b[0;34m\u001b[0m\u001b[0;34m\u001b[0m\u001b[0m\n\u001b[1;32m    119\u001b[0m         \u001b[0;32mif\u001b[0m \u001b[0mindex\u001b[0m \u001b[0;32mis\u001b[0m \u001b[0;32mNone\u001b[0m\u001b[0;34m:\u001b[0m\u001b[0;34m\u001b[0m\u001b[0;34m\u001b[0m\u001b[0m\n\u001b[0;32m--> 120\u001b[0;31m             \u001b[0mindex\u001b[0m \u001b[0;34m=\u001b[0m \u001b[0m_extract_index\u001b[0m\u001b[0;34m(\u001b[0m\u001b[0marrays\u001b[0m\u001b[0;34m)\u001b[0m\u001b[0;34m\u001b[0m\u001b[0;34m\u001b[0m\u001b[0m\n\u001b[0m\u001b[1;32m    121\u001b[0m         \u001b[0;32melse\u001b[0m\u001b[0;34m:\u001b[0m\u001b[0;34m\u001b[0m\u001b[0;34m\u001b[0m\u001b[0m\n\u001b[1;32m    122\u001b[0m             \u001b[0mindex\u001b[0m \u001b[0;34m=\u001b[0m \u001b[0mensure_index\u001b[0m\u001b[0;34m(\u001b[0m\u001b[0mindex\u001b[0m\u001b[0;34m)\u001b[0m\u001b[0;34m\u001b[0m\u001b[0;34m\u001b[0m\u001b[0m\n",
      "\u001b[0;32m~/miniforge3/envs/tensorflow/lib/python3.9/site-packages/pandas/core/internals/construction.py\u001b[0m in \u001b[0;36m_extract_index\u001b[0;34m(data)\u001b[0m\n\u001b[1;32m    672\u001b[0m             \u001b[0mlengths\u001b[0m \u001b[0;34m=\u001b[0m \u001b[0mlist\u001b[0m\u001b[0;34m(\u001b[0m\u001b[0mset\u001b[0m\u001b[0;34m(\u001b[0m\u001b[0mraw_lengths\u001b[0m\u001b[0;34m)\u001b[0m\u001b[0;34m)\u001b[0m\u001b[0;34m\u001b[0m\u001b[0;34m\u001b[0m\u001b[0m\n\u001b[1;32m    673\u001b[0m             \u001b[0;32mif\u001b[0m \u001b[0mlen\u001b[0m\u001b[0;34m(\u001b[0m\u001b[0mlengths\u001b[0m\u001b[0;34m)\u001b[0m \u001b[0;34m>\u001b[0m \u001b[0;36m1\u001b[0m\u001b[0;34m:\u001b[0m\u001b[0;34m\u001b[0m\u001b[0;34m\u001b[0m\u001b[0m\n\u001b[0;32m--> 674\u001b[0;31m                 \u001b[0;32mraise\u001b[0m \u001b[0mValueError\u001b[0m\u001b[0;34m(\u001b[0m\u001b[0;34m\"All arrays must be of the same length\"\u001b[0m\u001b[0;34m)\u001b[0m\u001b[0;34m\u001b[0m\u001b[0;34m\u001b[0m\u001b[0m\n\u001b[0m\u001b[1;32m    675\u001b[0m \u001b[0;34m\u001b[0m\u001b[0m\n\u001b[1;32m    676\u001b[0m             \u001b[0;32mif\u001b[0m \u001b[0mhave_dicts\u001b[0m\u001b[0;34m:\u001b[0m\u001b[0;34m\u001b[0m\u001b[0;34m\u001b[0m\u001b[0m\n",
      "\u001b[0;31mValueError\u001b[0m: All arrays must be of the same length"
     ]
    }
   ],
   "source": [
    "# Feature importance\n",
    "X_training = data.drop(['Label', 'Patient'], axis = 1).copy()\n",
    "importances = pd.DataFrame({'feature':X_training.columns,'importance':np.round(classifier.feature_importances_,3)})\n",
    "importances = importances.sort_values('importance',ascending=False).set_index('feature')\n",
    "importances = importances[0:10]\n",
    "importances.plot.bar(figsize=(10,5))\n",
    "plt.plot()"
   ]
  },
  {
   "cell_type": "code",
   "execution_count": 27,
   "metadata": {},
   "outputs": [
    {
     "name": "stdout",
     "output_type": "stream",
     "text": [
      "[[4 0]\n",
      " [1 4]]\n",
      "Accuracy score: 0.8888888888888888\n",
      "Precision score: 1.0\n",
      "Recall Score: 0.8\n"
     ]
    }
   ],
   "source": [
    "x = data[['C2_6Deg','B2_4Deg','B2_6Deg','C2_4Deg','C1_2Deg','C1_8Deg','A1_4Deg_err','C2_1Deg','B1_8Deg','B2_8Deg']].values\n",
    "y = data.iloc[:,0].values\n",
    "\n",
    "LabelEncoder_gender = LabelEncoder()\n",
    "y = LabelEncoder_gender.fit_transform(y)\n",
    "\n",
    "x_train, x_test,y_train,y_test = train_test_split(x,y,test_size=0.3,random_state=0)\n",
    "classifier = RandomForestClassifier(random_state=3)\n",
    "classifier.fit(x_train,y_train)\n",
    "y_pred = classifier.predict(x_test)\n",
    "\n",
    "cm = metrics.confusion_matrix(y_test, y_pred)\n",
    "print(cm)\n",
    "accuracy = metrics.accuracy_score(y_test, y_pred)\n",
    "print('Accuracy score:',accuracy)\n",
    "precision = metrics.precision_score(y_test,y_pred)\n",
    "print(\"Precision score:\",precision)\n",
    "recall = metrics.recall_score(y_test, y_pred)\n",
    "print('Recall Score:',recall)"
   ]
  },
  {
   "cell_type": "code",
   "execution_count": 25,
   "metadata": {},
   "outputs": [
    {
     "ename": "KeyError",
     "evalue": "'reg_alpha'",
     "output_type": "error",
     "traceback": [
      "\u001b[0;31m---------------------------------------------------------------------------\u001b[0m",
      "\u001b[0;31mKeyError\u001b[0m                                  Traceback (most recent call last)",
      "\u001b[0;32m/var/folders/hj/4_1_bgn11_dgm99bq0lnjxl80000gn/T/ipykernel_80397/2279875147.py\u001b[0m in \u001b[0;36m<module>\u001b[0;34m\u001b[0m\n\u001b[1;32m     51\u001b[0m     \u001b[0mprint\u001b[0m\u001b[0;34m(\u001b[0m\u001b[0;34m'test accuracy'\u001b[0m\u001b[0;34m,\u001b[0m\u001b[0mall_set_df\u001b[0m\u001b[0;34m[\u001b[0m\u001b[0mall_set_df\u001b[0m\u001b[0;34m[\u001b[0m\u001b[0;34m'set'\u001b[0m\u001b[0;34m]\u001b[0m \u001b[0;34m==\u001b[0m \u001b[0;34m'tes'\u001b[0m\u001b[0;34m]\u001b[0m\u001b[0;34m[\u001b[0m\u001b[0;34m'acc'\u001b[0m\u001b[0;34m]\u001b[0m\u001b[0;34m.\u001b[0m\u001b[0mmean\u001b[0m\u001b[0;34m(\u001b[0m\u001b[0;34m)\u001b[0m\u001b[0;34m,\u001b[0m\u001b[0;34m'with std'\u001b[0m\u001b[0;34m,\u001b[0m \u001b[0mall_set_df\u001b[0m\u001b[0;34m[\u001b[0m\u001b[0mall_set_df\u001b[0m\u001b[0;34m[\u001b[0m\u001b[0;34m'set'\u001b[0m\u001b[0;34m]\u001b[0m \u001b[0;34m==\u001b[0m \u001b[0;34m'tes'\u001b[0m\u001b[0;34m]\u001b[0m\u001b[0;34m[\u001b[0m\u001b[0;34m'acc'\u001b[0m\u001b[0;34m]\u001b[0m\u001b[0;34m.\u001b[0m\u001b[0mstd\u001b[0m\u001b[0;34m(\u001b[0m\u001b[0;34m)\u001b[0m\u001b[0;34m)\u001b[0m\u001b[0;34m\u001b[0m\u001b[0;34m\u001b[0m\u001b[0m\n\u001b[1;32m     52\u001b[0m \u001b[0;34m\u001b[0m\u001b[0m\n\u001b[0;32m---> 53\u001b[0;31m \u001b[0mrun_best_model\u001b[0m\u001b[0;34m(\u001b[0m\u001b[0mdata\u001b[0m\u001b[0;34m)\u001b[0m\u001b[0;34m\u001b[0m\u001b[0;34m\u001b[0m\u001b[0m\n\u001b[0m",
      "\u001b[0;32m/var/folders/hj/4_1_bgn11_dgm99bq0lnjxl80000gn/T/ipykernel_80397/2279875147.py\u001b[0m in \u001b[0;36mrun_best_model\u001b[0;34m(arg)\u001b[0m\n\u001b[1;32m     29\u001b[0m \u001b[0;34m\u001b[0m\u001b[0m\n\u001b[1;32m     30\u001b[0m         best_model = xgb.XGBClassifier( max_depth = best_hyperparams['max_depth'],\n\u001b[0;32m---> 31\u001b[0;31m                              \u001b[0mgamma\u001b[0m \u001b[0;34m=\u001b[0m \u001b[0mbest_hyperparams\u001b[0m\u001b[0;34m[\u001b[0m\u001b[0;34m'gamma'\u001b[0m\u001b[0;34m]\u001b[0m\u001b[0;34m,\u001b[0m\u001b[0mreg_alpha\u001b[0m \u001b[0;34m=\u001b[0m \u001b[0mbest_hyperparams\u001b[0m\u001b[0;34m[\u001b[0m\u001b[0;34m'reg_alpha'\u001b[0m\u001b[0;34m]\u001b[0m\u001b[0;34m,\u001b[0m\u001b[0;34m\u001b[0m\u001b[0;34m\u001b[0m\u001b[0m\n\u001b[0m\u001b[1;32m     32\u001b[0m                              \u001b[0mreg_lambda\u001b[0m \u001b[0;34m=\u001b[0m \u001b[0mbest_hyperparams\u001b[0m\u001b[0;34m[\u001b[0m\u001b[0;34m'reg_lambda'\u001b[0m\u001b[0;34m]\u001b[0m\u001b[0;34m,\u001b[0m\u001b[0;34m\u001b[0m\u001b[0;34m\u001b[0m\u001b[0m\n\u001b[1;32m     33\u001b[0m                              \u001b[0mmin_child_weight\u001b[0m\u001b[0;34m=\u001b[0m\u001b[0mbest_hyperparams\u001b[0m\u001b[0;34m[\u001b[0m\u001b[0;34m'min_child_weight'\u001b[0m\u001b[0;34m]\u001b[0m\u001b[0;34m,\u001b[0m\u001b[0;34m\u001b[0m\u001b[0;34m\u001b[0m\u001b[0m\n",
      "\u001b[0;31mKeyError\u001b[0m: 'reg_alpha'"
     ]
    }
   ],
   "source": [
    "data = data[['Label','Patient','C2_6Deg','B2_4Deg','B2_6Deg','C2_4Deg',\n",
    "            'C1_2Deg','C1_8Deg','A1_4Deg_err','C2_1Deg','B1_8Deg','B2_8Deg']]\n",
    "\n",
    "splits = 50\n",
    "def run_best_model(arg):\n",
    "    # data set preparation\n",
    "    # data = pd.read_csv('data.csv')\n",
    "    data = arg\n",
    "\n",
    "    ## Convert the categorical variables to number\n",
    "    LabelEncoder_gender = LabelEncoder()\n",
    "    data['Label'] = LabelEncoder_gender.fit_transform(data['Label'])\n",
    "    \n",
    "    # run 50 repetitions\n",
    "    all_set = []\n",
    "    for split in range(1,splits+1):\n",
    "        seed = split\n",
    "\n",
    "        # data set preparation\n",
    "        train , test = train_test_split(data,train_size = 0.7,shuffle=True,random_state = seed)\n",
    "\n",
    "        # training set\n",
    "        data_tra_x = train.iloc[:,2:].values\n",
    "        data_tra_y = train.iloc[:,0].values\n",
    "\n",
    "        # test set\n",
    "        data_tes_x = test.iloc[:,2:].values\n",
    "        data_tes_y =  test.iloc[:,0].values\n",
    "\n",
    "        best_model = xgb.XGBClassifier( max_depth = best_hyperparams['max_depth'],\n",
    "                             gamma = best_hyperparams['gamma'],reg_alpha = best_hyperparams['reg_alpha'],\n",
    "                             reg_lambda = best_hyperparams['reg_lambda'],\n",
    "                             min_child_weight=best_hyperparams['min_child_weight'],\n",
    "                             colsample_bytree= best_hyperparams['colsample_bytree'],use_label_encoder=False,eval_metric='mlogloss')\n",
    "    \n",
    "        best_model.fit(data_tra_x,data_tra_y)\n",
    "\n",
    "        # training error\n",
    "        tra_pred = best_model.predict(data_tra_x)\n",
    "        tra_results = [split,'tra',metrics.accuracy_score(data_tra_y,tra_pred)]\n",
    "\n",
    "        # testing error\n",
    "        tes_pred = best_model.predict(data_tes_x)\n",
    "        tes_results = [' ','tes',metrics.accuracy_score(data_tes_y,tes_pred)]\n",
    "\n",
    "        all_set += tra_results,tes_results\n",
    "\n",
    "    all_set_df = pd.DataFrame(all_set,columns=['split','set','acc'])\n",
    "\n",
    "    print('train accuracy',all_set_df[all_set_df['set'] == 'tra']['acc'].mean(),'with std', all_set_df[all_set_df['set'] == 'tra']['acc'].std())\n",
    "    print('test accuracy',all_set_df[all_set_df['set'] == 'tes']['acc'].mean(),'with std', all_set_df[all_set_df['set'] == 'tes']['acc'].std())\n",
    "\n",
    "run_best_model(data)"
   ]
  },
  {
   "cell_type": "code",
   "execution_count": null,
   "metadata": {},
   "outputs": [],
   "source": []
  },
  {
   "cell_type": "code",
   "execution_count": null,
   "metadata": {},
   "outputs": [],
   "source": []
  },
  {
   "cell_type": "code",
   "execution_count": null,
   "metadata": {},
   "outputs": [],
   "source": []
  },
  {
   "cell_type": "code",
   "execution_count": null,
   "metadata": {},
   "outputs": [],
   "source": []
  },
  {
   "cell_type": "code",
   "execution_count": null,
   "metadata": {},
   "outputs": [],
   "source": []
  },
  {
   "cell_type": "code",
   "execution_count": null,
   "metadata": {},
   "outputs": [],
   "source": []
  },
  {
   "cell_type": "markdown",
   "metadata": {},
   "source": [
    "### SVC"
   ]
  },
  {
   "cell_type": "code",
   "execution_count": 32,
   "metadata": {},
   "outputs": [],
   "source": [
    "from sklearn.svm import SVC"
   ]
  },
  {
   "cell_type": "code",
   "execution_count": 33,
   "metadata": {},
   "outputs": [
    {
     "data": {
      "text/plain": [
       "SVC(random_state=0)"
      ]
     },
     "execution_count": 33,
     "metadata": {},
     "output_type": "execute_result"
    }
   ],
   "source": [
    "classifier = SVC(random_state=0)\n",
    "classifier.fit(x_train,y_train)"
   ]
  },
  {
   "cell_type": "code",
   "execution_count": 498,
   "metadata": {},
   "outputs": [],
   "source": [
    "# y_pred = classifier.predict(x_test)\n",
    "# cv = RepeatedStratifiedKFold(n_splits=15, n_repeats=3, random_state=1)\n",
    "# n_scores = cross_val_score(classifier, x, y, scoring='accuracy', cv=cv, n_jobs=-1, error_score='raise')"
   ]
  },
  {
   "cell_type": "code",
   "execution_count": 34,
   "metadata": {},
   "outputs": [
    {
     "name": "stdout",
     "output_type": "stream",
     "text": [
      "[[1 3]\n",
      " [2 3]]\n",
      "Accuracy score: 0.4444444444444444\n",
      "Precision score: 0.5\n",
      "Recall Score: 0.6\n"
     ]
    }
   ],
   "source": [
    "y_pred = classifier.predict(x_test)\n",
    "cm = metrics.confusion_matrix(y_test, y_pred)\n",
    "print(cm)\n",
    "accuracy = metrics.accuracy_score(y_test, y_pred)\n",
    "print('Accuracy score:',accuracy)\n",
    "precision = metrics.precision_score(y_test,y_pred)\n",
    "print(\"Precision score:\",precision)\n",
    "recall = metrics.recall_score(y_test, y_pred)\n",
    "print('Recall Score:',recall)\n"
   ]
  },
  {
   "cell_type": "code",
   "execution_count": 27,
   "metadata": {},
   "outputs": [
    {
     "name": "stdout",
     "output_type": "stream",
     "text": [
      "Cross Validation accuracy scores: [0.66666667 0.33333333 0.66666667 0.66666667 0.66666667 0.33333333\n",
      " 0.66666667 0.33333333 0.33333333 0.5       ]\n",
      "Cross Validation accuracy: 0.517 +/- 0.157\n"
     ]
    }
   ],
   "source": [
    "# cross validation\n",
    "pipeline = make_pipeline(StandardScaler(),  SVC())\n",
    "#\n",
    "# Pass instance of pipeline and training and test data set\n",
    "# cv=10 represents the StratifiedKFold with 10 folds\n",
    "#\n",
    "scores = cross_val_score(pipeline, X=x, y=y, cv=10, n_jobs=1)\n",
    " \n",
    "print('Cross Validation accuracy scores: %s' % scores)\n",
    " \n",
    "print('Cross Validation accuracy: %.3f +/- %.3f' % (np.mean(scores),np.std(scores)))"
   ]
  },
  {
   "cell_type": "code",
   "execution_count": 500,
   "metadata": {},
   "outputs": [],
   "source": [
    "# print(\"=== Confusion Matrix ===\")\n",
    "# print(confusion_matrix(y_test, y_pred))\n",
    "# print('\\n')\n",
    "# print(\"=== Classification Report ===\")\n",
    "# print(classification_report(y_test, y_pred))\n",
    "# print('\\n')\n",
    "# print(\"=== All AUC Scores ===\")\n",
    "# print(n_scores)\n",
    "# print('\\n')\n",
    "# print(\"=== Mean AUC Score ===\")\n",
    "# print(\"Mean AUC Score - SVM: \", n_scores.mean())"
   ]
  },
  {
   "cell_type": "code",
   "execution_count": 155,
   "metadata": {},
   "outputs": [],
   "source": [
    "# # import XGBClassifier\n",
    "# from xgboost import XGBClassifier\n",
    "\n",
    "\n",
    "# # declare parameters\n",
    "# params = {\n",
    "#             'objective':'binary:logistic',\n",
    "#             'max_depth': 4,\n",
    "#             'alpha': 10,\n",
    "#             'learning_rate': 1.0,\n",
    "#             'n_estimators':100\n",
    "#         }         \n",
    "           \n",
    "          \n",
    "# # instantiate the classifier \n",
    "# xgb_clf = XGBClassifier(**params)\n",
    "\n",
    "\n",
    "# # fit the classifier to the training data\n",
    "# xgb_clf.fit(x_train, y_train)"
   ]
  },
  {
   "cell_type": "markdown",
   "metadata": {},
   "source": [
    "### Logistic Regression"
   ]
  },
  {
   "cell_type": "code",
   "execution_count": 28,
   "metadata": {},
   "outputs": [],
   "source": [
    "from sklearn.linear_model import LogisticRegression"
   ]
  },
  {
   "cell_type": "code",
   "execution_count": 421,
   "metadata": {},
   "outputs": [
    {
     "name": "stderr",
     "output_type": "stream",
     "text": [
      "lbfgs failed to converge (status=1):\n",
      "STOP: TOTAL NO. of ITERATIONS REACHED LIMIT.\n",
      "\n",
      "Increase the number of iterations (max_iter) or scale the data as shown in:\n",
      "    https://scikit-learn.org/stable/modules/preprocessing.html\n",
      "Please also refer to the documentation for alternative solver options:\n",
      "    https://scikit-learn.org/stable/modules/linear_model.html#logistic-regression\n"
     ]
    },
    {
     "data": {
      "text/plain": [
       "LogisticRegression()"
      ]
     },
     "execution_count": 421,
     "metadata": {},
     "output_type": "execute_result"
    }
   ],
   "source": [
    "classifier = LogisticRegression()\n",
    "classifier.fit(x_train,y_train)"
   ]
  },
  {
   "cell_type": "code",
   "execution_count": 30,
   "metadata": {},
   "outputs": [
    {
     "name": "stdout",
     "output_type": "stream",
     "text": [
      "[[3 1]\n",
      " [4 1]]\n",
      "Accuracy score: 0.4444444444444444\n",
      "Precision score: 0.5\n",
      "Recall Score: 0.2\n"
     ]
    }
   ],
   "source": [
    "y_pred = classifier.predict(x_test)\n",
    "cm = metrics.confusion_matrix(y_test, y_pred)\n",
    "print(cm)\n",
    "accuracy = metrics.accuracy_score(y_test, y_pred)\n",
    "print('Accuracy score:',accuracy)\n",
    "precision = metrics.precision_score(y_test,y_pred)\n",
    "print(\"Precision score:\",precision)\n",
    "recall = metrics.recall_score(y_test, y_pred)\n",
    "print('Recall Score:',recall)"
   ]
  },
  {
   "cell_type": "code",
   "execution_count": 31,
   "metadata": {},
   "outputs": [
    {
     "name": "stdout",
     "output_type": "stream",
     "text": [
      "Cross Validation accuracy scores: [0.33333333 0.33333333 1.         0.66666667 0.33333333 0.33333333\n",
      " 0.66666667 0.66666667 0.66666667 0.5       ]\n",
      "Cross Validation accuracy: 0.550 +/- 0.211\n"
     ]
    }
   ],
   "source": [
    "# cross validation\n",
    "pipeline = make_pipeline(StandardScaler(), LogisticRegression())\n",
    "#\n",
    "# Pass instance of pipeline and training and test data set\n",
    "# cv=10 represents the StratifiedKFold with 10 folds\n",
    "#\n",
    "scores = cross_val_score(pipeline, X=x, y=y, cv=10, n_jobs=1)\n",
    " \n",
    "print('Cross Validation accuracy scores: %s' % scores)\n",
    " \n",
    "print('Cross Validation accuracy: %.3f +/- %.3f' % (np.mean(scores),np.std(scores)))"
   ]
  },
  {
   "cell_type": "markdown",
   "metadata": {},
   "source": [
    "### Naive Bayes"
   ]
  },
  {
   "cell_type": "code",
   "execution_count": 32,
   "metadata": {},
   "outputs": [],
   "source": [
    "from sklearn.naive_bayes import GaussianNB"
   ]
  },
  {
   "cell_type": "code",
   "execution_count": 33,
   "metadata": {},
   "outputs": [
    {
     "data": {
      "text/plain": [
       "GaussianNB()"
      ]
     },
     "execution_count": 33,
     "metadata": {},
     "output_type": "execute_result"
    }
   ],
   "source": [
    "classifier = GaussianNB()\n",
    "classifier.fit(x_train,y_train)"
   ]
  },
  {
   "cell_type": "code",
   "execution_count": 34,
   "metadata": {},
   "outputs": [
    {
     "name": "stdout",
     "output_type": "stream",
     "text": [
      "[[3 1]\n",
      " [4 1]]\n",
      "Accuracy score: 0.4444444444444444\n",
      "Precision score: 0.5\n",
      "Recall Score: 0.2\n"
     ]
    }
   ],
   "source": [
    "y_pred = classifier.predict(x_test)\n",
    "cm = metrics.confusion_matrix(y_test, y_pred)\n",
    "print(cm)\n",
    "accuracy = metrics.accuracy_score(y_test, y_pred)\n",
    "print('Accuracy score:',accuracy)\n",
    "precision = metrics.precision_score(y_test,y_pred)\n",
    "print(\"Precision score:\",precision)\n",
    "recall = metrics.recall_score(y_test, y_pred)\n",
    "print('Recall Score:',recall)"
   ]
  },
  {
   "cell_type": "code",
   "execution_count": 35,
   "metadata": {},
   "outputs": [
    {
     "name": "stdout",
     "output_type": "stream",
     "text": [
      "Cross Validation accuracy scores: [0.66666667 0.33333333 0.66666667 0.66666667 0.66666667 0.\n",
      " 0.66666667 0.66666667 0.33333333 0.5       ]\n",
      "Cross Validation accuracy: 0.517 +/- 0.217\n"
     ]
    }
   ],
   "source": [
    "# cross validation\n",
    "pipeline = make_pipeline(StandardScaler(),  GaussianNB())\n",
    "#\n",
    "# Pass instance of pipeline and training and test data set\n",
    "# cv=10 represents the StratifiedKFold with 10 folds\n",
    "#\n",
    "scores = cross_val_score(pipeline, X=x, y=y, cv=10, n_jobs=1)\n",
    " \n",
    "print('Cross Validation accuracy scores: %s' % scores)\n",
    " \n",
    "print('Cross Validation accuracy: %.3f +/- %.3f' % (np.mean(scores),np.std(scores)))"
   ]
  },
  {
   "cell_type": "code",
   "execution_count": null,
   "metadata": {},
   "outputs": [],
   "source": []
  }
 ],
 "metadata": {
  "interpreter": {
   "hash": "37e48532695005f6b8be481dca9311b0406960c07b920c9bcff5b3361c45626c"
  },
  "kernelspec": {
   "display_name": "Python 3.9.5 ('ds')",
   "language": "python",
   "name": "python3"
  },
  "language_info": {
   "codemirror_mode": {
    "name": "ipython",
    "version": 3
   },
   "file_extension": ".py",
   "mimetype": "text/x-python",
   "name": "python",
   "nbconvert_exporter": "python",
   "pygments_lexer": "ipython3",
   "version": "3.9.5"
  },
  "orig_nbformat": 4
 },
 "nbformat": 4,
 "nbformat_minor": 2
}
