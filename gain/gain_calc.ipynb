{
 "cells": [
  {
   "cell_type": "code",
   "execution_count": 1915,
   "metadata": {},
   "outputs": [],
   "source": [
    "\"\"\"\n",
    "Created on Tuesday 9 Feb 2023\n",
    "Author: ZAW\n",
    "\"\"\"\n",
    "#import libraries\n",
    "import numpy as np\n",
    "import pandas as pd\n",
    "import matplotlib.pyplot as plt\n",
    "import glob\n",
    "import os\n",
    "from scipy.optimize import curve_fit\n",
    "from scipy import signal\n",
    "from tsmoothie.smoother import LowessSmoother\n",
    "import csv"
   ]
  },
  {
   "cell_type": "code",
   "execution_count": 93,
   "metadata": {},
   "outputs": [],
   "source": [
    "# Read dataset for a , b, c value\n",
    "# data path\n",
    "path = os.getcwd()\n",
    "dirname = os.path.dirname(path)\n",
    "data_file = 'data/data.csv'\n",
    "data_path = os.path.join(dirname,data_file)\n",
    "data = pd.read_csv(data_path)"
   ]
  },
  {
   "cell_type": "code",
   "execution_count": 94,
   "metadata": {},
   "outputs": [
    {
     "data": {
      "text/plain": [
       "'/Users/zaw/Desktop/eye_movements(sp)/gain'"
      ]
     },
     "execution_count": 94,
     "metadata": {},
     "output_type": "execute_result"
    }
   ],
   "source": [
    "path"
   ]
  },
  {
   "cell_type": "code",
   "execution_count": 95,
   "metadata": {},
   "outputs": [
    {
     "data": {
      "text/html": [
       "<div>\n",
       "<style scoped>\n",
       "    .dataframe tbody tr th:only-of-type {\n",
       "        vertical-align: middle;\n",
       "    }\n",
       "\n",
       "    .dataframe tbody tr th {\n",
       "        vertical-align: top;\n",
       "    }\n",
       "\n",
       "    .dataframe thead th {\n",
       "        text-align: right;\n",
       "    }\n",
       "</style>\n",
       "<table border=\"1\" class=\"dataframe\">\n",
       "  <thead>\n",
       "    <tr style=\"text-align: right;\">\n",
       "      <th></th>\n",
       "      <th>Label</th>\n",
       "      <th>Patient</th>\n",
       "      <th>A1_1Deg</th>\n",
       "      <th>A1_1Deg_err</th>\n",
       "      <th>B1_1Deg</th>\n",
       "      <th>B1_1Deg_err</th>\n",
       "      <th>C1_1Deg</th>\n",
       "      <th>C1_1Deg_err</th>\n",
       "      <th>1_Deg_ResSoS_1</th>\n",
       "      <th>1Deg_AdjR2_1</th>\n",
       "      <th>...</th>\n",
       "      <th>8_Deg_ResSoS_1</th>\n",
       "      <th>8Deg_AdjR2_1</th>\n",
       "      <th>A2_8Deg</th>\n",
       "      <th>A2_8Deg_err</th>\n",
       "      <th>B2_8Deg</th>\n",
       "      <th>B2_8Deg_err</th>\n",
       "      <th>C2_8Deg</th>\n",
       "      <th>C2_8Deg_err</th>\n",
       "      <th>8_Deg_ResSoS_2</th>\n",
       "      <th>8Deg_AdjR2_2</th>\n",
       "    </tr>\n",
       "  </thead>\n",
       "  <tbody>\n",
       "    <tr>\n",
       "      <th>0</th>\n",
       "      <td>Not_Parkinson's</td>\n",
       "      <td>PD001</td>\n",
       "      <td>10.388190</td>\n",
       "      <td>0.006132</td>\n",
       "      <td>0.049329</td>\n",
       "      <td>0.000006</td>\n",
       "      <td>0.011989</td>\n",
       "      <td>0.000337</td>\n",
       "      <td>8928.709194</td>\n",
       "      <td>0.990598</td>\n",
       "      <td>...</td>\n",
       "      <td>6698.838281</td>\n",
       "      <td>0.951413</td>\n",
       "      <td>10.273124</td>\n",
       "      <td>0.044206</td>\n",
       "      <td>0.386347</td>\n",
       "      <td>0.000384</td>\n",
       "      <td>0.037356</td>\n",
       "      <td>0.002439</td>\n",
       "      <td>6809.455800</td>\n",
       "      <td>0.939095</td>\n",
       "    </tr>\n",
       "    <tr>\n",
       "      <th>1</th>\n",
       "      <td>Not_Parkinson's</td>\n",
       "      <td>PD002</td>\n",
       "      <td>10.429055</td>\n",
       "      <td>0.006929</td>\n",
       "      <td>0.049478</td>\n",
       "      <td>0.000007</td>\n",
       "      <td>0.002837</td>\n",
       "      <td>0.000379</td>\n",
       "      <td>11388.604704</td>\n",
       "      <td>0.988092</td>\n",
       "      <td>...</td>\n",
       "      <td>4769.901822</td>\n",
       "      <td>0.967360</td>\n",
       "      <td>11.482500</td>\n",
       "      <td>0.049154</td>\n",
       "      <td>0.395412</td>\n",
       "      <td>0.000380</td>\n",
       "      <td>-0.002486</td>\n",
       "      <td>0.002419</td>\n",
       "      <td>8383.481840</td>\n",
       "      <td>0.939586</td>\n",
       "    </tr>\n",
       "    <tr>\n",
       "      <th>2</th>\n",
       "      <td>Not_Parkinson's</td>\n",
       "      <td>PD003</td>\n",
       "      <td>10.097088</td>\n",
       "      <td>0.005091</td>\n",
       "      <td>0.049368</td>\n",
       "      <td>0.000006</td>\n",
       "      <td>0.005707</td>\n",
       "      <td>0.000287</td>\n",
       "      <td>6140.292312</td>\n",
       "      <td>0.993141</td>\n",
       "      <td>...</td>\n",
       "      <td>3488.747176</td>\n",
       "      <td>0.968709</td>\n",
       "      <td>10.084338</td>\n",
       "      <td>0.019838</td>\n",
       "      <td>0.394595</td>\n",
       "      <td>0.000174</td>\n",
       "      <td>-0.035466</td>\n",
       "      <td>0.001106</td>\n",
       "      <td>1349.962240</td>\n",
       "      <td>0.987259</td>\n",
       "    </tr>\n",
       "    <tr>\n",
       "      <th>3</th>\n",
       "      <td>Not_Parkinson's</td>\n",
       "      <td>PD004</td>\n",
       "      <td>10.482881</td>\n",
       "      <td>0.022179</td>\n",
       "      <td>0.049585</td>\n",
       "      <td>0.000023</td>\n",
       "      <td>0.016056</td>\n",
       "      <td>0.001212</td>\n",
       "      <td>117748.979710</td>\n",
       "      <td>0.879372</td>\n",
       "      <td>...</td>\n",
       "      <td>10972.045844</td>\n",
       "      <td>0.920137</td>\n",
       "      <td>11.493414</td>\n",
       "      <td>0.048867</td>\n",
       "      <td>0.401386</td>\n",
       "      <td>0.000377</td>\n",
       "      <td>-0.042463</td>\n",
       "      <td>0.002395</td>\n",
       "      <td>8242.136178</td>\n",
       "      <td>0.940370</td>\n",
       "    </tr>\n",
       "    <tr>\n",
       "      <th>4</th>\n",
       "      <td>Not_Parkinson's</td>\n",
       "      <td>PD005</td>\n",
       "      <td>10.181273</td>\n",
       "      <td>0.008833</td>\n",
       "      <td>0.049368</td>\n",
       "      <td>0.000010</td>\n",
       "      <td>0.001569</td>\n",
       "      <td>0.000494</td>\n",
       "      <td>18447.340517</td>\n",
       "      <td>0.979692</td>\n",
       "      <td>...</td>\n",
       "      <td>18268.960666</td>\n",
       "      <td>0.809586</td>\n",
       "      <td>10.370348</td>\n",
       "      <td>0.036121</td>\n",
       "      <td>0.395392</td>\n",
       "      <td>0.000308</td>\n",
       "      <td>-0.030769</td>\n",
       "      <td>0.001960</td>\n",
       "      <td>4485.300264</td>\n",
       "      <td>0.960035</td>\n",
       "    </tr>\n",
       "    <tr>\n",
       "      <th>5</th>\n",
       "      <td>Not_Parkinson's</td>\n",
       "      <td>PD006</td>\n",
       "      <td>10.302529</td>\n",
       "      <td>0.010450</td>\n",
       "      <td>0.049283</td>\n",
       "      <td>0.000011</td>\n",
       "      <td>0.019735</td>\n",
       "      <td>0.000580</td>\n",
       "      <td>25994.527943</td>\n",
       "      <td>0.972249</td>\n",
       "      <td>...</td>\n",
       "      <td>7175.782112</td>\n",
       "      <td>0.938474</td>\n",
       "      <td>10.356903</td>\n",
       "      <td>0.067627</td>\n",
       "      <td>0.410282</td>\n",
       "      <td>0.000584</td>\n",
       "      <td>-0.052723</td>\n",
       "      <td>0.003707</td>\n",
       "      <td>16046.923323</td>\n",
       "      <td>0.859535</td>\n",
       "    </tr>\n",
       "    <tr>\n",
       "      <th>6</th>\n",
       "      <td>Not_Parkinson's</td>\n",
       "      <td>PD007</td>\n",
       "      <td>9.934379</td>\n",
       "      <td>0.007838</td>\n",
       "      <td>0.049209</td>\n",
       "      <td>0.000009</td>\n",
       "      <td>0.003633</td>\n",
       "      <td>0.000449</td>\n",
       "      <td>14490.496516</td>\n",
       "      <td>0.983200</td>\n",
       "      <td>...</td>\n",
       "      <td>1465.027123</td>\n",
       "      <td>0.985896</td>\n",
       "      <td>9.801698</td>\n",
       "      <td>0.024067</td>\n",
       "      <td>0.397850</td>\n",
       "      <td>0.000217</td>\n",
       "      <td>-0.045138</td>\n",
       "      <td>0.001380</td>\n",
       "      <td>1986.965945</td>\n",
       "      <td>0.980134</td>\n",
       "    </tr>\n",
       "    <tr>\n",
       "      <th>7</th>\n",
       "      <td>Not_Parkinson's</td>\n",
       "      <td>PD008</td>\n",
       "      <td>9.861257</td>\n",
       "      <td>0.026999</td>\n",
       "      <td>0.049220</td>\n",
       "      <td>0.000030</td>\n",
       "      <td>0.051865</td>\n",
       "      <td>0.001576</td>\n",
       "      <td>176009.839073</td>\n",
       "      <td>0.798036</td>\n",
       "      <td>...</td>\n",
       "      <td>15508.422642</td>\n",
       "      <td>0.870504</td>\n",
       "      <td>8.591437</td>\n",
       "      <td>0.105215</td>\n",
       "      <td>0.415729</td>\n",
       "      <td>0.001098</td>\n",
       "      <td>-0.078941</td>\n",
       "      <td>0.006967</td>\n",
       "      <td>39005.324498</td>\n",
       "      <td>0.507026</td>\n",
       "    </tr>\n",
       "    <tr>\n",
       "      <th>8</th>\n",
       "      <td>Not_Parkinson's</td>\n",
       "      <td>PD009</td>\n",
       "      <td>10.221777</td>\n",
       "      <td>0.005149</td>\n",
       "      <td>0.049244</td>\n",
       "      <td>0.000006</td>\n",
       "      <td>0.002274</td>\n",
       "      <td>0.000287</td>\n",
       "      <td>6253.730577</td>\n",
       "      <td>0.993152</td>\n",
       "      <td>...</td>\n",
       "      <td>849.603210</td>\n",
       "      <td>0.992275</td>\n",
       "      <td>10.305625</td>\n",
       "      <td>0.022845</td>\n",
       "      <td>0.396998</td>\n",
       "      <td>0.000196</td>\n",
       "      <td>-0.056233</td>\n",
       "      <td>0.001244</td>\n",
       "      <td>1783.111545</td>\n",
       "      <td>0.983816</td>\n",
       "    </tr>\n",
       "    <tr>\n",
       "      <th>9</th>\n",
       "      <td>Not_Parkinson's</td>\n",
       "      <td>PD010</td>\n",
       "      <td>10.244784</td>\n",
       "      <td>0.017579</td>\n",
       "      <td>0.050004</td>\n",
       "      <td>0.000019</td>\n",
       "      <td>-0.015054</td>\n",
       "      <td>0.000981</td>\n",
       "      <td>73606.211066</td>\n",
       "      <td>0.920684</td>\n",
       "      <td>...</td>\n",
       "      <td>13818.787560</td>\n",
       "      <td>0.878166</td>\n",
       "      <td>10.997960</td>\n",
       "      <td>0.085181</td>\n",
       "      <td>0.406918</td>\n",
       "      <td>0.000690</td>\n",
       "      <td>-0.043189</td>\n",
       "      <td>0.004387</td>\n",
       "      <td>25335.919452</td>\n",
       "      <td>0.802179</td>\n",
       "    </tr>\n",
       "  </tbody>\n",
       "</table>\n",
       "<p>10 rows × 82 columns</p>\n",
       "</div>"
      ],
      "text/plain": [
       "             Label Patient    A1_1Deg  A1_1Deg_err   B1_1Deg  B1_1Deg_err  \\\n",
       "0  Not_Parkinson's   PD001  10.388190     0.006132  0.049329     0.000006   \n",
       "1  Not_Parkinson's   PD002  10.429055     0.006929  0.049478     0.000007   \n",
       "2  Not_Parkinson's   PD003  10.097088     0.005091  0.049368     0.000006   \n",
       "3  Not_Parkinson's   PD004  10.482881     0.022179  0.049585     0.000023   \n",
       "4  Not_Parkinson's   PD005  10.181273     0.008833  0.049368     0.000010   \n",
       "5  Not_Parkinson's   PD006  10.302529     0.010450  0.049283     0.000011   \n",
       "6  Not_Parkinson's   PD007   9.934379     0.007838  0.049209     0.000009   \n",
       "7  Not_Parkinson's   PD008   9.861257     0.026999  0.049220     0.000030   \n",
       "8  Not_Parkinson's   PD009  10.221777     0.005149  0.049244     0.000006   \n",
       "9  Not_Parkinson's   PD010  10.244784     0.017579  0.050004     0.000019   \n",
       "\n",
       "    C1_1Deg  C1_1Deg_err  1_Deg_ResSoS_1  1Deg_AdjR2_1  ...  8_Deg_ResSoS_1  \\\n",
       "0  0.011989     0.000337     8928.709194      0.990598  ...     6698.838281   \n",
       "1  0.002837     0.000379    11388.604704      0.988092  ...     4769.901822   \n",
       "2  0.005707     0.000287     6140.292312      0.993141  ...     3488.747176   \n",
       "3  0.016056     0.001212   117748.979710      0.879372  ...    10972.045844   \n",
       "4  0.001569     0.000494    18447.340517      0.979692  ...    18268.960666   \n",
       "5  0.019735     0.000580    25994.527943      0.972249  ...     7175.782112   \n",
       "6  0.003633     0.000449    14490.496516      0.983200  ...     1465.027123   \n",
       "7  0.051865     0.001576   176009.839073      0.798036  ...    15508.422642   \n",
       "8  0.002274     0.000287     6253.730577      0.993152  ...      849.603210   \n",
       "9 -0.015054     0.000981    73606.211066      0.920684  ...    13818.787560   \n",
       "\n",
       "   8Deg_AdjR2_1    A2_8Deg  A2_8Deg_err   B2_8Deg  B2_8Deg_err   C2_8Deg  \\\n",
       "0      0.951413  10.273124     0.044206  0.386347     0.000384  0.037356   \n",
       "1      0.967360  11.482500     0.049154  0.395412     0.000380 -0.002486   \n",
       "2      0.968709  10.084338     0.019838  0.394595     0.000174 -0.035466   \n",
       "3      0.920137  11.493414     0.048867  0.401386     0.000377 -0.042463   \n",
       "4      0.809586  10.370348     0.036121  0.395392     0.000308 -0.030769   \n",
       "5      0.938474  10.356903     0.067627  0.410282     0.000584 -0.052723   \n",
       "6      0.985896   9.801698     0.024067  0.397850     0.000217 -0.045138   \n",
       "7      0.870504   8.591437     0.105215  0.415729     0.001098 -0.078941   \n",
       "8      0.992275  10.305625     0.022845  0.396998     0.000196 -0.056233   \n",
       "9      0.878166  10.997960     0.085181  0.406918     0.000690 -0.043189   \n",
       "\n",
       "   C2_8Deg_err  8_Deg_ResSoS_2  8Deg_AdjR2_2  \n",
       "0     0.002439     6809.455800      0.939095  \n",
       "1     0.002419     8383.481840      0.939586  \n",
       "2     0.001106     1349.962240      0.987259  \n",
       "3     0.002395     8242.136178      0.940370  \n",
       "4     0.001960     4485.300264      0.960035  \n",
       "5     0.003707    16046.923323      0.859535  \n",
       "6     0.001380     1986.965945      0.980134  \n",
       "7     0.006967    39005.324498      0.507026  \n",
       "8     0.001244     1783.111545      0.983816  \n",
       "9     0.004387    25335.919452      0.802179  \n",
       "\n",
       "[10 rows x 82 columns]"
      ]
     },
     "execution_count": 95,
     "metadata": {},
     "output_type": "execute_result"
    }
   ],
   "source": [
    "# View top 10 rows in dataframe\n",
    "data.head(10)"
   ]
  },
  {
   "cell_type": "code",
   "execution_count": 1607,
   "metadata": {},
   "outputs": [
    {
     "name": "stderr",
     "output_type": "stream",
     "text": [
      "/Users/zaw/miniforge3/envs/ds/lib/python3.9/site-packages/openpyxl/styles/stylesheet.py:226: UserWarning: Workbook contains no default style, apply openpyxl's default\n",
      "  warn(\"Workbook contains no default style, apply openpyxl's default\")\n"
     ]
    }
   ],
   "source": [
    "# read SPEM data\n",
    "data_013 = 'data/Parkinson_pursuit testing_Rec 180.xlsx'\n",
    "data_path = os.path.join(dirname,data_013)\n",
    "data_sp = pd.read_excel(data_path)"
   ]
  },
  {
   "cell_type": "code",
   "execution_count": null,
   "metadata": {},
   "outputs": [],
   "source": []
  },
  {
   "cell_type": "code",
   "execution_count": null,
   "metadata": {},
   "outputs": [],
   "source": []
  },
  {
   "cell_type": "code",
   "execution_count": 1696,
   "metadata": {},
   "outputs": [
    {
     "data": {
      "text/plain": [
       "[<matplotlib.lines.Line2D at 0x17b3f2610>]"
      ]
     },
     "execution_count": 1696,
     "metadata": {},
     "output_type": "execute_result"
    },
    {
     "data": {
      "image/png": "[encoded data removed]",
      "text/plain": [
       "<Figure size 432x288 with 1 Axes>"
      ]
     },
     "metadata": {
      "needs_background": "light"
     },
     "output_type": "display_data"
    }
   ],
   "source": [
    "plt.plot(one_deg_time_eye,one_deg_pos_eye)"
   ]
  },
  {
   "cell_type": "code",
   "execution_count": null,
   "metadata": {},
   "outputs": [],
   "source": []
  },
  {
   "cell_type": "code",
   "execution_count": 1701,
   "metadata": {},
   "outputs": [],
   "source": [
    "# Pupil size\n",
    "pupil_size = np.array(data_sp['PupilRight'][0:28000])"
   ]
  },
  {
   "cell_type": "code",
   "execution_count": 1702,
   "metadata": {},
   "outputs": [],
   "source": [
    "# for eye pixel calculating\n",
    "def px_deg_eye(data,dominant_eye):\n",
    "    time_eye = []\n",
    "    pos_eye = []\n",
    "    if dominant_eye == 'right':\n",
    "        for y in data['GazePointRightX (ADCSpx)']:\n",
    "            new_y = round((y - 960)/49.6,4) # horizontal center:960x540 pixel : 1 deg = 49.6 pixel\n",
    "            pos_eye.append(new_y)\n",
    "    elif dominant_eye == 'left':\n",
    "        for y in data['GazePointLeftX (ADCSpx)']:\n",
    "            new_y = round((y - 960)/49.6,4) # horizontal center:960x540 pixel : 1 deg = 49.6 pixel\n",
    "            pos_eye.append(new_y)\n",
    "    for x in range(1,len(pos_eye)+1):\n",
    "        new_x = round((1/300)*x,4) # for tobii's eye tracker with 300 Hz sampling rate\n",
    "        time_eye.append(new_x)\n",
    "    return time_eye,pos_eye"
   ]
  },
  {
   "cell_type": "code",
   "execution_count": null,
   "metadata": {},
   "outputs": [],
   "source": []
  },
  {
   "cell_type": "code",
   "execution_count": 1703,
   "metadata": {},
   "outputs": [],
   "source": [
    "def filter_blinks(gaze_point_right_x, gaze_time_input, pupil_size=pupil_size, consecutive_missing_points_threshold=60):\n",
    "    # Convert input list to NumPy array\n",
    "    gaze_point_right_x = np.array(gaze_point_right_x)\n",
    "    gaze_time = gaze_time_input\n",
    "\n",
    "    # Create a mask for missing data (NaN) in GazePointRightX\n",
    "    missing_mask = np.isnan(gaze_point_right_x) & np.isnan(pupil_size)\n",
    "\n",
    "    # Count consecutive missing gaze points (NaNs)\n",
    "    consecutive_missing_points = np.diff(np.where(np.concatenate(([missing_mask[0]], missing_mask[:-1] != missing_mask[1:], [True])))[0])[::2]\n",
    "\n",
    "    # Count the number of blinks based on the consecutive_missing_points_threshold\n",
    "    num_blinks = np.sum(consecutive_missing_points >= consecutive_missing_points_threshold)\n",
    "\n",
    "     # Remove the missing data (NaN) using the mask\n",
    "    gaze_point_right_x_no_blinks = gaze_point_right_x[~missing_mask]\n",
    "\n",
    "    # Also remove the repective time values\n",
    "    gaze_time = gaze_time[~missing_mask]\n",
    "\n",
    "    #print(f\"Number of blinks: {num_blinks}\")\n",
    "\n",
    "    return gaze_point_right_x_no_blinks, gaze_time"
   ]
  },
  {
   "cell_type": "code",
   "execution_count": 1704,
   "metadata": {},
   "outputs": [],
   "source": [
    "# event starts and ends\n",
    "option = ['URLStart','URLEnd'] # This is the values in the Studio event column where stimuli start and end events from dataset\n",
    "sti = data_sp[data_sp['StudioEvent'].isin(option)].index # Caculating start and end of stimuli\n",
    "data_eye_hc_first = data_sp[sti[0]:sti[0]+28000] # Real recoding starting time\n",
    "#data_eye_hc_first = data_sp[sti[0]+4000:sti[0]+28200] # Real recoding starting time\n",
    "one_deg_time_eye , one_deg_pos_eye =  px_deg_eye(data_eye_hc_first,'right')"
   ]
  },
  {
   "cell_type": "code",
   "execution_count": 1705,
   "metadata": {},
   "outputs": [],
   "source": [
    "sub_013 = {'Time':one_deg_time_eye,'POS':one_deg_pos_eye}\n",
    "df_sub_013 = pd.DataFrame(data=sub_013)\n",
    "#df_sub_013.to_excel('sub013.xlsx')"
   ]
  },
  {
   "cell_type": "code",
   "execution_count": 1706,
   "metadata": {},
   "outputs": [],
   "source": [
    "# # filter blinks\n",
    "position,time = filter_blinks(df_sub_013['POS'],df_sub_013['Time'])\n",
    "\n",
    "\n",
    "data_fil= {'Time':time,'POS':position}#,#'PUP':pupil_size}\n",
    "data_fil = pd.DataFrame(data_fil)\n",
    "# #data_pd001['POS'] = pos_no_blinks\n",
    "# Remove the spike values and interpolate\n",
    "window_size = 7\n",
    "data_fil['POS'] = data_fil['POS'].rolling(window=window_size, center=True).median()\n",
    "\n",
    "# # interpolate\n",
    "data_fil['POS'] = data_fil['POS'].interpolate(method='spline', order=5)\n",
    "\n",
    "one_deg_time_eye , one_deg_pos_eye =  data_fil['Time'], data_fil['POS']"
   ]
  },
  {
   "cell_type": "code",
   "execution_count": 1707,
   "metadata": {},
   "outputs": [
    {
     "name": "stdout",
     "output_type": "stream",
     "text": [
      "Total NaN values: 0\n",
      "Total inf values: 0\n",
      "Total NaN and inf values: 0\n"
     ]
    }
   ],
   "source": [
    "# Check Nan or Inf for time\n",
    "nan_mask = one_deg_time_eye.isna()\n",
    "inf_mask = np.isinf(one_deg_time_eye)\n",
    "non_or_inf_mask = nan_mask | inf_mask\n",
    "total_nan = nan_mask.sum()\n",
    "total_inf = inf_mask.sum()\n",
    "\n",
    "nan_or_inf_mask = nan_mask | inf_mask\n",
    "\n",
    "total_nan_or_inf = nan_or_inf_mask.sum()\n",
    "\n",
    "# Print the results\n",
    "print(\"Total NaN values:\", total_nan)\n",
    "print(\"Total inf values:\", total_inf)\n",
    "print(\"Total NaN and inf values:\", total_nan_or_inf)"
   ]
  },
  {
   "cell_type": "code",
   "execution_count": 1708,
   "metadata": {},
   "outputs": [
    {
     "name": "stdout",
     "output_type": "stream",
     "text": [
      "Total NaN values: 4\n",
      "Total inf values: 0\n",
      "Total NaN and inf values: 4\n"
     ]
    }
   ],
   "source": [
    "# Check Nan or Inf for pos\n",
    "nan_mask = one_deg_pos_eye.isna()\n",
    "inf_mask = np.isinf(one_deg_pos_eye)\n",
    "non_or_inf_mask = nan_mask | inf_mask\n",
    "total_nan = nan_mask.sum()\n",
    "total_inf = inf_mask.sum()\n",
    "\n",
    "nan_or_inf_mask = nan_mask | inf_mask\n",
    "\n",
    "total_nan_or_inf = nan_or_inf_mask.sum()\n",
    "\n",
    "# Print the results\n",
    "print(\"Total NaN values:\", total_nan)\n",
    "print(\"Total inf values:\", total_inf)\n",
    "print(\"Total NaN and inf values:\", total_nan_or_inf)"
   ]
  },
  {
   "cell_type": "code",
   "execution_count": 1709,
   "metadata": {},
   "outputs": [
    {
     "data": {
      "image/png": "[encoded data removed]",
      "text/plain": [
       "<Figure size 432x288 with 1 Axes>"
      ]
     },
     "metadata": {
      "needs_background": "light"
     },
     "output_type": "display_data"
    }
   ],
   "source": [
    "# Plot the data\n",
    "plt.plot(one_deg_time_eye,one_deg_pos_eye)\n",
    "plt.xlabel('Time(s)')\n",
    "plt.ylabel('POS')\n",
    "plt.show()"
   ]
  },
  {
   "cell_type": "code",
   "execution_count": 1711,
   "metadata": {},
   "outputs": [
    {
     "data": {
      "text/plain": [
       "0         0.0033\n",
       "1         0.0067\n",
       "2         0.0100\n",
       "3         0.0133\n",
       "4         0.0167\n",
       "          ...   \n",
       "26997    89.9933\n",
       "26998    89.9967\n",
       "26999    90.0000\n",
       "27000    90.0033\n",
       "27001    90.0067\n",
       "Name: Position, Length: 27002, dtype: float64"
      ]
     },
     "execution_count": 1711,
     "metadata": {},
     "output_type": "execute_result"
    }
   ],
   "source": [
    "data['Position']\n"
   ]
  },
  {
   "cell_type": "code",
   "execution_count": 1712,
   "metadata": {},
   "outputs": [],
   "source": [
    "y_data = one_deg_time_eye\n",
    "x_data = one_deg_pos_eye"
   ]
  },
  {
   "cell_type": "code",
   "execution_count": 1714,
   "metadata": {},
   "outputs": [
    {
     "data": {
      "text/plain": [
       "0         0.0033\n",
       "1         0.0067\n",
       "2         0.0100\n",
       "3         0.0133\n",
       "4         0.0167\n",
       "          ...   \n",
       "27995    93.3200\n",
       "27996    93.3233\n",
       "27997    93.3267\n",
       "27998    93.3300\n",
       "27999    93.3333\n",
       "Name: Time, Length: 27666, dtype: float64"
      ]
     },
     "execution_count": 1714,
     "metadata": {},
     "output_type": "execute_result"
    }
   ],
   "source": [
    "y_data"
   ]
  },
  {
   "cell_type": "code",
   "execution_count": null,
   "metadata": {},
   "outputs": [],
   "source": []
  },
  {
   "attachments": {},
   "cell_type": "markdown",
   "metadata": {},
   "source": [
    "### Working Algorithms"
   ]
  },
  {
   "cell_type": "code",
   "execution_count": 1908,
   "metadata": {},
   "outputs": [],
   "source": [
    "path = os.getcwd()\n",
    "dirname = os.path.dirname(path)\n",
    "data_file = 'data/one_deg.csv'\n",
    "data_path = os.path.join(dirname,data_file)\n",
    "# data = pd.read_csv(data_path)\n",
    "data= pd.read_csv(data_path)"
   ]
  },
  {
   "cell_type": "code",
   "execution_count": 1909,
   "metadata": {},
   "outputs": [],
   "source": [
    "data_13 = data[['x1_PD013','y1_PD013']]"
   ]
  },
  {
   "cell_type": "code",
   "execution_count": 1910,
   "metadata": {},
   "outputs": [
    {
     "data": {
      "text/html": [
       "<div>\n",
       "<style scoped>\n",
       "    .dataframe tbody tr th:only-of-type {\n",
       "        vertical-align: middle;\n",
       "    }\n",
       "\n",
       "    .dataframe tbody tr th {\n",
       "        vertical-align: top;\n",
       "    }\n",
       "\n",
       "    .dataframe thead th {\n",
       "        text-align: right;\n",
       "    }\n",
       "</style>\n",
       "<table border=\"1\" class=\"dataframe\">\n",
       "  <thead>\n",
       "    <tr style=\"text-align: right;\">\n",
       "      <th></th>\n",
       "      <th>x1_PD013</th>\n",
       "      <th>y1_PD013</th>\n",
       "    </tr>\n",
       "  </thead>\n",
       "  <tbody>\n",
       "    <tr>\n",
       "      <th>0</th>\n",
       "      <td>0.0033</td>\n",
       "      <td>-0.1210</td>\n",
       "    </tr>\n",
       "    <tr>\n",
       "      <th>1</th>\n",
       "      <td>0.0067</td>\n",
       "      <td>-0.1008</td>\n",
       "    </tr>\n",
       "    <tr>\n",
       "      <th>2</th>\n",
       "      <td>0.0100</td>\n",
       "      <td>-0.1815</td>\n",
       "    </tr>\n",
       "    <tr>\n",
       "      <th>3</th>\n",
       "      <td>0.0133</td>\n",
       "      <td>-0.2419</td>\n",
       "    </tr>\n",
       "    <tr>\n",
       "      <th>4</th>\n",
       "      <td>0.0167</td>\n",
       "      <td>-0.2016</td>\n",
       "    </tr>\n",
       "    <tr>\n",
       "      <th>...</th>\n",
       "      <td>...</td>\n",
       "      <td>...</td>\n",
       "    </tr>\n",
       "    <tr>\n",
       "      <th>26997</th>\n",
       "      <td>89.9933</td>\n",
       "      <td>11.7540</td>\n",
       "    </tr>\n",
       "    <tr>\n",
       "      <th>26998</th>\n",
       "      <td>89.9967</td>\n",
       "      <td>11.7742</td>\n",
       "    </tr>\n",
       "    <tr>\n",
       "      <th>26999</th>\n",
       "      <td>90.0000</td>\n",
       "      <td>11.7339</td>\n",
       "    </tr>\n",
       "    <tr>\n",
       "      <th>27000</th>\n",
       "      <td>90.0033</td>\n",
       "      <td>11.7742</td>\n",
       "    </tr>\n",
       "    <tr>\n",
       "      <th>27001</th>\n",
       "      <td>90.0067</td>\n",
       "      <td>11.7339</td>\n",
       "    </tr>\n",
       "  </tbody>\n",
       "</table>\n",
       "<p>27002 rows × 2 columns</p>\n",
       "</div>"
      ],
      "text/plain": [
       "       x1_PD013  y1_PD013\n",
       "0        0.0033   -0.1210\n",
       "1        0.0067   -0.1008\n",
       "2        0.0100   -0.1815\n",
       "3        0.0133   -0.2419\n",
       "4        0.0167   -0.2016\n",
       "...         ...       ...\n",
       "26997   89.9933   11.7540\n",
       "26998   89.9967   11.7742\n",
       "26999   90.0000   11.7339\n",
       "27000   90.0033   11.7742\n",
       "27001   90.0067   11.7339\n",
       "\n",
       "[27002 rows x 2 columns]"
      ]
     },
     "execution_count": 1910,
     "metadata": {},
     "output_type": "execute_result"
    }
   ],
   "source": [
    "data_13"
   ]
  },
  {
   "cell_type": "code",
   "execution_count": 1912,
   "metadata": {},
   "outputs": [],
   "source": [
    "y_data = data_13['x1_PD013']\n",
    "x_data = data_13['y1_PD013']"
   ]
  },
  {
   "cell_type": "code",
   "execution_count": 1913,
   "metadata": {},
   "outputs": [
    {
     "data": {
      "text/plain": [
       "[<matplotlib.lines.Line2D at 0x169206850>]"
      ]
     },
     "execution_count": 1913,
     "metadata": {},
     "output_type": "execute_result"
    },
    {
     "data": {
      "image/png": "[encoded data removed]",
      "text/plain": [
       "<Figure size 432x288 with 1 Axes>"
      ]
     },
     "metadata": {
      "needs_background": "light"
     },
     "output_type": "display_data"
    }
   ],
   "source": [
    "plt.plot(y_data,x_data)"
   ]
  },
  {
   "cell_type": "code",
   "execution_count": 1914,
   "metadata": {},
   "outputs": [],
   "source": [
    "path = os.getcwd()\n",
    "dirname = os.path.dirname(path)\n",
    "data_file = 'data/one_deg.csv'\n",
    "data_path = os.path.join(dirname,data_file)\n",
    "# data = pd.read_csv(data_path)\n",
    "data= pd.read_csv(data_path)"
   ]
  },
  {
   "cell_type": "code",
   "execution_count": 1918,
   "metadata": {},
   "outputs": [
    {
     "name": "stderr",
     "output_type": "stream",
     "text": [
      "/var/folders/hj/4_1_bgn11_dgm99bq0lnjxl80000gn/T/ipykernel_44221/937884696.py:7: DeprecationWarning: `np.float` is a deprecated alias for the builtin `float`. To silence this warning, use `float` by itself. Doing this will not modify any behavior and is safe. If you specifically wanted the numpy scalar type, use `np.float64` here.\n",
      "Deprecated in NumPy 1.20; for more details and guidance: https://numpy.org/devdocs/release/1.20.0-notes.html#deprecations\n",
      "  data_st = np.array(rawdata[1:],dtype=np.float)\n"
     ]
    }
   ],
   "source": [
    "#import CSV data\n",
    "path = os.getcwd()\n",
    "dirname = os.path.dirname(path)\n",
    "data_file = 'data/1_deg_per_sec_sti.csv'\n",
    "data_path = os.path.join(dirname,data_file)\n",
    "rawdata = pd.read_csv(data_path)\n",
    "data_st = np.array(rawdata[1:],dtype=np.float)\n",
    "time = data_st[:,0]\n",
    "position = data_st[:,1]"
   ]
  },
  {
   "cell_type": "code",
   "execution_count": 1938,
   "metadata": {},
   "outputs": [
    {
     "name": "stdout",
     "output_type": "stream",
     "text": [
      "a = 9.989903127015685\n",
      "b = 0.05000044571043853\n",
      "c = -2.7511974340545354e-05\n"
     ]
    }
   ],
   "source": [
    "# Trigonometric functions\n",
    "\n",
    "# Define the function\n",
    "def func(x, a, b, c):  #Position as a function of time.\n",
    "    return a*(2/np.pi)*np.arcsin(np.sin(np.pi*(b*x+c)))\n",
    "\n",
    "#initial guesses\n",
    "#for 1 degree per second: [10, 0.05, 0]\n",
    "#for 2 degrees per second: [10, 0.1, 0]\n",
    "#for 4 degrees per second: [10, 0.2, 0]\n",
    "#for 6 degrees per second: [10, 0.3, 0]\n",
    "#for 8 degrees per second: [10, 0.4, 0]\n",
    "InitialGuess = [10, 0.05, 0]\n",
    "\n",
    "# Perform curve fitting\n",
    "popt, pcov = curve_fit(func, time, position, p0=InitialGuess)\n",
    "\n",
    "# Extract the optimal values of a, b, and c\n",
    "a, b, c = popt\n",
    "print(\"a =\", a)\n",
    "print(\"b =\", b)\n",
    "print(\"c =\", c)"
   ]
  },
  {
   "cell_type": "code",
   "execution_count": 1858,
   "metadata": {},
   "outputs": [],
   "source": [
    "# # # Trigonometric functions\n",
    "\n",
    "# # # Define the function\n",
    "# # def func(x, a, b, c):  #Position as a function of time.\n",
    "# #     return a*(2/np.pi)*np.arcsin(np.sin(np.pi*(b*x+c)))\n",
    "\n",
    "# # # drop NaN\n",
    "# # y_data = one_deg_time_eye.ffill()\n",
    "# # x_data = one_deg_pos_eye.ffill()\n",
    "\n",
    "# # y_data = one_deg_time_eye.bfill()\n",
    "# # x_data = one_deg_pos_eye.bfill()\n",
    "\n",
    "# # # # Example data points (x, y) - replace these with your actual data\n",
    "# # # x_data = np.array(one_deg_time_eye)\n",
    "# # # y_data = np.array(one_deg_pos_eye)\n",
    "\n",
    "\n",
    "# # #initial guesses\n",
    "# InitialGuess = [10, 0.05, 0]\n",
    "\n",
    "# # Perform curve fitting\n",
    "# popt, pcov = curve_fit(func, x_data, y_data, p0=InitialGuess)\n",
    "\n",
    "# # Extract the optimal values of a, b, and c\n",
    "# a, b, c = popt\n",
    "\n",
    "# print(\"Optimal values of a, b, and c:\")\n",
    "# print(\"a =\", a)\n",
    "# print(\"b =\", b)\n",
    "# print(\"c =\", c)"
   ]
  },
  {
   "cell_type": "code",
   "execution_count": 1906,
   "metadata": {},
   "outputs": [],
   "source": [
    "a = 10.19274\n",
    "b = 0.04942\n",
    "c = 0.00533"
   ]
  },
  {
   "cell_type": "code",
   "execution_count": 1931,
   "metadata": {},
   "outputs": [
    {
     "data": {
      "image/png": "[encoded data removed]",
      "text/plain": [
       "<Figure size 432x288 with 1 Axes>"
      ]
     },
     "metadata": {
      "needs_background": "light"
     },
     "output_type": "display_data"
    }
   ],
   "source": [
    "# Fit time\n",
    "fit_time = func(y_data,a,b,c)\n",
    "plt.plot(y_data,fit_time)\n",
    "plt.show()"
   ]
  },
  {
   "cell_type": "code",
   "execution_count": 1861,
   "metadata": {},
   "outputs": [],
   "source": [
    "# Different(aka residual)\n",
    "diff = x_data - fit_time"
   ]
  },
  {
   "cell_type": "code",
   "execution_count": 1862,
   "metadata": {},
   "outputs": [],
   "source": [
    "# Smooth residual\n",
    "dt_array = np.array(diff)\n",
    "dt_array = pd.DataFrame(dt_array,columns=['diff'])\n",
    "window_size = 5\n",
    "dt_array['Moving_Average'] = dt_array['diff'].rolling(window=window_size).mean()"
   ]
  },
  {
   "cell_type": "code",
   "execution_count": 1863,
   "metadata": {},
   "outputs": [
    {
     "data": {
      "text/plain": [
       "[<matplotlib.lines.Line2D at 0x17d856f10>]"
      ]
     },
     "execution_count": 1863,
     "metadata": {},
     "output_type": "execute_result"
    },
    {
     "data": {
      "image/png": "[encoded data removed]",
      "text/plain": [
       "<Figure size 432x288 with 1 Axes>"
      ]
     },
     "metadata": {
      "needs_background": "light"
     },
     "output_type": "display_data"
    }
   ],
   "source": [
    "plt.plot(y_data,dt_array['Moving_Average'])"
   ]
  },
  {
   "cell_type": "code",
   "execution_count": 1864,
   "metadata": {},
   "outputs": [],
   "source": [
    "# create dataframe\n",
    "data = {'Time':y_data,'POS':dt_array['Moving_Average']}\n",
    "df = pd.DataFrame(data)"
   ]
  },
  {
   "cell_type": "code",
   "execution_count": 1865,
   "metadata": {},
   "outputs": [
    {
     "data": {
      "text/plain": [
       "[<matplotlib.lines.Line2D at 0x17dcf8160>]"
      ]
     },
     "execution_count": 1865,
     "metadata": {},
     "output_type": "execute_result"
    },
    {
     "data": {
      "image/png": "[encoded data removed]",
      "text/plain": [
       "<Figure size 432x288 with 1 Axes>"
      ]
     },
     "metadata": {
      "needs_background": "light"
     },
     "output_type": "display_data"
    }
   ],
   "source": [
    "# Plot specific range\n",
    "x_start = 10\n",
    "x_end = 90\n",
    "\n",
    "# Filter the data points within the disired range using boolean indexing\n",
    "mask = (df['Time'] >= x_start) & (df['Time'] <= x_end)\n",
    "x_data_range = df.loc[mask]\n",
    "#y_data_range = y_data[mask]\n",
    "\n",
    "# create plot\n",
    "\n",
    "\n",
    "plt.plot(x_data_range['Time'],x_data_range['POS'])"
   ]
  },
  {
   "cell_type": "code",
   "execution_count": 1866,
   "metadata": {},
   "outputs": [],
   "source": [
    "# Test 20 point\n",
    "data = {'Time':x_data_range['Time'],'POS':x_data_range['POS']}\n",
    "df_test = pd.DataFrame(data)"
   ]
  },
  {
   "cell_type": "code",
   "execution_count": 1867,
   "metadata": {},
   "outputs": [],
   "source": [
    "# Determine the integration window\n",
    "def check_sign(x):\n",
    "    if x > 0:\n",
    "        return \"Positive\"\n",
    "    else:\n",
    "        return \"Negative\"\n",
    "df_test['Sign'] = df_test['POS'].apply(check_sign)"
   ]
  },
  {
   "cell_type": "code",
   "execution_count": 1868,
   "metadata": {},
   "outputs": [
    {
     "name": "stdout",
     "output_type": "stream",
     "text": [
      "          Time       POS      Sign PosTim_Start PosTim_End NegTim_Start  \\\n",
      "0      10.0000 -0.563529  Negative                                 10.0   \n",
      "1      10.0033 -0.542674  Negative                                        \n",
      "2      10.0067 -0.537979  Negative                                        \n",
      "3      10.0100 -0.512926  Negative                                        \n",
      "4      10.0133 -0.514744  Negative                                        \n",
      "...        ...       ...       ...          ...        ...          ...   \n",
      "23996  89.9867 -0.971164  Negative                                        \n",
      "23997  89.9900 -0.958388  Negative                                        \n",
      "23998  89.9933 -0.945613  Negative                                        \n",
      "23999  89.9967 -0.965098  Negative                                        \n",
      "24000  90.0000 -0.976543  Negative                                        \n",
      "\n",
      "      NegTim_End  \n",
      "0                 \n",
      "1                 \n",
      "2                 \n",
      "3                 \n",
      "4                 \n",
      "...          ...  \n",
      "23996             \n",
      "23997             \n",
      "23998             \n",
      "23999             \n",
      "24000             \n",
      "\n",
      "[24001 rows x 7 columns]\n"
     ]
    }
   ],
   "source": [
    "# Condition window width \n",
    "def calculate_start_end(row):\n",
    "    global last_positive, last_negative\n",
    "    if row['Sign'] == 'Positive':\n",
    "        if row.name == 0 or df_test.loc[row.name - 1, 'Sign'] != 'Positive':\n",
    "            last_positive = row['Time']\n",
    "            return last_positive, '', '', ''\n",
    "        elif row.name < len(df_test) - 1 and df_test.loc[row.name + 1, 'Sign'] != 'Positive':\n",
    "            pos_end = row['Time']\n",
    "            last_positive = ''\n",
    "            return '', pos_end, '', ''\n",
    "        else:\n",
    "            return '', '', '', ''\n",
    "    elif row['Sign'] == 'Negative':\n",
    "        if row.name == 0 or df_test.loc[row.name - 1, 'Sign'] != 'Negative':\n",
    "            last_negative = row['Time']\n",
    "            return '', '', last_negative, ''\n",
    "        elif row.name < len(df_test) - 1 and df_test.loc[row.name + 1, 'Sign'] != 'Negative':\n",
    "            last_negative = row['Time']\n",
    "            return '', '', '', last_negative\n",
    "        else:\n",
    "            return '', '', '', ''\n",
    "    else:\n",
    "        return '', '', '', ''\n",
    "\n",
    "# Initialize the last positive and negative values to empty strings \n",
    "last_positive = ''\n",
    "last_negative = ''\n",
    "\n",
    "# Reset the index of the DataFrame\n",
    "df_test = df_test.reset_index(drop=True)\n",
    "\n",
    "# Apply the custom function to create new columns\n",
    "df_test['PosTim_Start'], df_test['PosTim_End'], df_test['NegTim_Start'], df_test['NegTim_End'] = zip(*df_test.apply(calculate_start_end, axis=1))\n",
    "\n",
    "# Fill the empty cells with an empty string\n",
    "df_test['PosTim_Start'] = df_test['PosTim_Start'].fillna('') \n",
    "df_test['PosTim_End'] = df_test['PosTim_End'].fillna('')\n",
    "df_test['NegTim_Start'] = df_test['NegTim_Start'].fillna('')\n",
    "df_test['NegTim_End'] = df_test['NegTim_End'].fillna('')\n",
    "\n",
    "# Print the resulting dataframe \n",
    "print(df_test)"
   ]
  },
  {
   "attachments": {},
   "cell_type": "markdown",
   "metadata": {},
   "source": [
    "#### Positive Time Start Trimming"
   ]
  },
  {
   "cell_type": "code",
   "execution_count": 1869,
   "metadata": {},
   "outputs": [],
   "source": [
    "# Select the non-empty values in the 'Pos_Start' column\n",
    "pos_start_values = df_test.loc[df_test['PosTim_Start'] != '', 'PosTim_Start'].values\n",
    "\n",
    "# Round the values in the 'Pos_Start' column to two decimal places\n",
    "rounded_pos_start_values = []\n",
    "for value in pos_start_values:\n",
    "    rounded_pos_start_values.append(round(value - 0.003, 2))\n",
    "\n",
    "# Convert the list of rounded values back to a NumPy array\n",
    "postim_start_values = np.array(rounded_pos_start_values)\n",
    "\n",
    "# Print the non-empty values\n",
    "#print(postim_start_values)"
   ]
  },
  {
   "attachments": {},
   "cell_type": "markdown",
   "metadata": {},
   "source": [
    "#### Poisitive Time end Trimming"
   ]
  },
  {
   "cell_type": "code",
   "execution_count": 1870,
   "metadata": {},
   "outputs": [],
   "source": [
    "# Select the non-empty values in the 'Pos_End' column\n",
    "pos_end_values = df_test.loc[df_test['PosTim_End'] != '', 'PosTim_End'].values\n",
    "\n",
    "# Round the values in the 'Pos_End' column to two decimal places\n",
    "rounded_pos_end_values = []\n",
    "for value in pos_end_values:\n",
    "    rounded_pos_end_values.append(round(value - 0.02, 2))\n",
    "\n",
    "# Convert the list of rounded values back to a NumPy array\n",
    "postim_end_values = np.array(rounded_pos_end_values)\n",
    "\n",
    "# Print the non-empty values\n",
    "#print(postim_end_values)"
   ]
  },
  {
   "cell_type": "code",
   "execution_count": 1875,
   "metadata": {},
   "outputs": [],
   "source": [
    "# Read the dataset again\n",
    "path = os.getcwd()\n",
    "dirname = os.path.dirname(path)\n",
    "data_file = 'data/raw_pd0013_1.xlsx'\n",
    "data_path = os.path.join(dirname,data_file)\n",
    "# data = pd.read_csv(data_path)\n",
    "data= pd.read_excel(data_path)"
   ]
  },
  {
   "cell_type": "code",
   "execution_count": 1876,
   "metadata": {},
   "outputs": [
    {
     "data": {
      "text/html": [
       "<div>\n",
       "<style scoped>\n",
       "    .dataframe tbody tr th:only-of-type {\n",
       "        vertical-align: middle;\n",
       "    }\n",
       "\n",
       "    .dataframe tbody tr th {\n",
       "        vertical-align: top;\n",
       "    }\n",
       "\n",
       "    .dataframe thead th {\n",
       "        text-align: right;\n",
       "    }\n",
       "</style>\n",
       "<table border=\"1\" class=\"dataframe\">\n",
       "  <thead>\n",
       "    <tr style=\"text-align: right;\">\n",
       "      <th></th>\n",
       "      <th>Position</th>\n",
       "      <th>Time</th>\n",
       "    </tr>\n",
       "  </thead>\n",
       "  <tbody>\n",
       "    <tr>\n",
       "      <th>0</th>\n",
       "      <td>0.0033</td>\n",
       "      <td>-0.1210</td>\n",
       "    </tr>\n",
       "    <tr>\n",
       "      <th>1</th>\n",
       "      <td>0.0067</td>\n",
       "      <td>-0.1008</td>\n",
       "    </tr>\n",
       "    <tr>\n",
       "      <th>2</th>\n",
       "      <td>0.0100</td>\n",
       "      <td>-0.1815</td>\n",
       "    </tr>\n",
       "    <tr>\n",
       "      <th>3</th>\n",
       "      <td>0.0133</td>\n",
       "      <td>-0.2419</td>\n",
       "    </tr>\n",
       "    <tr>\n",
       "      <th>4</th>\n",
       "      <td>0.0167</td>\n",
       "      <td>-0.2016</td>\n",
       "    </tr>\n",
       "    <tr>\n",
       "      <th>...</th>\n",
       "      <td>...</td>\n",
       "      <td>...</td>\n",
       "    </tr>\n",
       "    <tr>\n",
       "      <th>26997</th>\n",
       "      <td>89.9933</td>\n",
       "      <td>11.7540</td>\n",
       "    </tr>\n",
       "    <tr>\n",
       "      <th>26998</th>\n",
       "      <td>89.9967</td>\n",
       "      <td>11.7742</td>\n",
       "    </tr>\n",
       "    <tr>\n",
       "      <th>26999</th>\n",
       "      <td>90.0000</td>\n",
       "      <td>11.7339</td>\n",
       "    </tr>\n",
       "    <tr>\n",
       "      <th>27000</th>\n",
       "      <td>90.0033</td>\n",
       "      <td>11.7742</td>\n",
       "    </tr>\n",
       "    <tr>\n",
       "      <th>27001</th>\n",
       "      <td>90.0067</td>\n",
       "      <td>11.7339</td>\n",
       "    </tr>\n",
       "  </tbody>\n",
       "</table>\n",
       "<p>27002 rows × 2 columns</p>\n",
       "</div>"
      ],
      "text/plain": [
       "       Position     Time\n",
       "0        0.0033  -0.1210\n",
       "1        0.0067  -0.1008\n",
       "2        0.0100  -0.1815\n",
       "3        0.0133  -0.2419\n",
       "4        0.0167  -0.2016\n",
       "...         ...      ...\n",
       "26997   89.9933  11.7540\n",
       "26998   89.9967  11.7742\n",
       "26999   90.0000  11.7339\n",
       "27000   90.0033  11.7742\n",
       "27001   90.0067  11.7339\n",
       "\n",
       "[27002 rows x 2 columns]"
      ]
     },
     "execution_count": 1876,
     "metadata": {},
     "output_type": "execute_result"
    }
   ],
   "source": [
    "data"
   ]
  },
  {
   "cell_type": "code",
   "execution_count": 1881,
   "metadata": {},
   "outputs": [
    {
     "data": {
      "text/plain": [
       "'x1_PD011'"
      ]
     },
     "execution_count": 1881,
     "metadata": {},
     "output_type": "execute_result"
    }
   ],
   "source": [
    "data_13.columns.values[0]"
   ]
  },
  {
   "cell_type": "code",
   "execution_count": 1882,
   "metadata": {},
   "outputs": [],
   "source": [
    "# Rename columns\n",
    "data = data_13.rename(columns={data_13.columns.values[0]:\"Position\",\n",
    "                               data_13.columns.values[1]:'Time'})"
   ]
  },
  {
   "cell_type": "code",
   "execution_count": 1883,
   "metadata": {},
   "outputs": [
    {
     "data": {
      "text/html": [
       "<div>\n",
       "<style scoped>\n",
       "    .dataframe tbody tr th:only-of-type {\n",
       "        vertical-align: middle;\n",
       "    }\n",
       "\n",
       "    .dataframe tbody tr th {\n",
       "        vertical-align: top;\n",
       "    }\n",
       "\n",
       "    .dataframe thead th {\n",
       "        text-align: right;\n",
       "    }\n",
       "</style>\n",
       "<table border=\"1\" class=\"dataframe\">\n",
       "  <thead>\n",
       "    <tr style=\"text-align: right;\">\n",
       "      <th></th>\n",
       "      <th>Position</th>\n",
       "      <th>Time</th>\n",
       "    </tr>\n",
       "  </thead>\n",
       "  <tbody>\n",
       "    <tr>\n",
       "      <th>0</th>\n",
       "      <td>0.0033</td>\n",
       "      <td>-1.6331</td>\n",
       "    </tr>\n",
       "    <tr>\n",
       "      <th>1</th>\n",
       "      <td>0.0067</td>\n",
       "      <td>-1.7742</td>\n",
       "    </tr>\n",
       "    <tr>\n",
       "      <th>2</th>\n",
       "      <td>0.0100</td>\n",
       "      <td>-1.7137</td>\n",
       "    </tr>\n",
       "    <tr>\n",
       "      <th>3</th>\n",
       "      <td>0.0133</td>\n",
       "      <td>-1.5323</td>\n",
       "    </tr>\n",
       "    <tr>\n",
       "      <th>4</th>\n",
       "      <td>0.0167</td>\n",
       "      <td>-1.5927</td>\n",
       "    </tr>\n",
       "    <tr>\n",
       "      <th>...</th>\n",
       "      <td>...</td>\n",
       "      <td>...</td>\n",
       "    </tr>\n",
       "    <tr>\n",
       "      <th>26997</th>\n",
       "      <td>89.9933</td>\n",
       "      <td>8.2661</td>\n",
       "    </tr>\n",
       "    <tr>\n",
       "      <th>26998</th>\n",
       "      <td>89.9967</td>\n",
       "      <td>8.2863</td>\n",
       "    </tr>\n",
       "    <tr>\n",
       "      <th>26999</th>\n",
       "      <td>90.0000</td>\n",
       "      <td>8.2661</td>\n",
       "    </tr>\n",
       "    <tr>\n",
       "      <th>27000</th>\n",
       "      <td>90.0033</td>\n",
       "      <td>8.2863</td>\n",
       "    </tr>\n",
       "    <tr>\n",
       "      <th>27001</th>\n",
       "      <td>90.0067</td>\n",
       "      <td>8.3065</td>\n",
       "    </tr>\n",
       "  </tbody>\n",
       "</table>\n",
       "<p>27002 rows × 2 columns</p>\n",
       "</div>"
      ],
      "text/plain": [
       "       Position    Time\n",
       "0        0.0033 -1.6331\n",
       "1        0.0067 -1.7742\n",
       "2        0.0100 -1.7137\n",
       "3        0.0133 -1.5323\n",
       "4        0.0167 -1.5927\n",
       "...         ...     ...\n",
       "26997   89.9933  8.2661\n",
       "26998   89.9967  8.2863\n",
       "26999   90.0000  8.2661\n",
       "27000   90.0033  8.2863\n",
       "27001   90.0067  8.3065\n",
       "\n",
       "[27002 rows x 2 columns]"
      ]
     },
     "execution_count": 1883,
     "metadata": {},
     "output_type": "execute_result"
    }
   ],
   "source": [
    "data"
   ]
  },
  {
   "attachments": {},
   "cell_type": "markdown",
   "metadata": {},
   "source": [
    "#### Map the start positive Time to POS in raw data"
   ]
  },
  {
   "cell_type": "code",
   "execution_count": 1885,
   "metadata": {},
   "outputs": [],
   "source": [
    "# Create a dictionary from the mapping list\n",
    "mapping_list = postim_start_values\n",
    "\n",
    "# Map the values to the 'POS' column in raw\n",
    "mapped_posSt = data.loc[data['Position'].isin(mapping_list),'Time']\n",
    "#mapped_posSt"
   ]
  },
  {
   "attachments": {},
   "cell_type": "markdown",
   "metadata": {},
   "source": [
    "#### Map the End positive Time to POS in raw data"
   ]
  },
  {
   "cell_type": "code",
   "execution_count": 1886,
   "metadata": {},
   "outputs": [],
   "source": [
    "# Create a dictionary from the mapping list\n",
    "mapping_list = postim_end_values\n",
    "\n",
    "# Map the values to the 'POS' column in raw\n",
    "mapped_posEnd = data.loc[data['Position'].isin(mapping_list),'Time']\n",
    "#mapped_posEnd\n"
   ]
  },
  {
   "cell_type": "code",
   "execution_count": 1887,
   "metadata": {},
   "outputs": [],
   "source": [
    "# postim_start_values = [1, 2, 3,4,5,6]  # Length 100\n",
    "# mapped_posSt = [1, 2, 3,4]         # Length 80\n",
    "\n",
    "# # Check lengths and truncate longer column \n",
    "# if len(postim_start_values) > len(mapped_posSt): \n",
    "#     postim_start_values = postim_start_values[:len(mapped_posSt)]  # Truncate to 80\n",
    "# elif len(mapped_posSt) > len(postim_start_values):\n",
    "#     mapped_posSt = mapped_posSt[:len(postim_start_values)]      # Truncate to 100\n",
    "\n",
    "# # Construct DataFrame    \n",
    "# data_param = {'positive_x1':postim_start_values,'positive_y1':mapped_posSt}       \n",
    "# param_gain_start = pd.DataFrame(data_param)"
   ]
  },
  {
   "attachments": {},
   "cell_type": "markdown",
   "metadata": {},
   "source": [
    "#### Gain param positive dataframe"
   ]
  },
  {
   "cell_type": "code",
   "execution_count": 1888,
   "metadata": {},
   "outputs": [],
   "source": [
    "# # column miss match\n",
    "# Check lengths and truncate longer column \n",
    "if len(postim_start_values) > len(mapped_posSt): \n",
    "    postim_start_values = postim_start_values[:len(mapped_posSt)] \n",
    "elif len(mapped_posSt) > len(postim_start_values):\n",
    "    mapped_posSt = mapped_posSt[:len(postim_start_values)]      \n",
    "\n",
    "# Now columns have equal length \n",
    "data_param = {'positive_x1':postim_start_values,'positive_y1':mapped_posSt}             \n",
    "param_gain_start = pd.DataFrame(data_param)\n",
    "\n",
    "data_param= {'positive_x2':postim_end_values,'positive_y2':mapped_posEnd}\n",
    "param_gain_end = pd.DataFrame(data_param)\n",
    "\n",
    "# Reset the indices of the DataFrames\n",
    "param_gain_start = param_gain_start.reset_index(drop=True)\n",
    "param_gain_end = param_gain_end.reset_index(drop=True)\n",
    "\n",
    "# Concatenate the DataFrames horizontally\n",
    "param_gain_final = pd.concat([param_gain_start,param_gain_end],axis=1)\n",
    "param_gain_positive_final = param_gain_final.fillna(method='ffill')\n",
    "#param_gain_final\n"
   ]
  },
  {
   "attachments": {},
   "cell_type": "markdown",
   "metadata": {},
   "source": [
    "### Gain for Positive peak calculation"
   ]
  },
  {
   "cell_type": "code",
   "execution_count": 1889,
   "metadata": {},
   "outputs": [
    {
     "name": "stdout",
     "output_type": "stream",
     "text": [
      "0.5782351782663028\n"
     ]
    }
   ],
   "source": [
    "# Calculate the difference between y2 and y1 divided by the difference between x2 and x1\n",
    "param_gain_positive_final['slope'] = (param_gain_positive_final['positive_y2'] - param_gain_final['positive_y1']) / (param_gain_final['positive_x2'] - param_gain_final['positive_x1'])\n",
    "\n",
    "# abs\n",
    "param_gain_positive_final['slope'] = abs(param_gain_positive_final['slope'])\n",
    "\n",
    "# Remove unwant values\n",
    "param_gain_positive_final.loc[param_gain_positive_final['slope'] > 1.09, 'slope'] = np.nan  \n",
    "\n",
    "# Calculate the average slope\n",
    "average_positive_slope = abs(param_gain_positive_final['slope'].mean())\n",
    "\n",
    "# Print the average slope\n",
    "print(average_positive_slope)"
   ]
  },
  {
   "cell_type": "code",
   "execution_count": 1890,
   "metadata": {},
   "outputs": [
    {
     "data": {
      "text/html": [
       "<div>\n",
       "<style scoped>\n",
       "    .dataframe tbody tr th:only-of-type {\n",
       "        vertical-align: middle;\n",
       "    }\n",
       "\n",
       "    .dataframe tbody tr th {\n",
       "        vertical-align: top;\n",
       "    }\n",
       "\n",
       "    .dataframe thead th {\n",
       "        text-align: right;\n",
       "    }\n",
       "</style>\n",
       "<table border=\"1\" class=\"dataframe\">\n",
       "  <thead>\n",
       "    <tr style=\"text-align: right;\">\n",
       "      <th></th>\n",
       "      <th>positive_x1</th>\n",
       "      <th>positive_y1</th>\n",
       "      <th>positive_x2</th>\n",
       "      <th>positive_y2</th>\n",
       "      <th>slope</th>\n",
       "    </tr>\n",
       "  </thead>\n",
       "  <tbody>\n",
       "    <tr>\n",
       "      <th>0</th>\n",
       "      <td>10.31</td>\n",
       "      <td>10.0202</td>\n",
       "      <td>10.51</td>\n",
       "      <td>9.6371</td>\n",
       "      <td>NaN</td>\n",
       "    </tr>\n",
       "    <tr>\n",
       "      <th>1</th>\n",
       "      <td>17.42</td>\n",
       "      <td>2.9089</td>\n",
       "      <td>17.46</td>\n",
       "      <td>2.7352</td>\n",
       "      <td>NaN</td>\n",
       "    </tr>\n",
       "    <tr>\n",
       "      <th>2</th>\n",
       "      <td>24.48</td>\n",
       "      <td>-4.2137</td>\n",
       "      <td>24.47</td>\n",
       "      <td>-4.3347</td>\n",
       "      <td>NaN</td>\n",
       "    </tr>\n",
       "    <tr>\n",
       "      <th>3</th>\n",
       "      <td>28.43</td>\n",
       "      <td>-8.3669</td>\n",
       "      <td>28.43</td>\n",
       "      <td>-8.3669</td>\n",
       "      <td>NaN</td>\n",
       "    </tr>\n",
       "    <tr>\n",
       "      <th>4</th>\n",
       "      <td>28.44</td>\n",
       "      <td>-8.4476</td>\n",
       "      <td>28.45</td>\n",
       "      <td>-8.4274</td>\n",
       "      <td>NaN</td>\n",
       "    </tr>\n",
       "    <tr>\n",
       "      <th>5</th>\n",
       "      <td>28.46</td>\n",
       "      <td>-8.3669</td>\n",
       "      <td>28.46</td>\n",
       "      <td>-8.3669</td>\n",
       "      <td>NaN</td>\n",
       "    </tr>\n",
       "    <tr>\n",
       "      <th>6</th>\n",
       "      <td>28.47</td>\n",
       "      <td>-8.4274</td>\n",
       "      <td>28.80</td>\n",
       "      <td>-8.7298</td>\n",
       "      <td>0.916364</td>\n",
       "    </tr>\n",
       "    <tr>\n",
       "      <th>7</th>\n",
       "      <td>28.81</td>\n",
       "      <td>-8.6290</td>\n",
       "      <td>28.96</td>\n",
       "      <td>-8.8911</td>\n",
       "      <td>NaN</td>\n",
       "    </tr>\n",
       "    <tr>\n",
       "      <th>8</th>\n",
       "      <td>28.87</td>\n",
       "      <td>-8.7903</td>\n",
       "      <td>28.98</td>\n",
       "      <td>-8.9718</td>\n",
       "      <td>NaN</td>\n",
       "    </tr>\n",
       "    <tr>\n",
       "      <th>9</th>\n",
       "      <td>28.90</td>\n",
       "      <td>-8.8710</td>\n",
       "      <td>29.09</td>\n",
       "      <td>-8.9718</td>\n",
       "      <td>0.530526</td>\n",
       "    </tr>\n",
       "    <tr>\n",
       "      <th>10</th>\n",
       "      <td>28.92</td>\n",
       "      <td>-8.8911</td>\n",
       "      <td>29.17</td>\n",
       "      <td>-9.0927</td>\n",
       "      <td>0.806400</td>\n",
       "    </tr>\n",
       "    <tr>\n",
       "      <th>11</th>\n",
       "      <td>28.99</td>\n",
       "      <td>-8.9516</td>\n",
       "      <td>29.30</td>\n",
       "      <td>-9.0524</td>\n",
       "      <td>0.325161</td>\n",
       "    </tr>\n",
       "    <tr>\n",
       "      <th>12</th>\n",
       "      <td>29.01</td>\n",
       "      <td>-8.8508</td>\n",
       "      <td>30.07</td>\n",
       "      <td>-9.9798</td>\n",
       "      <td>1.065094</td>\n",
       "    </tr>\n",
       "    <tr>\n",
       "      <th>13</th>\n",
       "      <td>29.12</td>\n",
       "      <td>-9.0121</td>\n",
       "      <td>30.83</td>\n",
       "      <td>-9.3548</td>\n",
       "      <td>0.200409</td>\n",
       "    </tr>\n",
       "    <tr>\n",
       "      <th>14</th>\n",
       "      <td>29.20</td>\n",
       "      <td>-9.0524</td>\n",
       "      <td>31.12</td>\n",
       "      <td>-9.4355</td>\n",
       "      <td>0.199531</td>\n",
       "    </tr>\n",
       "    <tr>\n",
       "      <th>15</th>\n",
       "      <td>29.57</td>\n",
       "      <td>-8.9113</td>\n",
       "      <td>31.19</td>\n",
       "      <td>-9.3548</td>\n",
       "      <td>0.273765</td>\n",
       "    </tr>\n",
       "    <tr>\n",
       "      <th>16</th>\n",
       "      <td>30.83</td>\n",
       "      <td>-9.3548</td>\n",
       "      <td>31.28</td>\n",
       "      <td>-9.0726</td>\n",
       "      <td>0.627111</td>\n",
       "    </tr>\n",
       "    <tr>\n",
       "      <th>17</th>\n",
       "      <td>31.08</td>\n",
       "      <td>-9.3347</td>\n",
       "      <td>31.31</td>\n",
       "      <td>-9.1532</td>\n",
       "      <td>0.789130</td>\n",
       "    </tr>\n",
       "    <tr>\n",
       "      <th>18</th>\n",
       "      <td>31.13</td>\n",
       "      <td>-9.2137</td>\n",
       "      <td>31.37</td>\n",
       "      <td>-9.0323</td>\n",
       "      <td>0.755833</td>\n",
       "    </tr>\n",
       "    <tr>\n",
       "      <th>19</th>\n",
       "      <td>31.18</td>\n",
       "      <td>-9.1734</td>\n",
       "      <td>31.61</td>\n",
       "      <td>-8.8911</td>\n",
       "      <td>0.656512</td>\n",
       "    </tr>\n",
       "    <tr>\n",
       "      <th>20</th>\n",
       "      <td>31.20</td>\n",
       "      <td>-9.1935</td>\n",
       "      <td>31.66</td>\n",
       "      <td>-8.8105</td>\n",
       "      <td>0.832609</td>\n",
       "    </tr>\n",
       "    <tr>\n",
       "      <th>21</th>\n",
       "      <td>31.23</td>\n",
       "      <td>-9.0323</td>\n",
       "      <td>32.90</td>\n",
       "      <td>-7.3719</td>\n",
       "      <td>0.994251</td>\n",
       "    </tr>\n",
       "    <tr>\n",
       "      <th>22</th>\n",
       "      <td>31.30</td>\n",
       "      <td>-9.1532</td>\n",
       "      <td>33.69</td>\n",
       "      <td>-6.6734</td>\n",
       "      <td>1.037573</td>\n",
       "    </tr>\n",
       "    <tr>\n",
       "      <th>23</th>\n",
       "      <td>31.38</td>\n",
       "      <td>-8.9113</td>\n",
       "      <td>33.79</td>\n",
       "      <td>-6.6331</td>\n",
       "      <td>0.945311</td>\n",
       "    </tr>\n",
       "    <tr>\n",
       "      <th>24</th>\n",
       "      <td>31.45</td>\n",
       "      <td>-9.0726</td>\n",
       "      <td>33.85</td>\n",
       "      <td>-6.5726</td>\n",
       "      <td>1.041667</td>\n",
       "    </tr>\n",
       "    <tr>\n",
       "      <th>25</th>\n",
       "      <td>31.46</td>\n",
       "      <td>-8.6895</td>\n",
       "      <td>51.08</td>\n",
       "      <td>9.6169</td>\n",
       "      <td>0.933048</td>\n",
       "    </tr>\n",
       "    <tr>\n",
       "      <th>26</th>\n",
       "      <td>31.47</td>\n",
       "      <td>-9.0524</td>\n",
       "      <td>51.17</td>\n",
       "      <td>9.4556</td>\n",
       "      <td>0.939492</td>\n",
       "    </tr>\n",
       "    <tr>\n",
       "      <th>27</th>\n",
       "      <td>31.54</td>\n",
       "      <td>-8.8911</td>\n",
       "      <td>58.76</td>\n",
       "      <td>2.1078</td>\n",
       "      <td>0.404074</td>\n",
       "    </tr>\n",
       "    <tr>\n",
       "      <th>28</th>\n",
       "      <td>31.62</td>\n",
       "      <td>-8.8105</td>\n",
       "      <td>69.65</td>\n",
       "      <td>-9.1129</td>\n",
       "      <td>0.007952</td>\n",
       "    </tr>\n",
       "    <tr>\n",
       "      <th>29</th>\n",
       "      <td>31.67</td>\n",
       "      <td>-8.7298</td>\n",
       "      <td>69.72</td>\n",
       "      <td>-9.2137</td>\n",
       "      <td>0.012717</td>\n",
       "    </tr>\n",
       "    <tr>\n",
       "      <th>30</th>\n",
       "      <td>32.81</td>\n",
       "      <td>-7.1976</td>\n",
       "      <td>76.20</td>\n",
       "      <td>-4.5363</td>\n",
       "      <td>0.061334</td>\n",
       "    </tr>\n",
       "    <tr>\n",
       "      <th>31</th>\n",
       "      <td>33.67</td>\n",
       "      <td>-6.7137</td>\n",
       "      <td>76.21</td>\n",
       "      <td>-4.6371</td>\n",
       "      <td>0.048815</td>\n",
       "    </tr>\n",
       "    <tr>\n",
       "      <th>32</th>\n",
       "      <td>33.75</td>\n",
       "      <td>-6.6532</td>\n",
       "      <td>76.28</td>\n",
       "      <td>-4.4758</td>\n",
       "      <td>0.051197</td>\n",
       "    </tr>\n",
       "    <tr>\n",
       "      <th>33</th>\n",
       "      <td>33.81</td>\n",
       "      <td>-6.6734</td>\n",
       "      <td>76.28</td>\n",
       "      <td>-4.4758</td>\n",
       "      <td>NaN</td>\n",
       "    </tr>\n",
       "    <tr>\n",
       "      <th>34</th>\n",
       "      <td>51.09</td>\n",
       "      <td>9.6774</td>\n",
       "      <td>76.28</td>\n",
       "      <td>-4.4758</td>\n",
       "      <td>NaN</td>\n",
       "    </tr>\n",
       "    <tr>\n",
       "      <th>35</th>\n",
       "      <td>51.15</td>\n",
       "      <td>9.5565</td>\n",
       "      <td>76.28</td>\n",
       "      <td>-4.4758</td>\n",
       "      <td>NaN</td>\n",
       "    </tr>\n",
       "    <tr>\n",
       "      <th>36</th>\n",
       "      <td>51.18</td>\n",
       "      <td>9.4153</td>\n",
       "      <td>76.28</td>\n",
       "      <td>-4.4758</td>\n",
       "      <td>NaN</td>\n",
       "    </tr>\n",
       "    <tr>\n",
       "      <th>37</th>\n",
       "      <td>58.73</td>\n",
       "      <td>2.6815</td>\n",
       "      <td>76.28</td>\n",
       "      <td>-4.4758</td>\n",
       "      <td>NaN</td>\n",
       "    </tr>\n",
       "    <tr>\n",
       "      <th>38</th>\n",
       "      <td>69.67</td>\n",
       "      <td>-9.1734</td>\n",
       "      <td>76.28</td>\n",
       "      <td>-4.4758</td>\n",
       "      <td>NaN</td>\n",
       "    </tr>\n",
       "    <tr>\n",
       "      <th>39</th>\n",
       "      <td>69.69</td>\n",
       "      <td>-9.1129</td>\n",
       "      <td>76.28</td>\n",
       "      <td>-4.4758</td>\n",
       "      <td>NaN</td>\n",
       "    </tr>\n",
       "    <tr>\n",
       "      <th>40</th>\n",
       "      <td>69.71</td>\n",
       "      <td>-9.1532</td>\n",
       "      <td>76.28</td>\n",
       "      <td>-4.4758</td>\n",
       "      <td>NaN</td>\n",
       "    </tr>\n",
       "    <tr>\n",
       "      <th>41</th>\n",
       "      <td>69.73</td>\n",
       "      <td>-9.0323</td>\n",
       "      <td>76.28</td>\n",
       "      <td>-4.4758</td>\n",
       "      <td>NaN</td>\n",
       "    </tr>\n",
       "    <tr>\n",
       "      <th>42</th>\n",
       "      <td>70.68</td>\n",
       "      <td>-10.1815</td>\n",
       "      <td>76.28</td>\n",
       "      <td>-4.4758</td>\n",
       "      <td>NaN</td>\n",
       "    </tr>\n",
       "    <tr>\n",
       "      <th>43</th>\n",
       "      <td>76.15</td>\n",
       "      <td>-4.7984</td>\n",
       "      <td>76.28</td>\n",
       "      <td>-4.4758</td>\n",
       "      <td>NaN</td>\n",
       "    </tr>\n",
       "    <tr>\n",
       "      <th>44</th>\n",
       "      <td>76.22</td>\n",
       "      <td>-4.6774</td>\n",
       "      <td>76.28</td>\n",
       "      <td>-4.4758</td>\n",
       "      <td>NaN</td>\n",
       "    </tr>\n",
       "    <tr>\n",
       "      <th>45</th>\n",
       "      <td>76.27</td>\n",
       "      <td>-4.6169</td>\n",
       "      <td>76.28</td>\n",
       "      <td>-4.4758</td>\n",
       "      <td>NaN</td>\n",
       "    </tr>\n",
       "  </tbody>\n",
       "</table>\n",
       "</div>"
      ],
      "text/plain": [
       "    positive_x1  positive_y1  positive_x2  positive_y2     slope\n",
       "0         10.31      10.0202        10.51       9.6371       NaN\n",
       "1         17.42       2.9089        17.46       2.7352       NaN\n",
       "2         24.48      -4.2137        24.47      -4.3347       NaN\n",
       "3         28.43      -8.3669        28.43      -8.3669       NaN\n",
       "4         28.44      -8.4476        28.45      -8.4274       NaN\n",
       "5         28.46      -8.3669        28.46      -8.3669       NaN\n",
       "6         28.47      -8.4274        28.80      -8.7298  0.916364\n",
       "7         28.81      -8.6290        28.96      -8.8911       NaN\n",
       "8         28.87      -8.7903        28.98      -8.9718       NaN\n",
       "9         28.90      -8.8710        29.09      -8.9718  0.530526\n",
       "10        28.92      -8.8911        29.17      -9.0927  0.806400\n",
       "11        28.99      -8.9516        29.30      -9.0524  0.325161\n",
       "12        29.01      -8.8508        30.07      -9.9798  1.065094\n",
       "13        29.12      -9.0121        30.83      -9.3548  0.200409\n",
       "14        29.20      -9.0524        31.12      -9.4355  0.199531\n",
       "15        29.57      -8.9113        31.19      -9.3548  0.273765\n",
       "16        30.83      -9.3548        31.28      -9.0726  0.627111\n",
       "17        31.08      -9.3347        31.31      -9.1532  0.789130\n",
       "18        31.13      -9.2137        31.37      -9.0323  0.755833\n",
       "19        31.18      -9.1734        31.61      -8.8911  0.656512\n",
       "20        31.20      -9.1935        31.66      -8.8105  0.832609\n",
       "21        31.23      -9.0323        32.90      -7.3719  0.994251\n",
       "22        31.30      -9.1532        33.69      -6.6734  1.037573\n",
       "23        31.38      -8.9113        33.79      -6.6331  0.945311\n",
       "24        31.45      -9.0726        33.85      -6.5726  1.041667\n",
       "25        31.46      -8.6895        51.08       9.6169  0.933048\n",
       "26        31.47      -9.0524        51.17       9.4556  0.939492\n",
       "27        31.54      -8.8911        58.76       2.1078  0.404074\n",
       "28        31.62      -8.8105        69.65      -9.1129  0.007952\n",
       "29        31.67      -8.7298        69.72      -9.2137  0.012717\n",
       "30        32.81      -7.1976        76.20      -4.5363  0.061334\n",
       "31        33.67      -6.7137        76.21      -4.6371  0.048815\n",
       "32        33.75      -6.6532        76.28      -4.4758  0.051197\n",
       "33        33.81      -6.6734        76.28      -4.4758       NaN\n",
       "34        51.09       9.6774        76.28      -4.4758       NaN\n",
       "35        51.15       9.5565        76.28      -4.4758       NaN\n",
       "36        51.18       9.4153        76.28      -4.4758       NaN\n",
       "37        58.73       2.6815        76.28      -4.4758       NaN\n",
       "38        69.67      -9.1734        76.28      -4.4758       NaN\n",
       "39        69.69      -9.1129        76.28      -4.4758       NaN\n",
       "40        69.71      -9.1532        76.28      -4.4758       NaN\n",
       "41        69.73      -9.0323        76.28      -4.4758       NaN\n",
       "42        70.68     -10.1815        76.28      -4.4758       NaN\n",
       "43        76.15      -4.7984        76.28      -4.4758       NaN\n",
       "44        76.22      -4.6774        76.28      -4.4758       NaN\n",
       "45        76.27      -4.6169        76.28      -4.4758       NaN"
      ]
     },
     "execution_count": 1890,
     "metadata": {},
     "output_type": "execute_result"
    }
   ],
   "source": [
    "param_gain_positive_final"
   ]
  },
  {
   "attachments": {},
   "cell_type": "markdown",
   "metadata": {},
   "source": [
    "#### Negative Time Start Trimming"
   ]
  },
  {
   "cell_type": "code",
   "execution_count": 1891,
   "metadata": {},
   "outputs": [],
   "source": [
    "# Select the non-empty values in the 'Pos_Start' column\n",
    "neg_start_values = df_test.loc[df_test['NegTim_Start'] != '', 'NegTim_Start'].values\n",
    "\n",
    "# Round the values in the 'Pos_Start' column to two decimal places\n",
    "rounded_neg_start_values = []\n",
    "for value in neg_start_values:\n",
    "    rounded_neg_start_values.append(round(value - 0.003, 2))\n",
    "\n",
    "# Convert the list of rounded values back to a NumPy array\n",
    "negtim_start_values = np.array(rounded_neg_start_values)\n",
    "\n",
    "# Print the non-empty values\n",
    "#print(negtim_start_values)"
   ]
  },
  {
   "attachments": {},
   "cell_type": "markdown",
   "metadata": {},
   "source": [
    "#### Negative Time End Trimming"
   ]
  },
  {
   "cell_type": "code",
   "execution_count": 1892,
   "metadata": {},
   "outputs": [],
   "source": [
    "# Select the non-empty values in the 'Pos_Start' column\n",
    "neg_end_values = df_test.loc[df_test['NegTim_End'] != '', 'NegTim_End'].values\n",
    "\n",
    "# Round the values in the 'Pos_Start' column to two decimal places\n",
    "rounded_neg_end_values = []\n",
    "for value in neg_end_values:\n",
    "    rounded_neg_end_values.append(round(value - 0.02, 2))\n",
    "\n",
    "# Convert the list of rounded values back to a NumPy array\n",
    "negtim_end_values = np.array(rounded_neg_end_values)\n",
    "\n",
    "# Print the non-empty values\n",
    "#print(negtim_end_values)"
   ]
  },
  {
   "attachments": {},
   "cell_type": "markdown",
   "metadata": {},
   "source": [
    "#### Map the start negative Time to POS in raw data"
   ]
  },
  {
   "cell_type": "code",
   "execution_count": 1893,
   "metadata": {},
   "outputs": [],
   "source": [
    "# Create a dictionary from the mapping list\n",
    "mapping_list = negtim_start_values\n",
    "\n",
    "# Map the values to the 'POS' column in raw\n",
    "mapped_negSt = data.loc[data['Position'].isin(mapping_list),'Time']\n",
    "#mapped_negSt"
   ]
  },
  {
   "attachments": {},
   "cell_type": "markdown",
   "metadata": {},
   "source": [
    "#### Map the End of negative Time to POS in raw data"
   ]
  },
  {
   "cell_type": "code",
   "execution_count": 1894,
   "metadata": {},
   "outputs": [],
   "source": [
    "# Create a dictionary from the mapping list\n",
    "mapping_list = negtim_end_values\n",
    "\n",
    "# Map the values to the 'POS' column in raw\n",
    "mapped_negEnd = data.loc[data['Position'].isin(mapping_list),'Time']\n",
    "#mapped_negEnd"
   ]
  },
  {
   "attachments": {},
   "cell_type": "markdown",
   "metadata": {},
   "source": [
    "#### Gain param negative dataframe"
   ]
  },
  {
   "cell_type": "code",
   "execution_count": 1895,
   "metadata": {},
   "outputs": [],
   "source": [
    "# column miss match\n",
    "# Check lengths and truncate longer column \n",
    "if len(negtim_start_values) > len(mapped_negSt): \n",
    "    negtim_start_values = negtim_start_values[:len(mapped_negSt)] \n",
    "elif len(mapped_negSt) > len(negtim_start_values):\n",
    "    mapped_negSt = mapped_negSt[:len(negtim_start_values)]  \n",
    "\n",
    "\n",
    "data_param = {'negative_x1':negtim_start_values,'negative_y1':mapped_negSt}             \n",
    "param_gain_start = pd.DataFrame(data_param)\n",
    "data_param= {'negative_x2':negtim_end_values,'negative_y2':mapped_negEnd}\n",
    "param_gain_end = pd.DataFrame(data_param)\n",
    "\n",
    "# Reset the indices of the DataFrames\n",
    "param_gain_start = param_gain_start.reset_index(drop=True)\n",
    "param_gain_end = param_gain_end.reset_index(drop=True)\n",
    "\n",
    "# Concatenate the DataFrames horizontally\n",
    "param_gain_negative_final = pd.concat([param_gain_start,param_gain_end],axis=1)\n",
    "param_gain_negative_final = param_gain_negative_final.fillna(method='ffill')\n"
   ]
  },
  {
   "attachments": {},
   "cell_type": "markdown",
   "metadata": {},
   "source": [
    "### Gain for Negative peak calculation"
   ]
  },
  {
   "cell_type": "code",
   "execution_count": 1896,
   "metadata": {},
   "outputs": [
    {
     "name": "stdout",
     "output_type": "stream",
     "text": [
      "0.9329024861916431\n"
     ]
    }
   ],
   "source": [
    "# Calculate the difference between y2 and y1 divided by the difference between x2 and x1\n",
    "param_gain_negative_final['slope'] = (param_gain_negative_final['negative_y2'] - param_gain_negative_final['negative_y1']) / (param_gain_negative_final['negative_x2'] - param_gain_negative_final['negative_x1'])\n",
    "\n",
    "# abs\n",
    "param_gain_negative_final['slope'] = abs(param_gain_negative_final['slope'])\n",
    "\n",
    "# Remove unwant values\n",
    "#param_gain_negative_final.loc[(param_gain_negative_final['slope'] < 0.80) |  \n",
    "#                              (param_gain_negative_final['slope'] > 1.09), \n",
    "#                              'slope'] = np.nan\n",
    "# Calculate the average slope\n",
    "average_negative_slope = abs(param_gain_negative_final['slope'].mean())\n",
    "\n",
    "# Print the average slope\n",
    "print(average_negative_slope)"
   ]
  },
  {
   "cell_type": "code",
   "execution_count": 1897,
   "metadata": {},
   "outputs": [
    {
     "data": {
      "text/plain": [
       "0.7555688322289729"
      ]
     },
     "execution_count": 1897,
     "metadata": {},
     "output_type": "execute_result"
    }
   ],
   "source": [
    "total_gain = (average_positive_slope + average_negative_slope)/2\n",
    "total_gain"
   ]
  },
  {
   "cell_type": "code",
   "execution_count": null,
   "metadata": {},
   "outputs": [],
   "source": []
  },
  {
   "cell_type": "code",
   "execution_count": null,
   "metadata": {},
   "outputs": [],
   "source": []
  },
  {
   "cell_type": "code",
   "execution_count": null,
   "metadata": {},
   "outputs": [],
   "source": []
  },
  {
   "cell_type": "code",
   "execution_count": null,
   "metadata": {},
   "outputs": [],
   "source": []
  },
  {
   "cell_type": "code",
   "execution_count": null,
   "metadata": {},
   "outputs": [],
   "source": []
  },
  {
   "cell_type": "code",
   "execution_count": null,
   "metadata": {},
   "outputs": [],
   "source": []
  },
  {
   "cell_type": "code",
   "execution_count": null,
   "metadata": {},
   "outputs": [],
   "source": []
  },
  {
   "cell_type": "code",
   "execution_count": null,
   "metadata": {},
   "outputs": [],
   "source": []
  },
  {
   "cell_type": "code",
   "execution_count": null,
   "metadata": {},
   "outputs": [],
   "source": []
  },
  {
   "cell_type": "code",
   "execution_count": null,
   "metadata": {},
   "outputs": [],
   "source": []
  },
  {
   "cell_type": "code",
   "execution_count": null,
   "metadata": {},
   "outputs": [],
   "source": []
  }
 ],
 "metadata": {
  "kernelspec": {
   "display_name": "Python 3.9.5 ('ds')",
   "language": "python",
   "name": "python3"
  },
  "language_info": {
   "codemirror_mode": {
    "name": "ipython",
    "version": 3
   },
   "file_extension": ".py",
   "mimetype": "text/x-python",
   "name": "python",
   "nbconvert_exporter": "python",
   "pygments_lexer": "ipython3",
   "version": "3.9.5"
  },
  "orig_nbformat": 4,
  "vscode": {
   "interpreter": {
    "hash": "37e48532695005f6b8be481dca9311b0406960c07b920c9bcff5b3361c45626c"
   }
  }
 },
 "nbformat": 4,
 "nbformat_minor": 2
}
