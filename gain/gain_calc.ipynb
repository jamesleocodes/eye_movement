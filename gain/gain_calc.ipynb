{
 "cells": [
  {
   "cell_type": "code",
   "execution_count": 92,
   "metadata": {},
   "outputs": [],
   "source": [
    "\"\"\"\n",
    "Created on Tuesday 9 Feb 2023\n",
    "Author: ZAW\n",
    "\"\"\"\n",
    "#import libraries\n",
    "import numpy as np\n",
    "import pandas as pd\n",
    "import matplotlib.pyplot as plt\n",
    "import glob\n",
    "import os\n",
    "from scipy.optimize import curve_fit\n",
    "from scipy import signal"
   ]
  },
  {
   "cell_type": "code",
   "execution_count": 93,
   "metadata": {},
   "outputs": [],
   "source": [
    "# Read dataset for a , b, c value\n",
    "# data path\n",
    "path = os.getcwd()\n",
    "dirname = os.path.dirname(path)\n",
    "data_file = 'data/data.csv'\n",
    "data_path = os.path.join(dirname,data_file)\n",
    "data = pd.read_csv(data_path)"
   ]
  },
  {
   "cell_type": "code",
   "execution_count": 94,
   "metadata": {},
   "outputs": [
    {
     "data": {
      "text/plain": [
       "'/Users/zaw/Desktop/eye_movements(sp)/gain'"
      ]
     },
     "execution_count": 94,
     "metadata": {},
     "output_type": "execute_result"
    }
   ],
   "source": [
    "path"
   ]
  },
  {
   "cell_type": "code",
   "execution_count": 95,
   "metadata": {},
   "outputs": [
    {
     "data": {
      "text/html": [
       "<div>\n",
       "<style scoped>\n",
       "    .dataframe tbody tr th:only-of-type {\n",
       "        vertical-align: middle;\n",
       "    }\n",
       "\n",
       "    .dataframe tbody tr th {\n",
       "        vertical-align: top;\n",
       "    }\n",
       "\n",
       "    .dataframe thead th {\n",
       "        text-align: right;\n",
       "    }\n",
       "</style>\n",
       "<table border=\"1\" class=\"dataframe\">\n",
       "  <thead>\n",
       "    <tr style=\"text-align: right;\">\n",
       "      <th></th>\n",
       "      <th>Label</th>\n",
       "      <th>Patient</th>\n",
       "      <th>A1_1Deg</th>\n",
       "      <th>A1_1Deg_err</th>\n",
       "      <th>B1_1Deg</th>\n",
       "      <th>B1_1Deg_err</th>\n",
       "      <th>C1_1Deg</th>\n",
       "      <th>C1_1Deg_err</th>\n",
       "      <th>1_Deg_ResSoS_1</th>\n",
       "      <th>1Deg_AdjR2_1</th>\n",
       "      <th>...</th>\n",
       "      <th>8_Deg_ResSoS_1</th>\n",
       "      <th>8Deg_AdjR2_1</th>\n",
       "      <th>A2_8Deg</th>\n",
       "      <th>A2_8Deg_err</th>\n",
       "      <th>B2_8Deg</th>\n",
       "      <th>B2_8Deg_err</th>\n",
       "      <th>C2_8Deg</th>\n",
       "      <th>C2_8Deg_err</th>\n",
       "      <th>8_Deg_ResSoS_2</th>\n",
       "      <th>8Deg_AdjR2_2</th>\n",
       "    </tr>\n",
       "  </thead>\n",
       "  <tbody>\n",
       "    <tr>\n",
       "      <th>0</th>\n",
       "      <td>Not_Parkinson's</td>\n",
       "      <td>PD001</td>\n",
       "      <td>10.388190</td>\n",
       "      <td>0.006132</td>\n",
       "      <td>0.049329</td>\n",
       "      <td>0.000006</td>\n",
       "      <td>0.011989</td>\n",
       "      <td>0.000337</td>\n",
       "      <td>8928.709194</td>\n",
       "      <td>0.990598</td>\n",
       "      <td>...</td>\n",
       "      <td>6698.838281</td>\n",
       "      <td>0.951413</td>\n",
       "      <td>10.273124</td>\n",
       "      <td>0.044206</td>\n",
       "      <td>0.386347</td>\n",
       "      <td>0.000384</td>\n",
       "      <td>0.037356</td>\n",
       "      <td>0.002439</td>\n",
       "      <td>6809.455800</td>\n",
       "      <td>0.939095</td>\n",
       "    </tr>\n",
       "    <tr>\n",
       "      <th>1</th>\n",
       "      <td>Not_Parkinson's</td>\n",
       "      <td>PD002</td>\n",
       "      <td>10.429055</td>\n",
       "      <td>0.006929</td>\n",
       "      <td>0.049478</td>\n",
       "      <td>0.000007</td>\n",
       "      <td>0.002837</td>\n",
       "      <td>0.000379</td>\n",
       "      <td>11388.604704</td>\n",
       "      <td>0.988092</td>\n",
       "      <td>...</td>\n",
       "      <td>4769.901822</td>\n",
       "      <td>0.967360</td>\n",
       "      <td>11.482500</td>\n",
       "      <td>0.049154</td>\n",
       "      <td>0.395412</td>\n",
       "      <td>0.000380</td>\n",
       "      <td>-0.002486</td>\n",
       "      <td>0.002419</td>\n",
       "      <td>8383.481840</td>\n",
       "      <td>0.939586</td>\n",
       "    </tr>\n",
       "    <tr>\n",
       "      <th>2</th>\n",
       "      <td>Not_Parkinson's</td>\n",
       "      <td>PD003</td>\n",
       "      <td>10.097088</td>\n",
       "      <td>0.005091</td>\n",
       "      <td>0.049368</td>\n",
       "      <td>0.000006</td>\n",
       "      <td>0.005707</td>\n",
       "      <td>0.000287</td>\n",
       "      <td>6140.292312</td>\n",
       "      <td>0.993141</td>\n",
       "      <td>...</td>\n",
       "      <td>3488.747176</td>\n",
       "      <td>0.968709</td>\n",
       "      <td>10.084338</td>\n",
       "      <td>0.019838</td>\n",
       "      <td>0.394595</td>\n",
       "      <td>0.000174</td>\n",
       "      <td>-0.035466</td>\n",
       "      <td>0.001106</td>\n",
       "      <td>1349.962240</td>\n",
       "      <td>0.987259</td>\n",
       "    </tr>\n",
       "    <tr>\n",
       "      <th>3</th>\n",
       "      <td>Not_Parkinson's</td>\n",
       "      <td>PD004</td>\n",
       "      <td>10.482881</td>\n",
       "      <td>0.022179</td>\n",
       "      <td>0.049585</td>\n",
       "      <td>0.000023</td>\n",
       "      <td>0.016056</td>\n",
       "      <td>0.001212</td>\n",
       "      <td>117748.979710</td>\n",
       "      <td>0.879372</td>\n",
       "      <td>...</td>\n",
       "      <td>10972.045844</td>\n",
       "      <td>0.920137</td>\n",
       "      <td>11.493414</td>\n",
       "      <td>0.048867</td>\n",
       "      <td>0.401386</td>\n",
       "      <td>0.000377</td>\n",
       "      <td>-0.042463</td>\n",
       "      <td>0.002395</td>\n",
       "      <td>8242.136178</td>\n",
       "      <td>0.940370</td>\n",
       "    </tr>\n",
       "    <tr>\n",
       "      <th>4</th>\n",
       "      <td>Not_Parkinson's</td>\n",
       "      <td>PD005</td>\n",
       "      <td>10.181273</td>\n",
       "      <td>0.008833</td>\n",
       "      <td>0.049368</td>\n",
       "      <td>0.000010</td>\n",
       "      <td>0.001569</td>\n",
       "      <td>0.000494</td>\n",
       "      <td>18447.340517</td>\n",
       "      <td>0.979692</td>\n",
       "      <td>...</td>\n",
       "      <td>18268.960666</td>\n",
       "      <td>0.809586</td>\n",
       "      <td>10.370348</td>\n",
       "      <td>0.036121</td>\n",
       "      <td>0.395392</td>\n",
       "      <td>0.000308</td>\n",
       "      <td>-0.030769</td>\n",
       "      <td>0.001960</td>\n",
       "      <td>4485.300264</td>\n",
       "      <td>0.960035</td>\n",
       "    </tr>\n",
       "    <tr>\n",
       "      <th>5</th>\n",
       "      <td>Not_Parkinson's</td>\n",
       "      <td>PD006</td>\n",
       "      <td>10.302529</td>\n",
       "      <td>0.010450</td>\n",
       "      <td>0.049283</td>\n",
       "      <td>0.000011</td>\n",
       "      <td>0.019735</td>\n",
       "      <td>0.000580</td>\n",
       "      <td>25994.527943</td>\n",
       "      <td>0.972249</td>\n",
       "      <td>...</td>\n",
       "      <td>7175.782112</td>\n",
       "      <td>0.938474</td>\n",
       "      <td>10.356903</td>\n",
       "      <td>0.067627</td>\n",
       "      <td>0.410282</td>\n",
       "      <td>0.000584</td>\n",
       "      <td>-0.052723</td>\n",
       "      <td>0.003707</td>\n",
       "      <td>16046.923323</td>\n",
       "      <td>0.859535</td>\n",
       "    </tr>\n",
       "    <tr>\n",
       "      <th>6</th>\n",
       "      <td>Not_Parkinson's</td>\n",
       "      <td>PD007</td>\n",
       "      <td>9.934379</td>\n",
       "      <td>0.007838</td>\n",
       "      <td>0.049209</td>\n",
       "      <td>0.000009</td>\n",
       "      <td>0.003633</td>\n",
       "      <td>0.000449</td>\n",
       "      <td>14490.496516</td>\n",
       "      <td>0.983200</td>\n",
       "      <td>...</td>\n",
       "      <td>1465.027123</td>\n",
       "      <td>0.985896</td>\n",
       "      <td>9.801698</td>\n",
       "      <td>0.024067</td>\n",
       "      <td>0.397850</td>\n",
       "      <td>0.000217</td>\n",
       "      <td>-0.045138</td>\n",
       "      <td>0.001380</td>\n",
       "      <td>1986.965945</td>\n",
       "      <td>0.980134</td>\n",
       "    </tr>\n",
       "    <tr>\n",
       "      <th>7</th>\n",
       "      <td>Not_Parkinson's</td>\n",
       "      <td>PD008</td>\n",
       "      <td>9.861257</td>\n",
       "      <td>0.026999</td>\n",
       "      <td>0.049220</td>\n",
       "      <td>0.000030</td>\n",
       "      <td>0.051865</td>\n",
       "      <td>0.001576</td>\n",
       "      <td>176009.839073</td>\n",
       "      <td>0.798036</td>\n",
       "      <td>...</td>\n",
       "      <td>15508.422642</td>\n",
       "      <td>0.870504</td>\n",
       "      <td>8.591437</td>\n",
       "      <td>0.105215</td>\n",
       "      <td>0.415729</td>\n",
       "      <td>0.001098</td>\n",
       "      <td>-0.078941</td>\n",
       "      <td>0.006967</td>\n",
       "      <td>39005.324498</td>\n",
       "      <td>0.507026</td>\n",
       "    </tr>\n",
       "    <tr>\n",
       "      <th>8</th>\n",
       "      <td>Not_Parkinson's</td>\n",
       "      <td>PD009</td>\n",
       "      <td>10.221777</td>\n",
       "      <td>0.005149</td>\n",
       "      <td>0.049244</td>\n",
       "      <td>0.000006</td>\n",
       "      <td>0.002274</td>\n",
       "      <td>0.000287</td>\n",
       "      <td>6253.730577</td>\n",
       "      <td>0.993152</td>\n",
       "      <td>...</td>\n",
       "      <td>849.603210</td>\n",
       "      <td>0.992275</td>\n",
       "      <td>10.305625</td>\n",
       "      <td>0.022845</td>\n",
       "      <td>0.396998</td>\n",
       "      <td>0.000196</td>\n",
       "      <td>-0.056233</td>\n",
       "      <td>0.001244</td>\n",
       "      <td>1783.111545</td>\n",
       "      <td>0.983816</td>\n",
       "    </tr>\n",
       "    <tr>\n",
       "      <th>9</th>\n",
       "      <td>Not_Parkinson's</td>\n",
       "      <td>PD010</td>\n",
       "      <td>10.244784</td>\n",
       "      <td>0.017579</td>\n",
       "      <td>0.050004</td>\n",
       "      <td>0.000019</td>\n",
       "      <td>-0.015054</td>\n",
       "      <td>0.000981</td>\n",
       "      <td>73606.211066</td>\n",
       "      <td>0.920684</td>\n",
       "      <td>...</td>\n",
       "      <td>13818.787560</td>\n",
       "      <td>0.878166</td>\n",
       "      <td>10.997960</td>\n",
       "      <td>0.085181</td>\n",
       "      <td>0.406918</td>\n",
       "      <td>0.000690</td>\n",
       "      <td>-0.043189</td>\n",
       "      <td>0.004387</td>\n",
       "      <td>25335.919452</td>\n",
       "      <td>0.802179</td>\n",
       "    </tr>\n",
       "  </tbody>\n",
       "</table>\n",
       "<p>10 rows × 82 columns</p>\n",
       "</div>"
      ],
      "text/plain": [
       "             Label Patient    A1_1Deg  A1_1Deg_err   B1_1Deg  B1_1Deg_err  \\\n",
       "0  Not_Parkinson's   PD001  10.388190     0.006132  0.049329     0.000006   \n",
       "1  Not_Parkinson's   PD002  10.429055     0.006929  0.049478     0.000007   \n",
       "2  Not_Parkinson's   PD003  10.097088     0.005091  0.049368     0.000006   \n",
       "3  Not_Parkinson's   PD004  10.482881     0.022179  0.049585     0.000023   \n",
       "4  Not_Parkinson's   PD005  10.181273     0.008833  0.049368     0.000010   \n",
       "5  Not_Parkinson's   PD006  10.302529     0.010450  0.049283     0.000011   \n",
       "6  Not_Parkinson's   PD007   9.934379     0.007838  0.049209     0.000009   \n",
       "7  Not_Parkinson's   PD008   9.861257     0.026999  0.049220     0.000030   \n",
       "8  Not_Parkinson's   PD009  10.221777     0.005149  0.049244     0.000006   \n",
       "9  Not_Parkinson's   PD010  10.244784     0.017579  0.050004     0.000019   \n",
       "\n",
       "    C1_1Deg  C1_1Deg_err  1_Deg_ResSoS_1  1Deg_AdjR2_1  ...  8_Deg_ResSoS_1  \\\n",
       "0  0.011989     0.000337     8928.709194      0.990598  ...     6698.838281   \n",
       "1  0.002837     0.000379    11388.604704      0.988092  ...     4769.901822   \n",
       "2  0.005707     0.000287     6140.292312      0.993141  ...     3488.747176   \n",
       "3  0.016056     0.001212   117748.979710      0.879372  ...    10972.045844   \n",
       "4  0.001569     0.000494    18447.340517      0.979692  ...    18268.960666   \n",
       "5  0.019735     0.000580    25994.527943      0.972249  ...     7175.782112   \n",
       "6  0.003633     0.000449    14490.496516      0.983200  ...     1465.027123   \n",
       "7  0.051865     0.001576   176009.839073      0.798036  ...    15508.422642   \n",
       "8  0.002274     0.000287     6253.730577      0.993152  ...      849.603210   \n",
       "9 -0.015054     0.000981    73606.211066      0.920684  ...    13818.787560   \n",
       "\n",
       "   8Deg_AdjR2_1    A2_8Deg  A2_8Deg_err   B2_8Deg  B2_8Deg_err   C2_8Deg  \\\n",
       "0      0.951413  10.273124     0.044206  0.386347     0.000384  0.037356   \n",
       "1      0.967360  11.482500     0.049154  0.395412     0.000380 -0.002486   \n",
       "2      0.968709  10.084338     0.019838  0.394595     0.000174 -0.035466   \n",
       "3      0.920137  11.493414     0.048867  0.401386     0.000377 -0.042463   \n",
       "4      0.809586  10.370348     0.036121  0.395392     0.000308 -0.030769   \n",
       "5      0.938474  10.356903     0.067627  0.410282     0.000584 -0.052723   \n",
       "6      0.985896   9.801698     0.024067  0.397850     0.000217 -0.045138   \n",
       "7      0.870504   8.591437     0.105215  0.415729     0.001098 -0.078941   \n",
       "8      0.992275  10.305625     0.022845  0.396998     0.000196 -0.056233   \n",
       "9      0.878166  10.997960     0.085181  0.406918     0.000690 -0.043189   \n",
       "\n",
       "   C2_8Deg_err  8_Deg_ResSoS_2  8Deg_AdjR2_2  \n",
       "0     0.002439     6809.455800      0.939095  \n",
       "1     0.002419     8383.481840      0.939586  \n",
       "2     0.001106     1349.962240      0.987259  \n",
       "3     0.002395     8242.136178      0.940370  \n",
       "4     0.001960     4485.300264      0.960035  \n",
       "5     0.003707    16046.923323      0.859535  \n",
       "6     0.001380     1986.965945      0.980134  \n",
       "7     0.006967    39005.324498      0.507026  \n",
       "8     0.001244     1783.111545      0.983816  \n",
       "9     0.004387    25335.919452      0.802179  \n",
       "\n",
       "[10 rows x 82 columns]"
      ]
     },
     "execution_count": 95,
     "metadata": {},
     "output_type": "execute_result"
    }
   ],
   "source": [
    "# View top 10 rows in dataframe\n",
    "data.head(10)"
   ]
  },
  {
   "cell_type": "code",
   "execution_count": 96,
   "metadata": {},
   "outputs": [
    {
     "name": "stderr",
     "output_type": "stream",
     "text": [
      "/Users/zaw/miniforge3/envs/ds/lib/python3.9/site-packages/openpyxl/styles/stylesheet.py:226: UserWarning: Workbook contains no default style, apply openpyxl's default\n",
      "  warn(\"Workbook contains no default style, apply openpyxl's default\")\n"
     ]
    }
   ],
   "source": [
    "# read SPEM data\n",
    "data_013 = 'data/Parkinson_pursuit testing_Rec 180.xlsx'\n",
    "data_path = os.path.join(dirname,data_013)\n",
    "data_sp = pd.read_excel(data_path)"
   ]
  },
  {
   "cell_type": "code",
   "execution_count": 79,
   "metadata": {},
   "outputs": [],
   "source": [
    "# Pupil size\n",
    "pupil_size = np.array(data_sp['PupilRight'][0:28000])"
   ]
  },
  {
   "cell_type": "code",
   "execution_count": 80,
   "metadata": {},
   "outputs": [],
   "source": [
    "# for eye pixel calculating\n",
    "def px_deg_eye(data,dominant_eye):\n",
    "    time_eye = []\n",
    "    pos_eye = []\n",
    "    if dominant_eye == 'right':\n",
    "        for y in data['GazePointRightX (ADCSpx)']:\n",
    "            new_y = round((y - 960)/49.6,4) # horizontal center:960x540 pixel : 1 deg = 49.6 pixel\n",
    "            pos_eye.append(new_y)\n",
    "    elif dominant_eye == 'left':\n",
    "        for y in data['GazePointLeftX (ADCSpx)']:\n",
    "            new_y = round((y - 960)/49.6,4) # horizontal center:960x540 pixel : 1 deg = 49.6 pixel\n",
    "            pos_eye.append(new_y)\n",
    "    for x in range(1,len(pos_eye)+1):\n",
    "        new_x = round((1/300)*x,4) # for tobii's eye tracker with 300 Hz sampling rate\n",
    "        time_eye.append(new_x)\n",
    "    return time_eye,pos_eye"
   ]
  },
  {
   "cell_type": "code",
   "execution_count": 81,
   "metadata": {},
   "outputs": [],
   "source": [
    "def filter_blinks(gaze_point_right_x, gaze_time_input, pupil_size=pupil_size, consecutive_missing_points_threshold=60):\n",
    "    # Convert input list to NumPy array\n",
    "    gaze_point_right_x = np.array(gaze_point_right_x)\n",
    "    gaze_time = gaze_time_input\n",
    "\n",
    "    # Create a mask for missing data (NaN) in GazePointRightX\n",
    "    missing_mask = np.isnan(gaze_point_right_x) & np.isnan(pupil_size)\n",
    "\n",
    "    # Count consecutive missing gaze points (NaNs)\n",
    "    consecutive_missing_points = np.diff(np.where(np.concatenate(([missing_mask[0]], missing_mask[:-1] != missing_mask[1:], [True])))[0])[::2]\n",
    "\n",
    "    # Count the number of blinks based on the consecutive_missing_points_threshold\n",
    "    num_blinks = np.sum(consecutive_missing_points >= consecutive_missing_points_threshold)\n",
    "\n",
    "     # Remove the missing data (NaN) using the mask\n",
    "    gaze_point_right_x_no_blinks = gaze_point_right_x[~missing_mask]\n",
    "\n",
    "    # Also remove the repective time values\n",
    "    gaze_time = gaze_time[~missing_mask]\n",
    "\n",
    "    #print(f\"Number of blinks: {num_blinks}\")\n",
    "\n",
    "    return gaze_point_right_x_no_blinks, gaze_time"
   ]
  },
  {
   "cell_type": "code",
   "execution_count": 82,
   "metadata": {},
   "outputs": [],
   "source": [
    "# event starts and ends\n",
    "option = ['URLStart','URLEnd'] # This is the values in the Studio event column where stimuli start and end events from dataset\n",
    "sti = data_sp[data_sp['StudioEvent'].isin(option)].index # Caculating start and end of stimuli\n",
    "data_eye_hc_first = data_sp[sti[0]:sti[0]+28000] # Real recoding starting time\n",
    "#data_eye_hc_first = data_sp[sti[0]+4000:sti[0]+28200] # Real recoding starting time\n",
    "one_deg_time_eye , one_deg_pos_eye =  px_deg_eye(data_eye_hc_first,'right')"
   ]
  },
  {
   "cell_type": "code",
   "execution_count": 83,
   "metadata": {},
   "outputs": [],
   "source": [
    "sub_013 = {'Time':one_deg_time_eye,'POS':one_deg_pos_eye}\n",
    "df_sub_013 = pd.DataFrame(data=sub_013)\n",
    "#df_sub_013.to_excel('sub013.xlsx')"
   ]
  },
  {
   "cell_type": "code",
   "execution_count": 84,
   "metadata": {},
   "outputs": [],
   "source": [
    "# # filter blinks\n",
    "position,time = filter_blinks(df_sub_013['POS'],df_sub_013['Time'])\n",
    "\n",
    "\n",
    "data_fil= {'Time':time,'POS':position}#,#'PUP':pupil_size}\n",
    "data_fil = pd.DataFrame(data_fil)\n",
    "# #data_pd001['POS'] = pos_no_blinks\n",
    "# Remove the spike values and interpolate\n",
    "window_size = 7\n",
    "data_fil['POS'] = data_fil['POS'].rolling(window=window_size, center=True).median()\n",
    "\n",
    "# # interpolate\n",
    "data_fil['POS'] = data_fil['POS'].interpolate(method='spline', order=5)\n",
    "\n",
    "one_deg_time_eye , one_deg_pos_eye =  data_fil['Time'], data_fil['POS']"
   ]
  },
  {
   "cell_type": "code",
   "execution_count": 85,
   "metadata": {},
   "outputs": [
    {
     "name": "stdout",
     "output_type": "stream",
     "text": [
      "Total NaN values: 0\n",
      "Total inf values: 0\n",
      "Total NaN and inf values: 0\n"
     ]
    }
   ],
   "source": [
    "# Check Nan or Inf for time\n",
    "nan_mask = one_deg_time_eye.isna()\n",
    "inf_mask = np.isinf(one_deg_time_eye)\n",
    "non_or_inf_mask = nan_mask | inf_mask\n",
    "total_nan = nan_mask.sum()\n",
    "total_inf = inf_mask.sum()\n",
    "\n",
    "nan_or_inf_mask = nan_mask | inf_mask\n",
    "\n",
    "total_nan_or_inf = nan_or_inf_mask.sum()\n",
    "\n",
    "# Print the results\n",
    "print(\"Total NaN values:\", total_nan)\n",
    "print(\"Total inf values:\", total_inf)\n",
    "print(\"Total NaN and inf values:\", total_nan_or_inf)"
   ]
  },
  {
   "cell_type": "code",
   "execution_count": 86,
   "metadata": {},
   "outputs": [
    {
     "name": "stdout",
     "output_type": "stream",
     "text": [
      "Total NaN values: 4\n",
      "Total inf values: 0\n",
      "Total NaN and inf values: 4\n"
     ]
    }
   ],
   "source": [
    "# Check Nan or Inf for pos\n",
    "nan_mask = one_deg_pos_eye.isna()\n",
    "inf_mask = np.isinf(one_deg_pos_eye)\n",
    "non_or_inf_mask = nan_mask | inf_mask\n",
    "total_nan = nan_mask.sum()\n",
    "total_inf = inf_mask.sum()\n",
    "\n",
    "nan_or_inf_mask = nan_mask | inf_mask\n",
    "\n",
    "total_nan_or_inf = nan_or_inf_mask.sum()\n",
    "\n",
    "# Print the results\n",
    "print(\"Total NaN values:\", total_nan)\n",
    "print(\"Total inf values:\", total_inf)\n",
    "print(\"Total NaN and inf values:\", total_nan_or_inf)"
   ]
  },
  {
   "cell_type": "code",
   "execution_count": 87,
   "metadata": {},
   "outputs": [
    {
     "data": {
      "image/png": "[encoded data removed]",
      "text/plain": [
       "<Figure size 432x288 with 1 Axes>"
      ]
     },
     "metadata": {
      "needs_background": "light"
     },
     "output_type": "display_data"
    }
   ],
   "source": [
    "# Plot the data\n",
    "plt.plot(one_deg_time_eye,one_deg_pos_eye)\n",
    "plt.xlabel('Time(s)')\n",
    "plt.ylabel('POS')\n",
    "plt.show()"
   ]
  },
  {
   "cell_type": "code",
   "execution_count": 206,
   "metadata": {},
   "outputs": [
    {
     "data": {
      "text/plain": [
       "0         0.0033\n",
       "1         0.0067\n",
       "2         0.0100\n",
       "3         0.0133\n",
       "4         0.0167\n",
       "          ...   \n",
       "27995    93.3200\n",
       "27996    93.3233\n",
       "27997    93.3267\n",
       "27998    93.3300\n",
       "27999    93.3333\n",
       "Name: Time, Length: 27666, dtype: float64"
      ]
     },
     "execution_count": 206,
     "metadata": {},
     "output_type": "execute_result"
    }
   ],
   "source": [
    "one_deg_time_eye"
   ]
  },
  {
   "cell_type": "code",
   "execution_count": 207,
   "metadata": {},
   "outputs": [
    {
     "data": {
      "text/plain": [
       "0         0.0033\n",
       "1         0.0067\n",
       "2         0.0100\n",
       "3         0.0133\n",
       "4         0.0167\n",
       "          ...   \n",
       "27985    93.2867\n",
       "27986    93.2900\n",
       "27987    93.2933\n",
       "27988    93.2967\n",
       "27989    93.3000\n",
       "Name: Time, Length: 27656, dtype: float64"
      ]
     },
     "execution_count": 207,
     "metadata": {},
     "output_type": "execute_result"
    }
   ],
   "source": [
    "x_data"
   ]
  },
  {
   "cell_type": "code",
   "execution_count": 684,
   "metadata": {},
   "outputs": [],
   "source": [
    "path = os.getcwd()\n",
    "dirname = os.path.dirname(path)\n",
    "data_file = 'data/raw_pd0013_1.xlsx'\n",
    "data_path = os.path.join(dirname,data_file)\n",
    "# data = pd.read_csv(data_path)\n",
    "data= pd.read_excel(data_path)"
   ]
  },
  {
   "cell_type": "code",
   "execution_count": 644,
   "metadata": {},
   "outputs": [],
   "source": [
    "y_data = data['Position']\n",
    "x_data = data['Time']"
   ]
  },
  {
   "cell_type": "code",
   "execution_count": 685,
   "metadata": {},
   "outputs": [
    {
     "data": {
      "text/html": [
       "<div>\n",
       "<style scoped>\n",
       "    .dataframe tbody tr th:only-of-type {\n",
       "        vertical-align: middle;\n",
       "    }\n",
       "\n",
       "    .dataframe tbody tr th {\n",
       "        vertical-align: top;\n",
       "    }\n",
       "\n",
       "    .dataframe thead th {\n",
       "        text-align: right;\n",
       "    }\n",
       "</style>\n",
       "<table border=\"1\" class=\"dataframe\">\n",
       "  <thead>\n",
       "    <tr style=\"text-align: right;\">\n",
       "      <th></th>\n",
       "      <th>Position</th>\n",
       "      <th>Time</th>\n",
       "    </tr>\n",
       "  </thead>\n",
       "  <tbody>\n",
       "    <tr>\n",
       "      <th>0</th>\n",
       "      <td>0.0033</td>\n",
       "      <td>-0.1210</td>\n",
       "    </tr>\n",
       "    <tr>\n",
       "      <th>1</th>\n",
       "      <td>0.0067</td>\n",
       "      <td>-0.1008</td>\n",
       "    </tr>\n",
       "    <tr>\n",
       "      <th>2</th>\n",
       "      <td>0.0100</td>\n",
       "      <td>-0.1815</td>\n",
       "    </tr>\n",
       "    <tr>\n",
       "      <th>3</th>\n",
       "      <td>0.0133</td>\n",
       "      <td>-0.2419</td>\n",
       "    </tr>\n",
       "    <tr>\n",
       "      <th>4</th>\n",
       "      <td>0.0167</td>\n",
       "      <td>-0.2016</td>\n",
       "    </tr>\n",
       "    <tr>\n",
       "      <th>...</th>\n",
       "      <td>...</td>\n",
       "      <td>...</td>\n",
       "    </tr>\n",
       "    <tr>\n",
       "      <th>26997</th>\n",
       "      <td>89.9933</td>\n",
       "      <td>11.7540</td>\n",
       "    </tr>\n",
       "    <tr>\n",
       "      <th>26998</th>\n",
       "      <td>89.9967</td>\n",
       "      <td>11.7742</td>\n",
       "    </tr>\n",
       "    <tr>\n",
       "      <th>26999</th>\n",
       "      <td>90.0000</td>\n",
       "      <td>11.7339</td>\n",
       "    </tr>\n",
       "    <tr>\n",
       "      <th>27000</th>\n",
       "      <td>90.0033</td>\n",
       "      <td>11.7742</td>\n",
       "    </tr>\n",
       "    <tr>\n",
       "      <th>27001</th>\n",
       "      <td>90.0067</td>\n",
       "      <td>11.7339</td>\n",
       "    </tr>\n",
       "  </tbody>\n",
       "</table>\n",
       "<p>27002 rows × 2 columns</p>\n",
       "</div>"
      ],
      "text/plain": [
       "       Position     Time\n",
       "0        0.0033  -0.1210\n",
       "1        0.0067  -0.1008\n",
       "2        0.0100  -0.1815\n",
       "3        0.0133  -0.2419\n",
       "4        0.0167  -0.2016\n",
       "...         ...      ...\n",
       "26997   89.9933  11.7540\n",
       "26998   89.9967  11.7742\n",
       "26999   90.0000  11.7339\n",
       "27000   90.0033  11.7742\n",
       "27001   90.0067  11.7339\n",
       "\n",
       "[27002 rows x 2 columns]"
      ]
     },
     "execution_count": 685,
     "metadata": {},
     "output_type": "execute_result"
    }
   ],
   "source": [
    "data"
   ]
  },
  {
   "cell_type": "code",
   "execution_count": 297,
   "metadata": {},
   "outputs": [
    {
     "name": "stdout",
     "output_type": "stream",
     "text": [
      "Optimal values of a, b, and c:\n",
      "a = 10.142285212189758\n",
      "b = 0.049281621435161384\n",
      "c = -0.13557235182911473\n"
     ]
    }
   ],
   "source": [
    "# Trigonometric functions\n",
    "\n",
    "# Define the function\n",
    "def func(x, a, b, c):  #Position as a function of time.\n",
    "    return a*(2/np.pi)*np.arcsin(np.sin(np.pi*(b*x+c)))\n",
    "\n",
    "# drop NaN\n",
    "x_data = one_deg_time_eye.ffill()\n",
    "y_data = one_deg_pos_eye.ffill()\n",
    "\n",
    "x_data = one_deg_time_eye.bfill()\n",
    "y_data = one_deg_pos_eye.bfill()\n",
    "\n",
    "# # Example data points (x, y) - replace these with your actual data\n",
    "# x_data = np.array(one_deg_time_eye)\n",
    "# y_data = np.array(one_deg_pos_eye)\n",
    "\n",
    "\n",
    "#initial guesses\n",
    "InitialGuess = [10, 0.05, 0]\n",
    "\n",
    "# Perform curve fitting\n",
    "popt, pcov = curve_fit(func, x_data, y_data, p0=InitialGuess)\n",
    "\n",
    "# Extract the optimal values of a, b, and c\n",
    "a, b, c = popt\n",
    "\n",
    "print(\"Optimal values of a, b, and c:\")\n",
    "print(\"a =\", a)\n",
    "print(\"b =\", b)\n",
    "print(\"c =\", c)"
   ]
  },
  {
   "cell_type": "code",
   "execution_count": 645,
   "metadata": {},
   "outputs": [],
   "source": [
    "a = 10.19274\n",
    "b = 0.04942\n",
    "c = 0.00533"
   ]
  },
  {
   "cell_type": "code",
   "execution_count": 647,
   "metadata": {},
   "outputs": [
    {
     "data": {
      "image/png": "[encoded data removed]",
      "text/plain": [
       "<Figure size 432x288 with 1 Axes>"
      ]
     },
     "metadata": {
      "needs_background": "light"
     },
     "output_type": "display_data"
    }
   ],
   "source": [
    "# Fit time\n",
    "fit_time = func(y_data,a,b,c)\n",
    "plt.plot(y_data,fit_time)\n",
    "plt.show()"
   ]
  },
  {
   "cell_type": "code",
   "execution_count": 469,
   "metadata": {},
   "outputs": [
    {
     "data": {
      "text/plain": [
       "0        0.111979\n",
       "1        0.115405\n",
       "2        0.118729\n",
       "3        0.122054\n",
       "4        0.125479\n",
       "           ...   \n",
       "26997    9.230523\n",
       "26998    9.233948\n",
       "26999    9.237273\n",
       "27000    9.240597\n",
       "27001    9.244022\n",
       "Name: Position, Length: 27002, dtype: float64"
      ]
     },
     "execution_count": 469,
     "metadata": {},
     "output_type": "execute_result"
    }
   ],
   "source": [
    "fit_time"
   ]
  },
  {
   "cell_type": "code",
   "execution_count": 652,
   "metadata": {},
   "outputs": [],
   "source": [
    "# Different(aka residual)\n",
    "diff = x_data - fit_time"
   ]
  },
  {
   "cell_type": "code",
   "execution_count": 653,
   "metadata": {},
   "outputs": [],
   "source": [
    "# Smooth residual\n",
    "dt_array = np.array(diff)\n",
    "dt_array = pd.DataFrame(dt_array,columns=['diff'])\n",
    "window_size = 5\n",
    "dt_array['Moving_Average'] = dt_array['diff'].rolling(window=window_size).mean()"
   ]
  },
  {
   "cell_type": "code",
   "execution_count": 660,
   "metadata": {},
   "outputs": [
    {
     "data": {
      "text/plain": [
       "[<matplotlib.lines.Line2D at 0x1734dd3a0>]"
      ]
     },
     "execution_count": 660,
     "metadata": {},
     "output_type": "execute_result"
    },
    {
     "data": {
      "image/png": "[encoded data removed]",
      "text/plain": [
       "<Figure size 432x288 with 1 Axes>"
      ]
     },
     "metadata": {
      "needs_background": "light"
     },
     "output_type": "display_data"
    }
   ],
   "source": [
    "plt.plot(y_data,dt_array['Moving_Average'])"
   ]
  },
  {
   "cell_type": "code",
   "execution_count": 663,
   "metadata": {},
   "outputs": [],
   "source": [
    "# create dataframe\n",
    "data = {'Time':y_data,'POS':dt_array['Moving_Average']}\n",
    "df = pd.DataFrame(data)"
   ]
  },
  {
   "cell_type": "code",
   "execution_count": 664,
   "metadata": {},
   "outputs": [
    {
     "data": {
      "text/html": [
       "<div>\n",
       "<style scoped>\n",
       "    .dataframe tbody tr th:only-of-type {\n",
       "        vertical-align: middle;\n",
       "    }\n",
       "\n",
       "    .dataframe tbody tr th {\n",
       "        vertical-align: top;\n",
       "    }\n",
       "\n",
       "    .dataframe thead th {\n",
       "        text-align: right;\n",
       "    }\n",
       "</style>\n",
       "<table border=\"1\" class=\"dataframe\">\n",
       "  <thead>\n",
       "    <tr style=\"text-align: right;\">\n",
       "      <th></th>\n",
       "      <th>Time</th>\n",
       "      <th>POS</th>\n",
       "    </tr>\n",
       "  </thead>\n",
       "  <tbody>\n",
       "    <tr>\n",
       "      <th>0</th>\n",
       "      <td>0.0033</td>\n",
       "      <td>NaN</td>\n",
       "    </tr>\n",
       "    <tr>\n",
       "      <th>1</th>\n",
       "      <td>0.0067</td>\n",
       "      <td>NaN</td>\n",
       "    </tr>\n",
       "    <tr>\n",
       "      <th>2</th>\n",
       "      <td>0.0100</td>\n",
       "      <td>NaN</td>\n",
       "    </tr>\n",
       "    <tr>\n",
       "      <th>3</th>\n",
       "      <td>0.0133</td>\n",
       "      <td>NaN</td>\n",
       "    </tr>\n",
       "    <tr>\n",
       "      <th>4</th>\n",
       "      <td>0.0167</td>\n",
       "      <td>-0.288089</td>\n",
       "    </tr>\n",
       "    <tr>\n",
       "      <th>...</th>\n",
       "      <td>...</td>\n",
       "      <td>...</td>\n",
       "    </tr>\n",
       "    <tr>\n",
       "      <th>26997</th>\n",
       "      <td>89.9933</td>\n",
       "      <td>2.546307</td>\n",
       "    </tr>\n",
       "    <tr>\n",
       "      <th>26998</th>\n",
       "      <td>89.9967</td>\n",
       "      <td>2.559082</td>\n",
       "    </tr>\n",
       "    <tr>\n",
       "      <th>26999</th>\n",
       "      <td>90.0000</td>\n",
       "      <td>2.547657</td>\n",
       "    </tr>\n",
       "    <tr>\n",
       "      <th>27000</th>\n",
       "      <td>90.0033</td>\n",
       "      <td>2.528192</td>\n",
       "    </tr>\n",
       "    <tr>\n",
       "      <th>27001</th>\n",
       "      <td>90.0067</td>\n",
       "      <td>2.516767</td>\n",
       "    </tr>\n",
       "  </tbody>\n",
       "</table>\n",
       "<p>27002 rows × 2 columns</p>\n",
       "</div>"
      ],
      "text/plain": [
       "          Time       POS\n",
       "0       0.0033       NaN\n",
       "1       0.0067       NaN\n",
       "2       0.0100       NaN\n",
       "3       0.0133       NaN\n",
       "4       0.0167 -0.288089\n",
       "...        ...       ...\n",
       "26997  89.9933  2.546307\n",
       "26998  89.9967  2.559082\n",
       "26999  90.0000  2.547657\n",
       "27000  90.0033  2.528192\n",
       "27001  90.0067  2.516767\n",
       "\n",
       "[27002 rows x 2 columns]"
      ]
     },
     "execution_count": 664,
     "metadata": {},
     "output_type": "execute_result"
    }
   ],
   "source": [
    "df"
   ]
  },
  {
   "cell_type": "code",
   "execution_count": 665,
   "metadata": {},
   "outputs": [
    {
     "data": {
      "text/plain": [
       "[<matplotlib.lines.Line2D at 0x172da7430>]"
      ]
     },
     "execution_count": 665,
     "metadata": {},
     "output_type": "execute_result"
    },
    {
     "data": {
      "image/png": "[encoded data removed]",
      "text/plain": [
       "<Figure size 432x288 with 1 Axes>"
      ]
     },
     "metadata": {
      "needs_background": "light"
     },
     "output_type": "display_data"
    }
   ],
   "source": [
    "# Plot specific range\n",
    "x_start = 21\n",
    "x_end = 25\n",
    "\n",
    "# Filter the data points within the disired range using boolean indexing\n",
    "mask = (df['Time'] >= x_start) & (df['Time'] <= x_end)\n",
    "x_data_range = df.loc[mask]\n",
    "#y_data_range = y_data[mask]\n",
    "\n",
    "# create plot\n",
    "\n",
    "\n",
    "plt.plot(x_data_range['Time'],x_data_range['POS'])"
   ]
  },
  {
   "cell_type": "code",
   "execution_count": 582,
   "metadata": {},
   "outputs": [],
   "source": [
    "# data = {'Time':x_data_range['Time'],'POS':x_data_range['POS']}\n",
    "# df_test = pd.DataFrame(data)\n",
    "# df_test"
   ]
  },
  {
   "cell_type": "code",
   "execution_count": 673,
   "metadata": {},
   "outputs": [
    {
     "data": {
      "text/html": [
       "<div>\n",
       "<style scoped>\n",
       "    .dataframe tbody tr th:only-of-type {\n",
       "        vertical-align: middle;\n",
       "    }\n",
       "\n",
       "    .dataframe tbody tr th {\n",
       "        vertical-align: top;\n",
       "    }\n",
       "\n",
       "    .dataframe thead th {\n",
       "        text-align: right;\n",
       "    }\n",
       "</style>\n",
       "<table border=\"1\" class=\"dataframe\">\n",
       "  <thead>\n",
       "    <tr style=\"text-align: right;\">\n",
       "      <th></th>\n",
       "      <th>Time</th>\n",
       "      <th>POS</th>\n",
       "    </tr>\n",
       "  </thead>\n",
       "  <tbody>\n",
       "    <tr>\n",
       "      <th>6299</th>\n",
       "      <td>21.0000</td>\n",
       "      <td>-0.340796</td>\n",
       "    </tr>\n",
       "    <tr>\n",
       "      <th>6300</th>\n",
       "      <td>21.0033</td>\n",
       "      <td>-0.321311</td>\n",
       "    </tr>\n",
       "    <tr>\n",
       "      <th>6301</th>\n",
       "      <td>21.0067</td>\n",
       "      <td>-0.338107</td>\n",
       "    </tr>\n",
       "    <tr>\n",
       "      <th>6302</th>\n",
       "      <td>21.0100</td>\n",
       "      <td>-0.338782</td>\n",
       "    </tr>\n",
       "    <tr>\n",
       "      <th>6303</th>\n",
       "      <td>21.0133</td>\n",
       "      <td>-0.331397</td>\n",
       "    </tr>\n",
       "    <tr>\n",
       "      <th>...</th>\n",
       "      <td>...</td>\n",
       "      <td>...</td>\n",
       "    </tr>\n",
       "    <tr>\n",
       "      <th>7495</th>\n",
       "      <td>24.9867</td>\n",
       "      <td>-0.195214</td>\n",
       "    </tr>\n",
       "    <tr>\n",
       "      <th>7496</th>\n",
       "      <td>24.9900</td>\n",
       "      <td>-0.190549</td>\n",
       "    </tr>\n",
       "    <tr>\n",
       "      <th>7497</th>\n",
       "      <td>24.9933</td>\n",
       "      <td>-0.152904</td>\n",
       "    </tr>\n",
       "    <tr>\n",
       "      <th>7498</th>\n",
       "      <td>24.9967</td>\n",
       "      <td>-0.082239</td>\n",
       "    </tr>\n",
       "    <tr>\n",
       "      <th>7499</th>\n",
       "      <td>25.0000</td>\n",
       "      <td>0.021426</td>\n",
       "    </tr>\n",
       "  </tbody>\n",
       "</table>\n",
       "<p>1201 rows × 2 columns</p>\n",
       "</div>"
      ],
      "text/plain": [
       "         Time       POS\n",
       "6299  21.0000 -0.340796\n",
       "6300  21.0033 -0.321311\n",
       "6301  21.0067 -0.338107\n",
       "6302  21.0100 -0.338782\n",
       "6303  21.0133 -0.331397\n",
       "...       ...       ...\n",
       "7495  24.9867 -0.195214\n",
       "7496  24.9900 -0.190549\n",
       "7497  24.9933 -0.152904\n",
       "7498  24.9967 -0.082239\n",
       "7499  25.0000  0.021426\n",
       "\n",
       "[1201 rows x 2 columns]"
      ]
     },
     "execution_count": 673,
     "metadata": {},
     "output_type": "execute_result"
    }
   ],
   "source": [
    "# Test 20 point\n",
    "data = {'Time':x_data_range['Time'],'POS':x_data_range['POS']}\n",
    "df_test = pd.DataFrame(data)\n",
    "df_test"
   ]
  },
  {
   "cell_type": "code",
   "execution_count": 676,
   "metadata": {},
   "outputs": [],
   "source": [
    "# Determine the integration window\n",
    "def check_sign(x):\n",
    "    if x > 0:\n",
    "        return \"Positive\"\n",
    "    else:\n",
    "        return \"Negative\"\n",
    "df_test['Sign'] = df_test['POS'].apply(check_sign)"
   ]
  },
  {
   "cell_type": "code",
   "execution_count": 677,
   "metadata": {},
   "outputs": [
    {
     "data": {
      "text/html": [
       "<div>\n",
       "<style scoped>\n",
       "    .dataframe tbody tr th:only-of-type {\n",
       "        vertical-align: middle;\n",
       "    }\n",
       "\n",
       "    .dataframe tbody tr th {\n",
       "        vertical-align: top;\n",
       "    }\n",
       "\n",
       "    .dataframe thead th {\n",
       "        text-align: right;\n",
       "    }\n",
       "</style>\n",
       "<table border=\"1\" class=\"dataframe\">\n",
       "  <thead>\n",
       "    <tr style=\"text-align: right;\">\n",
       "      <th></th>\n",
       "      <th>Time</th>\n",
       "      <th>POS</th>\n",
       "      <th>Sign</th>\n",
       "    </tr>\n",
       "  </thead>\n",
       "  <tbody>\n",
       "    <tr>\n",
       "      <th>6299</th>\n",
       "      <td>21.0000</td>\n",
       "      <td>-0.340796</td>\n",
       "      <td>Negative</td>\n",
       "    </tr>\n",
       "    <tr>\n",
       "      <th>6300</th>\n",
       "      <td>21.0033</td>\n",
       "      <td>-0.321311</td>\n",
       "      <td>Negative</td>\n",
       "    </tr>\n",
       "    <tr>\n",
       "      <th>6301</th>\n",
       "      <td>21.0067</td>\n",
       "      <td>-0.338107</td>\n",
       "      <td>Negative</td>\n",
       "    </tr>\n",
       "    <tr>\n",
       "      <th>6302</th>\n",
       "      <td>21.0100</td>\n",
       "      <td>-0.338782</td>\n",
       "      <td>Negative</td>\n",
       "    </tr>\n",
       "    <tr>\n",
       "      <th>6303</th>\n",
       "      <td>21.0133</td>\n",
       "      <td>-0.331397</td>\n",
       "      <td>Negative</td>\n",
       "    </tr>\n",
       "    <tr>\n",
       "      <th>...</th>\n",
       "      <td>...</td>\n",
       "      <td>...</td>\n",
       "      <td>...</td>\n",
       "    </tr>\n",
       "    <tr>\n",
       "      <th>7495</th>\n",
       "      <td>24.9867</td>\n",
       "      <td>-0.195214</td>\n",
       "      <td>Negative</td>\n",
       "    </tr>\n",
       "    <tr>\n",
       "      <th>7496</th>\n",
       "      <td>24.9900</td>\n",
       "      <td>-0.190549</td>\n",
       "      <td>Negative</td>\n",
       "    </tr>\n",
       "    <tr>\n",
       "      <th>7497</th>\n",
       "      <td>24.9933</td>\n",
       "      <td>-0.152904</td>\n",
       "      <td>Negative</td>\n",
       "    </tr>\n",
       "    <tr>\n",
       "      <th>7498</th>\n",
       "      <td>24.9967</td>\n",
       "      <td>-0.082239</td>\n",
       "      <td>Negative</td>\n",
       "    </tr>\n",
       "    <tr>\n",
       "      <th>7499</th>\n",
       "      <td>25.0000</td>\n",
       "      <td>0.021426</td>\n",
       "      <td>Positive</td>\n",
       "    </tr>\n",
       "  </tbody>\n",
       "</table>\n",
       "<p>1201 rows × 3 columns</p>\n",
       "</div>"
      ],
      "text/plain": [
       "         Time       POS      Sign\n",
       "6299  21.0000 -0.340796  Negative\n",
       "6300  21.0033 -0.321311  Negative\n",
       "6301  21.0067 -0.338107  Negative\n",
       "6302  21.0100 -0.338782  Negative\n",
       "6303  21.0133 -0.331397  Negative\n",
       "...       ...       ...       ...\n",
       "7495  24.9867 -0.195214  Negative\n",
       "7496  24.9900 -0.190549  Negative\n",
       "7497  24.9933 -0.152904  Negative\n",
       "7498  24.9967 -0.082239  Negative\n",
       "7499  25.0000  0.021426  Positive\n",
       "\n",
       "[1201 rows x 3 columns]"
      ]
     },
     "execution_count": 677,
     "metadata": {},
     "output_type": "execute_result"
    }
   ],
   "source": [
    "df_test"
   ]
  },
  {
   "cell_type": "code",
   "execution_count": 678,
   "metadata": {},
   "outputs": [
    {
     "name": "stdout",
     "output_type": "stream",
     "text": [
      "         Time       POS      Sign PosTim_Start PosTim_End NegTim_Start  \\\n",
      "0     21.0000 -0.340796  Negative                                 21.0   \n",
      "1     21.0033 -0.321311  Negative                                        \n",
      "2     21.0067 -0.338107  Negative                                        \n",
      "3     21.0100 -0.338782  Negative                                        \n",
      "4     21.0133 -0.331397  Negative                                        \n",
      "...       ...       ...       ...          ...        ...          ...   \n",
      "1196  24.9867 -0.195214  Negative                                        \n",
      "1197  24.9900 -0.190549  Negative                                        \n",
      "1198  24.9933 -0.152904  Negative                                        \n",
      "1199  24.9967 -0.082239  Negative                                        \n",
      "1200  25.0000  0.021426  Positive         25.0                           \n",
      "\n",
      "     NegTim_End  \n",
      "0                \n",
      "1                \n",
      "2                \n",
      "3                \n",
      "4                \n",
      "...         ...  \n",
      "1196             \n",
      "1197             \n",
      "1198             \n",
      "1199    24.9967  \n",
      "1200             \n",
      "\n",
      "[1201 rows x 7 columns]\n"
     ]
    }
   ],
   "source": [
    "# Condition window width\n",
    "def calculate_start_end(row):\n",
    "    global last_positive, last_negative\n",
    "    if row['Sign'] == 'Positive':\n",
    "        if row.name == 0 or df_test.loc[row.name - 1, 'Sign'] != 'Positive':\n",
    "            last_positive = row['Time']\n",
    "            return last_positive, '', '', ''\n",
    "        elif row.name < len(df_test) - 1 and df_test.loc[row.name + 1, 'Sign'] != 'Positive':\n",
    "            pos_end = row['Time']\n",
    "            last_positive = ''\n",
    "            return '', pos_end, '', ''\n",
    "        else:\n",
    "            return '', '', '', ''\n",
    "    elif row['Sign'] == 'Negative':\n",
    "        if row.name == 0 or df_test.loc[row.name - 1, 'Sign'] != 'Negative':\n",
    "            last_negative = row['Time']\n",
    "            return '', '', last_negative, ''\n",
    "        elif row.name < len(df_test) - 1 and df_test.loc[row.name + 1, 'Sign'] != 'Negative':\n",
    "            last_negative = row['Time']\n",
    "            return '', '', '', last_negative\n",
    "        else:\n",
    "            return '', '', '', ''\n",
    "    else:\n",
    "        return '', '', '', ''\n",
    "\n",
    "# Initialize the last positive and negative values to empty strings\n",
    "last_positive = ''\n",
    "last_negative = ''\n",
    "\n",
    "# Reset the index of the DataFrame\n",
    "df_test = df_test.reset_index(drop=True)\n",
    "\n",
    "# Apply the custom function to create new columns\n",
    "df_test['PosTim_Start'], df_test['PosTim_End'], df_test['NegTim_Start'], df_test['NegTim_End'] = zip(*df_test.apply(calculate_start_end, axis=1))\n",
    "\n",
    "# Fill the empty cells with an empty string\n",
    "df_test['PosTim_Start'] = df_test['PosTim_Start'].fillna('')\n",
    "df_test['PosTim_End'] = df_test['PosTim_End'].fillna('')\n",
    "df_test['NegTim_Start'] = df_test['NegTim_Start'].fillna('')\n",
    "df_test['NegTim_End'] = df_test['NegTim_End'].fillna('')\n",
    "\n",
    "# Print the resulting dataframe\n",
    "print(df_test)"
   ]
  },
  {
   "attachments": {},
   "cell_type": "markdown",
   "metadata": {},
   "source": [
    "#### Positive Time Start Trimming"
   ]
  },
  {
   "cell_type": "code",
   "execution_count": 715,
   "metadata": {},
   "outputs": [
    {
     "name": "stdout",
     "output_type": "stream",
     "text": [
      "[21.15 22.6  23.34 24.   24.   24.05 24.08 24.14 24.17 24.22 24.98]\n"
     ]
    }
   ],
   "source": [
    "# Select the non-empty values in the 'Pos_Start' column\n",
    "pos_start_values = df_test.loc[df_test['PosTim_Start'] != '', 'PosTim_Start'].values\n",
    "\n",
    "# Round the values in the 'Pos_Start' column to two decimal places\n",
    "rounded_pos_start_values = []\n",
    "for value in pos_start_values:\n",
    "    rounded_pos_start_values.append(round(value - 0.02, 2))\n",
    "\n",
    "# Convert the list of rounded values back to a NumPy array\n",
    "postim_start_values = np.array(rounded_pos_start_values)\n",
    "\n",
    "# Print the non-empty values\n",
    "print(postim_start_values)"
   ]
  },
  {
   "attachments": {},
   "cell_type": "markdown",
   "metadata": {},
   "source": [
    "#### Poisitive Time end Trimming"
   ]
  },
  {
   "cell_type": "code",
   "execution_count": 716,
   "metadata": {},
   "outputs": [
    {
     "name": "stdout",
     "output_type": "stream",
     "text": [
      "[21.68 22.82 23.5  24.04 24.07 24.13 24.17 24.22 24.71]\n"
     ]
    }
   ],
   "source": [
    "# Select the non-empty values in the 'Pos_End' column\n",
    "pos_end_values = df_test.loc[df_test['PosTim_End'] != '', 'PosTim_End'].values\n",
    "\n",
    "# Round the values in the 'Pos_End' column to two decimal places\n",
    "rounded_pos_end_values = []\n",
    "for value in pos_end_values:\n",
    "    rounded_pos_end_values.append(round(value - 0.02, 2))\n",
    "\n",
    "# Convert the list of rounded values back to a NumPy array\n",
    "postim_end_values = np.array(rounded_pos_end_values)\n",
    "\n",
    "# Print the non-empty values\n",
    "print(postim_end_values)"
   ]
  },
  {
   "attachments": {},
   "cell_type": "markdown",
   "metadata": {},
   "source": [
    "#### Map the start positive Time to POS in raw data"
   ]
  },
  {
   "cell_type": "code",
   "execution_count": 717,
   "metadata": {},
   "outputs": [
    {
     "data": {
      "text/plain": [
       "6344   -1.4113\n",
       "6779   -2.6613\n",
       "7001   -3.4677\n",
       "7199   -4.0726\n",
       "7214   -4.0927\n",
       "7223   -3.8105\n",
       "7241   -4.0524\n",
       "7250   -4.0524\n",
       "7265   -4.1129\n",
       "7493   -5.0845\n",
       "Name: Time, dtype: float64"
      ]
     },
     "execution_count": 717,
     "metadata": {},
     "output_type": "execute_result"
    }
   ],
   "source": [
    "# Create a dictionary from the mapping list\n",
    "mapping_list = postim_start_values\n",
    "\n",
    "# Map the values to the 'POS' column in raw\n",
    "mapped_posSt = data.loc[data['Position'].isin(mapping_list),'Time']\n",
    "mapped_posSt"
   ]
  },
  {
   "attachments": {},
   "cell_type": "markdown",
   "metadata": {},
   "source": [
    "#### Map the End positive Time to POS in raw data"
   ]
  },
  {
   "cell_type": "code",
   "execution_count": 718,
   "metadata": {},
   "outputs": [
    {
     "data": {
      "text/plain": [
       "6503   -1.4718\n",
       "6845   -2.5202\n",
       "7049   -3.0040\n",
       "7211   -3.8911\n",
       "7220   -3.9113\n",
       "7238   -4.0323\n",
       "7250   -4.0524\n",
       "7265   -4.1129\n",
       "7412   -4.2742\n",
       "Name: Time, dtype: float64"
      ]
     },
     "execution_count": 718,
     "metadata": {},
     "output_type": "execute_result"
    }
   ],
   "source": [
    "# Create a dictionary from the mapping list\n",
    "mapping_list = postim_end_values\n",
    "\n",
    "# Map the values to the 'POS' column in raw\n",
    "mapped_posEnd = data.loc[data['Position'].isin(mapping_list),'Time']\n",
    "mapped_posEnd\n"
   ]
  },
  {
   "attachments": {},
   "cell_type": "markdown",
   "metadata": {},
   "source": [
    "#### Negative Time Start Trimming"
   ]
  },
  {
   "cell_type": "code",
   "execution_count": null,
   "metadata": {},
   "outputs": [],
   "source": [
    "# Select the non-empty values in the 'Pos_Start' column\n",
    "neg_start_values = df_test.loc[df_test['NegTim_Start'] != '', 'NegTim_Start'].values\n",
    "\n",
    "# Round the values in the 'Pos_Start' column to two decimal places\n",
    "rounded_neg_start_values = []\n",
    "for value in neg_start_values:\n",
    "    rounded_neg_start_values.append(round(value + 0.003, 2))\n",
    "\n",
    "# Convert the list of rounded values back to a NumPy array\n",
    "postim_start_values = np.array(rounded_pos_start_values)\n",
    "\n",
    "# Print the non-empty values\n",
    "print(postim_start_values)"
   ]
  },
  {
   "attachments": {},
   "cell_type": "markdown",
   "metadata": {},
   "source": [
    "#### Gain calucation dataframe"
   ]
  },
  {
   "cell_type": "code",
   "execution_count": 723,
   "metadata": {},
   "outputs": [
    {
     "ename": "ValueError",
     "evalue": "array length 11 does not match index length 10",
     "output_type": "error",
     "traceback": [
      "\u001b[0;31m---------------------------------------------------------------------------\u001b[0m",
      "\u001b[0;31mValueError\u001b[0m                                Traceback (most recent call last)",
      "\u001b[0;32m/var/folders/hj/4_1_bgn11_dgm99bq0lnjxl80000gn/T/ipykernel_44221/604975868.py\u001b[0m in \u001b[0;36m<module>\u001b[0;34m\u001b[0m\n\u001b[1;32m      1\u001b[0m \u001b[0mdata_param\u001b[0m \u001b[0;34m=\u001b[0m \u001b[0;34m{\u001b[0m\u001b[0;34m'positive_x1'\u001b[0m\u001b[0;34m:\u001b[0m\u001b[0mpostim_start_values\u001b[0m\u001b[0;34m,\u001b[0m\u001b[0;34m'positive_y1'\u001b[0m\u001b[0;34m:\u001b[0m\u001b[0mmapped_posSt\u001b[0m\u001b[0;34m}\u001b[0m\u001b[0;34m\u001b[0m\u001b[0;34m\u001b[0m\u001b[0m\n\u001b[0;32m----> 2\u001b[0;31m \u001b[0mparam_gain_start\u001b[0m \u001b[0;34m=\u001b[0m \u001b[0mpd\u001b[0m\u001b[0;34m.\u001b[0m\u001b[0mDataFrame\u001b[0m\u001b[0;34m(\u001b[0m\u001b[0mdata_param\u001b[0m\u001b[0;34m)\u001b[0m\u001b[0;34m\u001b[0m\u001b[0;34m\u001b[0m\u001b[0m\n\u001b[0m\u001b[1;32m      3\u001b[0m \u001b[0mdata_param\u001b[0m\u001b[0;34m=\u001b[0m \u001b[0;34m{\u001b[0m\u001b[0;34m'positive_x2'\u001b[0m\u001b[0;34m:\u001b[0m\u001b[0mpostim_end_values\u001b[0m\u001b[0;34m,\u001b[0m\u001b[0;34m'positive_y2'\u001b[0m\u001b[0;34m:\u001b[0m\u001b[0mmapped_posEnd\u001b[0m\u001b[0;34m}\u001b[0m\u001b[0;34m\u001b[0m\u001b[0;34m\u001b[0m\u001b[0m\n\u001b[1;32m      4\u001b[0m \u001b[0mparam_gain_end\u001b[0m \u001b[0;34m=\u001b[0m \u001b[0mpd\u001b[0m\u001b[0;34m.\u001b[0m\u001b[0mDataFrame\u001b[0m\u001b[0;34m(\u001b[0m\u001b[0mdata_param\u001b[0m\u001b[0;34m)\u001b[0m\u001b[0;34m\u001b[0m\u001b[0;34m\u001b[0m\u001b[0m\n\u001b[1;32m      5\u001b[0m \u001b[0;34m\u001b[0m\u001b[0m\n",
      "\u001b[0;32m~/miniforge3/envs/ds/lib/python3.9/site-packages/pandas/core/frame.py\u001b[0m in \u001b[0;36m__init__\u001b[0;34m(self, data, index, columns, dtype, copy)\u001b[0m\n\u001b[1;32m    634\u001b[0m         \u001b[0;32melif\u001b[0m \u001b[0misinstance\u001b[0m\u001b[0;34m(\u001b[0m\u001b[0mdata\u001b[0m\u001b[0;34m,\u001b[0m \u001b[0mdict\u001b[0m\u001b[0;34m)\u001b[0m\u001b[0;34m:\u001b[0m\u001b[0;34m\u001b[0m\u001b[0;34m\u001b[0m\u001b[0m\n\u001b[1;32m    635\u001b[0m             \u001b[0;31m# GH#38939 de facto copy defaults to False only in non-dict cases\u001b[0m\u001b[0;34m\u001b[0m\u001b[0;34m\u001b[0m\u001b[0;34m\u001b[0m\u001b[0m\n\u001b[0;32m--> 636\u001b[0;31m             \u001b[0mmgr\u001b[0m \u001b[0;34m=\u001b[0m \u001b[0mdict_to_mgr\u001b[0m\u001b[0;34m(\u001b[0m\u001b[0mdata\u001b[0m\u001b[0;34m,\u001b[0m \u001b[0mindex\u001b[0m\u001b[0;34m,\u001b[0m \u001b[0mcolumns\u001b[0m\u001b[0;34m,\u001b[0m \u001b[0mdtype\u001b[0m\u001b[0;34m=\u001b[0m\u001b[0mdtype\u001b[0m\u001b[0;34m,\u001b[0m \u001b[0mcopy\u001b[0m\u001b[0;34m=\u001b[0m\u001b[0mcopy\u001b[0m\u001b[0;34m,\u001b[0m \u001b[0mtyp\u001b[0m\u001b[0;34m=\u001b[0m\u001b[0mmanager\u001b[0m\u001b[0;34m)\u001b[0m\u001b[0;34m\u001b[0m\u001b[0;34m\u001b[0m\u001b[0m\n\u001b[0m\u001b[1;32m    637\u001b[0m         \u001b[0;32melif\u001b[0m \u001b[0misinstance\u001b[0m\u001b[0;34m(\u001b[0m\u001b[0mdata\u001b[0m\u001b[0;34m,\u001b[0m \u001b[0mma\u001b[0m\u001b[0;34m.\u001b[0m\u001b[0mMaskedArray\u001b[0m\u001b[0;34m)\u001b[0m\u001b[0;34m:\u001b[0m\u001b[0;34m\u001b[0m\u001b[0;34m\u001b[0m\u001b[0m\n\u001b[1;32m    638\u001b[0m             \u001b[0;32mimport\u001b[0m \u001b[0mnumpy\u001b[0m\u001b[0;34m.\u001b[0m\u001b[0mma\u001b[0m\u001b[0;34m.\u001b[0m\u001b[0mmrecords\u001b[0m \u001b[0;32mas\u001b[0m \u001b[0mmrecords\u001b[0m\u001b[0;34m\u001b[0m\u001b[0;34m\u001b[0m\u001b[0m\n",
      "\u001b[0;32m~/miniforge3/envs/ds/lib/python3.9/site-packages/pandas/core/internals/construction.py\u001b[0m in \u001b[0;36mdict_to_mgr\u001b[0;34m(data, index, columns, dtype, typ, copy)\u001b[0m\n\u001b[1;32m    500\u001b[0m         \u001b[0;31m# TODO: can we get rid of the dt64tz special case above?\u001b[0m\u001b[0;34m\u001b[0m\u001b[0;34m\u001b[0m\u001b[0;34m\u001b[0m\u001b[0m\n\u001b[1;32m    501\u001b[0m \u001b[0;34m\u001b[0m\u001b[0m\n\u001b[0;32m--> 502\u001b[0;31m     \u001b[0;32mreturn\u001b[0m \u001b[0marrays_to_mgr\u001b[0m\u001b[0;34m(\u001b[0m\u001b[0marrays\u001b[0m\u001b[0;34m,\u001b[0m \u001b[0mcolumns\u001b[0m\u001b[0;34m,\u001b[0m \u001b[0mindex\u001b[0m\u001b[0;34m,\u001b[0m \u001b[0mdtype\u001b[0m\u001b[0;34m=\u001b[0m\u001b[0mdtype\u001b[0m\u001b[0;34m,\u001b[0m \u001b[0mtyp\u001b[0m\u001b[0;34m=\u001b[0m\u001b[0mtyp\u001b[0m\u001b[0;34m,\u001b[0m \u001b[0mconsolidate\u001b[0m\u001b[0;34m=\u001b[0m\u001b[0mcopy\u001b[0m\u001b[0;34m)\u001b[0m\u001b[0;34m\u001b[0m\u001b[0;34m\u001b[0m\u001b[0m\n\u001b[0m\u001b[1;32m    503\u001b[0m \u001b[0;34m\u001b[0m\u001b[0m\n\u001b[1;32m    504\u001b[0m \u001b[0;34m\u001b[0m\u001b[0m\n",
      "\u001b[0;32m~/miniforge3/envs/ds/lib/python3.9/site-packages/pandas/core/internals/construction.py\u001b[0m in \u001b[0;36marrays_to_mgr\u001b[0;34m(arrays, columns, index, dtype, verify_integrity, typ, consolidate)\u001b[0m\n\u001b[1;32m    118\u001b[0m         \u001b[0;31m# figure out the index, if necessary\u001b[0m\u001b[0;34m\u001b[0m\u001b[0;34m\u001b[0m\u001b[0;34m\u001b[0m\u001b[0m\n\u001b[1;32m    119\u001b[0m         \u001b[0;32mif\u001b[0m \u001b[0mindex\u001b[0m \u001b[0;32mis\u001b[0m \u001b[0;32mNone\u001b[0m\u001b[0;34m:\u001b[0m\u001b[0;34m\u001b[0m\u001b[0;34m\u001b[0m\u001b[0m\n\u001b[0;32m--> 120\u001b[0;31m             \u001b[0mindex\u001b[0m \u001b[0;34m=\u001b[0m \u001b[0m_extract_index\u001b[0m\u001b[0;34m(\u001b[0m\u001b[0marrays\u001b[0m\u001b[0;34m)\u001b[0m\u001b[0;34m\u001b[0m\u001b[0;34m\u001b[0m\u001b[0m\n\u001b[0m\u001b[1;32m    121\u001b[0m         \u001b[0;32melse\u001b[0m\u001b[0;34m:\u001b[0m\u001b[0;34m\u001b[0m\u001b[0;34m\u001b[0m\u001b[0m\n\u001b[1;32m    122\u001b[0m             \u001b[0mindex\u001b[0m \u001b[0;34m=\u001b[0m \u001b[0mensure_index\u001b[0m\u001b[0;34m(\u001b[0m\u001b[0mindex\u001b[0m\u001b[0;34m)\u001b[0m\u001b[0;34m\u001b[0m\u001b[0;34m\u001b[0m\u001b[0m\n",
      "\u001b[0;32m~/miniforge3/envs/ds/lib/python3.9/site-packages/pandas/core/internals/construction.py\u001b[0m in \u001b[0;36m_extract_index\u001b[0;34m(data)\u001b[0m\n\u001b[1;32m    686\u001b[0m                         \u001b[0;34mf\"length {len(index)}\"\u001b[0m\u001b[0;34m\u001b[0m\u001b[0;34m\u001b[0m\u001b[0m\n\u001b[1;32m    687\u001b[0m                     )\n\u001b[0;32m--> 688\u001b[0;31m                     \u001b[0;32mraise\u001b[0m \u001b[0mValueError\u001b[0m\u001b[0;34m(\u001b[0m\u001b[0mmsg\u001b[0m\u001b[0;34m)\u001b[0m\u001b[0;34m\u001b[0m\u001b[0;34m\u001b[0m\u001b[0m\n\u001b[0m\u001b[1;32m    689\u001b[0m             \u001b[0;32melse\u001b[0m\u001b[0;34m:\u001b[0m\u001b[0;34m\u001b[0m\u001b[0;34m\u001b[0m\u001b[0m\n\u001b[1;32m    690\u001b[0m                 \u001b[0mindex\u001b[0m \u001b[0;34m=\u001b[0m \u001b[0mdefault_index\u001b[0m\u001b[0;34m(\u001b[0m\u001b[0mlengths\u001b[0m\u001b[0;34m[\u001b[0m\u001b[0;36m0\u001b[0m\u001b[0;34m]\u001b[0m\u001b[0;34m)\u001b[0m\u001b[0;34m\u001b[0m\u001b[0;34m\u001b[0m\u001b[0m\n",
      "\u001b[0;31mValueError\u001b[0m: array length 11 does not match index length 10"
     ]
    }
   ],
   "source": [
    "data_param = {'positive_x1':postim_start_values,'positive_y1':mapped_posSt}             \n",
    "param_gain_start = pd.DataFrame(data_param)\n",
    "data_param= {'positive_x2':postim_end_values,'positive_y2':mapped_posEnd}\n",
    "param_gain_end = pd.DataFrame(data_param)\n",
    "\n",
    "# Reset the indices of the DataFrames\n",
    "param_gain_start = param_gain_start.reset_index(drop=True)\n",
    "param_gain_end = param_gain_end.reset_index(drop=True)\n",
    "\n",
    "# Concatenate the DataFrames horizontally\n",
    "param_gain_final = pd.concat([param_gain_start,param_gain_end],axis=1)\n",
    "param_gain_final = param_gain_final.fillna(method='ffill')\n",
    "param_gain_final\n"
   ]
  },
  {
   "attachments": {},
   "cell_type": "markdown",
   "metadata": {},
   "source": [
    "### Gain calculation"
   ]
  },
  {
   "cell_type": "code",
   "execution_count": 714,
   "metadata": {},
   "outputs": [
    {
     "name": "stdout",
     "output_type": "stream",
     "text": [
      "-1.7642841077362426\n"
     ]
    }
   ],
   "source": [
    "# Calculate the difference between y2 and y1 divided by the difference between x2 and x1\n",
    "param_gain_final['slope'] = (param_gain_final['positive_y2'] - param_gain_final['positive_y1']) / (param_gain_final['positive_x2'] - param_gain_final['positive_x1'])\n",
    "\n",
    "# Calculate the average slope\n",
    "average_slope = param_gain_final['slope'].mean()\n",
    "\n",
    "# Print the average slope\n",
    "print(average_slope)"
   ]
  },
  {
   "cell_type": "code",
   "execution_count": null,
   "metadata": {},
   "outputs": [],
   "source": []
  },
  {
   "cell_type": "code",
   "execution_count": null,
   "metadata": {},
   "outputs": [],
   "source": []
  },
  {
   "cell_type": "code",
   "execution_count": null,
   "metadata": {},
   "outputs": [],
   "source": []
  },
  {
   "cell_type": "code",
   "execution_count": null,
   "metadata": {},
   "outputs": [],
   "source": []
  },
  {
   "cell_type": "code",
   "execution_count": null,
   "metadata": {},
   "outputs": [],
   "source": []
  },
  {
   "cell_type": "code",
   "execution_count": null,
   "metadata": {},
   "outputs": [],
   "source": []
  },
  {
   "cell_type": "code",
   "execution_count": null,
   "metadata": {},
   "outputs": [],
   "source": []
  },
  {
   "cell_type": "code",
   "execution_count": null,
   "metadata": {},
   "outputs": [],
   "source": []
  },
  {
   "cell_type": "code",
   "execution_count": null,
   "metadata": {},
   "outputs": [],
   "source": []
  },
  {
   "cell_type": "code",
   "execution_count": null,
   "metadata": {},
   "outputs": [],
   "source": []
  },
  {
   "cell_type": "code",
   "execution_count": null,
   "metadata": {},
   "outputs": [],
   "source": []
  },
  {
   "cell_type": "code",
   "execution_count": null,
   "metadata": {},
   "outputs": [],
   "source": []
  },
  {
   "cell_type": "code",
   "execution_count": null,
   "metadata": {},
   "outputs": [],
   "source": []
  },
  {
   "cell_type": "code",
   "execution_count": null,
   "metadata": {},
   "outputs": [],
   "source": []
  },
  {
   "cell_type": "code",
   "execution_count": null,
   "metadata": {},
   "outputs": [],
   "source": []
  },
  {
   "cell_type": "code",
   "execution_count": null,
   "metadata": {},
   "outputs": [],
   "source": []
  },
  {
   "cell_type": "code",
   "execution_count": null,
   "metadata": {},
   "outputs": [],
   "source": []
  },
  {
   "cell_type": "code",
   "execution_count": null,
   "metadata": {},
   "outputs": [],
   "source": []
  },
  {
   "cell_type": "code",
   "execution_count": null,
   "metadata": {},
   "outputs": [],
   "source": []
  },
  {
   "cell_type": "code",
   "execution_count": null,
   "metadata": {},
   "outputs": [],
   "source": []
  },
  {
   "cell_type": "code",
   "execution_count": 28,
   "metadata": {},
   "outputs": [],
   "source": [
    "# # Filter\n",
    "# import numpy as np\n",
    "# import matplotlib.pyplot as plt\n",
    "\n",
    "# # Define the period and number of samples per period\n",
    "# period = 2*np.pi\n",
    "# num_samples = 200\n",
    "\n",
    "# # Create a sequence of time values for two periods\n",
    "# t = np.linspace(0, 2*period, 2*num_samples)\n",
    "\n",
    "# # Create a triangular wave with amplitude of 1\n",
    "# tri_wave = np.abs((t % period) - (period/2)) - (period/4)\n",
    "\n",
    "# # Plot the waveform\n",
    "# plt.plot(t, tri_wave)\n",
    "# plt.xlabel('Time')\n",
    "# plt.ylabel('Amplitude')\n",
    "# plt.show()"
   ]
  },
  {
   "cell_type": "code",
   "execution_count": 29,
   "metadata": {},
   "outputs": [],
   "source": [
    "# Fitted values a, b, c\n",
    "a = data.loc[1,'A1_1Deg',]\n",
    "b = data.loc[1,'B1_1Deg',]\n",
    "#c = data.loc[1,'C1_1Deg',]\n",
    "period = 2*np.pi\n",
    "num_samples = 200\n",
    "filter_t = np.linspace(0, 2*period, 2*num_samples)\n",
    "filter = signal.sawtooth(2 * np.pi * b * filter_t, width=a)"
   ]
  },
  {
   "cell_type": "code",
   "execution_count": 30,
   "metadata": {},
   "outputs": [],
   "source": [
    "# Apply the filter to the noisy triangle wave\n",
    "y = np.convolve(one_deg_time_eye, filter, mode='same')\n"
   ]
  },
  {
   "cell_type": "code",
   "execution_count": 31,
   "metadata": {},
   "outputs": [],
   "source": [
    "# Compute filtered noise values as a DataFrame\n",
    "noise_df = pd.DataFrame({'Time': one_deg_pos_eye, 'Noise': (one_deg_time_eye - y)})"
   ]
  },
  {
   "cell_type": "code",
   "execution_count": 32,
   "metadata": {},
   "outputs": [],
   "source": [
    "# Identify segments\n",
    "threshold = 0.05\n",
    "noisy_segments = []\n",
    "segment_start = None\n",
    "for i in range(len(noise_df)):\n",
    "    if abs(noise_df.loc[i, 'Noise']) > threshold:\n",
    "        if segment_start is None:\n",
    "            segment_start = i\n",
    "    else:\n",
    "        if segment_start is not None:\n",
    "            segment_end = i\n",
    "            noisy_segments.append((segment_start, segment_end))\n",
    "            segment_start = None\n",
    "if segment_start is not None:\n",
    "    noisy_segments.append((segment_start, len(noise_df)))"
   ]
  },
  {
   "cell_type": "code",
   "execution_count": 182,
   "metadata": {},
   "outputs": [
    {
     "data": {
      "text/plain": [
       "[]"
      ]
     },
     "execution_count": 182,
     "metadata": {},
     "output_type": "execute_result"
    }
   ],
   "source": [
    "noisy_segments "
   ]
  },
  {
   "cell_type": "code",
   "execution_count": 183,
   "metadata": {},
   "outputs": [
    {
     "data": {
      "text/html": [
       "<div>\n",
       "<style scoped>\n",
       "    .dataframe tbody tr th:only-of-type {\n",
       "        vertical-align: middle;\n",
       "    }\n",
       "\n",
       "    .dataframe tbody tr th {\n",
       "        vertical-align: top;\n",
       "    }\n",
       "\n",
       "    .dataframe thead th {\n",
       "        text-align: right;\n",
       "    }\n",
       "</style>\n",
       "<table border=\"1\" class=\"dataframe\">\n",
       "  <thead>\n",
       "    <tr style=\"text-align: right;\">\n",
       "      <th></th>\n",
       "      <th>Time</th>\n",
       "      <th>Noise</th>\n",
       "    </tr>\n",
       "  </thead>\n",
       "  <tbody>\n",
       "    <tr>\n",
       "      <th>0</th>\n",
       "      <td>10.3024</td>\n",
       "      <td>NaN</td>\n",
       "    </tr>\n",
       "    <tr>\n",
       "      <th>1</th>\n",
       "      <td>10.6250</td>\n",
       "      <td>NaN</td>\n",
       "    </tr>\n",
       "    <tr>\n",
       "      <th>2</th>\n",
       "      <td>10.4839</td>\n",
       "      <td>NaN</td>\n",
       "    </tr>\n",
       "    <tr>\n",
       "      <th>3</th>\n",
       "      <td>10.4435</td>\n",
       "      <td>NaN</td>\n",
       "    </tr>\n",
       "    <tr>\n",
       "      <th>4</th>\n",
       "      <td>10.6250</td>\n",
       "      <td>NaN</td>\n",
       "    </tr>\n",
       "    <tr>\n",
       "      <th>...</th>\n",
       "      <td>...</td>\n",
       "      <td>...</td>\n",
       "    </tr>\n",
       "    <tr>\n",
       "      <th>24195</th>\n",
       "      <td>10.3831</td>\n",
       "      <td>NaN</td>\n",
       "    </tr>\n",
       "    <tr>\n",
       "      <th>24196</th>\n",
       "      <td>10.7661</td>\n",
       "      <td>NaN</td>\n",
       "    </tr>\n",
       "    <tr>\n",
       "      <th>24197</th>\n",
       "      <td>10.4435</td>\n",
       "      <td>NaN</td>\n",
       "    </tr>\n",
       "    <tr>\n",
       "      <th>24198</th>\n",
       "      <td>10.9073</td>\n",
       "      <td>NaN</td>\n",
       "    </tr>\n",
       "    <tr>\n",
       "      <th>24199</th>\n",
       "      <td>10.7863</td>\n",
       "      <td>NaN</td>\n",
       "    </tr>\n",
       "  </tbody>\n",
       "</table>\n",
       "<p>24200 rows × 2 columns</p>\n",
       "</div>"
      ],
      "text/plain": [
       "          Time  Noise\n",
       "0      10.3024    NaN\n",
       "1      10.6250    NaN\n",
       "2      10.4839    NaN\n",
       "3      10.4435    NaN\n",
       "4      10.6250    NaN\n",
       "...        ...    ...\n",
       "24195  10.3831    NaN\n",
       "24196  10.7661    NaN\n",
       "24197  10.4435    NaN\n",
       "24198  10.9073    NaN\n",
       "24199  10.7863    NaN\n",
       "\n",
       "[24200 rows x 2 columns]"
      ]
     },
     "execution_count": 183,
     "metadata": {},
     "output_type": "execute_result"
    }
   ],
   "source": [
    "noisy_segments \n"
   ]
  },
  {
   "cell_type": "code",
   "execution_count": 33,
   "metadata": {},
   "outputs": [],
   "source": [
    "position = np.loadtxt('position.txt')\n",
    "time = np.loadtxt('time.txt')"
   ]
  },
  {
   "cell_type": "code",
   "execution_count": 34,
   "metadata": {},
   "outputs": [],
   "source": [
    "#Determine the start and end positions of the eye movement.\n",
    "start_pos = position[0]\n",
    "end_pos = position[-1]"
   ]
  },
  {
   "cell_type": "code",
   "execution_count": 35,
   "metadata": {},
   "outputs": [],
   "source": [
    "#Calculate the distance traveled by the eye.\n",
    "distance = np.abs(end_pos - start_pos)"
   ]
  },
  {
   "cell_type": "code",
   "execution_count": 36,
   "metadata": {},
   "outputs": [],
   "source": [
    "#Calculate the duration of the eye movement.\n",
    "duration = time[-1] - time[0]"
   ]
  },
  {
   "cell_type": "code",
   "execution_count": 37,
   "metadata": {},
   "outputs": [],
   "source": [
    "#Calculate the gain of the eye movement.\n",
    "gain = distance / duration"
   ]
  },
  {
   "cell_type": "code",
   "execution_count": 38,
   "metadata": {},
   "outputs": [
    {
     "name": "stdout",
     "output_type": "stream",
     "text": [
      "Gain: 7.5920842858227395\n"
     ]
    }
   ],
   "source": [
    "print('Gain:', gain)"
   ]
  },
  {
   "cell_type": "code",
   "execution_count": 41,
   "metadata": {},
   "outputs": [],
   "source": [
    "# define sliding window parameters\n",
    "window_size = 100  # number of data points in each window#\n",
    "# On condtion\n",
    "stride = 50  # number of data points to move the window for each iteration\n",
    "# Need to put condition"
   ]
  },
  {
   "cell_type": "code",
   "execution_count": 42,
   "metadata": {},
   "outputs": [],
   "source": [
    "# calculate standard deviation within each window\n",
    "std_devs = []\n",
    "for i in range(0, len(position) - window_size, stride):\n",
    "    std_devs.append(np.std(position[i:i+window_size]))"
   ]
  },
  {
   "cell_type": "code",
   "execution_count": 1,
   "metadata": {},
   "outputs": [
    {
     "ename": "NameError",
     "evalue": "name 'std_devs' is not defined",
     "output_type": "error",
     "traceback": [
      "\u001b[0;31m---------------------------------------------------------------------------\u001b[0m",
      "\u001b[0;31mNameError\u001b[0m                                 Traceback (most recent call last)",
      "\u001b[0;32m/var/folders/hj/4_1_bgn11_dgm99bq0lnjxl80000gn/T/ipykernel_55744/1254396559.py\u001b[0m in \u001b[0;36m<module>\u001b[0;34m\u001b[0m\n\u001b[1;32m      2\u001b[0m \u001b[0mthreshold\u001b[0m \u001b[0;34m=\u001b[0m \u001b[0;36m1\u001b[0m  \u001b[0;31m# adjust as necessary\u001b[0m\u001b[0;34m\u001b[0m\u001b[0;34m\u001b[0m\u001b[0m\n\u001b[1;32m      3\u001b[0m \u001b[0msmooth_segments\u001b[0m \u001b[0;34m=\u001b[0m \u001b[0;34m[\u001b[0m\u001b[0;34m]\u001b[0m\u001b[0;34m\u001b[0m\u001b[0;34m\u001b[0m\u001b[0m\n\u001b[0;32m----> 4\u001b[0;31m \u001b[0;32mfor\u001b[0m \u001b[0mi\u001b[0m \u001b[0;32min\u001b[0m \u001b[0mrange\u001b[0m\u001b[0;34m(\u001b[0m\u001b[0mlen\u001b[0m\u001b[0;34m(\u001b[0m\u001b[0mstd_devs\u001b[0m\u001b[0;34m)\u001b[0m\u001b[0;34m)\u001b[0m\u001b[0;34m:\u001b[0m\u001b[0;34m\u001b[0m\u001b[0;34m\u001b[0m\u001b[0m\n\u001b[0m\u001b[1;32m      5\u001b[0m     \u001b[0;32mif\u001b[0m \u001b[0mstd_devs\u001b[0m\u001b[0;34m[\u001b[0m\u001b[0mi\u001b[0m\u001b[0;34m]\u001b[0m \u001b[0;34m<\u001b[0m \u001b[0mthreshold\u001b[0m\u001b[0;34m:\u001b[0m\u001b[0;34m\u001b[0m\u001b[0;34m\u001b[0m\u001b[0m\n\u001b[1;32m      6\u001b[0m         \u001b[0mstart\u001b[0m \u001b[0;34m=\u001b[0m \u001b[0mi\u001b[0m \u001b[0;34m*\u001b[0m \u001b[0mstride\u001b[0m\u001b[0;34m\u001b[0m\u001b[0;34m\u001b[0m\u001b[0m\n",
      "\u001b[0;31mNameError\u001b[0m: name 'std_devs' is not defined"
     ]
    }
   ],
   "source": [
    "# set a threshold to determine which segments are smooth\n",
    "threshold = 1  # adjust as necessary\n",
    "smooth_segments = []\n",
    "for i in range(len(std_devs)):\n",
    "    if std_devs[i] < threshold:\n",
    "        start = i * stride\n",
    "        end = start + window_size\n",
    "        smooth_segments.append((start, end))"
   ]
  },
  {
   "cell_type": "code",
   "execution_count": 45,
   "metadata": {},
   "outputs": [],
   "source": [
    "# Define the positions and times arrays\n",
    "positions = np.array([3.30000e-03, 6.70000e-03, 1.00000e-02, 9.00000e+01, 9.00033e+01, 9.00067e+01])\n",
    "times = np.array([-0.121, -0.1008, -0.1815, 11.7339, 11.7742, 11.7339])"
   ]
  },
  {
   "cell_type": "markdown",
   "metadata": {},
   "source": [
    "# Gain Calculation segment by segment"
   ]
  },
  {
   "cell_type": "code",
   "execution_count": 46,
   "metadata": {},
   "outputs": [],
   "source": [
    "# define sliding window parameters\n",
    "window_size = 100  # number of data points in each window\n",
    "stride = window_size - threshold  # number of data points to move the window for each iteration\n"
   ]
  },
  {
   "cell_type": "code",
   "execution_count": 47,
   "metadata": {},
   "outputs": [],
   "source": [
    "# calculate standard deviation within each window\n",
    "std_devs = []\n",
    "for i in range(0, len(position) - window_size, stride):\n",
    "    std_devs.append(np.std(position[i:i+window_size]))"
   ]
  },
  {
   "cell_type": "code",
   "execution_count": 51,
   "metadata": {},
   "outputs": [],
   "source": [
    "# set a threshold to determine which segments are smooth\n",
    "threshold = 0.2  # adjust as necessary\n",
    "smooth_segments = []\n",
    "for i in range(len(std_devs)):\n",
    "    if std_devs[i] < threshold:\n",
    "        start = i * stride\n",
    "        end = start + window_size\n",
    "\n",
    "        # calculate derivative and sudden changes within each smooth segment\n",
    "        dx = np.diff(position[start:end])\n",
    "        sudden_changes = np.where(abs(dx) > threshold)[0]\n",
    "        segment_starts = [start] + list(sudden_changes + start + 1)\n",
    "        segment_ends = list(sudden_changes + start) + [end-1]\n",
    "        segments = [(start, end) for start, end in zip(segment_starts, segment_ends)]\n",
    "        smooth_segments.extend(segments)\n",
    "\n",
    "# Need to modify\n",
    "# now `smooth_segments` is a list of tuples containing the start and end indices of the smooth segments with sudden changes in position\n"
   ]
  },
  {
   "cell_type": "code",
   "execution_count": 55,
   "metadata": {},
   "outputs": [
    {
     "data": {
      "text/plain": [
       "array([0.0034, 0.0033, 0.0033, 0.0034, 0.0033, 0.0033, 0.0034, 0.0033,\n",
       "       0.0033, 0.0034, 0.0033, 0.0033, 0.0034, 0.0033, 0.0033, 0.0034,\n",
       "       0.0033, 0.0033, 0.0034, 0.0033, 0.0033, 0.0034, 0.0033, 0.0033,\n",
       "       0.0034, 0.0033, 0.0033, 0.0034, 0.0033, 0.0033, 0.0034, 0.0033,\n",
       "       0.0033, 0.0034, 0.0033, 0.0033, 0.0034, 0.0033, 0.0033, 0.0034,\n",
       "       0.0033, 0.0033, 0.0034, 0.0033, 0.0033, 0.0034, 0.0033, 0.0033,\n",
       "       0.0034, 0.0033, 0.0033, 0.0034, 0.0033, 0.0033, 0.0034, 0.0033,\n",
       "       0.0033, 0.0034, 0.0033, 0.0033, 0.0034, 0.0033, 0.0033, 0.0034,\n",
       "       0.0033, 0.0033, 0.0034, 0.0033, 0.0033, 0.0034, 0.0033, 0.0033,\n",
       "       0.0034, 0.0033, 0.0033, 0.0034, 0.0033, 0.0033, 0.0034, 0.0033,\n",
       "       0.0033, 0.0034, 0.0033, 0.0033, 0.0034, 0.0033, 0.0033, 0.0034,\n",
       "       0.0033, 0.0033, 0.0034, 0.0033, 0.0033, 0.0034, 0.0033, 0.0033,\n",
       "       0.0034, 0.0033, 0.0033])"
      ]
     },
     "execution_count": 55,
     "metadata": {},
     "output_type": "execute_result"
    }
   ],
   "source": [
    "dx"
   ]
  },
  {
   "cell_type": "code",
   "execution_count": null,
   "metadata": {},
   "outputs": [],
   "source": [
    "dx"
   ]
  },
  {
   "cell_type": "code",
   "execution_count": 249,
   "metadata": {},
   "outputs": [
    {
     "name": "stdout",
     "output_type": "stream",
     "text": [
      "[(0.6374966977722218, 96.17333092476049, 0, 19), (0.6374966977722218, 96.17333092476049, 1, 20), (0.6374966977722218, 94.16479331958205, 2, 21), (0.6374966977722218, 90.26907475084299, 3, 22), (0.6374966977722218, 90.26907475084299, 4, 23), (0.6374966977722218, 90.26907475084299, 5, 24), (0.6374966977722218, 90.26907475084299, 6, 25), (0.6374966977722218, 90.26907475084299, 7, 26), (0.6374966977722218, 90.26907475084299, 8, 27), (0.6374966977722218, 90.26907475084299, 9, 28), (0.6374966977722218, 90.26907475084299, 10, 29), (0.6374966977722218, 98.22653129407932, 11, 30), (0.6374966977722218, 98.22653129407932, 12, 31), (0.6374966977722218, 98.22653129407932, 13, 32), (15.178020019373983, 98.22653129407932, 14, 33), (15.178020019373983, 98.22653129407932, 15, 34), (15.178020019373983, 98.22653129407932, 16, 35), (15.178020019373983, 98.22653129407932, 17, 36), (15.178020019373983, 98.22653129407932, 18, 37), (15.178020019373983, 98.22653129407932, 19, 38), (15.178020019373983, 98.80583879130953, 20, 39), (15.178020019373983, 98.80583879130953, 21, 40), (15.178020019373983, 98.80583879130953, 22, 41), (7.740497141635783, 98.80583879130953, 23, 42), (7.740497141635783, 98.80583879130953, 24, 43), (7.740497141635783, 98.80583879130953, 25, 44), (7.740497141635783, 98.80583879130953, 26, 45), (7.740497141635783, 98.80583879130953, 27, 46), (7.740497141635783, 98.80583879130953, 28, 47), (7.740497141635783, 98.80583879130953, 29, 48), (7.740497141635783, 98.80583879130953, 30, 49), (7.740497141635783, 98.80583879130953, 31, 50), (7.740497141635783, 98.80583879130953, 32, 51), (7.740497141635783, 98.80583879130953, 33, 52), (7.740497141635783, 98.80583879130953, 34, 53), (7.740497141635783, 98.80583879130953, 35, 54), (7.740497141635783, 98.80583879130953, 36, 55), (7.740497141635783, 98.80583879130953, 37, 56), (7.740497141635783, 98.80583879130953, 38, 57), (7.740497141635783, 99.67809794432014, 39, 58), (7.740497141635783, 99.67809794432014, 40, 59), (7.740497141635783, 99.67809794432014, 41, 60), (7.740497141635783, 99.67809794432014, 42, 61), (12.054687719047019, 99.67809794432014, 43, 62), (12.054687719047019, 99.67809794432014, 44, 63), (8.828584679298768, 99.67809794432014, 45, 64), (0.926293932689648, 99.67809794432014, 46, 65), (0.926293932689648, 99.67809794432014, 47, 66), (0.926293932689648, 99.67809794432014, 48, 67), (0.926293932689648, 99.67809794432014, 49, 68), (0.926293932689648, 99.67809794432014, 50, 69), (0.926293932689648, 99.67809794432014, 51, 70), (0.926293932689648, 99.67809794432014, 52, 71), (0.926293932689648, 99.67809794432014, 53, 72), (0.926293932689648, 99.67809794432014, 54, 73), (0.926293932689648, 99.67809794432014, 55, 74), (0.926293932689648, 99.67809794432014, 56, 75), (0.926293932689648, 99.67809794432014, 57, 76), (0.926293932689648, 99.67809794432014, 58, 77), (0.926293932689648, 98.39244484927178, 59, 78), (0.926293932689648, 98.39244484927178, 60, 79), (0.926293932689648, 98.39244484927178, 61, 80), (0.926293932689648, 98.39244484927178, 62, 81), (0.926293932689648, 98.39244484927178, 63, 82), (0.926293932689648, 86.8739044019959, 64, 83), (0.926293932689648, 86.8739044019959, 65, 84), (2.9550160431062733, 86.8739044019959, 66, 85), (2.9550160431062733, 94.26482984761164, 67, 86), (2.9550160431062733, 94.26482984761164, 68, 87), (2.9550160431062733, 94.26482984761164, 69, 88), (2.9550160431062733, 94.26482984761164, 70, 89), (2.9550160431062733, 94.26482984761164, 71, 90), (2.9550160431062733, 94.26482984761164, 72, 91), (2.9550160431062733, 94.26482984761164, 73, 92), (0.718800634308403, 94.26482984761164, 74, 93), (0.718800634308403, 94.26482984761164, 75, 94), (0.718800634308403, 94.26482984761164, 76, 95), (0.718800634308403, 94.26482984761164, 77, 96), (0.718800634308403, 94.26482984761164, 78, 97), (0.718800634308403, 94.26482984761164, 79, 98)]\n"
     ]
    }
   ],
   "source": [
    "# Define the window size and threshold for detecting sudden changes\n",
    "window_size = 10\n",
    "threshold = 0.8\n",
    "\n",
    "# Generate some sample eye movement data\n",
    "y = np.random.rand(100) * 100\n",
    "t = np.arange(100)\n",
    "\n",
    "# Initialize the list to store the segments\n",
    "segments = []\n",
    "\n",
    "# Loop through the data with a sliding window\n",
    "for i in range(window_size, len(y) - window_size):\n",
    "    # Get the position and time data for the current window\n",
    "    y_window = y[i-window_size:i+window_size]\n",
    "    t_window = t[i-window_size:i+window_size]\n",
    "\n",
    "    # Calculate the difference between the maximum and minimum positions in the window\n",
    "    y_diff = np.max(y_window) - np.min(y_window)\n",
    "\n",
    "    # Check if the difference exceeds the threshold\n",
    "    if y_diff > threshold:\n",
    "        # If so, record the segment\n",
    "        y1 = np.min(y_window)\n",
    "        y2 = np.max(y_window)\n",
    "        t1 = np.min(t_window)\n",
    "        t2 = np.max(t_window)\n",
    "        segments.append((y1, y2, t1, t2))\n",
    "\n",
    "# Print the segments that were found\n",
    "print(segments)\n"
   ]
  },
  {
   "cell_type": "code",
   "execution_count": 13,
   "metadata": {},
   "outputs": [],
   "source": [
    "# Set the threshold for sudden position changes\n",
    "threshold = 0.2\n",
    "\n",
    "\n",
    "# Initialize lists to store the segment start and end indices\n",
    "segment_starts = []\n",
    "segment_ends = []\n",
    "\n",
    "# Iterate through the positions array, starting from the second position\n",
    "i = 1\n",
    "while i < len(positions):\n",
    "    # Check if the current position is more than the threshold away from the previous position\n",
    "    if abs(positions[i] - positions[i-1]) > threshold:\n",
    "        # If it is, add the previous index as the start of a segment\n",
    "        segment_starts.append(i-1)\n",
    "        # Search for the end of the segment by iterating forward through the positions array\n",
    "        j = i + 1\n",
    "        while j < len(positions) and abs(positions[j] - positions[i-1]) > threshold:\n",
    "            j += 1\n",
    "        # Add the index before the last one as the end of the segment\n",
    "        segment_ends.append(j-2)\n",
    "        # Set the new position for i to the end of the current segment\n",
    "        i = j-2\n",
    "    else:\n",
    "        # If the current position is not more than the threshold away from the previous position, increment i\n",
    "        i += 1\n",
    "\n"
   ]
  },
  {
   "cell_type": "code",
   "execution_count": 14,
   "metadata": {},
   "outputs": [
    {
     "name": "stdout",
     "output_type": "stream",
     "text": [
      "Segments with sudden position changes:\n",
      "Total gain : 0.0848318377197182\n"
     ]
    }
   ],
   "source": [
    "# Print the segments with sudden position changes\n",
    "if len(segment_starts) == 0:\n",
    "    print(\"No segments with sudden position changes found\")\n",
    "else:\n",
    "    print(\"Segments with sudden position changes:\")\n",
    "    # Initialize the start and end indices of the sliding window\n",
    "    start = 0\n",
    "    end = 1\n",
    "    # Iterate through the segments\n",
    "    for i, (start_pos, end_pos, start_time, end_time) in enumerate(zip(positions[segment_starts], positions[segment_ends], times[segment_starts], times[segment_ends])):\n",
    "        #print(f\"Segment {i+1}: Position ({start_pos}, {end_pos}), Time ({start_time}, {end_time})\")\n",
    "        # Set the window size to be dependent on the start of the sudden position change\n",
    "        window_size = int(round(0.1 * (start_pos - positions[start]))) # window size is 10% of the distance between the current segment start and the previous segment start\n",
    "        # Initialize lists to store the gains and durations for the current segment\n",
    "        gains = []\n",
    "        durations = []\n",
    "        # Iterate through the positions and times arrays for the current segment\n",
    "        for j in range(segment_starts[i], segment_ends[i]):\n",
    "            # Calculate the change in position and time between the current point and the next point in the window\n",
    "            delta_y = positions[j+1] - positions[j]\n",
    "            delta_x = times[j+1] - times[j]\n",
    "            # Calculate the speed between the current point and the next point in the window\n",
    "            speed = delta_y / delta_x\n",
    "            # Calculate the gain and duration for the window\n",
    "            window_gain = speed / (end_pos - start_pos)\n",
    "            window_duration = times[j+1] - start_time\n",
    "            # Add the gain and duration to the lists for the current segment\n",
    "            gains.append(window_gain)\n",
    "        total_gain = np.sum(gains)\n",
    "        print(f\"Total gain : {total_gain}\")"
   ]
  },
  {
   "cell_type": "code",
   "execution_count": null,
   "metadata": {},
   "outputs": [],
   "source": [
    "# Four degree\n",
    "def csv(speed):\n",
    "    frames = []\n",
    "    for file_hc in files_hc:  \n",
    "        # Data preporcessing\n",
    "        # Interpolate the NaN values with linear\n",
    "        data_hc  = pd.read_excel(file_hc+'/'+speed)#.interpolate()\n",
    "        t = data_hc[data_hc['StudioEvent'].isin(option)].index # Caculating start and end of stimuli\n",
    "        \n",
    "        if right in str(os.path.basename(file_hc)):\n",
    "            # First Trial\n",
    "            data_eye_hc_first = data_hc[t[0]+902:t[0]+7804] # first trial index\n",
    "            outlier_first  = remove_outlier_IQR(data_eye_hc_first,'GazePointRightX (ADCSpx)')\n",
    "            outlier_first  = outlier_first.to_frame()\n",
    "            data_eye_hc_first  =  blink_nan(data_eye_hc_first['GazePointRightX (ADCSpx)'],'GazePointRightX (ADCSpx)')\n",
    "            data_eye_hc_first  = data_eye_hc_first.to_frame()\n",
    "            one_deg_time_eye , one_deg_pos_eye =  px_deg_eye(data_eye_hc_first,'right')\n",
    "            one_deg_first = pd.DataFrame({'x1_'+str(os.path.basename(file_hc)):one_deg_time_eye,\n",
    "            'y1_'+str(os.path.basename(file_hc)):one_deg_pos_eye})\n",
    "\n",
    "\n",
    "            # Second Trial\n",
    "            data_eye_hc_second = data_hc[t[2]+902:t[2]+7804]\n",
    "            data_eye_hc_second = remove_outlier_IQR(data_eye_hc_second,'GazePointRightX (ADCSpx)')\n",
    "            data_eye_hc_second  = data_eye_hc_second.to_frame()\n",
    "            data_eye_hc_second  =  blink_nan(data_eye_hc_second['GazePointRightX (ADCSpx)'],'GazePointRightX (ADCSpx)')\n",
    "            data_eye_hc_second  = data_eye_hc_second.to_frame()\n",
    "            one_deg_time_eye_second , one_deg_pos_eye_second =  px_deg_eye(data_eye_hc_second,'right')\n",
    "            one_deg_second = pd.DataFrame({'x2_'+str(os.path.basename(file_hc)):one_deg_time_eye_second,\n",
    "            'y2_'+str(os.path.basename(file_hc)):one_deg_pos_eye_second})\n",
    "\n",
    "            df_subject = pd.concat([one_deg_first,one_deg_second],axis=1)\n",
    "\n",
    "            frames.append(df_subject)\n",
    "        else:\n",
    "            # First Trial\n",
    "            data_eye_hc_first = data_hc[t[0]+902:t[0]+7804] # first trial index\n",
    "            data_eye_hc_first  = remove_outlier_IQR(data_eye_hc_first,'GazePointLeftX (ADCSpx)')\n",
    "            data_eye_hc_first  = data_eye_hc_first.to_frame()\n",
    "            data_eye_hc_first  =  blink_nan(data_eye_hc_first['GazePointLeftX (ADCSpx)'],'GazePointLeftX (ADCSpx)')\n",
    "            data_eye_hc_first  = data_eye_hc_first.to_frame()\n",
    "            one_deg_time_eye , one_deg_pos_eye =  px_deg_eye(data_eye_hc_first,'left')\n",
    "            one_deg_first = pd.DataFrame({'x1_'+str(os.path.basename(file_hc)):one_deg_time_eye,\n",
    "            'y1_'+str(os.path.basename(file_hc)):one_deg_pos_eye})\n",
    "\n",
    "\n",
    "            # Second Trial\n",
    "            data_eye_hc_second = data_hc[t[2]+902:t[2]+7804]\n",
    "            data_eye_hc_second = remove_outlier_IQR(data_eye_hc_second,'GazePointLeftX (ADCSpx)')\n",
    "            data_eye_hc_second  = data_eye_hc_second.to_frame()\n",
    "            data_eye_hc_second  =  blink_nan(data_eye_hc_second['GazePointLeftX (ADCSpx)'],'GazePointLeftX (ADCSpx)')\n",
    "            data_eye_hc_second  = data_eye_hc_second.to_frame()\n",
    "            one_deg_time_eye_second , one_deg_pos_eye_second =  px_deg_eye(data_eye_hc_second,'left')\n",
    "            one_deg_second = pd.DataFrame({'x2_'+str(os.path.basename(file_hc)):one_deg_time_eye_second,\n",
    "            'y2_'+str(os.path.basename(file_hc)):one_deg_pos_eye_second})\n",
    "\n",
    "            df_subject = pd.concat([one_deg_first,one_deg_second],axis=1)\n",
    "\n",
    "            frames.append(df_subject)\n",
    "\n",
    "\n",
    "    one_deg = pd.concat(frames,axis=1)\n",
    "   \n",
    "    one_deg.to_csv('four_deg.csv',index=False)"
   ]
  },
  {
   "cell_type": "code",
   "execution_count": null,
   "metadata": {},
   "outputs": [],
   "source": [
    "# one degree\n",
    "def csv(speed):\n",
    "    frames = []\n",
    "    for file_hc in files_hc:  \n",
    "        # Data preporcessing\n",
    "        # Interpolate the NaN values with linear\n",
    "        data_hc  = pd.read_excel(file_hc+'/'+speed)#.interpolate()\n",
    "        pupil_size = np.array(data_hc['PupilRight'][0:28000])\n",
    "        sti = data_hc[data_hc['StudioEvent'].isin(option)].index # Caculating start and end of stimuli\n",
    "        \n",
    "        if right in str(os.path.basename(file_hc)):\n",
    "\n",
    "            # First Trial\n",
    "            data_eye_hc_first = data_hc[sti[0]:sti[0]+28000] # first trial index\n",
    "            time_eye , pos_eye =  px_deg_eye(data_eye_hc_first,'right')\n",
    "            # Remove lower than -12 values\n",
    "            data_arr = {'Time':time_eye,'POS':pos_eye}#,#'PUP':pupil_size}\n",
    "            data = pd.DataFrame(data_arr)\n",
    "            # filter blinks\n",
    "            position,time = filter_blinks(data['POS'],data['Time'],pupil_size)\n",
    "            data_fil= {'Time':time,'POS':position}#,#'PUP':pupil_size}\n",
    "            data_fil = pd.DataFrame(data_fil)\n",
    "            \n",
    "            # Remove the spike values and interpolate\n",
    "            window_size = 7\n",
    "            data_fil['POS'] = data_fil['POS'].rolling(window=window_size, center=True).median()\n",
    "\n",
    "            # # interpolate\n",
    "            data_fil['POS'] = data_fil['POS'].interpolate(method='spline', order=5)\n",
    "            time_eye , pos_eye =  data_fil['Time'], data_fil['POS']\n",
    "\n",
    "            FirstTrial = pd.DataFrame({'x1_'+str(os.path.basename(file_hc)):time_eye,\n",
    "            'y1_'+str(os.path.basename(file_hc)):pos_eye})\n",
    "\n",
    "\n",
    "            # Second Trial\n",
    "            data_eye_hc_second = data_hc[sti[1]:sti[1]+28000]\n",
    "            time_eye , pos_eye =  px_deg_eye(data_eye_hc_second,'right')\n",
    "            # Remove lower than -12 values\n",
    "            data_arr = {'Time':time_eye,'POS':pos_eye}#,#'PUP':pupil_size}\n",
    "            data = pd.DataFrame(data_arr)\n",
    "            \n",
    "            # filter blinks\n",
    "            position,time = filter_blinks(data['POS'],data['Time'],pupil_size)\n",
    "\n",
    "            data_fil= {'Time':time,'POS':position}#,#'PUP':pupil_size}\n",
    "            data_fil = pd.DataFrame(data_fil)\n",
    "            # #data_pd001['POS'] = pos_no_blinks\n",
    "            # Remove the spike values and interpolate\n",
    "            window_size = 7\n",
    "            data_fil['POS'] = data_fil['POS'].rolling(window=window_size, center=True).median()\n",
    "\n",
    "            # # interpolate\n",
    "            data_fil['POS'] = data_fil['POS'].interpolate(method='spline', order=5)\n",
    "            time_eye , pos_eye =  data_fil['Time'], data_fil['POS']\n",
    "            SecondTrial = pd.DataFrame({'x2_'+str(os.path.basename(file_hc)):time_eye,\n",
    "            'y2_'+str(os.path.basename(file_hc)):pos_eye})\n",
    "\n",
    "            df_subject = pd.concat([FirstTrial,SecondTrial],axis=1)\n",
    "\n",
    "            frames.append(df_subject)\n",
    "        else:\n",
    "            # First Trial\n",
    "            data_eye_hc_first = data_hc[sti[0]:sti[0]+28000] # first trial index\n",
    "            time_eye , pos_eye =  px_deg_eye(data_eye_hc_first,'left')\n",
    "            # Remove lower than -12 values\n",
    "            data_arr = {'Time':time_eye,'POS':pos_eye}#,#'PUP':pupil_size}\n",
    "            data = pd.DataFrame(data_arr)\n",
    "            \n",
    "\n",
    "            # filter blinks\n",
    "            position,time = filter_blinks(data['POS'],data['Time'],pupil_size)\n",
    "            data_fil= {'Time':time,'POS':position}#,#'PUP':pupil_size}\n",
    "            data_fil = pd.DataFrame(data_fil)\n",
    "            \n",
    "            # Remove the spike values and interpolate\n",
    "            window_size = 7\n",
    "            data_fil['POS'] = data_fil['POS'].rolling(window=window_size, center=True).median()\n",
    "\n",
    "            # # interpolate\n",
    "            data_fil['POS'] = data_fil['POS'].interpolate(method='spline', order=5)\n",
    "            time_eye , pos_eye =  data_fil['Time'], data_fil['POS']\n",
    "\n",
    "            FirstTrial = pd.DataFrame({'x1_'+str(os.path.basename(file_hc)):time_eye,\n",
    "            'y1_'+str(os.path.basename(file_hc)):pos_eye})\n",
    "\n",
    "\n",
    "            # Second Trial\n",
    "            data_eye_hc_second = data_hc[sti[1]:sti[1]+28000]\n",
    "            time_eye , pos_eye =  px_deg_eye(data_eye_hc_second,'left')\n",
    "            # Remove lower than -12 values\n",
    "            data_arr = {'Time':time_eye,'POS':pos_eye}#,#'PUP':pupil_size}\n",
    "            data = pd.DataFrame(data_arr)\n",
    "            \n",
    "            # filter blinks\n",
    "            position,time = filter_blinks(data['POS'],data['Time'],pupil_size)\n",
    "\n",
    "            data_fil= {'Time':time,'POS':position}#,#'PUP':pupil_size}\n",
    "            data_fil = pd.DataFrame(data_fil)\n",
    "            # #data_pd001['POS'] = pos_no_blinks\n",
    "            # Remove the spike values and interpolate\n",
    "            window_size = 7\n",
    "            data_fil['POS'] = data_fil['POS'].rolling(window=window_size, center=True).median()\n",
    "\n",
    "            # # interpolate\n",
    "            data_fil['POS'] = data_fil['POS'].interpolate(method='spline', order=5)\n",
    "            time_eye , pos_eye =  data_fil['Time'], data_fil['POS']\n",
    "            SecondTrial = pd.DataFrame({'x2_'+str(os.path.basename(file_hc)):time_eye,\n",
    "            'y2_'+str(os.path.basename(file_hc)):pos_eye})\n",
    "\n",
    "            df_subject = pd.concat([FirstTrial,SecondTrial],axis=1)\n",
    "\n",
    "            frames.append(df_subject)\n",
    "\n",
    "\n",
    "    one_deg = pd.concat(frames,axis=1)\n",
    "   \n",
    "    one_deg.to_csv('one_deg_long.csv',index=False)"
   ]
  },
  {
   "cell_type": "code",
   "execution_count": null,
   "metadata": {},
   "outputs": [],
   "source": []
  }
 ],
 "metadata": {
  "kernelspec": {
   "display_name": "Python 3.9.5 ('ds')",
   "language": "python",
   "name": "python3"
  },
  "language_info": {
   "codemirror_mode": {
    "name": "ipython",
    "version": 3
   },
   "file_extension": ".py",
   "mimetype": "text/x-python",
   "name": "python",
   "nbconvert_exporter": "python",
   "pygments_lexer": "ipython3",
   "version": "3.9.5"
  },
  "orig_nbformat": 4,
  "vscode": {
   "interpreter": {
    "hash": "37e48532695005f6b8be481dca9311b0406960c07b920c9bcff5b3361c45626c"
   }
  }
 },
 "nbformat": 4,
 "nbformat_minor": 2
}
