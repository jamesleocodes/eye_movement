{
 "cells": [
  {
   "cell_type": "code",
   "execution_count": 16,
   "metadata": {},
   "outputs": [],
   "source": [
    "\"\"\"\n",
    "Created on Tuesday 9 Feb 2023\n",
    "Author: ZAW\n",
    "\"\"\"\n",
    "#import libraries\n",
    "import numpy as np\n",
    "import pandas as pd\n",
    "import matplotlib.pyplot as plt\n",
    "import glob\n",
    "from scipy import signal"
   ]
  },
  {
   "cell_type": "code",
   "execution_count": 17,
   "metadata": {},
   "outputs": [],
   "source": [
    "# Read dataset for a , b, c value\n",
    "# data path\n",
    "path = os.getcwd()\n",
    "dirname = os.path.dirname(path)\n",
    "data_file = 'data/data.csv'\n",
    "data_path = os.path.join(dirname,data_file)\n",
    "data = pd.read_csv(data_path)"
   ]
  },
  {
   "cell_type": "code",
   "execution_count": 18,
   "metadata": {},
   "outputs": [
    {
     "data": {
      "text/html": [
       "<div>\n",
       "<style scoped>\n",
       "    .dataframe tbody tr th:only-of-type {\n",
       "        vertical-align: middle;\n",
       "    }\n",
       "\n",
       "    .dataframe tbody tr th {\n",
       "        vertical-align: top;\n",
       "    }\n",
       "\n",
       "    .dataframe thead th {\n",
       "        text-align: right;\n",
       "    }\n",
       "</style>\n",
       "<table border=\"1\" class=\"dataframe\">\n",
       "  <thead>\n",
       "    <tr style=\"text-align: right;\">\n",
       "      <th></th>\n",
       "      <th>Label</th>\n",
       "      <th>Patient</th>\n",
       "      <th>A1_1Deg</th>\n",
       "      <th>A1_1Deg_err</th>\n",
       "      <th>B1_1Deg</th>\n",
       "      <th>B1_1Deg_err</th>\n",
       "      <th>C1_1Deg</th>\n",
       "      <th>C1_1Deg_err</th>\n",
       "      <th>1_Deg_ResSoS_1</th>\n",
       "      <th>1Deg_AdjR2_1</th>\n",
       "      <th>...</th>\n",
       "      <th>8_Deg_ResSoS_1</th>\n",
       "      <th>8Deg_AdjR2_1</th>\n",
       "      <th>A2_8Deg</th>\n",
       "      <th>A2_8Deg_err</th>\n",
       "      <th>B2_8Deg</th>\n",
       "      <th>B2_8Deg_err</th>\n",
       "      <th>C2_8Deg</th>\n",
       "      <th>C2_8Deg_err</th>\n",
       "      <th>8_Deg_ResSoS_2</th>\n",
       "      <th>8Deg_AdjR2_2</th>\n",
       "    </tr>\n",
       "  </thead>\n",
       "  <tbody>\n",
       "    <tr>\n",
       "      <th>0</th>\n",
       "      <td>Not_Parkinson's</td>\n",
       "      <td>PD001</td>\n",
       "      <td>10.388190</td>\n",
       "      <td>0.006132</td>\n",
       "      <td>0.049329</td>\n",
       "      <td>0.000006</td>\n",
       "      <td>0.011989</td>\n",
       "      <td>0.000337</td>\n",
       "      <td>8928.709194</td>\n",
       "      <td>0.990598</td>\n",
       "      <td>...</td>\n",
       "      <td>6698.838281</td>\n",
       "      <td>0.951413</td>\n",
       "      <td>10.273124</td>\n",
       "      <td>0.044206</td>\n",
       "      <td>0.386347</td>\n",
       "      <td>0.000384</td>\n",
       "      <td>0.037356</td>\n",
       "      <td>0.002439</td>\n",
       "      <td>6809.455800</td>\n",
       "      <td>0.939095</td>\n",
       "    </tr>\n",
       "    <tr>\n",
       "      <th>1</th>\n",
       "      <td>Not_Parkinson's</td>\n",
       "      <td>PD002</td>\n",
       "      <td>10.429055</td>\n",
       "      <td>0.006929</td>\n",
       "      <td>0.049478</td>\n",
       "      <td>0.000007</td>\n",
       "      <td>0.002837</td>\n",
       "      <td>0.000379</td>\n",
       "      <td>11388.604704</td>\n",
       "      <td>0.988092</td>\n",
       "      <td>...</td>\n",
       "      <td>4769.901822</td>\n",
       "      <td>0.967360</td>\n",
       "      <td>11.482500</td>\n",
       "      <td>0.049154</td>\n",
       "      <td>0.395412</td>\n",
       "      <td>0.000380</td>\n",
       "      <td>-0.002486</td>\n",
       "      <td>0.002419</td>\n",
       "      <td>8383.481840</td>\n",
       "      <td>0.939586</td>\n",
       "    </tr>\n",
       "    <tr>\n",
       "      <th>2</th>\n",
       "      <td>Not_Parkinson's</td>\n",
       "      <td>PD003</td>\n",
       "      <td>10.097088</td>\n",
       "      <td>0.005091</td>\n",
       "      <td>0.049368</td>\n",
       "      <td>0.000006</td>\n",
       "      <td>0.005707</td>\n",
       "      <td>0.000287</td>\n",
       "      <td>6140.292312</td>\n",
       "      <td>0.993141</td>\n",
       "      <td>...</td>\n",
       "      <td>3488.747176</td>\n",
       "      <td>0.968709</td>\n",
       "      <td>10.084338</td>\n",
       "      <td>0.019838</td>\n",
       "      <td>0.394595</td>\n",
       "      <td>0.000174</td>\n",
       "      <td>-0.035466</td>\n",
       "      <td>0.001106</td>\n",
       "      <td>1349.962240</td>\n",
       "      <td>0.987259</td>\n",
       "    </tr>\n",
       "    <tr>\n",
       "      <th>3</th>\n",
       "      <td>Not_Parkinson's</td>\n",
       "      <td>PD004</td>\n",
       "      <td>10.482881</td>\n",
       "      <td>0.022179</td>\n",
       "      <td>0.049585</td>\n",
       "      <td>0.000023</td>\n",
       "      <td>0.016056</td>\n",
       "      <td>0.001212</td>\n",
       "      <td>117748.979710</td>\n",
       "      <td>0.879372</td>\n",
       "      <td>...</td>\n",
       "      <td>10972.045844</td>\n",
       "      <td>0.920137</td>\n",
       "      <td>11.493414</td>\n",
       "      <td>0.048867</td>\n",
       "      <td>0.401386</td>\n",
       "      <td>0.000377</td>\n",
       "      <td>-0.042463</td>\n",
       "      <td>0.002395</td>\n",
       "      <td>8242.136178</td>\n",
       "      <td>0.940370</td>\n",
       "    </tr>\n",
       "    <tr>\n",
       "      <th>4</th>\n",
       "      <td>Not_Parkinson's</td>\n",
       "      <td>PD005</td>\n",
       "      <td>10.181273</td>\n",
       "      <td>0.008833</td>\n",
       "      <td>0.049368</td>\n",
       "      <td>0.000010</td>\n",
       "      <td>0.001569</td>\n",
       "      <td>0.000494</td>\n",
       "      <td>18447.340517</td>\n",
       "      <td>0.979692</td>\n",
       "      <td>...</td>\n",
       "      <td>18268.960666</td>\n",
       "      <td>0.809586</td>\n",
       "      <td>10.370348</td>\n",
       "      <td>0.036121</td>\n",
       "      <td>0.395392</td>\n",
       "      <td>0.000308</td>\n",
       "      <td>-0.030769</td>\n",
       "      <td>0.001960</td>\n",
       "      <td>4485.300264</td>\n",
       "      <td>0.960035</td>\n",
       "    </tr>\n",
       "    <tr>\n",
       "      <th>5</th>\n",
       "      <td>Not_Parkinson's</td>\n",
       "      <td>PD006</td>\n",
       "      <td>10.302529</td>\n",
       "      <td>0.010450</td>\n",
       "      <td>0.049283</td>\n",
       "      <td>0.000011</td>\n",
       "      <td>0.019735</td>\n",
       "      <td>0.000580</td>\n",
       "      <td>25994.527943</td>\n",
       "      <td>0.972249</td>\n",
       "      <td>...</td>\n",
       "      <td>7175.782112</td>\n",
       "      <td>0.938474</td>\n",
       "      <td>10.356903</td>\n",
       "      <td>0.067627</td>\n",
       "      <td>0.410282</td>\n",
       "      <td>0.000584</td>\n",
       "      <td>-0.052723</td>\n",
       "      <td>0.003707</td>\n",
       "      <td>16046.923323</td>\n",
       "      <td>0.859535</td>\n",
       "    </tr>\n",
       "    <tr>\n",
       "      <th>6</th>\n",
       "      <td>Not_Parkinson's</td>\n",
       "      <td>PD007</td>\n",
       "      <td>9.934379</td>\n",
       "      <td>0.007838</td>\n",
       "      <td>0.049209</td>\n",
       "      <td>0.000009</td>\n",
       "      <td>0.003633</td>\n",
       "      <td>0.000449</td>\n",
       "      <td>14490.496516</td>\n",
       "      <td>0.983200</td>\n",
       "      <td>...</td>\n",
       "      <td>1465.027123</td>\n",
       "      <td>0.985896</td>\n",
       "      <td>9.801698</td>\n",
       "      <td>0.024067</td>\n",
       "      <td>0.397850</td>\n",
       "      <td>0.000217</td>\n",
       "      <td>-0.045138</td>\n",
       "      <td>0.001380</td>\n",
       "      <td>1986.965945</td>\n",
       "      <td>0.980134</td>\n",
       "    </tr>\n",
       "    <tr>\n",
       "      <th>7</th>\n",
       "      <td>Not_Parkinson's</td>\n",
       "      <td>PD008</td>\n",
       "      <td>9.861257</td>\n",
       "      <td>0.026999</td>\n",
       "      <td>0.049220</td>\n",
       "      <td>0.000030</td>\n",
       "      <td>0.051865</td>\n",
       "      <td>0.001576</td>\n",
       "      <td>176009.839073</td>\n",
       "      <td>0.798036</td>\n",
       "      <td>...</td>\n",
       "      <td>15508.422642</td>\n",
       "      <td>0.870504</td>\n",
       "      <td>8.591437</td>\n",
       "      <td>0.105215</td>\n",
       "      <td>0.415729</td>\n",
       "      <td>0.001098</td>\n",
       "      <td>-0.078941</td>\n",
       "      <td>0.006967</td>\n",
       "      <td>39005.324498</td>\n",
       "      <td>0.507026</td>\n",
       "    </tr>\n",
       "    <tr>\n",
       "      <th>8</th>\n",
       "      <td>Not_Parkinson's</td>\n",
       "      <td>PD009</td>\n",
       "      <td>10.221777</td>\n",
       "      <td>0.005149</td>\n",
       "      <td>0.049244</td>\n",
       "      <td>0.000006</td>\n",
       "      <td>0.002274</td>\n",
       "      <td>0.000287</td>\n",
       "      <td>6253.730577</td>\n",
       "      <td>0.993152</td>\n",
       "      <td>...</td>\n",
       "      <td>849.603210</td>\n",
       "      <td>0.992275</td>\n",
       "      <td>10.305625</td>\n",
       "      <td>0.022845</td>\n",
       "      <td>0.396998</td>\n",
       "      <td>0.000196</td>\n",
       "      <td>-0.056233</td>\n",
       "      <td>0.001244</td>\n",
       "      <td>1783.111545</td>\n",
       "      <td>0.983816</td>\n",
       "    </tr>\n",
       "    <tr>\n",
       "      <th>9</th>\n",
       "      <td>Not_Parkinson's</td>\n",
       "      <td>PD010</td>\n",
       "      <td>10.244784</td>\n",
       "      <td>0.017579</td>\n",
       "      <td>0.050004</td>\n",
       "      <td>0.000019</td>\n",
       "      <td>-0.015054</td>\n",
       "      <td>0.000981</td>\n",
       "      <td>73606.211066</td>\n",
       "      <td>0.920684</td>\n",
       "      <td>...</td>\n",
       "      <td>13818.787560</td>\n",
       "      <td>0.878166</td>\n",
       "      <td>10.997960</td>\n",
       "      <td>0.085181</td>\n",
       "      <td>0.406918</td>\n",
       "      <td>0.000690</td>\n",
       "      <td>-0.043189</td>\n",
       "      <td>0.004387</td>\n",
       "      <td>25335.919452</td>\n",
       "      <td>0.802179</td>\n",
       "    </tr>\n",
       "  </tbody>\n",
       "</table>\n",
       "<p>10 rows × 82 columns</p>\n",
       "</div>"
      ],
      "text/plain": [
       "             Label Patient    A1_1Deg  A1_1Deg_err   B1_1Deg  B1_1Deg_err  \\\n",
       "0  Not_Parkinson's   PD001  10.388190     0.006132  0.049329     0.000006   \n",
       "1  Not_Parkinson's   PD002  10.429055     0.006929  0.049478     0.000007   \n",
       "2  Not_Parkinson's   PD003  10.097088     0.005091  0.049368     0.000006   \n",
       "3  Not_Parkinson's   PD004  10.482881     0.022179  0.049585     0.000023   \n",
       "4  Not_Parkinson's   PD005  10.181273     0.008833  0.049368     0.000010   \n",
       "5  Not_Parkinson's   PD006  10.302529     0.010450  0.049283     0.000011   \n",
       "6  Not_Parkinson's   PD007   9.934379     0.007838  0.049209     0.000009   \n",
       "7  Not_Parkinson's   PD008   9.861257     0.026999  0.049220     0.000030   \n",
       "8  Not_Parkinson's   PD009  10.221777     0.005149  0.049244     0.000006   \n",
       "9  Not_Parkinson's   PD010  10.244784     0.017579  0.050004     0.000019   \n",
       "\n",
       "    C1_1Deg  C1_1Deg_err  1_Deg_ResSoS_1  1Deg_AdjR2_1  ...  8_Deg_ResSoS_1  \\\n",
       "0  0.011989     0.000337     8928.709194      0.990598  ...     6698.838281   \n",
       "1  0.002837     0.000379    11388.604704      0.988092  ...     4769.901822   \n",
       "2  0.005707     0.000287     6140.292312      0.993141  ...     3488.747176   \n",
       "3  0.016056     0.001212   117748.979710      0.879372  ...    10972.045844   \n",
       "4  0.001569     0.000494    18447.340517      0.979692  ...    18268.960666   \n",
       "5  0.019735     0.000580    25994.527943      0.972249  ...     7175.782112   \n",
       "6  0.003633     0.000449    14490.496516      0.983200  ...     1465.027123   \n",
       "7  0.051865     0.001576   176009.839073      0.798036  ...    15508.422642   \n",
       "8  0.002274     0.000287     6253.730577      0.993152  ...      849.603210   \n",
       "9 -0.015054     0.000981    73606.211066      0.920684  ...    13818.787560   \n",
       "\n",
       "   8Deg_AdjR2_1    A2_8Deg  A2_8Deg_err   B2_8Deg  B2_8Deg_err   C2_8Deg  \\\n",
       "0      0.951413  10.273124     0.044206  0.386347     0.000384  0.037356   \n",
       "1      0.967360  11.482500     0.049154  0.395412     0.000380 -0.002486   \n",
       "2      0.968709  10.084338     0.019838  0.394595     0.000174 -0.035466   \n",
       "3      0.920137  11.493414     0.048867  0.401386     0.000377 -0.042463   \n",
       "4      0.809586  10.370348     0.036121  0.395392     0.000308 -0.030769   \n",
       "5      0.938474  10.356903     0.067627  0.410282     0.000584 -0.052723   \n",
       "6      0.985896   9.801698     0.024067  0.397850     0.000217 -0.045138   \n",
       "7      0.870504   8.591437     0.105215  0.415729     0.001098 -0.078941   \n",
       "8      0.992275  10.305625     0.022845  0.396998     0.000196 -0.056233   \n",
       "9      0.878166  10.997960     0.085181  0.406918     0.000690 -0.043189   \n",
       "\n",
       "   C2_8Deg_err  8_Deg_ResSoS_2  8Deg_AdjR2_2  \n",
       "0     0.002439     6809.455800      0.939095  \n",
       "1     0.002419     8383.481840      0.939586  \n",
       "2     0.001106     1349.962240      0.987259  \n",
       "3     0.002395     8242.136178      0.940370  \n",
       "4     0.001960     4485.300264      0.960035  \n",
       "5     0.003707    16046.923323      0.859535  \n",
       "6     0.001380     1986.965945      0.980134  \n",
       "7     0.006967    39005.324498      0.507026  \n",
       "8     0.001244     1783.111545      0.983816  \n",
       "9     0.004387    25335.919452      0.802179  \n",
       "\n",
       "[10 rows x 82 columns]"
      ]
     },
     "execution_count": 18,
     "metadata": {},
     "output_type": "execute_result"
    }
   ],
   "source": [
    "# View top 10 rows in dataframe\n",
    "data.head(10)"
   ]
  },
  {
   "cell_type": "code",
   "execution_count": 19,
   "metadata": {},
   "outputs": [
    {
     "name": "stderr",
     "output_type": "stream",
     "text": [
      "/Users/zaw/miniforge3/envs/ds/lib/python3.9/site-packages/openpyxl/styles/stylesheet.py:226: UserWarning: Workbook contains no default style, apply openpyxl's default\n",
      "  warn(\"Workbook contains no default style, apply openpyxl's default\")\n"
     ]
    }
   ],
   "source": [
    "# read SPEM data\n",
    "data_001 = 'data/Parkinson_pursuit testing_Rec 40.xlsx'\n",
    "data_path = os.path.join(dirname,data_001)\n",
    "data_sp = pd.read_excel(data_path)"
   ]
  },
  {
   "cell_type": "code",
   "execution_count": 25,
   "metadata": {},
   "outputs": [],
   "source": [
    "# for eye pixel calculating\n",
    "def px_deg_eye(data,dominant_eye):\n",
    "    time_eye = []\n",
    "    pos_eye = []\n",
    "    if dominant_eye == 'right':\n",
    "        for y in data['GazePointRightX (ADCSpx)']:\n",
    "            new_y = round((y - 960)/49.6,4) # horizontal center:960x540 pixel : 1 deg = 49.6 pixel\n",
    "            pos_eye.append(new_y)\n",
    "    elif dominant_eye == 'left':\n",
    "        for y in data['GazePointLeftX (ADCSpx)']:\n",
    "            new_y = round((y - 960)/49.6,4) # horizontal center:960x540 pixel : 1 deg = 49.6 pixel\n",
    "            pos_eye.append(new_y)\n",
    "    for x in range(1,len(pos_eye)+1):\n",
    "        new_x = round((1/300)*x,4) # for tobii's eye tracker with 300 Hz sampling rate\n",
    "        time_eye.append(new_x)\n",
    "    return time_eye,pos_eye"
   ]
  },
  {
   "cell_type": "code",
   "execution_count": 26,
   "metadata": {},
   "outputs": [],
   "source": [
    "# event starts and ends\n",
    "option = ['URLStart','URLEnd'] # This is the values in the Studio event column where stimuli start and end events from dataset\n",
    "sti = data_sp[data_sp['StudioEvent'].isin(option)].index # Caculating start and end of stimuli\n",
    "data_eye_hc_first = data_sp[sti[0]+4000:sti[0]+28200] # Real recoding starting time\n",
    "one_deg_time_eye , one_deg_pos_eye =  px_deg_eye(data_eye_hc_first,'right')"
   ]
  },
  {
   "cell_type": "code",
   "execution_count": 27,
   "metadata": {},
   "outputs": [
    {
     "data": {
      "image/png": "[encoded data removed]",
      "text/plain": [
       "<Figure size 432x288 with 1 Axes>"
      ]
     },
     "metadata": {
      "needs_background": "light"
     },
     "output_type": "display_data"
    }
   ],
   "source": [
    "# Plot the data\n",
    "plt.plot(one_deg_time_eye,one_deg_pos_eye)\n",
    "plt.xlabel('Time(s)')\n",
    "plt.ylabel('POS')\n",
    "plt.show()"
   ]
  },
  {
   "cell_type": "code",
   "execution_count": 28,
   "metadata": {},
   "outputs": [],
   "source": [
    "# # Filter\n",
    "# import numpy as np\n",
    "# import matplotlib.pyplot as plt\n",
    "\n",
    "# # Define the period and number of samples per period\n",
    "# period = 2*np.pi\n",
    "# num_samples = 200\n",
    "\n",
    "# # Create a sequence of time values for two periods\n",
    "# t = np.linspace(0, 2*period, 2*num_samples)\n",
    "\n",
    "# # Create a triangular wave with amplitude of 1\n",
    "# tri_wave = np.abs((t % period) - (period/2)) - (period/4)\n",
    "\n",
    "# # Plot the waveform\n",
    "# plt.plot(t, tri_wave)\n",
    "# plt.xlabel('Time')\n",
    "# plt.ylabel('Amplitude')\n",
    "# plt.show()"
   ]
  },
  {
   "cell_type": "code",
   "execution_count": 29,
   "metadata": {},
   "outputs": [],
   "source": [
    "# Fitted values a, b, c\n",
    "a = data.loc[1,'A1_1Deg',]\n",
    "b = data.loc[1,'B1_1Deg',]\n",
    "#c = data.loc[1,'C1_1Deg',]\n",
    "period = 2*np.pi\n",
    "num_samples = 200\n",
    "filter_t = np.linspace(0, 2*period, 2*num_samples)\n",
    "filter = signal.sawtooth(2 * np.pi * b * filter_t, width=a)"
   ]
  },
  {
   "cell_type": "code",
   "execution_count": 30,
   "metadata": {},
   "outputs": [],
   "source": [
    "# Apply the filter to the noisy triangle wave\n",
    "y = np.convolve(one_deg_time_eye, filter, mode='same')\n"
   ]
  },
  {
   "cell_type": "code",
   "execution_count": 31,
   "metadata": {},
   "outputs": [],
   "source": [
    "# Compute filtered noise values as a DataFrame\n",
    "noise_df = pd.DataFrame({'Time': one_deg_pos_eye, 'Noise': (one_deg_time_eye - y)})"
   ]
  },
  {
   "cell_type": "code",
   "execution_count": 32,
   "metadata": {},
   "outputs": [],
   "source": [
    "# Identify segments\n",
    "threshold = 0.05\n",
    "noisy_segments = []\n",
    "segment_start = None\n",
    "for i in range(len(noise_df)):\n",
    "    if abs(noise_df.loc[i, 'Noise']) > threshold:\n",
    "        if segment_start is None:\n",
    "            segment_start = i\n",
    "    else:\n",
    "        if segment_start is not None:\n",
    "            segment_end = i\n",
    "            noisy_segments.append((segment_start, segment_end))\n",
    "            segment_start = None\n",
    "if segment_start is not None:\n",
    "    noisy_segments.append((segment_start, len(noise_df)))"
   ]
  },
  {
   "cell_type": "code",
   "execution_count": 182,
   "metadata": {},
   "outputs": [
    {
     "data": {
      "text/plain": [
       "[]"
      ]
     },
     "execution_count": 182,
     "metadata": {},
     "output_type": "execute_result"
    }
   ],
   "source": [
    "noisy_segments "
   ]
  },
  {
   "cell_type": "code",
   "execution_count": 183,
   "metadata": {},
   "outputs": [
    {
     "data": {
      "text/html": [
       "<div>\n",
       "<style scoped>\n",
       "    .dataframe tbody tr th:only-of-type {\n",
       "        vertical-align: middle;\n",
       "    }\n",
       "\n",
       "    .dataframe tbody tr th {\n",
       "        vertical-align: top;\n",
       "    }\n",
       "\n",
       "    .dataframe thead th {\n",
       "        text-align: right;\n",
       "    }\n",
       "</style>\n",
       "<table border=\"1\" class=\"dataframe\">\n",
       "  <thead>\n",
       "    <tr style=\"text-align: right;\">\n",
       "      <th></th>\n",
       "      <th>Time</th>\n",
       "      <th>Noise</th>\n",
       "    </tr>\n",
       "  </thead>\n",
       "  <tbody>\n",
       "    <tr>\n",
       "      <th>0</th>\n",
       "      <td>10.3024</td>\n",
       "      <td>NaN</td>\n",
       "    </tr>\n",
       "    <tr>\n",
       "      <th>1</th>\n",
       "      <td>10.6250</td>\n",
       "      <td>NaN</td>\n",
       "    </tr>\n",
       "    <tr>\n",
       "      <th>2</th>\n",
       "      <td>10.4839</td>\n",
       "      <td>NaN</td>\n",
       "    </tr>\n",
       "    <tr>\n",
       "      <th>3</th>\n",
       "      <td>10.4435</td>\n",
       "      <td>NaN</td>\n",
       "    </tr>\n",
       "    <tr>\n",
       "      <th>4</th>\n",
       "      <td>10.6250</td>\n",
       "      <td>NaN</td>\n",
       "    </tr>\n",
       "    <tr>\n",
       "      <th>...</th>\n",
       "      <td>...</td>\n",
       "      <td>...</td>\n",
       "    </tr>\n",
       "    <tr>\n",
       "      <th>24195</th>\n",
       "      <td>10.3831</td>\n",
       "      <td>NaN</td>\n",
       "    </tr>\n",
       "    <tr>\n",
       "      <th>24196</th>\n",
       "      <td>10.7661</td>\n",
       "      <td>NaN</td>\n",
       "    </tr>\n",
       "    <tr>\n",
       "      <th>24197</th>\n",
       "      <td>10.4435</td>\n",
       "      <td>NaN</td>\n",
       "    </tr>\n",
       "    <tr>\n",
       "      <th>24198</th>\n",
       "      <td>10.9073</td>\n",
       "      <td>NaN</td>\n",
       "    </tr>\n",
       "    <tr>\n",
       "      <th>24199</th>\n",
       "      <td>10.7863</td>\n",
       "      <td>NaN</td>\n",
       "    </tr>\n",
       "  </tbody>\n",
       "</table>\n",
       "<p>24200 rows × 2 columns</p>\n",
       "</div>"
      ],
      "text/plain": [
       "          Time  Noise\n",
       "0      10.3024    NaN\n",
       "1      10.6250    NaN\n",
       "2      10.4839    NaN\n",
       "3      10.4435    NaN\n",
       "4      10.6250    NaN\n",
       "...        ...    ...\n",
       "24195  10.3831    NaN\n",
       "24196  10.7661    NaN\n",
       "24197  10.4435    NaN\n",
       "24198  10.9073    NaN\n",
       "24199  10.7863    NaN\n",
       "\n",
       "[24200 rows x 2 columns]"
      ]
     },
     "execution_count": 183,
     "metadata": {},
     "output_type": "execute_result"
    }
   ],
   "source": [
    "noise_df"
   ]
  },
  {
   "cell_type": "code",
   "execution_count": 33,
   "metadata": {},
   "outputs": [],
   "source": [
    "position = np.loadtxt('position.txt')\n",
    "time = np.loadtxt('time.txt')"
   ]
  },
  {
   "cell_type": "code",
   "execution_count": 34,
   "metadata": {},
   "outputs": [],
   "source": [
    "#Determine the start and end positions of the eye movement.\n",
    "start_pos = position[0]\n",
    "end_pos = position[-1]"
   ]
  },
  {
   "cell_type": "code",
   "execution_count": 35,
   "metadata": {},
   "outputs": [],
   "source": [
    "#Calculate the distance traveled by the eye.\n",
    "distance = np.abs(end_pos - start_pos)"
   ]
  },
  {
   "cell_type": "code",
   "execution_count": 36,
   "metadata": {},
   "outputs": [],
   "source": [
    "#Calculate the duration of the eye movement.\n",
    "duration = time[-1] - time[0]"
   ]
  },
  {
   "cell_type": "code",
   "execution_count": 37,
   "metadata": {},
   "outputs": [],
   "source": [
    "#Calculate the gain of the eye movement.\n",
    "gain = distance / duration"
   ]
  },
  {
   "cell_type": "code",
   "execution_count": 38,
   "metadata": {},
   "outputs": [
    {
     "name": "stdout",
     "output_type": "stream",
     "text": [
      "Gain: 7.5920842858227395\n"
     ]
    }
   ],
   "source": [
    "print('Gain:', gain)"
   ]
  },
  {
   "cell_type": "code",
   "execution_count": 41,
   "metadata": {},
   "outputs": [],
   "source": [
    "# define sliding window parameters\n",
    "window_size = 100  # number of data points in each window#\n",
    "# On condtion\n",
    "stride = 50  # number of data points to move the window for each iteration\n",
    "# Need to put condition"
   ]
  },
  {
   "cell_type": "code",
   "execution_count": 42,
   "metadata": {},
   "outputs": [],
   "source": [
    "# calculate standard deviation within each window\n",
    "std_devs = []\n",
    "for i in range(0, len(position) - window_size, stride):\n",
    "    std_devs.append(np.std(position[i:i+window_size]))"
   ]
  },
  {
   "cell_type": "code",
   "execution_count": 1,
   "metadata": {},
   "outputs": [
    {
     "ename": "NameError",
     "evalue": "name 'std_devs' is not defined",
     "output_type": "error",
     "traceback": [
      "\u001b[0;31m---------------------------------------------------------------------------\u001b[0m",
      "\u001b[0;31mNameError\u001b[0m                                 Traceback (most recent call last)",
      "\u001b[0;32m/var/folders/hj/4_1_bgn11_dgm99bq0lnjxl80000gn/T/ipykernel_55744/1254396559.py\u001b[0m in \u001b[0;36m<module>\u001b[0;34m\u001b[0m\n\u001b[1;32m      2\u001b[0m \u001b[0mthreshold\u001b[0m \u001b[0;34m=\u001b[0m \u001b[0;36m1\u001b[0m  \u001b[0;31m# adjust as necessary\u001b[0m\u001b[0;34m\u001b[0m\u001b[0;34m\u001b[0m\u001b[0m\n\u001b[1;32m      3\u001b[0m \u001b[0msmooth_segments\u001b[0m \u001b[0;34m=\u001b[0m \u001b[0;34m[\u001b[0m\u001b[0;34m]\u001b[0m\u001b[0;34m\u001b[0m\u001b[0;34m\u001b[0m\u001b[0m\n\u001b[0;32m----> 4\u001b[0;31m \u001b[0;32mfor\u001b[0m \u001b[0mi\u001b[0m \u001b[0;32min\u001b[0m \u001b[0mrange\u001b[0m\u001b[0;34m(\u001b[0m\u001b[0mlen\u001b[0m\u001b[0;34m(\u001b[0m\u001b[0mstd_devs\u001b[0m\u001b[0;34m)\u001b[0m\u001b[0;34m)\u001b[0m\u001b[0;34m:\u001b[0m\u001b[0;34m\u001b[0m\u001b[0;34m\u001b[0m\u001b[0m\n\u001b[0m\u001b[1;32m      5\u001b[0m     \u001b[0;32mif\u001b[0m \u001b[0mstd_devs\u001b[0m\u001b[0;34m[\u001b[0m\u001b[0mi\u001b[0m\u001b[0;34m]\u001b[0m \u001b[0;34m<\u001b[0m \u001b[0mthreshold\u001b[0m\u001b[0;34m:\u001b[0m\u001b[0;34m\u001b[0m\u001b[0;34m\u001b[0m\u001b[0m\n\u001b[1;32m      6\u001b[0m         \u001b[0mstart\u001b[0m \u001b[0;34m=\u001b[0m \u001b[0mi\u001b[0m \u001b[0;34m*\u001b[0m \u001b[0mstride\u001b[0m\u001b[0;34m\u001b[0m\u001b[0;34m\u001b[0m\u001b[0m\n",
      "\u001b[0;31mNameError\u001b[0m: name 'std_devs' is not defined"
     ]
    }
   ],
   "source": [
    "# set a threshold to determine which segments are smooth\n",
    "threshold = 1  # adjust as necessary\n",
    "smooth_segments = []\n",
    "for i in range(len(std_devs)):\n",
    "    if std_devs[i] < threshold:\n",
    "        start = i * stride\n",
    "        end = start + window_size\n",
    "        smooth_segments.append((start, end))"
   ]
  },
  {
   "cell_type": "code",
   "execution_count": 45,
   "metadata": {},
   "outputs": [],
   "source": [
    "# Define the positions and times arrays\n",
    "positions = np.array([3.30000e-03, 6.70000e-03, 1.00000e-02, 9.00000e+01, 9.00033e+01, 9.00067e+01])\n",
    "times = np.array([-0.121, -0.1008, -0.1815, 11.7339, 11.7742, 11.7339])"
   ]
  },
  {
   "cell_type": "markdown",
   "metadata": {},
   "source": [
    "# Gain Calculation segment by segment"
   ]
  },
  {
   "cell_type": "code",
   "execution_count": 46,
   "metadata": {},
   "outputs": [],
   "source": [
    "# define sliding window parameters\n",
    "window_size = 100  # number of data points in each window\n",
    "stride = window_size - threshold  # number of data points to move the window for each iteration\n"
   ]
  },
  {
   "cell_type": "code",
   "execution_count": 47,
   "metadata": {},
   "outputs": [],
   "source": [
    "# calculate standard deviation within each window\n",
    "std_devs = []\n",
    "for i in range(0, len(position) - window_size, stride):\n",
    "    std_devs.append(np.std(position[i:i+window_size]))"
   ]
  },
  {
   "cell_type": "code",
   "execution_count": 51,
   "metadata": {},
   "outputs": [],
   "source": [
    "# set a threshold to determine which segments are smooth\n",
    "threshold = 0.2  # adjust as necessary\n",
    "smooth_segments = []\n",
    "for i in range(len(std_devs)):\n",
    "    if std_devs[i] < threshold:\n",
    "        start = i * stride\n",
    "        end = start + window_size\n",
    "\n",
    "        # calculate derivative and sudden changes within each smooth segment\n",
    "        dx = np.diff(position[start:end])\n",
    "        sudden_changes = np.where(abs(dx) > threshold)[0]\n",
    "        segment_starts = [start] + list(sudden_changes + start + 1)\n",
    "        segment_ends = list(sudden_changes + start) + [end-1]\n",
    "        segments = [(start, end) for start, end in zip(segment_starts, segment_ends)]\n",
    "        smooth_segments.extend(segments)\n",
    "\n",
    "# Need to modify\n",
    "# now `smooth_segments` is a list of tuples containing the start and end indices of the smooth segments with sudden changes in position\n"
   ]
  },
  {
   "cell_type": "code",
   "execution_count": 54,
   "metadata": {},
   "outputs": [
    {
     "data": {
      "text/plain": [
       "99"
      ]
     },
     "execution_count": 54,
     "metadata": {},
     "output_type": "execute_result"
    }
   ],
   "source": [
    "len(dx)"
   ]
  },
  {
   "cell_type": "code",
   "execution_count": 55,
   "metadata": {},
   "outputs": [
    {
     "data": {
      "text/plain": [
       "array([0.0034, 0.0033, 0.0033, 0.0034, 0.0033, 0.0033, 0.0034, 0.0033,\n",
       "       0.0033, 0.0034, 0.0033, 0.0033, 0.0034, 0.0033, 0.0033, 0.0034,\n",
       "       0.0033, 0.0033, 0.0034, 0.0033, 0.0033, 0.0034, 0.0033, 0.0033,\n",
       "       0.0034, 0.0033, 0.0033, 0.0034, 0.0033, 0.0033, 0.0034, 0.0033,\n",
       "       0.0033, 0.0034, 0.0033, 0.0033, 0.0034, 0.0033, 0.0033, 0.0034,\n",
       "       0.0033, 0.0033, 0.0034, 0.0033, 0.0033, 0.0034, 0.0033, 0.0033,\n",
       "       0.0034, 0.0033, 0.0033, 0.0034, 0.0033, 0.0033, 0.0034, 0.0033,\n",
       "       0.0033, 0.0034, 0.0033, 0.0033, 0.0034, 0.0033, 0.0033, 0.0034,\n",
       "       0.0033, 0.0033, 0.0034, 0.0033, 0.0033, 0.0034, 0.0033, 0.0033,\n",
       "       0.0034, 0.0033, 0.0033, 0.0034, 0.0033, 0.0033, 0.0034, 0.0033,\n",
       "       0.0033, 0.0034, 0.0033, 0.0033, 0.0034, 0.0033, 0.0033, 0.0034,\n",
       "       0.0033, 0.0033, 0.0034, 0.0033, 0.0033, 0.0034, 0.0033, 0.0033,\n",
       "       0.0034, 0.0033, 0.0033])"
      ]
     },
     "execution_count": 55,
     "metadata": {},
     "output_type": "execute_result"
    }
   ],
   "source": [
    "dx"
   ]
  },
  {
   "cell_type": "code",
   "execution_count": null,
   "metadata": {},
   "outputs": [],
   "source": [
    "dx"
   ]
  },
  {
   "cell_type": "code",
   "execution_count": 249,
   "metadata": {},
   "outputs": [
    {
     "name": "stdout",
     "output_type": "stream",
     "text": [
      "[(0.6374966977722218, 96.17333092476049, 0, 19), (0.6374966977722218, 96.17333092476049, 1, 20), (0.6374966977722218, 94.16479331958205, 2, 21), (0.6374966977722218, 90.26907475084299, 3, 22), (0.6374966977722218, 90.26907475084299, 4, 23), (0.6374966977722218, 90.26907475084299, 5, 24), (0.6374966977722218, 90.26907475084299, 6, 25), (0.6374966977722218, 90.26907475084299, 7, 26), (0.6374966977722218, 90.26907475084299, 8, 27), (0.6374966977722218, 90.26907475084299, 9, 28), (0.6374966977722218, 90.26907475084299, 10, 29), (0.6374966977722218, 98.22653129407932, 11, 30), (0.6374966977722218, 98.22653129407932, 12, 31), (0.6374966977722218, 98.22653129407932, 13, 32), (15.178020019373983, 98.22653129407932, 14, 33), (15.178020019373983, 98.22653129407932, 15, 34), (15.178020019373983, 98.22653129407932, 16, 35), (15.178020019373983, 98.22653129407932, 17, 36), (15.178020019373983, 98.22653129407932, 18, 37), (15.178020019373983, 98.22653129407932, 19, 38), (15.178020019373983, 98.80583879130953, 20, 39), (15.178020019373983, 98.80583879130953, 21, 40), (15.178020019373983, 98.80583879130953, 22, 41), (7.740497141635783, 98.80583879130953, 23, 42), (7.740497141635783, 98.80583879130953, 24, 43), (7.740497141635783, 98.80583879130953, 25, 44), (7.740497141635783, 98.80583879130953, 26, 45), (7.740497141635783, 98.80583879130953, 27, 46), (7.740497141635783, 98.80583879130953, 28, 47), (7.740497141635783, 98.80583879130953, 29, 48), (7.740497141635783, 98.80583879130953, 30, 49), (7.740497141635783, 98.80583879130953, 31, 50), (7.740497141635783, 98.80583879130953, 32, 51), (7.740497141635783, 98.80583879130953, 33, 52), (7.740497141635783, 98.80583879130953, 34, 53), (7.740497141635783, 98.80583879130953, 35, 54), (7.740497141635783, 98.80583879130953, 36, 55), (7.740497141635783, 98.80583879130953, 37, 56), (7.740497141635783, 98.80583879130953, 38, 57), (7.740497141635783, 99.67809794432014, 39, 58), (7.740497141635783, 99.67809794432014, 40, 59), (7.740497141635783, 99.67809794432014, 41, 60), (7.740497141635783, 99.67809794432014, 42, 61), (12.054687719047019, 99.67809794432014, 43, 62), (12.054687719047019, 99.67809794432014, 44, 63), (8.828584679298768, 99.67809794432014, 45, 64), (0.926293932689648, 99.67809794432014, 46, 65), (0.926293932689648, 99.67809794432014, 47, 66), (0.926293932689648, 99.67809794432014, 48, 67), (0.926293932689648, 99.67809794432014, 49, 68), (0.926293932689648, 99.67809794432014, 50, 69), (0.926293932689648, 99.67809794432014, 51, 70), (0.926293932689648, 99.67809794432014, 52, 71), (0.926293932689648, 99.67809794432014, 53, 72), (0.926293932689648, 99.67809794432014, 54, 73), (0.926293932689648, 99.67809794432014, 55, 74), (0.926293932689648, 99.67809794432014, 56, 75), (0.926293932689648, 99.67809794432014, 57, 76), (0.926293932689648, 99.67809794432014, 58, 77), (0.926293932689648, 98.39244484927178, 59, 78), (0.926293932689648, 98.39244484927178, 60, 79), (0.926293932689648, 98.39244484927178, 61, 80), (0.926293932689648, 98.39244484927178, 62, 81), (0.926293932689648, 98.39244484927178, 63, 82), (0.926293932689648, 86.8739044019959, 64, 83), (0.926293932689648, 86.8739044019959, 65, 84), (2.9550160431062733, 86.8739044019959, 66, 85), (2.9550160431062733, 94.26482984761164, 67, 86), (2.9550160431062733, 94.26482984761164, 68, 87), (2.9550160431062733, 94.26482984761164, 69, 88), (2.9550160431062733, 94.26482984761164, 70, 89), (2.9550160431062733, 94.26482984761164, 71, 90), (2.9550160431062733, 94.26482984761164, 72, 91), (2.9550160431062733, 94.26482984761164, 73, 92), (0.718800634308403, 94.26482984761164, 74, 93), (0.718800634308403, 94.26482984761164, 75, 94), (0.718800634308403, 94.26482984761164, 76, 95), (0.718800634308403, 94.26482984761164, 77, 96), (0.718800634308403, 94.26482984761164, 78, 97), (0.718800634308403, 94.26482984761164, 79, 98)]\n"
     ]
    }
   ],
   "source": [
    "# Define the window size and threshold for detecting sudden changes\n",
    "window_size = 10\n",
    "threshold = 0.8\n",
    "\n",
    "# Generate some sample eye movement data\n",
    "y = np.random.rand(100) * 100\n",
    "t = np.arange(100)\n",
    "\n",
    "# Initialize the list to store the segments\n",
    "segments = []\n",
    "\n",
    "# Loop through the data with a sliding window\n",
    "for i in range(window_size, len(y) - window_size):\n",
    "    # Get the position and time data for the current window\n",
    "    y_window = y[i-window_size:i+window_size]\n",
    "    t_window = t[i-window_size:i+window_size]\n",
    "\n",
    "    # Calculate the difference between the maximum and minimum positions in the window\n",
    "    y_diff = np.max(y_window) - np.min(y_window)\n",
    "\n",
    "    # Check if the difference exceeds the threshold\n",
    "    if y_diff > threshold:\n",
    "        # If so, record the segment\n",
    "        y1 = np.min(y_window)\n",
    "        y2 = np.max(y_window)\n",
    "        t1 = np.min(t_window)\n",
    "        t2 = np.max(t_window)\n",
    "        segments.append((y1, y2, t1, t2))\n",
    "\n",
    "# Print the segments that were found\n",
    "print(segments)\n"
   ]
  },
  {
   "cell_type": "code",
   "execution_count": 13,
   "metadata": {},
   "outputs": [],
   "source": [
    "# Set the threshold for sudden position changes\n",
    "threshold = 0.2\n",
    "\n",
    "\n",
    "# Initialize lists to store the segment start and end indices\n",
    "segment_starts = []\n",
    "segment_ends = []\n",
    "\n",
    "# Iterate through the positions array, starting from the second position\n",
    "i = 1\n",
    "while i < len(positions):\n",
    "    # Check if the current position is more than the threshold away from the previous position\n",
    "    if abs(positions[i] - positions[i-1]) > threshold:\n",
    "        # If it is, add the previous index as the start of a segment\n",
    "        segment_starts.append(i-1)\n",
    "        # Search for the end of the segment by iterating forward through the positions array\n",
    "        j = i + 1\n",
    "        while j < len(positions) and abs(positions[j] - positions[i-1]) > threshold:\n",
    "            j += 1\n",
    "        # Add the index before the last one as the end of the segment\n",
    "        segment_ends.append(j-2)\n",
    "        # Set the new position for i to the end of the current segment\n",
    "        i = j-2\n",
    "    else:\n",
    "        # If the current position is not more than the threshold away from the previous position, increment i\n",
    "        i += 1\n",
    "\n"
   ]
  },
  {
   "cell_type": "code",
   "execution_count": 14,
   "metadata": {},
   "outputs": [
    {
     "name": "stdout",
     "output_type": "stream",
     "text": [
      "Segments with sudden position changes:\n",
      "Total gain : 0.0848318377197182\n"
     ]
    }
   ],
   "source": [
    "# Print the segments with sudden position changes\n",
    "if len(segment_starts) == 0:\n",
    "    print(\"No segments with sudden position changes found\")\n",
    "else:\n",
    "    print(\"Segments with sudden position changes:\")\n",
    "    # Initialize the start and end indices of the sliding window\n",
    "    start = 0\n",
    "    end = 1\n",
    "    # Iterate through the segments\n",
    "    for i, (start_pos, end_pos, start_time, end_time) in enumerate(zip(positions[segment_starts], positions[segment_ends], times[segment_starts], times[segment_ends])):\n",
    "        #print(f\"Segment {i+1}: Position ({start_pos}, {end_pos}), Time ({start_time}, {end_time})\")\n",
    "        # Set the window size to be dependent on the start of the sudden position change\n",
    "        window_size = int(round(0.1 * (start_pos - positions[start]))) # window size is 10% of the distance between the current segment start and the previous segment start\n",
    "        # Initialize lists to store the gains and durations for the current segment\n",
    "        gains = []\n",
    "        durations = []\n",
    "        # Iterate through the positions and times arrays for the current segment\n",
    "        for j in range(segment_starts[i], segment_ends[i]):\n",
    "            # Calculate the change in position and time between the current point and the next point in the window\n",
    "            delta_y = positions[j+1] - positions[j]\n",
    "            delta_x = times[j+1] - times[j]\n",
    "            # Calculate the speed between the current point and the next point in the window\n",
    "            speed = delta_y / delta_x\n",
    "            # Calculate the gain and duration for the window\n",
    "            window_gain = speed / (end_pos - start_pos)\n",
    "            window_duration = times[j+1] - start_time\n",
    "            # Add the gain and duration to the lists for the current segment\n",
    "            gains.append(window_gain)\n",
    "        total_gain = np.sum(gains)\n",
    "        print(f\"Total gain : {total_gain}\")"
   ]
  },
  {
   "cell_type": "code",
   "execution_count": 2,
   "metadata": {},
   "outputs": [
    {
     "ename": "NameError",
     "evalue": "name 'gain' is not defined",
     "output_type": "error",
     "traceback": [
      "\u001b[0;31m---------------------------------------------------------------------------\u001b[0m",
      "\u001b[0;31mNameError\u001b[0m                                 Traceback (most recent call last)",
      "\u001b[0;32m/var/folders/hj/4_1_bgn11_dgm99bq0lnjxl80000gn/T/ipykernel_55744/3012410500.py\u001b[0m in \u001b[0;36m<module>\u001b[0;34m\u001b[0m\n\u001b[0;32m----> 1\u001b[0;31m \u001b[0mgain\u001b[0m\u001b[0;34m\u001b[0m\u001b[0;34m\u001b[0m\u001b[0m\n\u001b[0m",
      "\u001b[0;31mNameError\u001b[0m: name 'gain' is not defined"
     ]
    }
   ],
   "source": [
    "gain\n"
   ]
  }
 ],
 "metadata": {
  "kernelspec": {
   "display_name": "Python 3.9.5 ('ds')",
   "language": "python",
   "name": "python3"
  },
  "language_info": {
   "codemirror_mode": {
    "name": "ipython",
    "version": 3
   },
   "file_extension": ".py",
   "mimetype": "text/x-python",
   "name": "python",
   "nbconvert_exporter": "python",
   "pygments_lexer": "ipython3",
   "version": "3.9.5"
  },
  "orig_nbformat": 4,
  "vscode": {
   "interpreter": {
    "hash": "37e48532695005f6b8be481dca9311b0406960c07b920c9bcff5b3361c45626c"
   }
  }
 },
 "nbformat": 4,
 "nbformat_minor": 2
}
