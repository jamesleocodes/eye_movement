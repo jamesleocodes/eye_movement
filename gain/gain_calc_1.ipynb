{
 "cells": [
  {
   "cell_type": "code",
   "execution_count": 1,
   "metadata": {},
   "outputs": [],
   "source": [
    "\"\"\"\n",
    "Created on Tuesday 9 Feb 2023\n",
    "Author: ZAW\n",
    "\"\"\"\n",
    "#import libraries\n",
    "import numpy as np\n",
    "import pandas as pd\n",
    "import matplotlib.pyplot as plt\n",
    "import glob\n",
    "import os\n",
    "from scipy.optimize import curve_fit\n",
    "from scipy import signal\n",
    "from tsmoothie.smoother import LowessSmoother\n",
    "import csv"
   ]
  },
  {
   "cell_type": "code",
   "execution_count": 93,
   "metadata": {},
   "outputs": [],
   "source": [
    "# Read dataset for a , b, c value\n",
    "# data path\n",
    "path = os.getcwd()\n",
    "dirname = os.path.dirname(path)\n",
    "data_file = 'data/data.csv'\n",
    "data_path = os.path.join(dirname,data_file)\n",
    "data = pd.read_csv(data_path)"
   ]
  },
  {
   "cell_type": "code",
   "execution_count": 94,
   "metadata": {},
   "outputs": [
    {
     "data": {
      "text/plain": [
       "'/Users/zaw/Desktop/eye_movements(sp)/gain'"
      ]
     },
     "execution_count": 94,
     "metadata": {},
     "output_type": "execute_result"
    }
   ],
   "source": [
    "path"
   ]
  },
  {
   "cell_type": "code",
   "execution_count": 95,
   "metadata": {},
   "outputs": [
    {
     "data": {
      "text/html": [
       "<div>\n",
       "<style scoped>\n",
       "    .dataframe tbody tr th:only-of-type {\n",
       "        vertical-align: middle;\n",
       "    }\n",
       "\n",
       "    .dataframe tbody tr th {\n",
       "        vertical-align: top;\n",
       "    }\n",
       "\n",
       "    .dataframe thead th {\n",
       "        text-align: right;\n",
       "    }\n",
       "</style>\n",
       "<table border=\"1\" class=\"dataframe\">\n",
       "  <thead>\n",
       "    <tr style=\"text-align: right;\">\n",
       "      <th></th>\n",
       "      <th>Label</th>\n",
       "      <th>Patient</th>\n",
       "      <th>A1_1Deg</th>\n",
       "      <th>A1_1Deg_err</th>\n",
       "      <th>B1_1Deg</th>\n",
       "      <th>B1_1Deg_err</th>\n",
       "      <th>C1_1Deg</th>\n",
       "      <th>C1_1Deg_err</th>\n",
       "      <th>1_Deg_ResSoS_1</th>\n",
       "      <th>1Deg_AdjR2_1</th>\n",
       "      <th>...</th>\n",
       "      <th>8_Deg_ResSoS_1</th>\n",
       "      <th>8Deg_AdjR2_1</th>\n",
       "      <th>A2_8Deg</th>\n",
       "      <th>A2_8Deg_err</th>\n",
       "      <th>B2_8Deg</th>\n",
       "      <th>B2_8Deg_err</th>\n",
       "      <th>C2_8Deg</th>\n",
       "      <th>C2_8Deg_err</th>\n",
       "      <th>8_Deg_ResSoS_2</th>\n",
       "      <th>8Deg_AdjR2_2</th>\n",
       "    </tr>\n",
       "  </thead>\n",
       "  <tbody>\n",
       "    <tr>\n",
       "      <th>0</th>\n",
       "      <td>Not_Parkinson's</td>\n",
       "      <td>PD001</td>\n",
       "      <td>10.388190</td>\n",
       "      <td>0.006132</td>\n",
       "      <td>0.049329</td>\n",
       "      <td>0.000006</td>\n",
       "      <td>0.011989</td>\n",
       "      <td>0.000337</td>\n",
       "      <td>8928.709194</td>\n",
       "      <td>0.990598</td>\n",
       "      <td>...</td>\n",
       "      <td>6698.838281</td>\n",
       "      <td>0.951413</td>\n",
       "      <td>10.273124</td>\n",
       "      <td>0.044206</td>\n",
       "      <td>0.386347</td>\n",
       "      <td>0.000384</td>\n",
       "      <td>0.037356</td>\n",
       "      <td>0.002439</td>\n",
       "      <td>6809.455800</td>\n",
       "      <td>0.939095</td>\n",
       "    </tr>\n",
       "    <tr>\n",
       "      <th>1</th>\n",
       "      <td>Not_Parkinson's</td>\n",
       "      <td>PD002</td>\n",
       "      <td>10.429055</td>\n",
       "      <td>0.006929</td>\n",
       "      <td>0.049478</td>\n",
       "      <td>0.000007</td>\n",
       "      <td>0.002837</td>\n",
       "      <td>0.000379</td>\n",
       "      <td>11388.604704</td>\n",
       "      <td>0.988092</td>\n",
       "      <td>...</td>\n",
       "      <td>4769.901822</td>\n",
       "      <td>0.967360</td>\n",
       "      <td>11.482500</td>\n",
       "      <td>0.049154</td>\n",
       "      <td>0.395412</td>\n",
       "      <td>0.000380</td>\n",
       "      <td>-0.002486</td>\n",
       "      <td>0.002419</td>\n",
       "      <td>8383.481840</td>\n",
       "      <td>0.939586</td>\n",
       "    </tr>\n",
       "    <tr>\n",
       "      <th>2</th>\n",
       "      <td>Not_Parkinson's</td>\n",
       "      <td>PD003</td>\n",
       "      <td>10.097088</td>\n",
       "      <td>0.005091</td>\n",
       "      <td>0.049368</td>\n",
       "      <td>0.000006</td>\n",
       "      <td>0.005707</td>\n",
       "      <td>0.000287</td>\n",
       "      <td>6140.292312</td>\n",
       "      <td>0.993141</td>\n",
       "      <td>...</td>\n",
       "      <td>3488.747176</td>\n",
       "      <td>0.968709</td>\n",
       "      <td>10.084338</td>\n",
       "      <td>0.019838</td>\n",
       "      <td>0.394595</td>\n",
       "      <td>0.000174</td>\n",
       "      <td>-0.035466</td>\n",
       "      <td>0.001106</td>\n",
       "      <td>1349.962240</td>\n",
       "      <td>0.987259</td>\n",
       "    </tr>\n",
       "    <tr>\n",
       "      <th>3</th>\n",
       "      <td>Not_Parkinson's</td>\n",
       "      <td>PD004</td>\n",
       "      <td>10.482881</td>\n",
       "      <td>0.022179</td>\n",
       "      <td>0.049585</td>\n",
       "      <td>0.000023</td>\n",
       "      <td>0.016056</td>\n",
       "      <td>0.001212</td>\n",
       "      <td>117748.979710</td>\n",
       "      <td>0.879372</td>\n",
       "      <td>...</td>\n",
       "      <td>10972.045844</td>\n",
       "      <td>0.920137</td>\n",
       "      <td>11.493414</td>\n",
       "      <td>0.048867</td>\n",
       "      <td>0.401386</td>\n",
       "      <td>0.000377</td>\n",
       "      <td>-0.042463</td>\n",
       "      <td>0.002395</td>\n",
       "      <td>8242.136178</td>\n",
       "      <td>0.940370</td>\n",
       "    </tr>\n",
       "    <tr>\n",
       "      <th>4</th>\n",
       "      <td>Not_Parkinson's</td>\n",
       "      <td>PD005</td>\n",
       "      <td>10.181273</td>\n",
       "      <td>0.008833</td>\n",
       "      <td>0.049368</td>\n",
       "      <td>0.000010</td>\n",
       "      <td>0.001569</td>\n",
       "      <td>0.000494</td>\n",
       "      <td>18447.340517</td>\n",
       "      <td>0.979692</td>\n",
       "      <td>...</td>\n",
       "      <td>18268.960666</td>\n",
       "      <td>0.809586</td>\n",
       "      <td>10.370348</td>\n",
       "      <td>0.036121</td>\n",
       "      <td>0.395392</td>\n",
       "      <td>0.000308</td>\n",
       "      <td>-0.030769</td>\n",
       "      <td>0.001960</td>\n",
       "      <td>4485.300264</td>\n",
       "      <td>0.960035</td>\n",
       "    </tr>\n",
       "    <tr>\n",
       "      <th>5</th>\n",
       "      <td>Not_Parkinson's</td>\n",
       "      <td>PD006</td>\n",
       "      <td>10.302529</td>\n",
       "      <td>0.010450</td>\n",
       "      <td>0.049283</td>\n",
       "      <td>0.000011</td>\n",
       "      <td>0.019735</td>\n",
       "      <td>0.000580</td>\n",
       "      <td>25994.527943</td>\n",
       "      <td>0.972249</td>\n",
       "      <td>...</td>\n",
       "      <td>7175.782112</td>\n",
       "      <td>0.938474</td>\n",
       "      <td>10.356903</td>\n",
       "      <td>0.067627</td>\n",
       "      <td>0.410282</td>\n",
       "      <td>0.000584</td>\n",
       "      <td>-0.052723</td>\n",
       "      <td>0.003707</td>\n",
       "      <td>16046.923323</td>\n",
       "      <td>0.859535</td>\n",
       "    </tr>\n",
       "    <tr>\n",
       "      <th>6</th>\n",
       "      <td>Not_Parkinson's</td>\n",
       "      <td>PD007</td>\n",
       "      <td>9.934379</td>\n",
       "      <td>0.007838</td>\n",
       "      <td>0.049209</td>\n",
       "      <td>0.000009</td>\n",
       "      <td>0.003633</td>\n",
       "      <td>0.000449</td>\n",
       "      <td>14490.496516</td>\n",
       "      <td>0.983200</td>\n",
       "      <td>...</td>\n",
       "      <td>1465.027123</td>\n",
       "      <td>0.985896</td>\n",
       "      <td>9.801698</td>\n",
       "      <td>0.024067</td>\n",
       "      <td>0.397850</td>\n",
       "      <td>0.000217</td>\n",
       "      <td>-0.045138</td>\n",
       "      <td>0.001380</td>\n",
       "      <td>1986.965945</td>\n",
       "      <td>0.980134</td>\n",
       "    </tr>\n",
       "    <tr>\n",
       "      <th>7</th>\n",
       "      <td>Not_Parkinson's</td>\n",
       "      <td>PD008</td>\n",
       "      <td>9.861257</td>\n",
       "      <td>0.026999</td>\n",
       "      <td>0.049220</td>\n",
       "      <td>0.000030</td>\n",
       "      <td>0.051865</td>\n",
       "      <td>0.001576</td>\n",
       "      <td>176009.839073</td>\n",
       "      <td>0.798036</td>\n",
       "      <td>...</td>\n",
       "      <td>15508.422642</td>\n",
       "      <td>0.870504</td>\n",
       "      <td>8.591437</td>\n",
       "      <td>0.105215</td>\n",
       "      <td>0.415729</td>\n",
       "      <td>0.001098</td>\n",
       "      <td>-0.078941</td>\n",
       "      <td>0.006967</td>\n",
       "      <td>39005.324498</td>\n",
       "      <td>0.507026</td>\n",
       "    </tr>\n",
       "    <tr>\n",
       "      <th>8</th>\n",
       "      <td>Not_Parkinson's</td>\n",
       "      <td>PD009</td>\n",
       "      <td>10.221777</td>\n",
       "      <td>0.005149</td>\n",
       "      <td>0.049244</td>\n",
       "      <td>0.000006</td>\n",
       "      <td>0.002274</td>\n",
       "      <td>0.000287</td>\n",
       "      <td>6253.730577</td>\n",
       "      <td>0.993152</td>\n",
       "      <td>...</td>\n",
       "      <td>849.603210</td>\n",
       "      <td>0.992275</td>\n",
       "      <td>10.305625</td>\n",
       "      <td>0.022845</td>\n",
       "      <td>0.396998</td>\n",
       "      <td>0.000196</td>\n",
       "      <td>-0.056233</td>\n",
       "      <td>0.001244</td>\n",
       "      <td>1783.111545</td>\n",
       "      <td>0.983816</td>\n",
       "    </tr>\n",
       "    <tr>\n",
       "      <th>9</th>\n",
       "      <td>Not_Parkinson's</td>\n",
       "      <td>PD010</td>\n",
       "      <td>10.244784</td>\n",
       "      <td>0.017579</td>\n",
       "      <td>0.050004</td>\n",
       "      <td>0.000019</td>\n",
       "      <td>-0.015054</td>\n",
       "      <td>0.000981</td>\n",
       "      <td>73606.211066</td>\n",
       "      <td>0.920684</td>\n",
       "      <td>...</td>\n",
       "      <td>13818.787560</td>\n",
       "      <td>0.878166</td>\n",
       "      <td>10.997960</td>\n",
       "      <td>0.085181</td>\n",
       "      <td>0.406918</td>\n",
       "      <td>0.000690</td>\n",
       "      <td>-0.043189</td>\n",
       "      <td>0.004387</td>\n",
       "      <td>25335.919452</td>\n",
       "      <td>0.802179</td>\n",
       "    </tr>\n",
       "  </tbody>\n",
       "</table>\n",
       "<p>10 rows × 82 columns</p>\n",
       "</div>"
      ],
      "text/plain": [
       "             Label Patient    A1_1Deg  A1_1Deg_err   B1_1Deg  B1_1Deg_err  \\\n",
       "0  Not_Parkinson's   PD001  10.388190     0.006132  0.049329     0.000006   \n",
       "1  Not_Parkinson's   PD002  10.429055     0.006929  0.049478     0.000007   \n",
       "2  Not_Parkinson's   PD003  10.097088     0.005091  0.049368     0.000006   \n",
       "3  Not_Parkinson's   PD004  10.482881     0.022179  0.049585     0.000023   \n",
       "4  Not_Parkinson's   PD005  10.181273     0.008833  0.049368     0.000010   \n",
       "5  Not_Parkinson's   PD006  10.302529     0.010450  0.049283     0.000011   \n",
       "6  Not_Parkinson's   PD007   9.934379     0.007838  0.049209     0.000009   \n",
       "7  Not_Parkinson's   PD008   9.861257     0.026999  0.049220     0.000030   \n",
       "8  Not_Parkinson's   PD009  10.221777     0.005149  0.049244     0.000006   \n",
       "9  Not_Parkinson's   PD010  10.244784     0.017579  0.050004     0.000019   \n",
       "\n",
       "    C1_1Deg  C1_1Deg_err  1_Deg_ResSoS_1  1Deg_AdjR2_1  ...  8_Deg_ResSoS_1  \\\n",
       "0  0.011989     0.000337     8928.709194      0.990598  ...     6698.838281   \n",
       "1  0.002837     0.000379    11388.604704      0.988092  ...     4769.901822   \n",
       "2  0.005707     0.000287     6140.292312      0.993141  ...     3488.747176   \n",
       "3  0.016056     0.001212   117748.979710      0.879372  ...    10972.045844   \n",
       "4  0.001569     0.000494    18447.340517      0.979692  ...    18268.960666   \n",
       "5  0.019735     0.000580    25994.527943      0.972249  ...     7175.782112   \n",
       "6  0.003633     0.000449    14490.496516      0.983200  ...     1465.027123   \n",
       "7  0.051865     0.001576   176009.839073      0.798036  ...    15508.422642   \n",
       "8  0.002274     0.000287     6253.730577      0.993152  ...      849.603210   \n",
       "9 -0.015054     0.000981    73606.211066      0.920684  ...    13818.787560   \n",
       "\n",
       "   8Deg_AdjR2_1    A2_8Deg  A2_8Deg_err   B2_8Deg  B2_8Deg_err   C2_8Deg  \\\n",
       "0      0.951413  10.273124     0.044206  0.386347     0.000384  0.037356   \n",
       "1      0.967360  11.482500     0.049154  0.395412     0.000380 -0.002486   \n",
       "2      0.968709  10.084338     0.019838  0.394595     0.000174 -0.035466   \n",
       "3      0.920137  11.493414     0.048867  0.401386     0.000377 -0.042463   \n",
       "4      0.809586  10.370348     0.036121  0.395392     0.000308 -0.030769   \n",
       "5      0.938474  10.356903     0.067627  0.410282     0.000584 -0.052723   \n",
       "6      0.985896   9.801698     0.024067  0.397850     0.000217 -0.045138   \n",
       "7      0.870504   8.591437     0.105215  0.415729     0.001098 -0.078941   \n",
       "8      0.992275  10.305625     0.022845  0.396998     0.000196 -0.056233   \n",
       "9      0.878166  10.997960     0.085181  0.406918     0.000690 -0.043189   \n",
       "\n",
       "   C2_8Deg_err  8_Deg_ResSoS_2  8Deg_AdjR2_2  \n",
       "0     0.002439     6809.455800      0.939095  \n",
       "1     0.002419     8383.481840      0.939586  \n",
       "2     0.001106     1349.962240      0.987259  \n",
       "3     0.002395     8242.136178      0.940370  \n",
       "4     0.001960     4485.300264      0.960035  \n",
       "5     0.003707    16046.923323      0.859535  \n",
       "6     0.001380     1986.965945      0.980134  \n",
       "7     0.006967    39005.324498      0.507026  \n",
       "8     0.001244     1783.111545      0.983816  \n",
       "9     0.004387    25335.919452      0.802179  \n",
       "\n",
       "[10 rows x 82 columns]"
      ]
     },
     "execution_count": 95,
     "metadata": {},
     "output_type": "execute_result"
    }
   ],
   "source": [
    "# View top 10 rows in dataframe\n",
    "data.head(10)"
   ]
  },
  {
   "cell_type": "code",
   "execution_count": 1607,
   "metadata": {},
   "outputs": [
    {
     "name": "stderr",
     "output_type": "stream",
     "text": [
      "/Users/zaw/miniforge3/envs/ds/lib/python3.9/site-packages/openpyxl/styles/stylesheet.py:226: UserWarning: Workbook contains no default style, apply openpyxl's default\n",
      "  warn(\"Workbook contains no default style, apply openpyxl's default\")\n"
     ]
    }
   ],
   "source": [
    "# read SPEM data\n",
    "data_013 = 'data/Parkinson_pursuit testing_Rec 180.xlsx'\n",
    "data_path = os.path.join(dirname,data_013)\n",
    "data_sp = pd.read_excel(data_path)"
   ]
  },
  {
   "cell_type": "code",
   "execution_count": null,
   "metadata": {},
   "outputs": [],
   "source": []
  },
  {
   "cell_type": "code",
   "execution_count": null,
   "metadata": {},
   "outputs": [],
   "source": []
  },
  {
   "cell_type": "code",
   "execution_count": 1696,
   "metadata": {},
   "outputs": [
    {
     "data": {
      "text/plain": [
       "[<matplotlib.lines.Line2D at 0x17b3f2610>]"
      ]
     },
     "execution_count": 1696,
     "metadata": {},
     "output_type": "execute_result"
    },
    {
     "data": {
      "image/png": "[encoded data removed]",
      "text/plain": [
       "<Figure size 432x288 with 1 Axes>"
      ]
     },
     "metadata": {
      "needs_background": "light"
     },
     "output_type": "display_data"
    }
   ],
   "source": [
    "plt.plot(one_deg_time_eye,one_deg_pos_eye)"
   ]
  },
  {
   "cell_type": "code",
   "execution_count": null,
   "metadata": {},
   "outputs": [],
   "source": []
  },
  {
   "cell_type": "code",
   "execution_count": 1701,
   "metadata": {},
   "outputs": [],
   "source": [
    "# Pupil size\n",
    "pupil_size = np.array(data_sp['PupilRight'][0:28000])"
   ]
  },
  {
   "cell_type": "code",
   "execution_count": 1702,
   "metadata": {},
   "outputs": [],
   "source": [
    "# for eye pixel calculating\n",
    "def px_deg_eye(data,dominant_eye):\n",
    "    time_eye = []\n",
    "    pos_eye = []\n",
    "    if dominant_eye == 'right':\n",
    "        for y in data['GazePointRightX (ADCSpx)']:\n",
    "            new_y = round((y - 960)/49.6,4) # horizontal center:960x540 pixel : 1 deg = 49.6 pixel\n",
    "            pos_eye.append(new_y)\n",
    "    elif dominant_eye == 'left':\n",
    "        for y in data['GazePointLeftX (ADCSpx)']:\n",
    "            new_y = round((y - 960)/49.6,4) # horizontal center:960x540 pixel : 1 deg = 49.6 pixel\n",
    "            pos_eye.append(new_y)\n",
    "    for x in range(1,len(pos_eye)+1):\n",
    "        new_x = round((1/300)*x,4) # for tobii's eye tracker with 300 Hz sampling rate\n",
    "        time_eye.append(new_x)\n",
    "    return time_eye,pos_eye"
   ]
  },
  {
   "cell_type": "code",
   "execution_count": null,
   "metadata": {},
   "outputs": [],
   "source": []
  },
  {
   "cell_type": "code",
   "execution_count": 1703,
   "metadata": {},
   "outputs": [],
   "source": [
    "def filter_blinks(gaze_point_right_x, gaze_time_input, pupil_size=pupil_size, consecutive_missing_points_threshold=60):\n",
    "    # Convert input list to NumPy array\n",
    "    gaze_point_right_x = np.array(gaze_point_right_x)\n",
    "    gaze_time = gaze_time_input\n",
    "\n",
    "    # Create a mask for missing data (NaN) in GazePointRightX\n",
    "    missing_mask = np.isnan(gaze_point_right_x) & np.isnan(pupil_size)\n",
    "\n",
    "    # Count consecutive missing gaze points (NaNs)\n",
    "    consecutive_missing_points = np.diff(np.where(np.concatenate(([missing_mask[0]], missing_mask[:-1] != missing_mask[1:], [True])))[0])[::2]\n",
    "\n",
    "    # Count the number of blinks based on the consecutive_missing_points_threshold\n",
    "    num_blinks = np.sum(consecutive_missing_points >= consecutive_missing_points_threshold)\n",
    "\n",
    "     # Remove the missing data (NaN) using the mask\n",
    "    gaze_point_right_x_no_blinks = gaze_point_right_x[~missing_mask]\n",
    "\n",
    "    # Also remove the repective time values\n",
    "    gaze_time = gaze_time[~missing_mask]\n",
    "\n",
    "    #print(f\"Number of blinks: {num_blinks}\")\n",
    "\n",
    "    return gaze_point_right_x_no_blinks, gaze_time"
   ]
  },
  {
   "cell_type": "code",
   "execution_count": 1704,
   "metadata": {},
   "outputs": [],
   "source": [
    "# event starts and ends\n",
    "option = ['URLStart','URLEnd'] # This is the values in the Studio event column where stimuli start and end events from dataset\n",
    "sti = data_sp[data_sp['StudioEvent'].isin(option)].index # Caculating start and end of stimuli\n",
    "data_eye_hc_first = data_sp[sti[0]:sti[0]+28000] # Real recoding starting time\n",
    "#data_eye_hc_first = data_sp[sti[0]+4000:sti[0]+28200] # Real recoding starting time\n",
    "one_deg_time_eye , one_deg_pos_eye =  px_deg_eye(data_eye_hc_first,'right')"
   ]
  },
  {
   "cell_type": "code",
   "execution_count": 1705,
   "metadata": {},
   "outputs": [],
   "source": [
    "sub_013 = {'Time':one_deg_time_eye,'POS':one_deg_pos_eye}\n",
    "df_sub_013 = pd.DataFrame(data=sub_013)\n",
    "#df_sub_013.to_excel('sub013.xlsx')"
   ]
  },
  {
   "cell_type": "code",
   "execution_count": 1706,
   "metadata": {},
   "outputs": [],
   "source": [
    "# # filter blinks\n",
    "position,time = filter_blinks(df_sub_013['POS'],df_sub_013['Time'])\n",
    "\n",
    "\n",
    "data_fil= {'Time':time,'POS':position}#,#'PUP':pupil_size}\n",
    "data_fil = pd.DataFrame(data_fil)\n",
    "# #data_pd001['POS'] = pos_no_blinks\n",
    "# Remove the spike values and interpolate\n",
    "window_size = 7\n",
    "data_fil['POS'] = data_fil['POS'].rolling(window=window_size, center=True).median()\n",
    "\n",
    "# # interpolate\n",
    "data_fil['POS'] = data_fil['POS'].interpolate(method='spline', order=5)\n",
    "\n",
    "one_deg_time_eye , one_deg_pos_eye =  data_fil['Time'], data_fil['POS']"
   ]
  },
  {
   "cell_type": "code",
   "execution_count": 1707,
   "metadata": {},
   "outputs": [
    {
     "name": "stdout",
     "output_type": "stream",
     "text": [
      "Total NaN values: 0\n",
      "Total inf values: 0\n",
      "Total NaN and inf values: 0\n"
     ]
    }
   ],
   "source": [
    "# Check Nan or Inf for time\n",
    "nan_mask = one_deg_time_eye.isna()\n",
    "inf_mask = np.isinf(one_deg_time_eye)\n",
    "non_or_inf_mask = nan_mask | inf_mask\n",
    "total_nan = nan_mask.sum()\n",
    "total_inf = inf_mask.sum()\n",
    "\n",
    "nan_or_inf_mask = nan_mask | inf_mask\n",
    "\n",
    "total_nan_or_inf = nan_or_inf_mask.sum()\n",
    "\n",
    "# Print the results\n",
    "print(\"Total NaN values:\", total_nan)\n",
    "print(\"Total inf values:\", total_inf)\n",
    "print(\"Total NaN and inf values:\", total_nan_or_inf)"
   ]
  },
  {
   "cell_type": "code",
   "execution_count": 1708,
   "metadata": {},
   "outputs": [
    {
     "name": "stdout",
     "output_type": "stream",
     "text": [
      "Total NaN values: 4\n",
      "Total inf values: 0\n",
      "Total NaN and inf values: 4\n"
     ]
    }
   ],
   "source": [
    "# Check Nan or Inf for pos\n",
    "nan_mask = one_deg_pos_eye.isna()\n",
    "inf_mask = np.isinf(one_deg_pos_eye)\n",
    "non_or_inf_mask = nan_mask | inf_mask\n",
    "total_nan = nan_mask.sum()\n",
    "total_inf = inf_mask.sum()\n",
    "\n",
    "nan_or_inf_mask = nan_mask | inf_mask\n",
    "\n",
    "total_nan_or_inf = nan_or_inf_mask.sum()\n",
    "\n",
    "# Print the results\n",
    "print(\"Total NaN values:\", total_nan)\n",
    "print(\"Total inf values:\", total_inf)\n",
    "print(\"Total NaN and inf values:\", total_nan_or_inf)"
   ]
  },
  {
   "cell_type": "code",
   "execution_count": 1709,
   "metadata": {},
   "outputs": [
    {
     "data": {
      "image/png": "[encoded data removed]",
      "text/plain": [
       "<Figure size 432x288 with 1 Axes>"
      ]
     },
     "metadata": {
      "needs_background": "light"
     },
     "output_type": "display_data"
    }
   ],
   "source": [
    "# Plot the data\n",
    "plt.plot(one_deg_time_eye,one_deg_pos_eye)\n",
    "plt.xlabel('Time(s)')\n",
    "plt.ylabel('POS')\n",
    "plt.show()"
   ]
  },
  {
   "cell_type": "code",
   "execution_count": 1711,
   "metadata": {},
   "outputs": [
    {
     "data": {
      "text/plain": [
       "0         0.0033\n",
       "1         0.0067\n",
       "2         0.0100\n",
       "3         0.0133\n",
       "4         0.0167\n",
       "          ...   \n",
       "26997    89.9933\n",
       "26998    89.9967\n",
       "26999    90.0000\n",
       "27000    90.0033\n",
       "27001    90.0067\n",
       "Name: Position, Length: 27002, dtype: float64"
      ]
     },
     "execution_count": 1711,
     "metadata": {},
     "output_type": "execute_result"
    }
   ],
   "source": [
    "data['Position']\n"
   ]
  },
  {
   "cell_type": "code",
   "execution_count": 1712,
   "metadata": {},
   "outputs": [],
   "source": [
    "y_data = one_deg_time_eye\n",
    "x_data = one_deg_pos_eye"
   ]
  },
  {
   "cell_type": "code",
   "execution_count": 1714,
   "metadata": {},
   "outputs": [
    {
     "data": {
      "text/plain": [
       "0         0.0033\n",
       "1         0.0067\n",
       "2         0.0100\n",
       "3         0.0133\n",
       "4         0.0167\n",
       "          ...   \n",
       "27995    93.3200\n",
       "27996    93.3233\n",
       "27997    93.3267\n",
       "27998    93.3300\n",
       "27999    93.3333\n",
       "Name: Time, Length: 27666, dtype: float64"
      ]
     },
     "execution_count": 1714,
     "metadata": {},
     "output_type": "execute_result"
    }
   ],
   "source": [
    "y_data"
   ]
  },
  {
   "cell_type": "code",
   "execution_count": null,
   "metadata": {},
   "outputs": [],
   "source": []
  },
  {
   "cell_type": "code",
   "execution_count": null,
   "metadata": {},
   "outputs": [],
   "source": []
  },
  {
   "cell_type": "code",
   "execution_count": null,
   "metadata": {},
   "outputs": [],
   "source": []
  },
  {
   "cell_type": "code",
   "execution_count": null,
   "metadata": {},
   "outputs": [],
   "source": []
  },
  {
   "cell_type": "code",
   "execution_count": null,
   "metadata": {},
   "outputs": [],
   "source": []
  },
  {
   "attachments": {},
   "cell_type": "markdown",
   "metadata": {},
   "source": [
    "### Working Algorithms"
   ]
  },
  {
   "cell_type": "code",
   "execution_count": 413,
   "metadata": {},
   "outputs": [],
   "source": [
    "path = os.getcwd()\n",
    "dirname = os.path.dirname(path)\n",
    "data_file = 'data/one_deg.csv'\n",
    "data_path = os.path.join(dirname,data_file)\n",
    "# data = pd.read_csv(data_path)\n",
    "data= pd.read_csv(data_path)"
   ]
  },
  {
   "cell_type": "code",
   "execution_count": 414,
   "metadata": {},
   "outputs": [],
   "source": [
    "data_13 = data[['x1_PD002','y1_PD002']]"
   ]
  },
  {
   "cell_type": "code",
   "execution_count": 415,
   "metadata": {},
   "outputs": [],
   "source": [
    "y_data = data_13['x1_PD002']\n",
    "x_data = data_13['y1_PD002']"
   ]
  },
  {
   "cell_type": "code",
   "execution_count": 416,
   "metadata": {},
   "outputs": [
    {
     "data": {
      "text/plain": [
       "[<matplotlib.lines.Line2D at 0x16b34d160>]"
      ]
     },
     "execution_count": 416,
     "metadata": {},
     "output_type": "execute_result"
    },
    {
     "data": {
      "image/png": "[encoded data removed]",
      "text/plain": [
       "<Figure size 432x288 with 1 Axes>"
      ]
     },
     "metadata": {
      "needs_background": "light"
     },
     "output_type": "display_data"
    }
   ],
   "source": [
    "plt.plot(y_data,x_data)"
   ]
  },
  {
   "cell_type": "code",
   "execution_count": 417,
   "metadata": {},
   "outputs": [
    {
     "name": "stderr",
     "output_type": "stream",
     "text": [
      "/var/folders/hj/4_1_bgn11_dgm99bq0lnjxl80000gn/T/ipykernel_1818/1234896519.py:7: DeprecationWarning: `np.float` is a deprecated alias for the builtin `float`. To silence this warning, use `float` by itself. Doing this will not modify any behavior and is safe. If you specifically wanted the numpy scalar type, use `np.float64` here.\n",
      "Deprecated in NumPy 1.20; for more details and guidance: https://numpy.org/devdocs/release/1.20.0-notes.html#deprecations\n",
      "  data_st = np.array(rawdata[1:],dtype=np.float)\n"
     ]
    }
   ],
   "source": [
    "#import CSV data\n",
    "path = os.getcwd()\n",
    "dirname = os.path.dirname(path)\n",
    "data_file = 'data/1_degSti.xlsx'\n",
    "data_path = os.path.join(dirname,data_file)\n",
    "rawdata = pd.read_excel(data_path)\n",
    "data_st = np.array(rawdata[1:],dtype=np.float)\n",
    "time = data_st[:,1]\n",
    "position = data_st[:,0]"
   ]
  },
  {
   "cell_type": "code",
   "execution_count": 536,
   "metadata": {},
   "outputs": [
    {
     "name": "stdout",
     "output_type": "stream",
     "text": [
      "a = 9.989903127015685\n",
      "b = 0.05000044571043853\n",
      "c = -2.7511974340545354e-05\n"
     ]
    }
   ],
   "source": [
    "# Trigonometric functions\n",
    "\n",
    "# Define the function\n",
    "def func(x, a, b, c):  #Position as a function of time.\n",
    "    return a*(2/np.pi)*np.arcsin(np.sin(np.pi*(b*x+c)))\n",
    "\n",
    "#initial guesses\n",
    "#for 1 degree per second: [10, 0.05, 0]\n",
    "#for 2 degrees per second: [10, 0.1, 0]\n",
    "#for 4 degrees per second: [10, 0.2, 0]\n",
    "#for 6 degrees per second: [10, 0.3, 0]\n",
    "#for 8 degrees per second: [10, 0.4, 0]\n",
    "InitialGuess = [10, 0.05, 0]\n",
    "\n",
    "# Perform curve fitting\n",
    "popt, pcov = curve_fit(func,position,time, p0=InitialGuess)\n",
    "\n",
    "# Extract the optimal values of a, b, and c\n",
    "a, b, c = popt\n",
    "print(\"a =\", a)\n",
    "print(\"b =\", b)\n",
    "print(\"c =\", c)"
   ]
  },
  {
   "cell_type": "code",
   "execution_count": 537,
   "metadata": {},
   "outputs": [],
   "source": [
    "# # # # Trigonometric functions\n",
    "\n",
    "# # # # Define the function\n",
    "# # # def func(x, a, b, c):  #Position as a function of time.\n",
    "# # #     return a*(2/np.pi)*np.arcsin(np.sin(np.pi*(b*x+c)))\n",
    "\n",
    "# # # # drop NaN\n",
    "# # # y_data = one_deg_time_eye.ffill()\n",
    "# # # x_data = one_deg_pos_eye.ffill()\n",
    "\n",
    "# # # y_data = one_deg_time_eye.bfill()\n",
    "# # # x_data = one_deg_pos_eye.bfill()\n",
    "\n",
    "# # # # # Example data points (x, y) - replace these with your actual data\n",
    "# # # # x_data = np.array(one_deg_time_eye)\n",
    "# # # # y_data = np.array(one_deg_pos_eye)\n",
    "\n",
    "\n",
    "# # # #initial guesses\n",
    "# # InitialGuess = [10, 0.05, 0]\n",
    "\n",
    "# # # Perform curve fitting\n",
    "# # popt, pcov = curve_fit(func, x_data, y_data, p0=InitialGuess)\n",
    "\n",
    "# # # Extract the optimal values of a, b, and c\n",
    "# # a, b, c = popt\n",
    "\n",
    "# # print(\"Optimal values of a, b, and c:\")\n",
    "# print(\"a =\", a)\n",
    "# print(\"b =\", b)\n",
    "# print(\"c =\", c)"
   ]
  },
  {
   "cell_type": "code",
   "execution_count": 538,
   "metadata": {},
   "outputs": [],
   "source": [
    "# a = 10.19274\n",
    "# b = 0.04942\n",
    "# c = 0.00533"
   ]
  },
  {
   "cell_type": "code",
   "execution_count": 539,
   "metadata": {},
   "outputs": [
    {
     "data": {
      "image/png": "[encoded data removed]",
      "text/plain": [
       "<Figure size 432x288 with 1 Axes>"
      ]
     },
     "metadata": {
      "needs_background": "light"
     },
     "output_type": "display_data"
    }
   ],
   "source": [
    "# Fit time\n",
    "fit_time = func(y_data,a,b,c)\n",
    "plt.plot(y_data,fit_time)\n",
    "plt.show()"
   ]
  },
  {
   "cell_type": "code",
   "execution_count": 540,
   "metadata": {},
   "outputs": [],
   "source": [
    "# Different(aka residual)\n",
    "diff = x_data - fit_time"
   ]
  },
  {
   "cell_type": "code",
   "execution_count": 541,
   "metadata": {},
   "outputs": [],
   "source": [
    "# Smooth residual\n",
    "dt_array = np.array(diff)\n",
    "dt_array = pd.DataFrame(dt_array,columns=['diff'])\n",
    "window_size = 5\n",
    "dt_array['Moving_Average'] = dt_array['diff'].rolling(window=window_size).mean()"
   ]
  },
  {
   "cell_type": "code",
   "execution_count": 542,
   "metadata": {},
   "outputs": [
    {
     "data": {
      "text/plain": [
       "[<matplotlib.lines.Line2D at 0x17bf5f880>]"
      ]
     },
     "execution_count": 542,
     "metadata": {},
     "output_type": "execute_result"
    },
    {
     "data": {
      "image/png": "[encoded data removed]",
      "text/plain": [
       "<Figure size 432x288 with 1 Axes>"
      ]
     },
     "metadata": {
      "needs_background": "light"
     },
     "output_type": "display_data"
    }
   ],
   "source": [
    "plt.plot(y_data,dt_array['Moving_Average'])"
   ]
  },
  {
   "cell_type": "code",
   "execution_count": 543,
   "metadata": {},
   "outputs": [],
   "source": [
    "# create dataframe\n",
    "data = {'Time':y_data,'POS':dt_array['Moving_Average']}\n",
    "df = pd.DataFrame(data)"
   ]
  },
  {
   "cell_type": "code",
   "execution_count": 569,
   "metadata": {},
   "outputs": [
    {
     "data": {
      "text/plain": [
       "[<matplotlib.lines.Line2D at 0x17cbf8d60>]"
      ]
     },
     "execution_count": 569,
     "metadata": {},
     "output_type": "execute_result"
    },
    {
     "data": {
      "image/png": "[encoded data removed]",
      "text/plain": [
       "<Figure size 432x288 with 1 Axes>"
      ]
     },
     "metadata": {
      "needs_background": "light"
     },
     "output_type": "display_data"
    }
   ],
   "source": [
    "# Plot specific range\n",
    "x_start = 10\n",
    "x_end = 30\n",
    "\n",
    "# Filter the data points within the disired range using boolean indexing\n",
    "mask = (df['Time'] >= x_start) & (df['Time'] <= x_end)\n",
    "x_data_range = df.loc[mask]\n",
    "#y_data_range = y_data[mask]\n",
    "\n",
    "# create plot\n",
    "\n",
    "\n",
    "plt.plot(x_data_range['Time'],x_data_range['POS'])"
   ]
  },
  {
   "cell_type": "code",
   "execution_count": 570,
   "metadata": {},
   "outputs": [],
   "source": [
    "# Test 20 point\n",
    "data = {'Time':x_data_range['Time'],'POS':x_data_range['POS']}\n",
    "df_test = pd.DataFrame(data)"
   ]
  },
  {
   "cell_type": "code",
   "execution_count": 571,
   "metadata": {},
   "outputs": [],
   "source": [
    "# Determine the integration window\n",
    "def check_sign(x):\n",
    "    if x > 0:\n",
    "        return \"Positive\"\n",
    "    else:\n",
    "        return \"Negative\"\n",
    "df_test['Sign'] = df_test['POS'].apply(check_sign)"
   ]
  },
  {
   "cell_type": "code",
   "execution_count": 572,
   "metadata": {},
   "outputs": [],
   "source": [
    "# Condition window width \n",
    "def calculate_start_end(row):\n",
    "    global last_positive, last_negative\n",
    "    if row['Sign'] == 'Positive':\n",
    "        if row.name == 0 or df_test.loc[row.name - 1, 'Sign'] != 'Positive':\n",
    "            last_positive = row['Time']\n",
    "            return last_positive, '', '', ''\n",
    "        elif row.name < len(df_test) - 1 and df_test.loc[row.name + 1, 'Sign'] != 'Positive':\n",
    "            pos_end = row['Time']\n",
    "            last_positive = ''\n",
    "            return '', pos_end, '', ''\n",
    "        else:\n",
    "            return '', '', '', ''\n",
    "    elif row['Sign'] == 'Negative':\n",
    "        if row.name == 0 or df_test.loc[row.name - 1, 'Sign'] != 'Negative':\n",
    "            last_negative = row['Time']\n",
    "            return '', '', last_negative, ''\n",
    "        elif row.name < len(df_test) - 1 and df_test.loc[row.name + 1, 'Sign'] != 'Negative':\n",
    "            last_negative = row['Time']\n",
    "            return '', '', '', last_negative\n",
    "        else:\n",
    "            return '', '', '', ''\n",
    "    else:\n",
    "        return '', '', '', ''\n",
    "\n",
    "# Initialize the last positive and negative values to empty strings \n",
    "last_positive = ''\n",
    "last_negative = ''\n",
    "\n",
    "# Reset the index of the DataFrame\n",
    "df_test = df_test.reset_index(drop=True)\n",
    "\n",
    "# Apply the custom function to create new columns\n",
    "df_test['PosTim_Start'], df_test['PosTim_End'], df_test['NegTim_Start'], df_test['NegTim_End'] = zip(*df_test.apply(calculate_start_end, axis=1))\n",
    "\n",
    "# Fill the empty cells with an empty string\n",
    "df_test['PosTim_Start'] = df_test['PosTim_Start'].fillna('') \n",
    "df_test['PosTim_End'] = df_test['PosTim_End'].fillna('')\n",
    "df_test['NegTim_Start'] = df_test['NegTim_Start'].fillna('')\n",
    "df_test['NegTim_End'] = df_test['NegTim_End'].fillna('')\n",
    "\n",
    "# Print the resulting dataframe \n",
    "#print(df_test)"
   ]
  },
  {
   "attachments": {},
   "cell_type": "markdown",
   "metadata": {},
   "source": [
    "#### Positive Time Start Trimming"
   ]
  },
  {
   "cell_type": "code",
   "execution_count": 573,
   "metadata": {},
   "outputs": [],
   "source": [
    "# Select the non-empty values in the 'Pos_Start' column\n",
    "pos_start_values = df_test.loc[df_test['PosTim_Start'] != '', 'PosTim_Start'].values\n",
    "\n",
    "# Round the values in the 'Pos_Start' column to two decimal places\n",
    "rounded_pos_start_values = []\n",
    "for value in pos_start_values:\n",
    "    rounded_pos_start_values.append(round(value - 0.003, 2))\n",
    "\n",
    "# Convert the list of rounded values back to a NumPy array\n",
    "postim_start_values = np.array(rounded_pos_start_values)\n",
    "\n",
    "# Print the non-empty values\n",
    "#print(postim_start_values)"
   ]
  },
  {
   "attachments": {},
   "cell_type": "markdown",
   "metadata": {},
   "source": [
    "#### Poisitive Time end Trimming"
   ]
  },
  {
   "cell_type": "code",
   "execution_count": 574,
   "metadata": {},
   "outputs": [],
   "source": [
    "# Select the non-empty values in the 'Pos_End' column\n",
    "pos_end_values = df_test.loc[df_test['PosTim_End'] != '', 'PosTim_End'].values\n",
    "\n",
    "# Round the values in the 'Pos_End' column to two decimal places\n",
    "rounded_pos_end_values = []\n",
    "for value in pos_end_values:\n",
    "    rounded_pos_end_values.append(round(value - 0.02, 2))\n",
    "\n",
    "# Convert the list of rounded values back to a NumPy array\n",
    "postim_end_values = np.array(rounded_pos_end_values)\n",
    "\n",
    "# Print the non-empty values\n",
    "#print(postim_end_values)"
   ]
  },
  {
   "cell_type": "code",
   "execution_count": 575,
   "metadata": {},
   "outputs": [],
   "source": [
    "# # Read the dataset again\n",
    "# path = os.getcwd()\n",
    "# dirname = os.path.dirname(path)\n",
    "# data_file = 'data/raw_pd0013_1.xlsx'\n",
    "# data_path = os.path.join(dirname,data_file)\n",
    "# # data = pd.read_csv(data_path)\n",
    "# data= pd.read_excel(data_path)"
   ]
  },
  {
   "cell_type": "code",
   "execution_count": 576,
   "metadata": {},
   "outputs": [],
   "source": [
    "# Rename columns\n",
    "data = data_13.rename(columns={data_13.columns.values[0]:\"Position\",\n",
    "                               data_13.columns.values[1]:'Time'})"
   ]
  },
  {
   "attachments": {},
   "cell_type": "markdown",
   "metadata": {},
   "source": [
    "#### Map the start positive Time to POS in raw data"
   ]
  },
  {
   "cell_type": "code",
   "execution_count": 577,
   "metadata": {},
   "outputs": [],
   "source": [
    "# Create a dictionary from the mapping list\n",
    "mapping_list = postim_start_values\n",
    "\n",
    "# Map the values to the 'POS' column in raw\n",
    "mapped_posSt = data.loc[data['Position'].isin(mapping_list),'Time']\n",
    "#mapped_posSt"
   ]
  },
  {
   "attachments": {},
   "cell_type": "markdown",
   "metadata": {},
   "source": [
    "#### Map the End positive Time to POS in raw data"
   ]
  },
  {
   "cell_type": "code",
   "execution_count": 578,
   "metadata": {},
   "outputs": [],
   "source": [
    "# Create a dictionary from the mapping list\n",
    "mapping_list = postim_end_values\n",
    "\n",
    "# Map the values to the 'POS' column in raw\n",
    "mapped_posEnd = data.loc[data['Position'].isin(mapping_list),'Time']\n",
    "#mapped_posEnd\n"
   ]
  },
  {
   "cell_type": "code",
   "execution_count": 579,
   "metadata": {},
   "outputs": [],
   "source": [
    "# postim_start_values = [1, 2, 3,4,5,6]  # Length 100\n",
    "# mapped_posSt = [1, 2, 3,4]         # Length 80\n",
    "\n",
    "# # Check lengths and truncate longer column \n",
    "# if len(postim_start_values) > len(mapped_posSt): \n",
    "#     postim_start_values = postim_start_values[:len(mapped_posSt)]  # Truncate to 80\n",
    "# elif len(mapped_posSt) > len(postim_start_values):\n",
    "#     mapped_posSt = mapped_posSt[:len(postim_start_values)]      # Truncate to 100\n",
    "\n",
    "# # Construct DataFrame    \n",
    "# data_param = {'positive_x1':postim_start_values,'positive_y1':mapped_posSt}       \n",
    "# param_gain_start = pd.DataFrame(data_param)"
   ]
  },
  {
   "attachments": {},
   "cell_type": "markdown",
   "metadata": {},
   "source": [
    "#### Velocity param positive dataframe"
   ]
  },
  {
   "cell_type": "code",
   "execution_count": 647,
   "metadata": {},
   "outputs": [],
   "source": [
    "# # column miss match\n",
    "# Check lengths and truncate longer column \n",
    "if len(postim_start_values) > len(mapped_posSt): \n",
    "    postim_start_values = postim_start_values[:len(mapped_posSt)] \n",
    "elif len(mapped_posSt) > len(postim_start_values):\n",
    "    mapped_posSt = mapped_posSt[:len(postim_start_values)]      \n",
    "\n",
    "# Now columns have equal length \n",
    "data_param = {'positive_x1':postim_start_values,'positive_y1':mapped_posSt}             \n",
    "param_vel_start = pd.DataFrame(data_param)\n",
    "\n",
    "data_param= {'positive_x2':postim_end_values,'positive_y2':mapped_posEnd}\n",
    "param_vel_end = pd.DataFrame(data_param)\n",
    "\n",
    "# Reset the indices of the DataFrames\n",
    "param_gain_start = param_vel_start.reset_index(drop=True)\n",
    "param_gain_end = param_vel_end.reset_index(drop=True)\n",
    "\n",
    "# Concatenate the DataFrames horizontally\n",
    "param_vel_final = pd.concat([param_vel_start,param_vel_end],axis=1)\n",
    "param_vel_positive_final = param_vel_final.fillna(method='ffill')\n",
    "#param_gain_final\n"
   ]
  },
  {
   "attachments": {},
   "cell_type": "markdown",
   "metadata": {},
   "source": [
    "#### Conditions"
   ]
  },
  {
   "cell_type": "code",
   "execution_count": 651,
   "metadata": {},
   "outputs": [],
   "source": [
    "param_vel_positive_final['Condition'] = param_vel_positive_final['positive_x2'] - param_vel_positive_final['positive_x1']\n",
    "param_vel_positive_final['Condition'] =abs(param_vel_positive_final['Condition'])\n",
    "param_vel_positive_final = param_vel_positive_final[param_vel_positive_final['Condition'] > 0.26]"
   ]
  },
  {
   "attachments": {},
   "cell_type": "markdown",
   "metadata": {},
   "source": [
    "### Velocity for Positive peak calculation"
   ]
  },
  {
   "cell_type": "code",
   "execution_count": 652,
   "metadata": {},
   "outputs": [
    {
     "name": "stdout",
     "output_type": "stream",
     "text": [
      "1.0504381162504062\n"
     ]
    }
   ],
   "source": [
    "# Calculate the difference between y2 and y1 divided by the difference between x2 and x1\n",
    "param_vel_positive_final['slope'] = (param_vel_positive_final['positive_y2'] - param_vel_positive_final['positive_y1']) / (param_vel_positive_final['positive_x2'] - param_vel_positive_final['positive_x1'])\n",
    "\n",
    "# abs\n",
    "param_vel_positive_final['slope'] = abs(param_vel_positive_final['slope'])\n",
    "\n",
    "# Remove unwant values\n",
    "#param_gain_positive_final.loc[param_gain_positive_final['slope'] > 1.09, 'slope'] = np.nan  \n",
    "\n",
    "# Calculate the average slope\n",
    "average_positive_slope = abs(param_vel_positive_final['slope'].mean())\n",
    "\n",
    "# Print the average slope\n",
    "print(average_positive_slope)"
   ]
  },
  {
   "cell_type": "code",
   "execution_count": 653,
   "metadata": {},
   "outputs": [
    {
     "data": {
      "text/html": [
       "<div>\n",
       "<style scoped>\n",
       "    .dataframe tbody tr th:only-of-type {\n",
       "        vertical-align: middle;\n",
       "    }\n",
       "\n",
       "    .dataframe tbody tr th {\n",
       "        vertical-align: top;\n",
       "    }\n",
       "\n",
       "    .dataframe thead th {\n",
       "        text-align: right;\n",
       "    }\n",
       "</style>\n",
       "<table border=\"1\" class=\"dataframe\">\n",
       "  <thead>\n",
       "    <tr style=\"text-align: right;\">\n",
       "      <th></th>\n",
       "      <th>positive_x1</th>\n",
       "      <th>positive_y1</th>\n",
       "      <th>positive_x2</th>\n",
       "      <th>positive_y2</th>\n",
       "      <th>Condition</th>\n",
       "      <th>slope</th>\n",
       "    </tr>\n",
       "  </thead>\n",
       "  <tbody>\n",
       "    <tr>\n",
       "      <th>3518</th>\n",
       "      <td>11.73</td>\n",
       "      <td>8.3266</td>\n",
       "      <td>11.41</td>\n",
       "      <td>8.5081</td>\n",
       "      <td>0.32</td>\n",
       "      <td>0.567188</td>\n",
       "    </tr>\n",
       "    <tr>\n",
       "      <th>4088</th>\n",
       "      <td>13.63</td>\n",
       "      <td>6.3911</td>\n",
       "      <td>11.41</td>\n",
       "      <td>8.5081</td>\n",
       "      <td>2.22</td>\n",
       "      <td>0.953604</td>\n",
       "    </tr>\n",
       "    <tr>\n",
       "      <th>4127</th>\n",
       "      <td>13.76</td>\n",
       "      <td>6.2298</td>\n",
       "      <td>11.41</td>\n",
       "      <td>8.5081</td>\n",
       "      <td>2.35</td>\n",
       "      <td>0.969489</td>\n",
       "    </tr>\n",
       "    <tr>\n",
       "      <th>4319</th>\n",
       "      <td>14.40</td>\n",
       "      <td>5.4839</td>\n",
       "      <td>13.93</td>\n",
       "      <td>6.1290</td>\n",
       "      <td>0.47</td>\n",
       "      <td>1.372553</td>\n",
       "    </tr>\n",
       "    <tr>\n",
       "      <th>5072</th>\n",
       "      <td>16.91</td>\n",
       "      <td>3.3468</td>\n",
       "      <td>13.93</td>\n",
       "      <td>6.1290</td>\n",
       "      <td>2.98</td>\n",
       "      <td>0.933624</td>\n",
       "    </tr>\n",
       "    <tr>\n",
       "      <th>5801</th>\n",
       "      <td>19.34</td>\n",
       "      <td>0.7661</td>\n",
       "      <td>13.93</td>\n",
       "      <td>6.1290</td>\n",
       "      <td>5.41</td>\n",
       "      <td>0.991294</td>\n",
       "    </tr>\n",
       "    <tr>\n",
       "      <th>5810</th>\n",
       "      <td>19.37</td>\n",
       "      <td>0.6855</td>\n",
       "      <td>13.93</td>\n",
       "      <td>6.1290</td>\n",
       "      <td>5.44</td>\n",
       "      <td>1.000643</td>\n",
       "    </tr>\n",
       "    <tr>\n",
       "      <th>5825</th>\n",
       "      <td>19.42</td>\n",
       "      <td>0.6855</td>\n",
       "      <td>13.93</td>\n",
       "      <td>6.1290</td>\n",
       "      <td>5.49</td>\n",
       "      <td>0.991530</td>\n",
       "    </tr>\n",
       "    <tr>\n",
       "      <th>5831</th>\n",
       "      <td>19.44</td>\n",
       "      <td>0.6250</td>\n",
       "      <td>13.93</td>\n",
       "      <td>6.1290</td>\n",
       "      <td>5.51</td>\n",
       "      <td>0.998911</td>\n",
       "    </tr>\n",
       "    <tr>\n",
       "      <th>5843</th>\n",
       "      <td>19.48</td>\n",
       "      <td>0.5645</td>\n",
       "      <td>13.93</td>\n",
       "      <td>6.1290</td>\n",
       "      <td>5.55</td>\n",
       "      <td>1.002613</td>\n",
       "    </tr>\n",
       "    <tr>\n",
       "      <th>5846</th>\n",
       "      <td>19.49</td>\n",
       "      <td>0.5645</td>\n",
       "      <td>13.93</td>\n",
       "      <td>6.1290</td>\n",
       "      <td>5.56</td>\n",
       "      <td>1.000809</td>\n",
       "    </tr>\n",
       "    <tr>\n",
       "      <th>5852</th>\n",
       "      <td>19.51</td>\n",
       "      <td>0.6048</td>\n",
       "      <td>13.93</td>\n",
       "      <td>6.1290</td>\n",
       "      <td>5.58</td>\n",
       "      <td>0.990000</td>\n",
       "    </tr>\n",
       "    <tr>\n",
       "      <th>5921</th>\n",
       "      <td>19.74</td>\n",
       "      <td>0.1210</td>\n",
       "      <td>13.93</td>\n",
       "      <td>6.1290</td>\n",
       "      <td>5.81</td>\n",
       "      <td>1.034079</td>\n",
       "    </tr>\n",
       "    <tr>\n",
       "      <th>6647</th>\n",
       "      <td>22.16</td>\n",
       "      <td>-1.4315</td>\n",
       "      <td>19.76</td>\n",
       "      <td>0.3831</td>\n",
       "      <td>2.40</td>\n",
       "      <td>0.756083</td>\n",
       "    </tr>\n",
       "    <tr>\n",
       "      <th>6953</th>\n",
       "      <td>23.18</td>\n",
       "      <td>-2.8024</td>\n",
       "      <td>19.76</td>\n",
       "      <td>0.3831</td>\n",
       "      <td>3.42</td>\n",
       "      <td>0.931433</td>\n",
       "    </tr>\n",
       "    <tr>\n",
       "      <th>7340</th>\n",
       "      <td>24.47</td>\n",
       "      <td>-4.0323</td>\n",
       "      <td>19.76</td>\n",
       "      <td>0.3831</td>\n",
       "      <td>4.71</td>\n",
       "      <td>0.937452</td>\n",
       "    </tr>\n",
       "    <tr>\n",
       "      <th>7640</th>\n",
       "      <td>25.47</td>\n",
       "      <td>-5.1829</td>\n",
       "      <td>19.76</td>\n",
       "      <td>0.3831</td>\n",
       "      <td>5.71</td>\n",
       "      <td>0.974781</td>\n",
       "    </tr>\n",
       "    <tr>\n",
       "      <th>7706</th>\n",
       "      <td>25.69</td>\n",
       "      <td>-5.5242</td>\n",
       "      <td>19.76</td>\n",
       "      <td>0.3831</td>\n",
       "      <td>5.93</td>\n",
       "      <td>0.996172</td>\n",
       "    </tr>\n",
       "    <tr>\n",
       "      <th>8096</th>\n",
       "      <td>26.99</td>\n",
       "      <td>-6.7742</td>\n",
       "      <td>19.76</td>\n",
       "      <td>0.3831</td>\n",
       "      <td>7.23</td>\n",
       "      <td>0.989945</td>\n",
       "    </tr>\n",
       "    <tr>\n",
       "      <th>8495</th>\n",
       "      <td>28.32</td>\n",
       "      <td>-8.3871</td>\n",
       "      <td>27.25</td>\n",
       "      <td>-7.1774</td>\n",
       "      <td>1.07</td>\n",
       "      <td>1.130561</td>\n",
       "    </tr>\n",
       "    <tr>\n",
       "      <th>8525</th>\n",
       "      <td>28.42</td>\n",
       "      <td>-8.4476</td>\n",
       "      <td>27.25</td>\n",
       "      <td>-7.1774</td>\n",
       "      <td>1.17</td>\n",
       "      <td>1.085641</td>\n",
       "    </tr>\n",
       "    <tr>\n",
       "      <th>8528</th>\n",
       "      <td>28.43</td>\n",
       "      <td>-8.3669</td>\n",
       "      <td>27.25</td>\n",
       "      <td>-7.1774</td>\n",
       "      <td>1.18</td>\n",
       "      <td>1.008051</td>\n",
       "    </tr>\n",
       "    <tr>\n",
       "      <th>8552</th>\n",
       "      <td>28.51</td>\n",
       "      <td>-8.3871</td>\n",
       "      <td>27.25</td>\n",
       "      <td>-7.1774</td>\n",
       "      <td>1.26</td>\n",
       "      <td>0.960079</td>\n",
       "    </tr>\n",
       "    <tr>\n",
       "      <th>8561</th>\n",
       "      <td>28.54</td>\n",
       "      <td>-8.2661</td>\n",
       "      <td>27.25</td>\n",
       "      <td>-7.1774</td>\n",
       "      <td>1.29</td>\n",
       "      <td>0.843953</td>\n",
       "    </tr>\n",
       "    <tr>\n",
       "      <th>8699</th>\n",
       "      <td>29.00</td>\n",
       "      <td>-9.1532</td>\n",
       "      <td>28.74</td>\n",
       "      <td>-8.7097</td>\n",
       "      <td>0.26</td>\n",
       "      <td>1.705769</td>\n",
       "    </tr>\n",
       "    <tr>\n",
       "      <th>3371</th>\n",
       "      <td>29.00</td>\n",
       "      <td>-9.1532</td>\n",
       "      <td>11.24</td>\n",
       "      <td>8.9315</td>\n",
       "      <td>17.76</td>\n",
       "      <td>1.018283</td>\n",
       "    </tr>\n",
       "    <tr>\n",
       "      <th>3428</th>\n",
       "      <td>29.00</td>\n",
       "      <td>-9.1532</td>\n",
       "      <td>11.43</td>\n",
       "      <td>8.3871</td>\n",
       "      <td>17.57</td>\n",
       "      <td>0.998310</td>\n",
       "    </tr>\n",
       "    <tr>\n",
       "      <th>3467</th>\n",
       "      <td>29.00</td>\n",
       "      <td>-9.1532</td>\n",
       "      <td>11.56</td>\n",
       "      <td>8.4677</td>\n",
       "      <td>17.44</td>\n",
       "      <td>1.010373</td>\n",
       "    </tr>\n",
       "    <tr>\n",
       "      <th>3509</th>\n",
       "      <td>29.00</td>\n",
       "      <td>-9.1532</td>\n",
       "      <td>11.70</td>\n",
       "      <td>8.2460</td>\n",
       "      <td>17.30</td>\n",
       "      <td>1.005734</td>\n",
       "    </tr>\n",
       "    <tr>\n",
       "      <th>3878</th>\n",
       "      <td>29.00</td>\n",
       "      <td>-9.1532</td>\n",
       "      <td>12.93</td>\n",
       "      <td>7.2984</td>\n",
       "      <td>16.07</td>\n",
       "      <td>1.023746</td>\n",
       "    </tr>\n",
       "    <tr>\n",
       "      <th>4085</th>\n",
       "      <td>29.00</td>\n",
       "      <td>-9.1532</td>\n",
       "      <td>13.62</td>\n",
       "      <td>6.2702</td>\n",
       "      <td>15.38</td>\n",
       "      <td>1.002822</td>\n",
       "    </tr>\n",
       "    <tr>\n",
       "      <th>4313</th>\n",
       "      <td>29.00</td>\n",
       "      <td>-9.1532</td>\n",
       "      <td>14.38</td>\n",
       "      <td>6.2298</td>\n",
       "      <td>14.62</td>\n",
       "      <td>1.052189</td>\n",
       "    </tr>\n",
       "    <tr>\n",
       "      <th>5063</th>\n",
       "      <td>29.00</td>\n",
       "      <td>-9.1532</td>\n",
       "      <td>16.88</td>\n",
       "      <td>3.9113</td>\n",
       "      <td>12.12</td>\n",
       "      <td>1.077929</td>\n",
       "    </tr>\n",
       "    <tr>\n",
       "      <th>5786</th>\n",
       "      <td>29.00</td>\n",
       "      <td>-9.1532</td>\n",
       "      <td>19.29</td>\n",
       "      <td>1.1694</td>\n",
       "      <td>9.71</td>\n",
       "      <td>1.063090</td>\n",
       "    </tr>\n",
       "    <tr>\n",
       "      <th>5798</th>\n",
       "      <td>29.00</td>\n",
       "      <td>-9.1532</td>\n",
       "      <td>19.33</td>\n",
       "      <td>0.6452</td>\n",
       "      <td>9.67</td>\n",
       "      <td>1.013278</td>\n",
       "    </tr>\n",
       "    <tr>\n",
       "      <th>5813</th>\n",
       "      <td>29.00</td>\n",
       "      <td>-9.1532</td>\n",
       "      <td>19.38</td>\n",
       "      <td>0.7863</td>\n",
       "      <td>9.62</td>\n",
       "      <td>1.033212</td>\n",
       "    </tr>\n",
       "    <tr>\n",
       "      <th>5822</th>\n",
       "      <td>29.00</td>\n",
       "      <td>-9.1532</td>\n",
       "      <td>19.41</td>\n",
       "      <td>0.4234</td>\n",
       "      <td>9.59</td>\n",
       "      <td>0.998603</td>\n",
       "    </tr>\n",
       "    <tr>\n",
       "      <th>5834</th>\n",
       "      <td>29.00</td>\n",
       "      <td>-9.1532</td>\n",
       "      <td>19.45</td>\n",
       "      <td>0.7258</td>\n",
       "      <td>9.55</td>\n",
       "      <td>1.034450</td>\n",
       "    </tr>\n",
       "    <tr>\n",
       "      <th>5840</th>\n",
       "      <td>29.00</td>\n",
       "      <td>-9.1532</td>\n",
       "      <td>19.47</td>\n",
       "      <td>0.5444</td>\n",
       "      <td>9.53</td>\n",
       "      <td>1.017587</td>\n",
       "    </tr>\n",
       "    <tr>\n",
       "      <th>5915</th>\n",
       "      <td>29.00</td>\n",
       "      <td>-9.1532</td>\n",
       "      <td>19.72</td>\n",
       "      <td>0.3629</td>\n",
       "      <td>9.28</td>\n",
       "      <td>1.025442</td>\n",
       "    </tr>\n",
       "  </tbody>\n",
       "</table>\n",
       "</div>"
      ],
      "text/plain": [
       "      positive_x1  positive_y1  positive_x2  positive_y2  Condition     slope\n",
       "3518        11.73       8.3266        11.41       8.5081       0.32  0.567188\n",
       "4088        13.63       6.3911        11.41       8.5081       2.22  0.953604\n",
       "4127        13.76       6.2298        11.41       8.5081       2.35  0.969489\n",
       "4319        14.40       5.4839        13.93       6.1290       0.47  1.372553\n",
       "5072        16.91       3.3468        13.93       6.1290       2.98  0.933624\n",
       "5801        19.34       0.7661        13.93       6.1290       5.41  0.991294\n",
       "5810        19.37       0.6855        13.93       6.1290       5.44  1.000643\n",
       "5825        19.42       0.6855        13.93       6.1290       5.49  0.991530\n",
       "5831        19.44       0.6250        13.93       6.1290       5.51  0.998911\n",
       "5843        19.48       0.5645        13.93       6.1290       5.55  1.002613\n",
       "5846        19.49       0.5645        13.93       6.1290       5.56  1.000809\n",
       "5852        19.51       0.6048        13.93       6.1290       5.58  0.990000\n",
       "5921        19.74       0.1210        13.93       6.1290       5.81  1.034079\n",
       "6647        22.16      -1.4315        19.76       0.3831       2.40  0.756083\n",
       "6953        23.18      -2.8024        19.76       0.3831       3.42  0.931433\n",
       "7340        24.47      -4.0323        19.76       0.3831       4.71  0.937452\n",
       "7640        25.47      -5.1829        19.76       0.3831       5.71  0.974781\n",
       "7706        25.69      -5.5242        19.76       0.3831       5.93  0.996172\n",
       "8096        26.99      -6.7742        19.76       0.3831       7.23  0.989945\n",
       "8495        28.32      -8.3871        27.25      -7.1774       1.07  1.130561\n",
       "8525        28.42      -8.4476        27.25      -7.1774       1.17  1.085641\n",
       "8528        28.43      -8.3669        27.25      -7.1774       1.18  1.008051\n",
       "8552        28.51      -8.3871        27.25      -7.1774       1.26  0.960079\n",
       "8561        28.54      -8.2661        27.25      -7.1774       1.29  0.843953\n",
       "8699        29.00      -9.1532        28.74      -8.7097       0.26  1.705769\n",
       "3371        29.00      -9.1532        11.24       8.9315      17.76  1.018283\n",
       "3428        29.00      -9.1532        11.43       8.3871      17.57  0.998310\n",
       "3467        29.00      -9.1532        11.56       8.4677      17.44  1.010373\n",
       "3509        29.00      -9.1532        11.70       8.2460      17.30  1.005734\n",
       "3878        29.00      -9.1532        12.93       7.2984      16.07  1.023746\n",
       "4085        29.00      -9.1532        13.62       6.2702      15.38  1.002822\n",
       "4313        29.00      -9.1532        14.38       6.2298      14.62  1.052189\n",
       "5063        29.00      -9.1532        16.88       3.9113      12.12  1.077929\n",
       "5786        29.00      -9.1532        19.29       1.1694       9.71  1.063090\n",
       "5798        29.00      -9.1532        19.33       0.6452       9.67  1.013278\n",
       "5813        29.00      -9.1532        19.38       0.7863       9.62  1.033212\n",
       "5822        29.00      -9.1532        19.41       0.4234       9.59  0.998603\n",
       "5834        29.00      -9.1532        19.45       0.7258       9.55  1.034450\n",
       "5840        29.00      -9.1532        19.47       0.5444       9.53  1.017587\n",
       "5915        29.00      -9.1532        19.72       0.3629       9.28  1.025442"
      ]
     },
     "execution_count": 653,
     "metadata": {},
     "output_type": "execute_result"
    }
   ],
   "source": [
    "param_vel_positive_final.head(40)"
   ]
  },
  {
   "attachments": {},
   "cell_type": "markdown",
   "metadata": {},
   "source": [
    "#### Negative Time Start Trimming"
   ]
  },
  {
   "cell_type": "code",
   "execution_count": 654,
   "metadata": {},
   "outputs": [],
   "source": [
    "# Select the non-empty values in the 'Pos_Start' column\n",
    "neg_start_values = df_test.loc[df_test['NegTim_Start'] != '', 'NegTim_Start'].values\n",
    "\n",
    "# Round the values in the 'Pos_Start' column to two decimal places\n",
    "rounded_neg_start_values = []\n",
    "for value in neg_start_values:\n",
    "    rounded_neg_start_values.append(round(value - 0.003, 2))\n",
    "\n",
    "# Convert the list of rounded values back to a NumPy array\n",
    "negtim_start_values = np.array(rounded_neg_start_values)\n",
    "\n",
    "# Print the non-empty values\n",
    "#print(negtim_start_values)"
   ]
  },
  {
   "attachments": {},
   "cell_type": "markdown",
   "metadata": {},
   "source": [
    "#### Negative Time End Trimming"
   ]
  },
  {
   "cell_type": "code",
   "execution_count": 655,
   "metadata": {},
   "outputs": [],
   "source": [
    "# Select the non-empty values in the 'Pos_Start' column\n",
    "neg_end_values = df_test.loc[df_test['NegTim_End'] != '', 'NegTim_End'].values\n",
    "\n",
    "# Round the values in the 'Pos_Start' column to two decimal places\n",
    "rounded_neg_end_values = []\n",
    "for value in neg_end_values:\n",
    "    rounded_neg_end_values.append(round(value - 0.02, 2))\n",
    "\n",
    "# Convert the list of rounded values back to a NumPy array\n",
    "negtim_end_values = np.array(rounded_neg_end_values)\n",
    "\n",
    "# Print the non-empty values\n",
    "#print(negtim_end_values)"
   ]
  },
  {
   "attachments": {},
   "cell_type": "markdown",
   "metadata": {},
   "source": [
    "#### Map the start negative Time to POS in raw data"
   ]
  },
  {
   "cell_type": "code",
   "execution_count": 656,
   "metadata": {},
   "outputs": [],
   "source": [
    "# Create a dictionary from the mapping list\n",
    "mapping_list = negtim_start_values\n",
    "\n",
    "# Map the values to the 'POS' column in raw\n",
    "mapped_negSt = data.loc[data['Position'].isin(mapping_list),'Time']"
   ]
  },
  {
   "attachments": {},
   "cell_type": "markdown",
   "metadata": {},
   "source": [
    "#### Map the End of negative Time to POS in raw data"
   ]
  },
  {
   "cell_type": "code",
   "execution_count": 657,
   "metadata": {},
   "outputs": [],
   "source": [
    "# Create a dictionary from the mapping list\n",
    "mapping_list = negtim_end_values\n",
    "\n",
    "# Map the values to the 'POS' column in raw\n",
    "mapped_negEnd = data.loc[data['Position'].isin(mapping_list),'Time']\n",
    "#mapped_negEnd"
   ]
  },
  {
   "attachments": {},
   "cell_type": "markdown",
   "metadata": {},
   "source": [
    "#### Velocity param negative dataframe"
   ]
  },
  {
   "cell_type": "code",
   "execution_count": 662,
   "metadata": {},
   "outputs": [],
   "source": [
    "# column miss match\n",
    "# Check lengths and truncate longer column \n",
    "if len(negtim_start_values) > len(mapped_negSt): \n",
    "    negtim_start_values = negtim_start_values[:len(mapped_negSt)] \n",
    "elif len(mapped_negSt) > len(negtim_start_values):\n",
    "    mapped_negSt = mapped_negSt[:len(negtim_start_values)]  \n",
    "\n",
    "\n",
    "data_param = {'negative_x1':negtim_start_values,'negative_y1':mapped_negSt}             \n",
    "param_vel_start = pd.DataFrame(data_param)\n",
    "data_param= {'negative_x2':negtim_end_values,'negative_y2':mapped_negEnd}\n",
    "param_vel_end = pd.DataFrame(data_param)\n",
    "\n",
    "# Reset the indices of the DataFrames\n",
    "param_vel_start = param_vel_start.reset_index(drop=True)\n",
    "param_vel_end = param_vel_end.reset_index(drop=True)\n",
    "\n",
    "# Concatenate the DataFrames horizontally\n",
    "param_vel_negative_final = pd.concat([param_vel_start,param_vel_end],axis=1)\n",
    "param_vel_negative_final = param_vel_negative_final.fillna(method='ffill')\n",
    "#param_vel_negative_final\n"
   ]
  },
  {
   "attachments": {},
   "cell_type": "markdown",
   "metadata": {},
   "source": [
    "#### Conditions"
   ]
  },
  {
   "cell_type": "code",
   "execution_count": 663,
   "metadata": {},
   "outputs": [],
   "source": [
    "param_vel_negative_final['Condition'] = param_vel_negative_final['negative_x2'] - param_vel_negative_final['negative_x1']\n",
    "param_vel_negative_final['Condition'] =abs(param_vel_negative_final['Condition'])\n",
    "param_vel_negative_final = param_vel_negative_final[param_vel_negative_final['Condition'] > 0.45]"
   ]
  },
  {
   "attachments": {},
   "cell_type": "markdown",
   "metadata": {},
   "source": [
    "### Velocity for Negative peak calculation"
   ]
  },
  {
   "cell_type": "code",
   "execution_count": 664,
   "metadata": {},
   "outputs": [
    {
     "name": "stdout",
     "output_type": "stream",
     "text": [
      "0.9624231765900457\n"
     ]
    }
   ],
   "source": [
    "# Calculate the difference between y2 and y1 divided by the difference between x2 and x1\n",
    "param_vel_negative_final['slope'] = (param_vel_negative_final['negative_y2'] - param_vel_negative_final['negative_y1']) / (param_vel_negative_final['negative_x2'] - param_vel_negative_final['negative_x1'])\n",
    "\n",
    "# abs\n",
    "param_vel_negative_final['slope'] = abs(param_vel_negative_final['slope'])\n",
    "\n",
    "param_vel_negative_final['slope'].replace([np.inf, -np.inf], np.nan, inplace=True)\n",
    "\n",
    "# Remove unwant values\n",
    "#param_gain_negative_final.loc[(param_gain_negative_final['slope'] < 0.80) |  \n",
    "#                              (param_gain_negative_final['slope'] > 1.09), \n",
    "#                              'slope'] = np.nan\n",
    "# Calculate the average slope\n",
    "average_negative_slope = abs(param_vel_negative_final['slope'].mean())\n",
    "\n",
    "# Print the average slope\n",
    "print(average_negative_slope)"
   ]
  },
  {
   "cell_type": "code",
   "execution_count": 665,
   "metadata": {},
   "outputs": [
    {
     "data": {
      "text/html": [
       "<div>\n",
       "<style scoped>\n",
       "    .dataframe tbody tr th:only-of-type {\n",
       "        vertical-align: middle;\n",
       "    }\n",
       "\n",
       "    .dataframe tbody tr th {\n",
       "        vertical-align: top;\n",
       "    }\n",
       "\n",
       "    .dataframe thead th {\n",
       "        text-align: right;\n",
       "    }\n",
       "</style>\n",
       "<table border=\"1\" class=\"dataframe\">\n",
       "  <thead>\n",
       "    <tr style=\"text-align: right;\">\n",
       "      <th></th>\n",
       "      <th>negative_x1</th>\n",
       "      <th>negative_y1</th>\n",
       "      <th>negative_x2</th>\n",
       "      <th>negative_y2</th>\n",
       "      <th>Condition</th>\n",
       "      <th>slope</th>\n",
       "    </tr>\n",
       "  </thead>\n",
       "  <tbody>\n",
       "    <tr>\n",
       "      <th>4</th>\n",
       "      <td>11.72</td>\n",
       "      <td>8.3266</td>\n",
       "      <td>13.61</td>\n",
       "      <td>6.3710</td>\n",
       "      <td>1.89</td>\n",
       "      <td>1.034709</td>\n",
       "    </tr>\n",
       "    <tr>\n",
       "      <th>5</th>\n",
       "      <td>12.95</td>\n",
       "      <td>6.6935</td>\n",
       "      <td>13.74</td>\n",
       "      <td>6.0887</td>\n",
       "      <td>0.79</td>\n",
       "      <td>0.765570</td>\n",
       "    </tr>\n",
       "    <tr>\n",
       "      <th>9</th>\n",
       "      <td>14.40</td>\n",
       "      <td>5.4839</td>\n",
       "      <td>16.89</td>\n",
       "      <td>3.7500</td>\n",
       "      <td>2.49</td>\n",
       "      <td>0.696345</td>\n",
       "    </tr>\n",
       "    <tr>\n",
       "      <th>10</th>\n",
       "      <td>16.90</td>\n",
       "      <td>3.0444</td>\n",
       "      <td>19.32</td>\n",
       "      <td>0.7258</td>\n",
       "      <td>2.42</td>\n",
       "      <td>0.958099</td>\n",
       "    </tr>\n",
       "    <tr>\n",
       "      <th>16</th>\n",
       "      <td>19.48</td>\n",
       "      <td>0.5645</td>\n",
       "      <td>22.14</td>\n",
       "      <td>-3.4274</td>\n",
       "      <td>2.66</td>\n",
       "      <td>1.500714</td>\n",
       "    </tr>\n",
       "    <tr>\n",
       "      <th>17</th>\n",
       "      <td>19.49</td>\n",
       "      <td>0.5645</td>\n",
       "      <td>23.16</td>\n",
       "      <td>-3.6694</td>\n",
       "      <td>3.67</td>\n",
       "      <td>1.153651</td>\n",
       "    </tr>\n",
       "    <tr>\n",
       "      <th>18</th>\n",
       "      <td>19.74</td>\n",
       "      <td>0.1210</td>\n",
       "      <td>24.45</td>\n",
       "      <td>-4.7581</td>\n",
       "      <td>4.71</td>\n",
       "      <td>1.035902</td>\n",
       "    </tr>\n",
       "    <tr>\n",
       "      <th>19</th>\n",
       "      <td>19.75</td>\n",
       "      <td>0.2823</td>\n",
       "      <td>25.45</td>\n",
       "      <td>-5.5444</td>\n",
       "      <td>5.70</td>\n",
       "      <td>1.022228</td>\n",
       "    </tr>\n",
       "    <tr>\n",
       "      <th>20</th>\n",
       "      <td>19.78</td>\n",
       "      <td>0.4032</td>\n",
       "      <td>25.67</td>\n",
       "      <td>-6.0887</td>\n",
       "      <td>5.89</td>\n",
       "      <td>1.102190</td>\n",
       "    </tr>\n",
       "    <tr>\n",
       "      <th>21</th>\n",
       "      <td>21.62</td>\n",
       "      <td>-1.4113</td>\n",
       "      <td>26.97</td>\n",
       "      <td>-7.0565</td>\n",
       "      <td>5.35</td>\n",
       "      <td>1.055178</td>\n",
       "    </tr>\n",
       "    <tr>\n",
       "      <th>22</th>\n",
       "      <td>22.68</td>\n",
       "      <td>-3.6492</td>\n",
       "      <td>26.99</td>\n",
       "      <td>-6.7742</td>\n",
       "      <td>4.31</td>\n",
       "      <td>0.725058</td>\n",
       "    </tr>\n",
       "    <tr>\n",
       "      <th>23</th>\n",
       "      <td>23.98</td>\n",
       "      <td>-4.4153</td>\n",
       "      <td>27.04</td>\n",
       "      <td>-7.1169</td>\n",
       "      <td>3.06</td>\n",
       "      <td>0.882876</td>\n",
       "    </tr>\n",
       "    <tr>\n",
       "      <th>24</th>\n",
       "      <td>25.12</td>\n",
       "      <td>-5.7258</td>\n",
       "      <td>27.09</td>\n",
       "      <td>-7.2379</td>\n",
       "      <td>1.97</td>\n",
       "      <td>0.767563</td>\n",
       "    </tr>\n",
       "    <tr>\n",
       "      <th>25</th>\n",
       "      <td>25.53</td>\n",
       "      <td>-5.5593</td>\n",
       "      <td>27.11</td>\n",
       "      <td>-6.9960</td>\n",
       "      <td>1.58</td>\n",
       "      <td>0.909304</td>\n",
       "    </tr>\n",
       "    <tr>\n",
       "      <th>26</th>\n",
       "      <td>26.16</td>\n",
       "      <td>-6.0685</td>\n",
       "      <td>27.15</td>\n",
       "      <td>-7.0565</td>\n",
       "      <td>0.99</td>\n",
       "      <td>0.997980</td>\n",
       "    </tr>\n",
       "    <tr>\n",
       "      <th>31</th>\n",
       "      <td>27.12</td>\n",
       "      <td>-7.0363</td>\n",
       "      <td>28.30</td>\n",
       "      <td>-8.6089</td>\n",
       "      <td>1.18</td>\n",
       "      <td>1.332712</td>\n",
       "    </tr>\n",
       "    <tr>\n",
       "      <th>32</th>\n",
       "      <td>27.16</td>\n",
       "      <td>-7.2782</td>\n",
       "      <td>28.41</td>\n",
       "      <td>-8.2258</td>\n",
       "      <td>1.25</td>\n",
       "      <td>0.758080</td>\n",
       "    </tr>\n",
       "    <tr>\n",
       "      <th>33</th>\n",
       "      <td>27.19</td>\n",
       "      <td>-7.1573</td>\n",
       "      <td>28.49</td>\n",
       "      <td>-8.5484</td>\n",
       "      <td>1.30</td>\n",
       "      <td>1.070077</td>\n",
       "    </tr>\n",
       "    <tr>\n",
       "      <th>34</th>\n",
       "      <td>27.22</td>\n",
       "      <td>-7.2177</td>\n",
       "      <td>28.52</td>\n",
       "      <td>-8.5081</td>\n",
       "      <td>1.30</td>\n",
       "      <td>0.992615</td>\n",
       "    </tr>\n",
       "    <tr>\n",
       "      <th>35</th>\n",
       "      <td>27.23</td>\n",
       "      <td>-7.1371</td>\n",
       "      <td>28.54</td>\n",
       "      <td>-8.2661</td>\n",
       "      <td>1.31</td>\n",
       "      <td>0.861832</td>\n",
       "    </tr>\n",
       "    <tr>\n",
       "      <th>36</th>\n",
       "      <td>27.24</td>\n",
       "      <td>-7.0766</td>\n",
       "      <td>28.60</td>\n",
       "      <td>-8.5484</td>\n",
       "      <td>1.36</td>\n",
       "      <td>1.082206</td>\n",
       "    </tr>\n",
       "    <tr>\n",
       "      <th>37</th>\n",
       "      <td>27.25</td>\n",
       "      <td>-7.1774</td>\n",
       "      <td>28.64</td>\n",
       "      <td>-8.6089</td>\n",
       "      <td>1.39</td>\n",
       "      <td>1.029856</td>\n",
       "    </tr>\n",
       "    <tr>\n",
       "      <th>38</th>\n",
       "      <td>27.27</td>\n",
       "      <td>-7.2984</td>\n",
       "      <td>28.72</td>\n",
       "      <td>-8.7500</td>\n",
       "      <td>1.45</td>\n",
       "      <td>1.001103</td>\n",
       "    </tr>\n",
       "    <tr>\n",
       "      <th>39</th>\n",
       "      <td>27.36</td>\n",
       "      <td>-7.3589</td>\n",
       "      <td>28.76</td>\n",
       "      <td>-8.7903</td>\n",
       "      <td>1.40</td>\n",
       "      <td>1.022429</td>\n",
       "    </tr>\n",
       "    <tr>\n",
       "      <th>40</th>\n",
       "      <td>27.41</td>\n",
       "      <td>-7.3992</td>\n",
       "      <td>28.78</td>\n",
       "      <td>-8.6290</td>\n",
       "      <td>1.37</td>\n",
       "      <td>0.897664</td>\n",
       "    </tr>\n",
       "    <tr>\n",
       "      <th>41</th>\n",
       "      <td>28.26</td>\n",
       "      <td>-8.5282</td>\n",
       "      <td>28.81</td>\n",
       "      <td>-8.7903</td>\n",
       "      <td>0.55</td>\n",
       "      <td>0.476545</td>\n",
       "    </tr>\n",
       "    <tr>\n",
       "      <th>43</th>\n",
       "      <td>28.42</td>\n",
       "      <td>-8.4476</td>\n",
       "      <td>28.93</td>\n",
       "      <td>-8.7500</td>\n",
       "      <td>0.51</td>\n",
       "      <td>0.592941</td>\n",
       "    </tr>\n",
       "    <tr>\n",
       "      <th>44</th>\n",
       "      <td>28.43</td>\n",
       "      <td>-8.3669</td>\n",
       "      <td>28.98</td>\n",
       "      <td>-8.9315</td>\n",
       "      <td>0.55</td>\n",
       "      <td>1.026545</td>\n",
       "    </tr>\n",
       "    <tr>\n",
       "      <th>45</th>\n",
       "      <td>28.51</td>\n",
       "      <td>-8.3871</td>\n",
       "      <td>28.98</td>\n",
       "      <td>-8.9315</td>\n",
       "      <td>0.47</td>\n",
       "      <td>1.158298</td>\n",
       "    </tr>\n",
       "  </tbody>\n",
       "</table>\n",
       "</div>"
      ],
      "text/plain": [
       "    negative_x1  negative_y1  negative_x2  negative_y2  Condition     slope\n",
       "4         11.72       8.3266        13.61       6.3710       1.89  1.034709\n",
       "5         12.95       6.6935        13.74       6.0887       0.79  0.765570\n",
       "9         14.40       5.4839        16.89       3.7500       2.49  0.696345\n",
       "10        16.90       3.0444        19.32       0.7258       2.42  0.958099\n",
       "16        19.48       0.5645        22.14      -3.4274       2.66  1.500714\n",
       "17        19.49       0.5645        23.16      -3.6694       3.67  1.153651\n",
       "18        19.74       0.1210        24.45      -4.7581       4.71  1.035902\n",
       "19        19.75       0.2823        25.45      -5.5444       5.70  1.022228\n",
       "20        19.78       0.4032        25.67      -6.0887       5.89  1.102190\n",
       "21        21.62      -1.4113        26.97      -7.0565       5.35  1.055178\n",
       "22        22.68      -3.6492        26.99      -6.7742       4.31  0.725058\n",
       "23        23.98      -4.4153        27.04      -7.1169       3.06  0.882876\n",
       "24        25.12      -5.7258        27.09      -7.2379       1.97  0.767563\n",
       "25        25.53      -5.5593        27.11      -6.9960       1.58  0.909304\n",
       "26        26.16      -6.0685        27.15      -7.0565       0.99  0.997980\n",
       "31        27.12      -7.0363        28.30      -8.6089       1.18  1.332712\n",
       "32        27.16      -7.2782        28.41      -8.2258       1.25  0.758080\n",
       "33        27.19      -7.1573        28.49      -8.5484       1.30  1.070077\n",
       "34        27.22      -7.2177        28.52      -8.5081       1.30  0.992615\n",
       "35        27.23      -7.1371        28.54      -8.2661       1.31  0.861832\n",
       "36        27.24      -7.0766        28.60      -8.5484       1.36  1.082206\n",
       "37        27.25      -7.1774        28.64      -8.6089       1.39  1.029856\n",
       "38        27.27      -7.2984        28.72      -8.7500       1.45  1.001103\n",
       "39        27.36      -7.3589        28.76      -8.7903       1.40  1.022429\n",
       "40        27.41      -7.3992        28.78      -8.6290       1.37  0.897664\n",
       "41        28.26      -8.5282        28.81      -8.7903       0.55  0.476545\n",
       "43        28.42      -8.4476        28.93      -8.7500       0.51  0.592941\n",
       "44        28.43      -8.3669        28.98      -8.9315       0.55  1.026545\n",
       "45        28.51      -8.3871        28.98      -8.9315       0.47  1.158298"
      ]
     },
     "execution_count": 665,
     "metadata": {},
     "output_type": "execute_result"
    }
   ],
   "source": [
    "param_vel_negative_final"
   ]
  },
  {
   "cell_type": "code",
   "execution_count": 667,
   "metadata": {},
   "outputs": [
    {
     "data": {
      "text/plain": [
       "1.006430646420226"
      ]
     },
     "execution_count": 667,
     "metadata": {},
     "output_type": "execute_result"
    }
   ],
   "source": [
    "total_vel = (average_positive_slope + average_negative_slope)/2\n",
    "\n",
    "\n",
    "total_vel"
   ]
  },
  {
   "attachments": {},
   "cell_type": "markdown",
   "metadata": {},
   "source": [
    "### Gain calculation"
   ]
  },
  {
   "cell_type": "code",
   "execution_count": 668,
   "metadata": {},
   "outputs": [
    {
     "name": "stdout",
     "output_type": "stream",
     "text": [
      "The gain for this subject is: 1.006430646420226\n"
     ]
    }
   ],
   "source": [
    "speed = 1\n",
    "total_gain = total_vel/speed\n",
    "print(\"The gain for this subject is:\",total_gain)"
   ]
  },
  {
   "cell_type": "code",
   "execution_count": null,
   "metadata": {},
   "outputs": [],
   "source": []
  },
  {
   "cell_type": "code",
   "execution_count": null,
   "metadata": {},
   "outputs": [],
   "source": []
  },
  {
   "cell_type": "code",
   "execution_count": null,
   "metadata": {},
   "outputs": [],
   "source": []
  },
  {
   "cell_type": "code",
   "execution_count": null,
   "metadata": {},
   "outputs": [],
   "source": []
  },
  {
   "cell_type": "code",
   "execution_count": null,
   "metadata": {},
   "outputs": [],
   "source": []
  },
  {
   "cell_type": "code",
   "execution_count": null,
   "metadata": {},
   "outputs": [],
   "source": []
  },
  {
   "cell_type": "code",
   "execution_count": null,
   "metadata": {},
   "outputs": [],
   "source": []
  },
  {
   "cell_type": "code",
   "execution_count": null,
   "metadata": {},
   "outputs": [],
   "source": []
  },
  {
   "cell_type": "code",
   "execution_count": null,
   "metadata": {},
   "outputs": [],
   "source": []
  }
 ],
 "metadata": {
  "kernelspec": {
   "display_name": "Python 3.9.5 ('ds')",
   "language": "python",
   "name": "python3"
  },
  "language_info": {
   "codemirror_mode": {
    "name": "ipython",
    "version": 3
   },
   "file_extension": ".py",
   "mimetype": "text/x-python",
   "name": "python",
   "nbconvert_exporter": "python",
   "pygments_lexer": "ipython3",
   "version": "3.9.5"
  },
  "orig_nbformat": 4,
  "vscode": {
   "interpreter": {
    "hash": "37e48532695005f6b8be481dca9311b0406960c07b920c9bcff5b3361c45626c"
   }
  }
 },
 "nbformat": 4,
 "nbformat_minor": 2
}
