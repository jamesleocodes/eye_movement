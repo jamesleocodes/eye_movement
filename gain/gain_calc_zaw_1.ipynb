{
 "cells": [
  {
   "cell_type": "code",
   "execution_count": 528,
   "metadata": {},
   "outputs": [],
   "source": [
    "\"\"\"\n",
    "Created on Tuesday 1 May 2023\n",
    "Author: ZAW\n",
    "\"\"\"\n",
    "#import libraries\n",
    "import numpy as np\n",
    "import pandas as pd\n",
    "import os\n",
    "from scipy.optimize import curve_fit\n",
    "import warnings\n",
    "warnings.simplefilter(\"ignore\")"
   ]
  },
  {
   "attachments": {},
   "cell_type": "markdown",
   "metadata": {},
   "source": [
    "### Load the subject and stiumuls repect to their speed"
   ]
  },
  {
   "attachments": {},
   "cell_type": "markdown",
   "metadata": {},
   "source": [
    "### Subjects"
   ]
  },
  {
   "cell_type": "code",
   "execution_count": 1881,
   "metadata": {},
   "outputs": [],
   "source": [
    "path = os.getcwd()\n",
    "dirname = os.path.dirname(path)\n",
    "# for HC\n",
    "data_file = 'data/one_deg.csv'\n",
    "# # for PD\n",
    "#data_file = 'data/PD/one_deg.csv'\n",
    "\n",
    "data_path = os.path.join(dirname,data_file)\n",
    "# data = pd.read_csv(data_path)\n",
    "data= pd.read_csv(data_path)\n",
    "\n",
    "data_hc = data[['x1_PD002','y1_PD002']] # change the ID each subject code(e.g PD001 or PD003)\n",
    "y_data = data_hc[data_hc.columns[0]]\n",
    "x_data = data_hc[data_hc.columns[1]]"
   ]
  },
  {
   "attachments": {},
   "cell_type": "markdown",
   "metadata": {},
   "source": [
    "#### For stimulus"
   ]
  },
  {
   "cell_type": "code",
   "execution_count": 1882,
   "metadata": {},
   "outputs": [],
   "source": [
    "#import CSV data\n",
    "path = os.getcwd()\n",
    "dirname = os.path.dirname(path)\n",
    "data_file = 'data/1_degSti.xlsx'\n",
    "data_path = os.path.join(dirname,data_file)\n",
    "rawdata = pd.read_excel(data_path)\n",
    "data_st = np.array(rawdata[1:],dtype=np.float)\n",
    "time = data_st[:,1]\n",
    "position = data_st[:,0]"
   ]
  },
  {
   "attachments": {},
   "cell_type": "markdown",
   "metadata": {},
   "source": [
    "### Trigonometric functions"
   ]
  },
  {
   "cell_type": "code",
   "execution_count": 1907,
   "metadata": {},
   "outputs": [],
   "source": [
    "# Trigonometric functions\n",
    "\n",
    "# Define the function\n",
    "def func(x, a, b, c):  #Position as a function of time.\n",
    "    return a*(2/np.pi)*np.arcsin(np.sin(np.pi*(b*x+c)))\n",
    "\n",
    "#initial guesses( This has to change depend on stimulus speed)\n",
    "#for 1 degree per second: [10, 0.05, 0]\n",
    "#for 2 degrees per second: [10, 0.1, 0]\n",
    "#for 4 degrees per second: [10, 0.2, 0]\n",
    "#for 6 degrees per second: [10, 0.3, 0]\n",
    "#for 8 degrees per second: [10, 0.4, 0]\n",
    "InitialGuess = [10, 0.05, 0] # for one degree\n",
    "\n",
    "# Perform curve fitting\n",
    "popt, pcov = curve_fit(func,position,time, p0=InitialGuess)\n",
    "\n",
    "# Extract the optimal values of a, b, and c\n",
    "a, b, c = popt\n",
    "# print(\"a =\", a)\n",
    "# print(\"b =\", b)\n",
    "# print(\"c =\", c)\n",
    "\n",
    "# Fit the curve\n",
    "fit_time = func(y_data,a,b,c)\n",
    "# plt.plot(y_data,fit_time)\n",
    "# plt.show()"
   ]
  },
  {
   "attachments": {},
   "cell_type": "markdown",
   "metadata": {},
   "source": [
    "### Find the residual"
   ]
  },
  {
   "cell_type": "code",
   "execution_count": 1931,
   "metadata": {},
   "outputs": [],
   "source": [
    "# Different(aka residual)\n",
    "diff = x_data - fit_time\n",
    "\n",
    "dt_array = np.array(diff)\n",
    "dt_array = pd.DataFrame(dt_array,columns=['diff'])\n",
    "window_size = 5\n",
    "dt_array['Moving_Average'] = dt_array['diff'].rolling(window=window_size).mean()\n",
    "#plt.plot(y_data,dt_array['Moving_Average'])\n",
    "# create dataframe\n",
    "data = {'Time':y_data,'POS':dt_array['Moving_Average']}\n",
    "df = pd.DataFrame(data)"
   ]
  },
  {
   "attachments": {},
   "cell_type": "markdown",
   "metadata": {},
   "source": [
    "#### The whole dataset"
   ]
  },
  {
   "cell_type": "code",
   "execution_count": 1932,
   "metadata": {},
   "outputs": [],
   "source": [
    "# Plot specific range\n",
    "x_start = 10.01\n",
    "x_end = 90.00\n",
    "\n",
    "# Filter the data points within the disired range using boolean indexing\n",
    "mask = (df['Time'] >= x_start) & (df['Time'] <= x_end)\n",
    "x_data_range = df.loc[mask]\n",
    "\n",
    "data = {'Time':x_data_range['Time'],'POS':x_data_range['POS']}\n",
    "df_test = pd.DataFrame(data)"
   ]
  },
  {
   "attachments": {},
   "cell_type": "markdown",
   "metadata": {},
   "source": [
    "### Determine the integration window"
   ]
  },
  {
   "cell_type": "code",
   "execution_count": 1933,
   "metadata": {},
   "outputs": [],
   "source": [
    "# Determine the integration window\n",
    "def check_sign(x):\n",
    "    if x > 0:\n",
    "        return \"Positive\"\n",
    "    else:\n",
    "        return \"Negative\"\n",
    "df_test['Sign'] = df_test['POS'].apply(check_sign)"
   ]
  },
  {
   "attachments": {},
   "cell_type": "markdown",
   "metadata": {},
   "source": [
    "### Condition of the window"
   ]
  },
  {
   "cell_type": "code",
   "execution_count": 1934,
   "metadata": {},
   "outputs": [],
   "source": [
    "# Condition window width \n",
    "def calculate_start_end(row):\n",
    "    global last_positive, last_negative\n",
    "    if row['Sign'] == 'Positive':\n",
    "        if row.name == 0 or df_test.loc[row.name - 1, 'Sign'] != 'Positive':\n",
    "            last_positive = row['Time']\n",
    "            return last_positive, '', '', ''\n",
    "        elif row.name < len(df_test) - 1 and df_test.loc[row.name + 1, 'Sign'] != 'Positive':\n",
    "            pos_end = row['Time']\n",
    "            last_positive = ''\n",
    "            return '', pos_end, '', ''\n",
    "        else:\n",
    "            return '', '', '', ''\n",
    "    elif row['Sign'] == 'Negative':\n",
    "        if row.name == 0 or df_test.loc[row.name - 1, 'Sign'] != 'Negative':\n",
    "            last_negative = row['Time']\n",
    "            return '', '', last_negative, ''\n",
    "        elif row.name < len(df_test) - 1 and df_test.loc[row.name + 1, 'Sign'] != 'Negative':\n",
    "            last_negative = row['Time']\n",
    "            return '', '', '', last_negative\n",
    "        else:\n",
    "            return '', '', '', ''\n",
    "    else:\n",
    "        return '', '', '', ''\n",
    "\n",
    "# Initialize the last positive and negative values to empty strings \n",
    "last_positive = ''\n",
    "last_negative = ''\n",
    "\n",
    "# Reset the index of the DataFrame\n",
    "df_test = df_test.reset_index(drop=True)\n",
    "\n",
    "# Apply the custom function to create new columns\n",
    "df_test['PosTim_Start'], df_test['PosTim_End'], df_test['NegTim_Start'], df_test['NegTim_End'] = zip(*df_test.apply(calculate_start_end, axis=1))\n",
    "\n",
    "# Fill the empty cells with an empty string\n",
    "df_test['PosTim_Start'] = df_test['PosTim_Start'].fillna('') \n",
    "df_test['PosTim_End'] = df_test['PosTim_End'].fillna('')\n",
    "df_test['NegTim_Start'] = df_test['NegTim_Start'].fillna('')\n",
    "df_test['NegTim_End'] = df_test['NegTim_End'].fillna('')\n",
    "\n",
    "# Print the resulting dataframe \n",
    "#print(df_test)"
   ]
  },
  {
   "attachments": {},
   "cell_type": "markdown",
   "metadata": {},
   "source": [
    "#### Positive Time Start Trimming"
   ]
  },
  {
   "cell_type": "code",
   "execution_count": 1935,
   "metadata": {},
   "outputs": [],
   "source": [
    "# Select the non-empty values in the 'Pos_Start' column\n",
    "pos_start_values = df_test.loc[df_test['PosTim_Start'] != '', 'PosTim_Start'].values\n",
    "\n",
    "# Round the values in the 'Pos_Start' column to two decimal places\n",
    "rounded_pos_start_values = []\n",
    "for value in pos_start_values:\n",
    "    rounded_pos_start_values.append(round(value - 0.003, 2))\n",
    "\n",
    "# Convert the list of rounded values back to a NumPy array\n",
    "postim_start_values = np.array(rounded_pos_start_values)\n",
    "\n",
    "# Print the non-empty values\n",
    "#print(postim_start_values)"
   ]
  },
  {
   "attachments": {},
   "cell_type": "markdown",
   "metadata": {},
   "source": [
    "#### Poisitive Time end Trimming"
   ]
  },
  {
   "cell_type": "code",
   "execution_count": 1936,
   "metadata": {},
   "outputs": [],
   "source": [
    "# Select the non-empty values in the 'Pos_End' column\n",
    "pos_end_values = df_test.loc[df_test['PosTim_End'] != '', 'PosTim_End'].values\n",
    "\n",
    "# Round the values in the 'Pos_End' column to two decimal places\n",
    "rounded_pos_end_values = []\n",
    "for value in pos_end_values:\n",
    "    rounded_pos_end_values.append(round(value - 0.02, 2))\n",
    "\n",
    "# Convert the list of rounded values back to a NumPy array\n",
    "postim_end_values = np.array(rounded_pos_end_values)\n",
    "\n",
    "# Print the non-empty values\n",
    "#print(postim_end_values)"
   ]
  },
  {
   "attachments": {},
   "cell_type": "markdown",
   "metadata": {},
   "source": [
    "### Reload the raw data for mapping"
   ]
  },
  {
   "cell_type": "code",
   "execution_count": 1937,
   "metadata": {},
   "outputs": [],
   "source": [
    "# Reload the raw data for mapping\n",
    "data = data_hc.rename(columns={data_hc.columns.values[0]:\"Position\",\n",
    "                               data_hc.columns.values[1]:'Time'})"
   ]
  },
  {
   "attachments": {},
   "cell_type": "markdown",
   "metadata": {},
   "source": [
    "#### Map the start positive Time to POS in raw data"
   ]
  },
  {
   "cell_type": "code",
   "execution_count": 1938,
   "metadata": {},
   "outputs": [],
   "source": [
    "# Create a dictionary from the mapping list\n",
    "mapping_list = postim_start_values\n",
    "\n",
    "# Map the values to the 'POS' column in raw\n",
    "mapped_posSt = data.loc[data['Position'].isin(mapping_list),'Time']"
   ]
  },
  {
   "attachments": {},
   "cell_type": "markdown",
   "metadata": {},
   "source": [
    "#### Map the End positive Time to POS in raw data"
   ]
  },
  {
   "cell_type": "code",
   "execution_count": 1939,
   "metadata": {},
   "outputs": [],
   "source": [
    "# Create a dictionary from the mapping list\n",
    "mapping_list = postim_end_values\n",
    "\n",
    "# Map the values to the 'POS' column in raw\n",
    "mapped_posEnd = data.loc[data['Position'].isin(mapping_list),'Time']\n"
   ]
  },
  {
   "attachments": {},
   "cell_type": "markdown",
   "metadata": {},
   "source": [
    "#### Velocity param positive dataframe"
   ]
  },
  {
   "cell_type": "code",
   "execution_count": 1940,
   "metadata": {},
   "outputs": [],
   "source": [
    "# # column miss match\n",
    "# Check lengths and truncate longer column \n",
    "if len(postim_start_values) > len(mapped_posSt): \n",
    "    postim_start_values = postim_start_values[:len(mapped_posSt)] \n",
    "elif len(mapped_posSt) > len(postim_start_values):\n",
    "    mapped_posSt = mapped_posSt[:len(postim_start_values)]      \n",
    "\n",
    "# Now columns have equal length \n",
    "data_param = {'positive_x1':postim_start_values,'positive_y1':mapped_posSt}             \n",
    "param_vel_start = pd.DataFrame(data_param)\n",
    "\n",
    "data_param= {'positive_x2':postim_end_values,'positive_y2':mapped_posEnd}\n",
    "param_vel_end = pd.DataFrame(data_param)\n",
    "\n",
    "# Reset the indices of the DataFrames\n",
    "param_vel_start = param_vel_start.reset_index(drop=True)\n",
    "param_vel_end = param_vel_end.reset_index(drop=True)\n",
    "\n",
    "# Concatenate the DataFrames horizontally\n",
    "param_vel_positive_final = pd.concat([param_vel_start,param_vel_end],axis=1)\n",
    "param_vel_positive_final['Del_X'] = param_vel_positive_final['positive_x2'] - param_vel_positive_final['positive_x1']\n",
    "\n",
    "# Remove short duration from 50 to 70\n",
    "param_vel_positive_final = param_vel_positive_final[(param_vel_positive_final['Del_X'] > 0.3) & \n",
    "                                                    (param_vel_positive_final['Del_X'] < 2.07)]\n",
    "#param_vel_positive_final = param_vel_positive_final[param_vel_positive_final['Del_X'] < 2.07]\n",
    "#                                                     (param_vel_positive_final['Del_X'] < 2.07)]\n",
    "\n",
    "#param_vel_positive_final = param_vel_positive_final.fillna(method='ffill')\n",
    "#param_gain_final\n",
    "#param_vel_positive_final\n"
   ]
  },
  {
   "attachments": {},
   "cell_type": "markdown",
   "metadata": {},
   "source": [
    "#### Conditions"
   ]
  },
  {
   "cell_type": "code",
   "execution_count": 1918,
   "metadata": {},
   "outputs": [],
   "source": [
    "param_vel_positive_final['Condition'] = param_vel_positive_final['positive_x2'] - param_vel_positive_final['positive_x1']\n",
    "param_vel_positive_final['Condition'] =abs(param_vel_positive_final['Condition'])\n",
    "param_vel_positive_final = param_vel_positive_final[param_vel_positive_final['Condition'] > 0.72]"
   ]
  },
  {
   "attachments": {},
   "cell_type": "markdown",
   "metadata": {},
   "source": [
    "### Velocity for Positive peak calculation"
   ]
  },
  {
   "cell_type": "code",
   "execution_count": 1919,
   "metadata": {},
   "outputs": [],
   "source": [
    "# Calculate the difference between y2 and y1 divided by the difference between x2 and x1\n",
    "param_vel_positive_final['slope'] = (param_vel_positive_final['positive_y2'] - param_vel_positive_final['positive_y1']) / (param_vel_positive_final['positive_x2'] - param_vel_positive_final['positive_x1'])\n",
    "\n",
    "# abs\n",
    "param_vel_positive_final['slope'] = abs(param_vel_positive_final['slope'])\n",
    "\n",
    "# Reindexing\n",
    "param_vel_positive_final = param_vel_positive_final.reset_index(drop=True)\n",
    "\n",
    "# Remove unwant values\n",
    "#param_gain_positive_final.loc[param_gain_positive_final['slope'] > 1.09, 'slope'] = np.nan  \n",
    "\n",
    "# Calculate the average slope\n",
    "average_positive_slope = abs(param_vel_positive_final['slope'].mean())\n",
    "\n",
    "# Print the average slope\n",
    "#print(average_positive_slope)"
   ]
  },
  {
   "attachments": {},
   "cell_type": "markdown",
   "metadata": {},
   "source": [
    "#### Negative Time Start Trimming"
   ]
  },
  {
   "cell_type": "code",
   "execution_count": 1920,
   "metadata": {},
   "outputs": [],
   "source": [
    "# Select the non-empty values in the 'Pos_Start' column\n",
    "neg_start_values = df_test.loc[df_test['NegTim_Start'] != '', 'NegTim_Start'].values\n",
    "\n",
    "# Round the values in the 'Pos_Start' column to two decimal places\n",
    "rounded_neg_start_values = []\n",
    "for value in neg_start_values:\n",
    "    rounded_neg_start_values.append(round(value - 0.003, 2))\n",
    "\n",
    "# Convert the list of rounded values back to a NumPy array\n",
    "negtim_start_values = np.array(rounded_neg_start_values)\n",
    "\n",
    "# Print the non-empty values\n",
    "#print(negtim_start_values)"
   ]
  },
  {
   "attachments": {},
   "cell_type": "markdown",
   "metadata": {},
   "source": [
    "#### Negative Time End Trimming"
   ]
  },
  {
   "cell_type": "code",
   "execution_count": 1921,
   "metadata": {},
   "outputs": [],
   "source": [
    "# Select the non-empty values in the 'Pos_Start' column\n",
    "neg_end_values = df_test.loc[df_test['NegTim_End'] != '', 'NegTim_End'].values\n",
    "\n",
    "# Round the values in the 'Pos_Start' column to two decimal places\n",
    "rounded_neg_end_values = []\n",
    "for value in neg_end_values:\n",
    "    rounded_neg_end_values.append(round(value - 0.02, 2))\n",
    "\n",
    "# Convert the list of rounded values back to a NumPy array\n",
    "negtim_end_values = np.array(rounded_neg_end_values)\n",
    "\n",
    "# Print the non-empty values\n",
    "#print(negtim_end_values)"
   ]
  },
  {
   "attachments": {},
   "cell_type": "markdown",
   "metadata": {},
   "source": [
    "#### Map the start negative Time to POS in raw data"
   ]
  },
  {
   "cell_type": "code",
   "execution_count": 1922,
   "metadata": {},
   "outputs": [],
   "source": [
    "# Create a dictionary from the mapping list\n",
    "mapping_list = negtim_start_values\n",
    "\n",
    "# Map the values to the 'POS' column in raw\n",
    "mapped_negSt = data.loc[data['Position'].isin(mapping_list),'Time']"
   ]
  },
  {
   "attachments": {},
   "cell_type": "markdown",
   "metadata": {},
   "source": [
    "#### Map the End of negative Time to POS in raw data"
   ]
  },
  {
   "cell_type": "code",
   "execution_count": 1923,
   "metadata": {},
   "outputs": [],
   "source": [
    "# Create a dictionary from the mapping list\n",
    "mapping_list = negtim_end_values\n",
    "\n",
    "# Map the values to the 'POS' column in raw\n",
    "mapped_negEnd = data.loc[data['Position'].isin(mapping_list),'Time']"
   ]
  },
  {
   "attachments": {},
   "cell_type": "markdown",
   "metadata": {},
   "source": [
    "#### Velocity param negative dataframe"
   ]
  },
  {
   "cell_type": "code",
   "execution_count": 1924,
   "metadata": {},
   "outputs": [],
   "source": [
    "# column miss match\n",
    "# Check lengths and truncate longer column \n",
    "if len(negtim_start_values) > len(mapped_negSt): \n",
    "    negtim_start_values = negtim_start_values[:len(mapped_negSt)] \n",
    "elif len(mapped_negSt) > len(negtim_start_values):\n",
    "    mapped_negSt = mapped_negSt[:len(negtim_start_values)]  \n",
    "\n",
    "\n",
    "data_param = {'negative_x1':negtim_start_values,'negative_y1':mapped_negSt}             \n",
    "param_vel_start = pd.DataFrame(data_param)\n",
    "data_param= {'negative_x2':negtim_end_values,'negative_y2':mapped_negEnd}\n",
    "param_vel_end = pd.DataFrame(data_param)\n",
    "\n",
    "# Reset the indices of the DataFrames\n",
    "param_vel_start = param_vel_start.reset_index(drop=True)\n",
    "param_vel_end = param_vel_end.reset_index(drop=True)\n",
    "\n",
    "# Concatenate the DataFrames horizontally\n",
    "param_vel_negative_final = pd.concat([param_vel_start,param_vel_end],axis=1)\n",
    "param_vel_negative_final['Del_X'] = param_vel_negative_final['negative_x2'] - param_vel_negative_final['negative_x1']\n",
    "#param_vel_negative_final = param_vel_negative_final.fillna(method='ffill')\n",
    "#param_vel_negative_final\n",
    "\n",
    "# Remove short duration\n",
    "# param_vel_negative_final = param_vel_negative_final[(param_vel_negative_final['Del_X'] > 0.3) & \n",
    "#                                                     (param_vel_negative_final['Del_X'] < 2.07)]\n",
    "param_vel_negative_final = param_vel_negative_final[param_vel_negative_final['Del_X'] < 2.07]\n",
    "#                                                     \n"
   ]
  },
  {
   "cell_type": "code",
   "execution_count": 1942,
   "metadata": {},
   "outputs": [
    {
     "data": {
      "text/html": [
       "<div>\n",
       "<style scoped>\n",
       "    .dataframe tbody tr th:only-of-type {\n",
       "        vertical-align: middle;\n",
       "    }\n",
       "\n",
       "    .dataframe tbody tr th {\n",
       "        vertical-align: top;\n",
       "    }\n",
       "\n",
       "    .dataframe thead th {\n",
       "        text-align: right;\n",
       "    }\n",
       "</style>\n",
       "<table border=\"1\" class=\"dataframe\">\n",
       "  <thead>\n",
       "    <tr style=\"text-align: right;\">\n",
       "      <th></th>\n",
       "      <th>positive_x1</th>\n",
       "      <th>positive_y1</th>\n",
       "      <th>positive_x2</th>\n",
       "      <th>positive_y2</th>\n",
       "      <th>Del_X</th>\n",
       "    </tr>\n",
       "  </thead>\n",
       "  <tbody>\n",
       "    <tr>\n",
       "      <th>0</th>\n",
       "      <td>10.01</td>\n",
       "      <td>10.4032</td>\n",
       "      <td>11.24</td>\n",
       "      <td>8.9315</td>\n",
       "      <td>1.23</td>\n",
       "    </tr>\n",
       "    <tr>\n",
       "      <th>5</th>\n",
       "      <td>11.73</td>\n",
       "      <td>8.3266</td>\n",
       "      <td>12.93</td>\n",
       "      <td>7.2984</td>\n",
       "      <td>1.20</td>\n",
       "    </tr>\n",
       "    <tr>\n",
       "      <th>8</th>\n",
       "      <td>13.93</td>\n",
       "      <td>6.1290</td>\n",
       "      <td>14.38</td>\n",
       "      <td>6.2298</td>\n",
       "      <td>0.45</td>\n",
       "    </tr>\n",
       "    <tr>\n",
       "      <th>25</th>\n",
       "      <td>25.47</td>\n",
       "      <td>-5.1829</td>\n",
       "      <td>27.01</td>\n",
       "      <td>-6.9153</td>\n",
       "      <td>1.54</td>\n",
       "    </tr>\n",
       "    <tr>\n",
       "      <th>26</th>\n",
       "      <td>25.69</td>\n",
       "      <td>-5.5242</td>\n",
       "      <td>27.05</td>\n",
       "      <td>-7.1573</td>\n",
       "      <td>1.36</td>\n",
       "    </tr>\n",
       "    <tr>\n",
       "      <th>37</th>\n",
       "      <td>27.25</td>\n",
       "      <td>-7.1774</td>\n",
       "      <td>28.24</td>\n",
       "      <td>-7.9234</td>\n",
       "      <td>0.99</td>\n",
       "    </tr>\n",
       "    <tr>\n",
       "      <th>38</th>\n",
       "      <td>27.26</td>\n",
       "      <td>-7.0161</td>\n",
       "      <td>28.39</td>\n",
       "      <td>-8.1452</td>\n",
       "      <td>1.13</td>\n",
       "    </tr>\n",
       "    <tr>\n",
       "      <th>39</th>\n",
       "      <td>27.32</td>\n",
       "      <td>-7.3185</td>\n",
       "      <td>28.53</td>\n",
       "      <td>-8.4476</td>\n",
       "      <td>1.21</td>\n",
       "    </tr>\n",
       "    <tr>\n",
       "      <th>40</th>\n",
       "      <td>27.37</td>\n",
       "      <td>-7.2782</td>\n",
       "      <td>28.56</td>\n",
       "      <td>-8.2863</td>\n",
       "      <td>1.19</td>\n",
       "    </tr>\n",
       "    <tr>\n",
       "      <th>41</th>\n",
       "      <td>27.42</td>\n",
       "      <td>-7.3589</td>\n",
       "      <td>28.62</td>\n",
       "      <td>-8.5887</td>\n",
       "      <td>1.20</td>\n",
       "    </tr>\n",
       "    <tr>\n",
       "      <th>42</th>\n",
       "      <td>28.32</td>\n",
       "      <td>-8.3871</td>\n",
       "      <td>28.71</td>\n",
       "      <td>-8.7097</td>\n",
       "      <td>0.39</td>\n",
       "    </tr>\n",
       "    <tr>\n",
       "      <th>43</th>\n",
       "      <td>28.42</td>\n",
       "      <td>-8.4476</td>\n",
       "      <td>28.74</td>\n",
       "      <td>-8.7097</td>\n",
       "      <td>0.32</td>\n",
       "    </tr>\n",
       "    <tr>\n",
       "      <th>44</th>\n",
       "      <td>28.43</td>\n",
       "      <td>-8.3669</td>\n",
       "      <td>28.77</td>\n",
       "      <td>-8.7702</td>\n",
       "      <td>0.34</td>\n",
       "    </tr>\n",
       "    <tr>\n",
       "      <th>46</th>\n",
       "      <td>28.54</td>\n",
       "      <td>-8.2661</td>\n",
       "      <td>28.84</td>\n",
       "      <td>-8.8911</td>\n",
       "      <td>0.30</td>\n",
       "    </tr>\n",
       "    <tr>\n",
       "      <th>47</th>\n",
       "      <td>28.56</td>\n",
       "      <td>-8.2863</td>\n",
       "      <td>28.92</td>\n",
       "      <td>-8.7702</td>\n",
       "      <td>0.36</td>\n",
       "    </tr>\n",
       "    <tr>\n",
       "      <th>48</th>\n",
       "      <td>28.62</td>\n",
       "      <td>-8.5887</td>\n",
       "      <td>28.98</td>\n",
       "      <td>-8.9315</td>\n",
       "      <td>0.36</td>\n",
       "    </tr>\n",
       "    <tr>\n",
       "      <th>49</th>\n",
       "      <td>28.66</td>\n",
       "      <td>-8.6290</td>\n",
       "      <td>29.37</td>\n",
       "      <td>-9.1532</td>\n",
       "      <td>0.71</td>\n",
       "    </tr>\n",
       "    <tr>\n",
       "      <th>50</th>\n",
       "      <td>28.74</td>\n",
       "      <td>-8.7097</td>\n",
       "      <td>30.18</td>\n",
       "      <td>-9.7177</td>\n",
       "      <td>1.44</td>\n",
       "    </tr>\n",
       "    <tr>\n",
       "      <th>74</th>\n",
       "      <td>46.45</td>\n",
       "      <td>6.9960</td>\n",
       "      <td>48.30</td>\n",
       "      <td>8.2056</td>\n",
       "      <td>1.85</td>\n",
       "    </tr>\n",
       "  </tbody>\n",
       "</table>\n",
       "</div>"
      ],
      "text/plain": [
       "    positive_x1  positive_y1  positive_x2  positive_y2  Del_X\n",
       "0         10.01      10.4032        11.24       8.9315   1.23\n",
       "5         11.73       8.3266        12.93       7.2984   1.20\n",
       "8         13.93       6.1290        14.38       6.2298   0.45\n",
       "25        25.47      -5.1829        27.01      -6.9153   1.54\n",
       "26        25.69      -5.5242        27.05      -7.1573   1.36\n",
       "37        27.25      -7.1774        28.24      -7.9234   0.99\n",
       "38        27.26      -7.0161        28.39      -8.1452   1.13\n",
       "39        27.32      -7.3185        28.53      -8.4476   1.21\n",
       "40        27.37      -7.2782        28.56      -8.2863   1.19\n",
       "41        27.42      -7.3589        28.62      -8.5887   1.20\n",
       "42        28.32      -8.3871        28.71      -8.7097   0.39\n",
       "43        28.42      -8.4476        28.74      -8.7097   0.32\n",
       "44        28.43      -8.3669        28.77      -8.7702   0.34\n",
       "46        28.54      -8.2661        28.84      -8.8911   0.30\n",
       "47        28.56      -8.2863        28.92      -8.7702   0.36\n",
       "48        28.62      -8.5887        28.98      -8.9315   0.36\n",
       "49        28.66      -8.6290        29.37      -9.1532   0.71\n",
       "50        28.74      -8.7097        30.18      -9.7177   1.44\n",
       "74        46.45       6.9960        48.30       8.2056   1.85"
      ]
     },
     "execution_count": 1942,
     "metadata": {},
     "output_type": "execute_result"
    }
   ],
   "source": [
    "param_vel_positive_final"
   ]
  },
  {
   "attachments": {},
   "cell_type": "markdown",
   "metadata": {},
   "source": [
    "#### Conditions"
   ]
  },
  {
   "cell_type": "code",
   "execution_count": 1925,
   "metadata": {},
   "outputs": [],
   "source": [
    "param_vel_negative_final['Condition'] = param_vel_negative_final['negative_x2'] - param_vel_negative_final['negative_x1']\n",
    "param_vel_negative_final['Condition'] =abs(param_vel_negative_final['Condition'])\n",
    "param_vel_negative_final = param_vel_negative_final[param_vel_negative_final['Condition'] > 1.01]"
   ]
  },
  {
   "attachments": {},
   "cell_type": "markdown",
   "metadata": {},
   "source": [
    "### Velocity for Negative peak calculation"
   ]
  },
  {
   "cell_type": "code",
   "execution_count": 1926,
   "metadata": {},
   "outputs": [],
   "source": [
    "# Calculate the difference between y2 and y1 divided by the difference between x2 and x1\n",
    "param_vel_negative_final['slope'] = (param_vel_negative_final['negative_y2']\n",
    "                                     - param_vel_negative_final['negative_y1']) / (param_vel_negative_final['negative_x2'] \n",
    "                                     - param_vel_negative_final['negative_x1'])\n",
    "\n",
    "# abs\n",
    "param_vel_negative_final['slope'] = abs(param_vel_negative_final['slope'])\n",
    "\n",
    "param_vel_negative_final['slope'].replace([np.inf, -np.inf], np.nan, inplace=True)\n",
    "\n",
    "# Reindexing\n",
    "param_vel_negative_final = param_vel_negative_final.reset_index(drop=True)\n",
    "\n",
    "# Remove unwant values\n",
    "#param_gain_negative_final.loc[(param_gain_negative_final['slope'] < 0.80) |  \n",
    "#                              (param_gain_negative_final['slope'] > 1.09), \n",
    "#                              'slope'] = np.nan\n",
    "# Calculate the average slope\n",
    "average_negative_slope = abs(param_vel_negative_final['slope'].mean())\n",
    "\n",
    "# Print the average slope\n",
    "#print(average_negative_slope)"
   ]
  },
  {
   "attachments": {},
   "cell_type": "markdown",
   "metadata": {},
   "source": [
    "### Total velocity for both positive and negative"
   ]
  },
  {
   "cell_type": "code",
   "execution_count": 1927,
   "metadata": {},
   "outputs": [],
   "source": [
    "Final_Vel = pd.concat([param_vel_positive_final[['Del_X','slope']],\n",
    "                       param_vel_negative_final[['Del_X','slope']]], axis=0, join='outer')"
   ]
  },
  {
   "attachments": {},
   "cell_type": "markdown",
   "metadata": {},
   "source": [
    "### Counter check with duration and velocity"
   ]
  },
  {
   "cell_type": "code",
   "execution_count": 1928,
   "metadata": {},
   "outputs": [
    {
     "data": {
      "text/plain": [
       "0.9548052240486375"
      ]
     },
     "execution_count": 1928,
     "metadata": {},
     "output_type": "execute_result"
    }
   ],
   "source": [
    "Final_Vel['Checked_velocity'] = Final_Vel['slope'] * Final_Vel['Del_X']\n",
    "Vel = Final_Vel['Checked_velocity'].sum()/Final_Vel['Del_X'].sum()\n",
    "Vel"
   ]
  },
  {
   "cell_type": "code",
   "execution_count": 1929,
   "metadata": {},
   "outputs": [
    {
     "data": {
      "text/plain": [
       "88.82000000000002"
      ]
     },
     "execution_count": 1929,
     "metadata": {},
     "output_type": "execute_result"
    }
   ],
   "source": [
    "Final_Vel['Del_X'].sum()"
   ]
  },
  {
   "attachments": {},
   "cell_type": "markdown",
   "metadata": {},
   "source": [
    "### Calculate Gain"
   ]
  },
  {
   "cell_type": "code",
   "execution_count": 1930,
   "metadata": {},
   "outputs": [
    {
     "name": "stdout",
     "output_type": "stream",
     "text": [
      "The gain for this subject is: 0.9548052240486375\n"
     ]
    }
   ],
   "source": [
    "speed = 1 # stimulus speed\n",
    "total_gain = Vel/speed\n",
    "print(\"The gain for this subject is:\",total_gain)"
   ]
  },
  {
   "cell_type": "code",
   "execution_count": null,
   "metadata": {},
   "outputs": [],
   "source": []
  },
  {
   "cell_type": "code",
   "execution_count": null,
   "metadata": {},
   "outputs": [],
   "source": []
  },
  {
   "cell_type": "code",
   "execution_count": null,
   "metadata": {},
   "outputs": [],
   "source": []
  },
  {
   "cell_type": "code",
   "execution_count": null,
   "metadata": {},
   "outputs": [],
   "source": []
  },
  {
   "cell_type": "code",
   "execution_count": null,
   "metadata": {},
   "outputs": [],
   "source": []
  },
  {
   "cell_type": "code",
   "execution_count": null,
   "metadata": {},
   "outputs": [],
   "source": []
  },
  {
   "cell_type": "code",
   "execution_count": null,
   "metadata": {},
   "outputs": [],
   "source": []
  },
  {
   "cell_type": "code",
   "execution_count": null,
   "metadata": {},
   "outputs": [],
   "source": []
  }
 ],
 "metadata": {
  "kernelspec": {
   "display_name": "Python 3.9.5 ('ds')",
   "language": "python",
   "name": "python3"
  },
  "language_info": {
   "codemirror_mode": {
    "name": "ipython",
    "version": 3
   },
   "file_extension": ".py",
   "mimetype": "text/x-python",
   "name": "python",
   "nbconvert_exporter": "python",
   "pygments_lexer": "ipython3",
   "version": "3.9.5"
  },
  "orig_nbformat": 4,
  "vscode": {
   "interpreter": {
    "hash": "37e48532695005f6b8be481dca9311b0406960c07b920c9bcff5b3361c45626c"
   }
  }
 },
 "nbformat": 4,
 "nbformat_minor": 2
}
