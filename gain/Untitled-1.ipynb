{
 "cells": [
  {
   "cell_type": "code",
   "execution_count": null,
   "metadata": {},
   "outputs": [],
   "source": [
    "import pandas as pd\n",
    "import numpy as np\n",
    "import matplotlib.pyplot as plt\n",
    "\n",
    "# Generate noisy and gappy triangular wave with gap and noise segment\n",
    "x = np.linspace(-1, 1, 1000)\n",
    "y = np.concatenate([np.linspace(-1, 1, 300), np.linspace(1, -1, 400), np.linspace(-1, 1, 300)])\n",
    "noise = np.random.normal(0, 0.3, len(y))\n",
    "y_noisy = y + noise\n",
    "y_gappy = np.where(x % 0.3 < 0.05, np.nan, y_noisy)\n",
    "\n",
    "# Filter noisy and gappy triangular wave with triangular wave to remove noise and gap segments\n",
    "y_filtered = np.convolve(y_gappy, np.ones(50) / 50, mode='same')\n",
    "\n",
    "# Set threshold to determine clean segment\n",
    "threshold = 0.8\n",
    "\n",
    "# Create DataFrame to store start and end indices of clean segments\n",
    "df_clean_segments = pd.DataFrame(columns=['start', 'end'])\n",
    "\n",
    "# Identify indices where filtered values are greater than threshold\n",
    "indices = np.argwhere(y_filtered > threshold).flatten()\n",
    "\n",
    "# Find start and end indices of clean segments based on identified indices\n",
    "for i in range(len(indices)):\n",
    "    if i == 0:\n",
    "        start = indices[i]\n",
    "    elif indices[i] - indices[i-1] > 1:\n",
    "        end = indices[i-1]\n",
    "        df_clean_segments = df_clean_segments.append({'start': start, 'end': end}, ignore_index=True)\n",
    "        start = indices[i]\n",
    "    elif i == len(indices) - 1:\n",
    "        end = indices[i]\n",
    "        df_clean_segments = df_clean_segments.append({'start': start, 'end': end}, ignore_index=True)\n",
    "\n",
    "# Plot noisy and gappy triangular wave with clean segments highlighted\n",
    "plt.plot(x, y_gappy, color='blue', label='Noisy and Gappy Triangular Wave')\n",
    "for _, row in df_clean_segments.iterrows():\n",
    "    plt.plot(x[row['start']:row['end']+1], y_gappy[row['start']:row['end']+1], color='green', linewidth=2.5, label='Clean Segment')\n",
    "plt.xlabel('X')\n",
    "plt.ylabel('Y')\n",
    "plt.title('Filtering Noisy and Gappy Triangular Wave')\n",
    "plt.legend()\n",
    "plt.show()\n"
   ]
  },
  {
   "cell_type": "code",
   "execution_count": null,
   "metadata": {},
   "outputs": [],
   "source": []
  }
 ],
 "metadata": {
  "kernelspec": {
   "display_name": "ds",
   "language": "python",
   "name": "python3"
  },
  "language_info": {
   "name": "python",
   "version": "3.9.5"
  },
  "orig_nbformat": 4
 },
 "nbformat": 4,
 "nbformat_minor": 2
}
