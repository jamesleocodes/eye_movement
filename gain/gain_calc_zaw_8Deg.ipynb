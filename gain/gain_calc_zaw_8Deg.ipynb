{
 "cells": [
  {
   "cell_type": "code",
   "execution_count": 146,
   "metadata": {},
   "outputs": [
    {
     "name": "stdout",
     "output_type": "stream",
     "text": [
      "File PD001 is started.\n",
      "File PD002 is started.\n",
      "File PD003 is started.\n",
      "File PD004 is started.\n",
      "File PD005 is started.\n",
      "File PD006 is started.\n",
      "File PD007 is started.\n",
      "File PD008 is started.\n",
      "File PD009 is started.\n",
      "File PD010 is started.\n",
      "File PD011 is started.\n",
      "File PD012 is started.\n",
      "File PD012 is done.\n",
      "File PD013 is started.\n",
      "File PDN015 is started.\n",
      "File PDN017 is started.\n",
      "File PDN018 is started.\n",
      "File PDN019 is started.\n",
      "File PDN022 is started.\n",
      "Columns for subject code PDN022 not found. Skipping...\n",
      "File PD026 is started.\n",
      "  SubjectID      gain\n",
      "0     PD012  1.288182\n"
     ]
    }
   ],
   "source": [
    "\"\"\"\n",
    "Created on Tuesday 1 May 2023\n",
    "Author: ZAW\n",
    "\"\"\"\n",
    "#import libraries\n",
    "import numpy as np\n",
    "import pandas as pd\n",
    "import os\n",
    "from scipy.optimize import curve_fit\n",
    "import warnings\n",
    "warnings.simplefilter(\"ignore\")\n",
    "\n",
    "### Load the subject and stiumuls repect to their speed\n",
    "path = os.getcwd()\n",
    "dirname = os.path.dirname(path)\n",
    "# for HC\n",
    "data_file = 'data/eight_degHC.csv'\n",
    "# # for PD\n",
    "#data_file = 'data/PD/one_deg.csv'\n",
    "\n",
    "data_path = os.path.join(dirname,data_file)\n",
    "# data = pd.read_csv(data_path)\n",
    "data= pd.read_csv(data_path)\n",
    "\n",
    "#import CSV data for stimulus\n",
    "path_sti = os.getcwd()\n",
    "dirname_sti = os.path.dirname(path_sti)\n",
    "data_file_sti = 'data/8_degSti.xlsx'\n",
    "data_path_sti = os.path.join(dirname_sti,data_file_sti)\n",
    "rawdata = pd.read_excel(data_path_sti)\n",
    "data_st = np.array(rawdata[1:],dtype=np.float)\n",
    "time = data_st[:,1]\n",
    "position = data_st[:,0]\n",
    "\n",
    "FirstTrialHC = []\n",
    "\n",
    "# List of subject codes (e.g. PD001, PD002, etc.)\n",
    "\n",
    "subject_codes = [\"PD001\",\"PD002\",\"PD003\",\"PD004\",\"PD005\",\"PD006\",\"PD007\",\"PD008\",\"PD009\",\"PD010\",\n",
    " \"PD011\",\"PD012\",\"PD013\",\"PDN015\",\"PDN017\",\"PDN018\",\"PDN019\",\"PDN022\",\"PD026\"]\n",
    "\n",
    "# subject_codes = ['PD104','PD106','PD107','PD108','PD109','PD111','PD112','PD119','PD120','PD121',\n",
    "#  'PD122','PD126','PDPY101','PDQE102','PDQE103','PDQE104','PDQE105','PDQE107','PDQE108','PDQE112',\n",
    "#  'PDQE113','PDQE114','PDQE115','PDPW104','PDPW106','PDPW107','PDPW109','PDPW110','PDPW111','PDPW112',\n",
    "#  'PDPW113']\n",
    "\n",
    "for subject_code in subject_codes:\n",
    "    ### Load the subject and stiumuls repect to their speed\n",
    "    path = os.getcwd()\n",
    "    dirname = os.path.dirname(path)\n",
    "    # for HC\n",
    "    data_file = 'data/eight_degHC.csv'\n",
    "    # # for PD\n",
    "    #data_file = 'data/PD/one_deg.csv'\n",
    "\n",
    "    data_path = os.path.join(dirname,data_file)\n",
    "    # data = pd.read_csv(data_path)\n",
    "    data= pd.read_csv(data_path)\n",
    "    print('File '+ str(subject_code)+ ' is started.') \n",
    "    x_column = f'x1_{subject_code}'\n",
    "    y_column = f'y1_{subject_code}'\n",
    "\n",
    "    # Check if both columns exist in the DataFrame before accessing them\n",
    "    if x_column in data.columns and y_column in data.columns:\n",
    "        data_hc = data[[x_column, y_column]]\n",
    "    else:\n",
    "        print(f\"Columns for subject code {subject_code} not found. Skipping...\")\n",
    "        continue\n",
    "\n",
    "    y_data = data_hc[x_column]\n",
    "    x_data = data_hc[y_column]\n",
    "\n",
    "    # data_hc = data[['x1_PD001','y1_PD001']] # change the ID each subject code(e.g PD001 or PD003)\n",
    "    # y_data = data_hc[data_hc.columns[0]]\n",
    "    # x_data = data_hc[data_hc.columns[1]]\n",
    "\n",
    "\n",
    "    # Trigonometric Functions\n",
    "    # Trigonometric functions\n",
    "\n",
    "    # Define the function\n",
    "    def func(x, a, b, c):  #Position as a function of time.\n",
    "        return a*(2/np.pi)*np.arcsin(np.sin(np.pi*(b*x+c)))\n",
    "\n",
    "    #initial guesses( This has to change depend on stimulus speed)\n",
    "    #for 1 degree per second: [10, 0.05, 0]\n",
    "    #for 2 degrees per second: [10, 0.1, 0]\n",
    "    #for 4 degrees per second: [10, 0.2, 0]\n",
    "    #for 6 degrees per second: [10, 0.3, 0]\n",
    "    #for 8 degrees per second: [10, 0.4, 0]\n",
    "    InitialGuess = [10, 0.4, 0] # for one degree\n",
    "\n",
    "    # Perform curve fitting\n",
    "    popt, pcov = curve_fit(func,position,time, p0=InitialGuess)\n",
    "\n",
    "    # Extract the optimal values of a, b, and c\n",
    "    a, b, c = popt\n",
    "    # print(\"a =\", a)\n",
    "    # print(\"b =\", b)\n",
    "    # print(\"c =\", c)\n",
    "\n",
    "    # Fit the curve\n",
    "    fit_time = func(y_data,a,b,c)\n",
    "    # plt.plot(y_data,fit_time)\n",
    "    # plt.show()\n",
    "\n",
    "    # Find the residual\n",
    "    # Different(aka residual)\n",
    "    diff = x_data - fit_time\n",
    "\n",
    "    dt_array = np.array(diff)\n",
    "    dt_array = pd.DataFrame(dt_array,columns=['diff'])\n",
    "    window_size = 3\n",
    "    dt_array['Moving_Average'] = dt_array['diff'].rolling(window=window_size).mean()\n",
    "    #plt.plot(y_data,dt_array['Moving_Average'])\n",
    "    # create dataframe\n",
    "    data = {'Time':y_data,'POS':dt_array['Moving_Average']}\n",
    "    df = pd.DataFrame(data)\n",
    "\n",
    "    # The whole dataset\n",
    "    # Plot specific range\n",
    "    x_start = 1.3\n",
    "    x_end = 11.6\n",
    "\n",
    "    # Filter the data points within the disired range using boolean indexing\n",
    "    mask = (df['Time'] >= x_start) & (df['Time'] <= x_end)\n",
    "    x_data_range = df.loc[mask]\n",
    "\n",
    "    data = {'Time':x_data_range['Time'],'POS':x_data_range['POS']}\n",
    "    df_test = pd.DataFrame(data)\n",
    "\n",
    "    # Determine the integration window\n",
    "    def check_sign(x):\n",
    "        if x > 0:\n",
    "            return \"Positive\"\n",
    "        else:\n",
    "            return \"Negative\"\n",
    "    df_test['Sign'] = df_test['POS'].apply(check_sign)\n",
    "\n",
    "    # Condition window width \n",
    "    def calculate_start_end(row):\n",
    "        global last_positive, last_negative\n",
    "        if row['Sign'] == 'Positive':\n",
    "            if row.name == 0 or df_test.loc[row.name - 1, 'Sign'] != 'Positive':\n",
    "                last_positive = row['Time']\n",
    "                return last_positive, '', '', ''\n",
    "            elif row.name < len(df_test) - 1 and df_test.loc[row.name + 1, 'Sign'] != 'Positive':\n",
    "                pos_end = row['Time']\n",
    "                last_positive = ''\n",
    "                return '', pos_end, '', ''\n",
    "            else:\n",
    "                return '', '', '', ''\n",
    "        elif row['Sign'] == 'Negative':\n",
    "            if row.name == 0 or df_test.loc[row.name - 1, 'Sign'] != 'Negative':\n",
    "                last_negative = row['Time']\n",
    "                return '', '', last_negative, ''\n",
    "            elif row.name < len(df_test) - 1 and df_test.loc[row.name + 1, 'Sign'] != 'Negative':\n",
    "                last_negative = row['Time']\n",
    "                return '', '', '', last_negative\n",
    "            else:\n",
    "                return '', '', '', ''\n",
    "        else:\n",
    "            return '', '', '', ''\n",
    "\n",
    "    # Initialize the last positive and negative values to empty strings \n",
    "    last_positive = ''\n",
    "    last_negative = ''\n",
    "\n",
    "    # Reset the index of the DataFrame\n",
    "    df_test = df_test.reset_index(drop=True)\n",
    "\n",
    "    # Apply the custom function to create new columns\n",
    "    df_test['PosTim_Start'], df_test['PosTim_End'], df_test['NegTim_Start'], df_test['NegTim_End'] = zip(*df_test.apply(calculate_start_end, axis=1))\n",
    "\n",
    "    # Fill the empty cells with an empty string\n",
    "    df_test['PosTim_Start'] = df_test['PosTim_Start'].fillna('') \n",
    "    df_test['PosTim_End'] = df_test['PosTim_End'].fillna('')\n",
    "    df_test['NegTim_Start'] = df_test['NegTim_Start'].fillna('')\n",
    "    df_test['NegTim_End'] = df_test['NegTim_End'].fillna('')\n",
    "\n",
    "    # Print the resulting dataframe \n",
    "    #print(df_test)\n",
    "\n",
    "\n",
    "    # Positive time start trimming\n",
    "    # Select the non-empty values in the 'Pos_Start' column\n",
    "    pos_start_values = df_test.loc[df_test['PosTim_Start'] != '', 'PosTim_Start'].values\n",
    "\n",
    "    # Round the values in the 'Pos_Start' column to two decimal places\n",
    "    rounded_pos_start_values = []\n",
    "    for value in pos_start_values:\n",
    "        rounded_pos_start_values.append(round(value - 0.003, 2))\n",
    "\n",
    "    # Convert the list of rounded values back to a NumPy array\n",
    "    postim_start_values = np.array(rounded_pos_start_values)\n",
    "\n",
    "    # Print the non-empty values\n",
    "    #print(postim_start_values)\n",
    "\n",
    "\n",
    "    # Positive time end triming\n",
    "    # Select the non-empty values in the 'Pos_End' column\n",
    "    pos_end_values = df_test.loc[df_test['PosTim_End'] != '', 'PosTim_End'].values\n",
    "\n",
    "    # Round the values in the 'Pos_End' column to two decimal places\n",
    "    # rounded_pos_end_values = []\n",
    "    # for value in pos_end_values:\n",
    "    #     rounded_pos_end_values.append(round(value - 0.02, 2))\n",
    "\n",
    "    # Convert the list of rounded values back to a NumPy array\n",
    "    postim_end_values = np.array(pos_end_values)\n",
    "\n",
    "    # Print the non-empty values\n",
    "    #print(postim_end_values)\n",
    "\n",
    "\n",
    "    # Reload the raw data for mapping\n",
    "    data = data_hc.rename(columns={data_hc.columns.values[0]:\"Position\",\n",
    "                                data_hc.columns.values[1]:'Time'})\n",
    "\n",
    "\n",
    "    # Map the start positive time to POS in raw data\n",
    "    # Create a dictionary from the mapping list\n",
    "    mapping_list = postim_start_values\n",
    "\n",
    "    # Map the values to the 'POS' column in raw\n",
    "    mapped_posSt = data.loc[data['Position'].isin(mapping_list),'Time']\n",
    "\n",
    "\n",
    "    # Map the end positive time to POS in raw data\n",
    "    # Create a dictionary from the mapping list\n",
    "    mapping_list = postim_end_values\n",
    "\n",
    "    # Map the values to the 'POS' column in raw\n",
    "    mapped_posEnd = data.loc[data['Position'].isin(mapping_list),'Time']\n",
    "\n",
    "\n",
    "    # Velocity param positive dataframe\n",
    "    # # column miss match\n",
    "    # Check lengths and truncate longer column \n",
    "    if len(postim_start_values) > len(mapped_posSt): \n",
    "        postim_start_values = postim_start_values[:len(mapped_posSt)] \n",
    "    elif len(mapped_posSt) > len(postim_start_values):\n",
    "        mapped_posSt = mapped_posSt[:len(postim_start_values)]      \n",
    "\n",
    "    # Now columns have equal length \n",
    "    data_param = {'positive_x1':postim_start_values,'positive_y1':mapped_posSt}             \n",
    "    param_vel_start = pd.DataFrame(data_param)\n",
    "\n",
    "    data_param= {'positive_x2':postim_end_values,'positive_y2':mapped_posEnd}\n",
    "    param_vel_end = pd.DataFrame(data_param)\n",
    "\n",
    "    # Reset the indices of the DataFrames\n",
    "    param_vel_start = param_vel_start.reset_index(drop=True)\n",
    "    param_vel_end = param_vel_end.reset_index(drop=True)\n",
    "\n",
    "    # Concatenate the DataFrames horizontally\n",
    "    param_vel_positive_final = pd.concat([param_vel_start,param_vel_end],axis=1)\n",
    "    #param_vel_positive_final['Del_X'] = param_vel_positive_final['positive_x2'] - param_vel_positive_final['positive_x1']\n",
    "\n",
    "    param_vel_positive_final['Del_X'] = (param_vel_positive_final['positive_x2'] - \n",
    "                                        param_vel_positive_final['positive_x1']).where(~param_vel_positive_final['positive_x2'].isnull(), np.nan)\n",
    "\n",
    "\n",
    "\n",
    "    # # Remove short duration SWJ from 50 ms to 400 ms\n",
    "    param_vel_positive_final = param_vel_positive_final[(param_vel_positive_final['Del_X'] > 0.4) & \n",
    "                                                        (param_vel_positive_final['Del_X'] < 2.00)]\n",
    "\n",
    "    # Conditions\n",
    "    param_vel_positive_final['Condition'] = param_vel_positive_final['positive_x2'] - param_vel_positive_final['positive_x1']\n",
    "    param_vel_positive_final['Condition'] =abs(param_vel_positive_final['Condition'])\n",
    "    param_vel_positive_final = param_vel_positive_final[param_vel_positive_final['Condition'] > 0.72]   \n",
    "\n",
    "    # iterate over the rows of the dataframe\n",
    "    prev_positive_x2 = None\n",
    "    for i, row in param_vel_positive_final.iterrows():\n",
    "        # check if this is not the first row\n",
    "        if prev_positive_x2 is not None:\n",
    "            # check if positive_x1 is lower than the previous positive_x2\n",
    "            if row['positive_x1'] < prev_positive_x2:\n",
    "                # remove this row from the dataframe\n",
    "                param_vel_positive_final = param_vel_positive_final.drop(i)\n",
    "            else:\n",
    "                # update prev_positive_x2 if positive_x1 is greater than or equal to prev_positive_x2\n",
    "                prev_positive_x2 = row['positive_x2']\n",
    "        else:\n",
    "            # initialize prev_positive_x2 with the first row value\n",
    "            prev_positive_x2 = row['positive_x2']\n",
    "\n",
    "\n",
    "    # Velocity for positive pieak calculation\n",
    "    # Calculate the difference between y2 and y1 divided by the difference between x2 and x1\n",
    "    param_vel_positive_final['slope'] = (param_vel_positive_final['positive_y2'] - param_vel_positive_final['positive_y1']) / (param_vel_positive_final['positive_x2'] - param_vel_positive_final['positive_x1'])\n",
    "\n",
    "    # abs\n",
    "    param_vel_positive_final['slope'] = abs(param_vel_positive_final['slope'])\n",
    "\n",
    "    # Reindexing\n",
    "    param_vel_positive_final = param_vel_positive_final.reset_index(drop=True)\n",
    "\n",
    "    # Remove unwant values\n",
    "    #param_gain_positive_final.loc[param_gain_positive_final['slope'] > 1.09, 'slope'] = np.nan  \n",
    "\n",
    "    # Calculate the average slope\n",
    "    average_positive_slope = abs(param_vel_positive_final['slope'].mean())\n",
    "\n",
    "    # Print the average slope\n",
    "    #print(average_positive_slope)\n",
    "\n",
    "\n",
    "    # Negative time start trimming\n",
    "    # Select the non-empty values in the 'Pos_Start' column\n",
    "    neg_start_values = df_test.loc[df_test['NegTim_Start'] != '', 'NegTim_Start'].values\n",
    "\n",
    "    # Round the values in the 'Pos_Start' column to two decimal places\n",
    "    # rounded_neg_start_values = []\n",
    "    # for value in neg_start_values:\n",
    "    #     rounded_neg_start_values.append(round(value - 0.003, 2))\n",
    "\n",
    "    # Convert the list of rounded values back to a NumPy array\n",
    "    negtim_start_values = np.array(neg_start_values)\n",
    "\n",
    "    # Print the non-empty values\n",
    "    #print(negtim_start_values)\n",
    "\n",
    "\n",
    "    # Negative Time End Triming\n",
    "    # Select the non-empty values in the 'Pos_Start' column\n",
    "    neg_end_values = df_test.loc[df_test['NegTim_End'] != '', 'NegTim_End'].values\n",
    "\n",
    "    # Round the values in the 'Pos_Start' column to two decimal places\n",
    "    # rounded_neg_end_values = []\n",
    "    # for value in neg_end_values:\n",
    "    #     rounded_neg_end_values.append(round(value - 0.02, 2))\n",
    "\n",
    "    # Convert the list of rounded values back to a NumPy array\n",
    "    negtim_end_values = np.array(neg_end_values)\n",
    "\n",
    "\n",
    "    # Map the start negative time to POS in raw data\n",
    "    # Create a dictionary from the mapping list\n",
    "    mapping_list = negtim_start_values\n",
    "\n",
    "    # Map the values to the 'POS' column in raw\n",
    "    mapped_negSt = data.loc[data['Position'].isin(mapping_list),'Time']\n",
    "\n",
    "\n",
    "\n",
    "    # Ma the end of negative time to pos in raw data\n",
    "    # Create a dictionary from the mapping list\n",
    "    mapping_list = negtim_end_values\n",
    "\n",
    "    # Map the values to the 'POS' column in raw\n",
    "    mapped_negEnd = data.loc[data['Position'].isin(mapping_list),'Time']\n",
    "\n",
    "\n",
    "    # Velocity param negative datafrmae\n",
    "    # column miss match\n",
    "    # Check lengths and truncate longer column \n",
    "    if len(negtim_start_values) > len(mapped_negSt): \n",
    "        negtim_start_values = negtim_start_values[:len(mapped_negSt)] \n",
    "    elif len(mapped_negSt) > len(negtim_start_values):\n",
    "        mapped_negSt = mapped_negSt[:len(negtim_start_values)]  \n",
    "\n",
    "\n",
    "    data_param = {'negative_x1':negtim_start_values,'negative_y1':mapped_negSt}             \n",
    "    param_vel_start = pd.DataFrame(data_param)\n",
    "    data_param= {'negative_x2':negtim_end_values,'negative_y2':mapped_negEnd}\n",
    "    param_vel_end = pd.DataFrame(data_param)\n",
    "\n",
    "    # Reset the indices of the DataFrames\n",
    "    param_vel_start = param_vel_start.reset_index(drop=True)\n",
    "    param_vel_end = param_vel_end.reset_index(drop=True)\n",
    "\n",
    "    # Concatenate the DataFrames horizontally\n",
    "    param_vel_negative_final = pd.concat([param_vel_start,param_vel_end],axis=1)\n",
    "    param_vel_negative_final['Del_X'] = param_vel_negative_final['negative_x2'] - param_vel_negative_final['negative_x1']\n",
    "    #param_vel_negative_final = param_vel_negative_final.fillna(method='ffill')\n",
    "    #param_vel_negative_final\n",
    "\n",
    "    # Remove short duration\n",
    "    # param_vel_negative_final = param_vel_negative_final[(param_vel_negative_final['Del_X'] > 0.3) & \n",
    "    #                                                     (param_vel_negative_final['Del_X'] < 2.07)]\n",
    "    param_vel_negative_final = param_vel_negative_final[param_vel_negative_final['Del_X'] < 2.07]\n",
    "    #                                                     \n",
    "    param_vel_negative_final['Del_X'] = (param_vel_negative_final['negative_x2'] - \n",
    "                                        param_vel_negative_final['negative_x1']).where(~param_vel_negative_final['negative_x2'].isnull(), np.nan)\n",
    "\n",
    "\n",
    "\n",
    "    # # Remove short duration SWJ from 50 ms to 400 ms\n",
    "    param_vel_negative_final = param_vel_negative_final[(param_vel_negative_final['Del_X'] > 0.4) & \n",
    "                                                        (param_vel_negative_final['Del_X'] < 2.00)]\n",
    "\n",
    "\n",
    "    # iterate over the rows of the dataframe\n",
    "    prev_negative_x2 = None\n",
    "    for i, row in param_vel_negative_final.iterrows():\n",
    "        # check if this is not the first row\n",
    "        if prev_negative_x2 is not None:\n",
    "            # check if positive_x1 is lower than the previous positive_x2\n",
    "            if row['negative_x1'] < prev_negative_x2:\n",
    "                # remove this row from the dataframe\n",
    "                param_vel_negative_final = param_vel_negative_final.drop(i)\n",
    "            else:\n",
    "                # update prev_positive_x2 if positive_x1 is greater than or equal to prev_positive_x2\n",
    "                prev_megatove_x2 = row['negative_x2']\n",
    "        else:\n",
    "            # initialize prev_positive_x2 with the first row value\n",
    "            prev_negative_x2 = row['negative_x2']\n",
    "\n",
    "    # Velocity for Negative peak calculation\n",
    "    # Calculate the difference between y2 and y1 divided by the difference between x2 and x1\n",
    "    param_vel_negative_final['slope'] = (param_vel_negative_final['negative_y2']\n",
    "                                        - param_vel_negative_final['negative_y1']) / (param_vel_negative_final['negative_x2'] \n",
    "                                        - param_vel_negative_final['negative_x1'])\n",
    "\n",
    "    # abs\n",
    "    param_vel_negative_final['slope'] = abs(param_vel_negative_final['slope'])\n",
    "\n",
    "    param_vel_negative_final['slope'].replace([np.inf, -np.inf], np.nan, inplace=True)\n",
    "\n",
    "    # Reindexing\n",
    "    param_vel_negative_final = param_vel_negative_final.reset_index(drop=True)\n",
    "\n",
    "    # Remove unwant values\n",
    "    # param_vel_negative_final.loc[(param_vel_negative_final['slope'] < 0.80) |  \n",
    "    #                              (param_vel_negative_final['slope'] > 1.09), \n",
    "    #                              'slope'] = np.nan\n",
    "    # Calculate the average slope\n",
    "    average_negative_slope = abs(param_vel_negative_final['slope'].mean())\n",
    "\n",
    "    # Print the average slope\n",
    "    #print(average_negative_slope)\n",
    "\n",
    "\n",
    "    # Total velocity for both positive and negative\n",
    "    Final_Vel = pd.concat([param_vel_positive_final[['Del_X','slope']],\n",
    "                        param_vel_negative_final[['Del_X','slope']]], axis=0, join='outer')\n",
    "\n",
    "    try: \n",
    "        # Counter chck with duration and velocity\n",
    "        Final_Vel['Checked_velocity'] = Final_Vel['slope'] * Final_Vel['Del_X']\n",
    "        Vel = Final_Vel['Checked_velocity'].sum()/Final_Vel['Del_X'].sum()\n",
    "\n",
    "        # Calculate gain\n",
    "        speed = 6 # stimulus speed\n",
    "        total_gain = Vel/speed\n",
    "    except ZeroDivisionError:\n",
    "        #print(\"The gain for this subject is:\",total_gain)\n",
    "        result = {\"SubjectID\":subject_code ,\"gain\":total_gain}\n",
    "        FirstTrialHC.append(result)\n",
    "        print('File '+ str(subject_code)+ ' is done.') \n",
    "\n",
    "# Create a DataFrame from the list of dictionaries\n",
    "FirstTrialHC = pd.DataFrame(FirstTrialHC)\n",
    "FirstTrialHC.to_csv('EightFirstTrialHC.csv',index=False)\n",
    "print(FirstTrialHC)\n"
   ]
  },
  {
   "cell_type": "code",
   "execution_count": 158,
   "metadata": {},
   "outputs": [],
   "source": [
    "# HC\n",
    "\n",
    "# Read the CSV files\n",
    "FirstTrialHC = pd.read_csv('EightFirstTrialHC.csv')\n",
    "\n",
    "# Rename the 'Gain' column in the first DataFrame to avoid confusion\n",
    "FirstTrialHC = FirstTrialHC.rename(columns={'gain': 'gain1'})\n",
    "\n",
    "SecondTrialHC = pd.read_csv('EightSecondTrialHC.csv')\n",
    "SecondTrialHC = SecondTrialHC.rename(columns={'gain': 'gain2'})\n",
    "\n",
    "# Combine the DataFrames side by side\n",
    "Total_HC = pd.concat([FirstTrialHC.set_index('SubjectID'), SecondTrialHC.set_index('SubjectID')], axis=1)\n",
    "\n",
    "# Calculate the average gain for each row, ignoring NaN values\n",
    "Total_HC['AutoGain'] = Total_HC[['gain1', 'gain2']].apply(lambda x: np.nanmean(x), axis=1)\n",
    "\n",
    "# Reset the index and save the combined DataFrame to a new CSV file\n",
    "Total_HC.reset_index().to_csv('EightHCAverageGain.csv', index=False)"
   ]
  },
  {
   "cell_type": "code",
   "execution_count": 159,
   "metadata": {},
   "outputs": [
    {
     "data": {
      "text/html": [
       "<div>\n",
       "<style scoped>\n",
       "    .dataframe tbody tr th:only-of-type {\n",
       "        vertical-align: middle;\n",
       "    }\n",
       "\n",
       "    .dataframe tbody tr th {\n",
       "        vertical-align: top;\n",
       "    }\n",
       "\n",
       "    .dataframe thead th {\n",
       "        text-align: right;\n",
       "    }\n",
       "</style>\n",
       "<table border=\"1\" class=\"dataframe\">\n",
       "  <thead>\n",
       "    <tr style=\"text-align: right;\">\n",
       "      <th></th>\n",
       "      <th>gain1</th>\n",
       "      <th>gain2</th>\n",
       "      <th>AutoGain</th>\n",
       "    </tr>\n",
       "    <tr>\n",
       "      <th>SubjectID</th>\n",
       "      <th></th>\n",
       "      <th></th>\n",
       "      <th></th>\n",
       "    </tr>\n",
       "  </thead>\n",
       "  <tbody>\n",
       "    <tr>\n",
       "      <th>PD012</th>\n",
       "      <td>1.288182</td>\n",
       "      <td>0.624718</td>\n",
       "      <td>0.956450</td>\n",
       "    </tr>\n",
       "    <tr>\n",
       "      <th>PD001</th>\n",
       "      <td>NaN</td>\n",
       "      <td>0.000000</td>\n",
       "      <td>0.000000</td>\n",
       "    </tr>\n",
       "    <tr>\n",
       "      <th>PD002</th>\n",
       "      <td>NaN</td>\n",
       "      <td>0.163704</td>\n",
       "      <td>0.163704</td>\n",
       "    </tr>\n",
       "    <tr>\n",
       "      <th>PD003</th>\n",
       "      <td>NaN</td>\n",
       "      <td>0.296948</td>\n",
       "      <td>0.296948</td>\n",
       "    </tr>\n",
       "    <tr>\n",
       "      <th>PD004</th>\n",
       "      <td>NaN</td>\n",
       "      <td>0.183092</td>\n",
       "      <td>0.183092</td>\n",
       "    </tr>\n",
       "    <tr>\n",
       "      <th>PD005</th>\n",
       "      <td>NaN</td>\n",
       "      <td>1.069287</td>\n",
       "      <td>1.069287</td>\n",
       "    </tr>\n",
       "    <tr>\n",
       "      <th>PD006</th>\n",
       "      <td>NaN</td>\n",
       "      <td>0.464272</td>\n",
       "      <td>0.464272</td>\n",
       "    </tr>\n",
       "    <tr>\n",
       "      <th>PD007</th>\n",
       "      <td>NaN</td>\n",
       "      <td>0.392532</td>\n",
       "      <td>0.392532</td>\n",
       "    </tr>\n",
       "    <tr>\n",
       "      <th>PD008</th>\n",
       "      <td>NaN</td>\n",
       "      <td>0.000000</td>\n",
       "      <td>0.000000</td>\n",
       "    </tr>\n",
       "    <tr>\n",
       "      <th>PD009</th>\n",
       "      <td>NaN</td>\n",
       "      <td>1.177500</td>\n",
       "      <td>1.177500</td>\n",
       "    </tr>\n",
       "    <tr>\n",
       "      <th>PD010</th>\n",
       "      <td>NaN</td>\n",
       "      <td>0.674050</td>\n",
       "      <td>0.674050</td>\n",
       "    </tr>\n",
       "    <tr>\n",
       "      <th>PD011</th>\n",
       "      <td>NaN</td>\n",
       "      <td>0.534242</td>\n",
       "      <td>0.534242</td>\n",
       "    </tr>\n",
       "    <tr>\n",
       "      <th>PD013</th>\n",
       "      <td>NaN</td>\n",
       "      <td>0.519578</td>\n",
       "      <td>0.519578</td>\n",
       "    </tr>\n",
       "    <tr>\n",
       "      <th>PDN015</th>\n",
       "      <td>NaN</td>\n",
       "      <td>0.268604</td>\n",
       "      <td>0.268604</td>\n",
       "    </tr>\n",
       "    <tr>\n",
       "      <th>PDN017</th>\n",
       "      <td>NaN</td>\n",
       "      <td>0.592215</td>\n",
       "      <td>0.592215</td>\n",
       "    </tr>\n",
       "    <tr>\n",
       "      <th>PDN018</th>\n",
       "      <td>NaN</td>\n",
       "      <td>0.668373</td>\n",
       "      <td>0.668373</td>\n",
       "    </tr>\n",
       "    <tr>\n",
       "      <th>PDN019</th>\n",
       "      <td>NaN</td>\n",
       "      <td>0.135254</td>\n",
       "      <td>0.135254</td>\n",
       "    </tr>\n",
       "    <tr>\n",
       "      <th>PD026</th>\n",
       "      <td>NaN</td>\n",
       "      <td>0.363779</td>\n",
       "      <td>0.363779</td>\n",
       "    </tr>\n",
       "  </tbody>\n",
       "</table>\n",
       "</div>"
      ],
      "text/plain": [
       "              gain1     gain2  AutoGain\n",
       "SubjectID                              \n",
       "PD012      1.288182  0.624718  0.956450\n",
       "PD001           NaN  0.000000  0.000000\n",
       "PD002           NaN  0.163704  0.163704\n",
       "PD003           NaN  0.296948  0.296948\n",
       "PD004           NaN  0.183092  0.183092\n",
       "PD005           NaN  1.069287  1.069287\n",
       "PD006           NaN  0.464272  0.464272\n",
       "PD007           NaN  0.392532  0.392532\n",
       "PD008           NaN  0.000000  0.000000\n",
       "PD009           NaN  1.177500  1.177500\n",
       "PD010           NaN  0.674050  0.674050\n",
       "PD011           NaN  0.534242  0.534242\n",
       "PD013           NaN  0.519578  0.519578\n",
       "PDN015          NaN  0.268604  0.268604\n",
       "PDN017          NaN  0.592215  0.592215\n",
       "PDN018          NaN  0.668373  0.668373\n",
       "PDN019          NaN  0.135254  0.135254\n",
       "PD026           NaN  0.363779  0.363779"
      ]
     },
     "execution_count": 159,
     "metadata": {},
     "output_type": "execute_result"
    }
   ],
   "source": [
    "Total_HC"
   ]
  },
  {
   "cell_type": "code",
   "execution_count": 160,
   "metadata": {},
   "outputs": [],
   "source": [
    "# PD\n",
    "\n",
    "# Read the CSV files\n",
    "FirstTrialPD = pd.read_csv('EightFirstTrialPD.csv')\n",
    "\n",
    "# Rename the 'Gain' column in the first DataFrame to avoid confusion\n",
    "FirstTrialPD = FirstTrialPD.rename(columns={'gain': 'gain1'})\n",
    "\n",
    "SecondTrialPD = pd.read_csv('EightSecondTrialPD.csv')\n",
    "# Rename the 'Gain' column in the first DataFrame to avoid confusion\n",
    "SecondTrialPD = SecondTrialPD.rename(columns={'gain': 'gain2'})\n",
    "\n",
    "# Combine the DataFrames side by side\n",
    "Total_PD = pd.concat([FirstTrialPD.set_index('SubjectID'), SecondTrialPD.set_index('SubjectID')], axis=1)\n",
    "\n",
    "# Calculate the average gain for each row, ignoring NaN values\n",
    "Total_PD['AutoGain'] = Total_PD[['gain1', 'gain2']].apply(lambda x: np.nanmean(x), axis=1)\n",
    "\n",
    "# Reset the index and save the combined DataFrame to a new CSV file\n",
    "Total_PD.reset_index().to_csv('EightPDAverageGain.csv', index=False)"
   ]
  },
  {
   "cell_type": "code",
   "execution_count": 161,
   "metadata": {},
   "outputs": [
    {
     "data": {
      "text/html": [
       "<div>\n",
       "<style scoped>\n",
       "    .dataframe tbody tr th:only-of-type {\n",
       "        vertical-align: middle;\n",
       "    }\n",
       "\n",
       "    .dataframe tbody tr th {\n",
       "        vertical-align: top;\n",
       "    }\n",
       "\n",
       "    .dataframe thead th {\n",
       "        text-align: right;\n",
       "    }\n",
       "</style>\n",
       "<table border=\"1\" class=\"dataframe\">\n",
       "  <thead>\n",
       "    <tr style=\"text-align: right;\">\n",
       "      <th></th>\n",
       "      <th>gain1</th>\n",
       "      <th>gain2</th>\n",
       "      <th>AutoGain</th>\n",
       "    </tr>\n",
       "    <tr>\n",
       "      <th>SubjectID</th>\n",
       "      <th></th>\n",
       "      <th></th>\n",
       "      <th></th>\n",
       "    </tr>\n",
       "  </thead>\n",
       "  <tbody>\n",
       "    <tr>\n",
       "      <th>PD104</th>\n",
       "      <td>1.116738</td>\n",
       "      <td>NaN</td>\n",
       "      <td>1.116738</td>\n",
       "    </tr>\n",
       "    <tr>\n",
       "      <th>PD106</th>\n",
       "      <td>1.490556</td>\n",
       "      <td>NaN</td>\n",
       "      <td>1.490556</td>\n",
       "    </tr>\n",
       "    <tr>\n",
       "      <th>PD107</th>\n",
       "      <td>0.529086</td>\n",
       "      <td>NaN</td>\n",
       "      <td>0.529086</td>\n",
       "    </tr>\n",
       "    <tr>\n",
       "      <th>PD108</th>\n",
       "      <td>1.334918</td>\n",
       "      <td>NaN</td>\n",
       "      <td>1.334918</td>\n",
       "    </tr>\n",
       "    <tr>\n",
       "      <th>PD109</th>\n",
       "      <td>1.278639</td>\n",
       "      <td>NaN</td>\n",
       "      <td>1.278639</td>\n",
       "    </tr>\n",
       "    <tr>\n",
       "      <th>PD111</th>\n",
       "      <td>1.241435</td>\n",
       "      <td>NaN</td>\n",
       "      <td>1.241435</td>\n",
       "    </tr>\n",
       "    <tr>\n",
       "      <th>PD112</th>\n",
       "      <td>1.227190</td>\n",
       "      <td>NaN</td>\n",
       "      <td>1.227190</td>\n",
       "    </tr>\n",
       "    <tr>\n",
       "      <th>PD119</th>\n",
       "      <td>1.227591</td>\n",
       "      <td>NaN</td>\n",
       "      <td>1.227591</td>\n",
       "    </tr>\n",
       "    <tr>\n",
       "      <th>PD120</th>\n",
       "      <td>0.309758</td>\n",
       "      <td>NaN</td>\n",
       "      <td>0.309758</td>\n",
       "    </tr>\n",
       "    <tr>\n",
       "      <th>PD121</th>\n",
       "      <td>1.302987</td>\n",
       "      <td>NaN</td>\n",
       "      <td>1.302987</td>\n",
       "    </tr>\n",
       "    <tr>\n",
       "      <th>PD122</th>\n",
       "      <td>0.847185</td>\n",
       "      <td>NaN</td>\n",
       "      <td>0.847185</td>\n",
       "    </tr>\n",
       "    <tr>\n",
       "      <th>PD126</th>\n",
       "      <td>1.360080</td>\n",
       "      <td>NaN</td>\n",
       "      <td>1.360080</td>\n",
       "    </tr>\n",
       "    <tr>\n",
       "      <th>PDPY101</th>\n",
       "      <td>1.108548</td>\n",
       "      <td>NaN</td>\n",
       "      <td>1.108548</td>\n",
       "    </tr>\n",
       "    <tr>\n",
       "      <th>PDQE102</th>\n",
       "      <td>0.589716</td>\n",
       "      <td>NaN</td>\n",
       "      <td>0.589716</td>\n",
       "    </tr>\n",
       "    <tr>\n",
       "      <th>PDQE103</th>\n",
       "      <td>1.435281</td>\n",
       "      <td>NaN</td>\n",
       "      <td>1.435281</td>\n",
       "    </tr>\n",
       "    <tr>\n",
       "      <th>PDQE104</th>\n",
       "      <td>1.125062</td>\n",
       "      <td>0.69594</td>\n",
       "      <td>0.910501</td>\n",
       "    </tr>\n",
       "    <tr>\n",
       "      <th>PDQE105</th>\n",
       "      <td>0.930134</td>\n",
       "      <td>NaN</td>\n",
       "      <td>0.930134</td>\n",
       "    </tr>\n",
       "    <tr>\n",
       "      <th>PDQE107</th>\n",
       "      <td>1.216821</td>\n",
       "      <td>NaN</td>\n",
       "      <td>1.216821</td>\n",
       "    </tr>\n",
       "    <tr>\n",
       "      <th>PDQE108</th>\n",
       "      <td>0.871487</td>\n",
       "      <td>NaN</td>\n",
       "      <td>0.871487</td>\n",
       "    </tr>\n",
       "    <tr>\n",
       "      <th>PDQE112</th>\n",
       "      <td>1.380057</td>\n",
       "      <td>NaN</td>\n",
       "      <td>1.380057</td>\n",
       "    </tr>\n",
       "    <tr>\n",
       "      <th>PDQE113</th>\n",
       "      <td>0.897752</td>\n",
       "      <td>NaN</td>\n",
       "      <td>0.897752</td>\n",
       "    </tr>\n",
       "    <tr>\n",
       "      <th>PDQE114</th>\n",
       "      <td>1.440490</td>\n",
       "      <td>NaN</td>\n",
       "      <td>1.440490</td>\n",
       "    </tr>\n",
       "    <tr>\n",
       "      <th>PDQE115</th>\n",
       "      <td>1.111982</td>\n",
       "      <td>NaN</td>\n",
       "      <td>1.111982</td>\n",
       "    </tr>\n",
       "    <tr>\n",
       "      <th>PDPW104</th>\n",
       "      <td>0.807243</td>\n",
       "      <td>NaN</td>\n",
       "      <td>0.807243</td>\n",
       "    </tr>\n",
       "    <tr>\n",
       "      <th>PDPW106</th>\n",
       "      <td>1.306124</td>\n",
       "      <td>NaN</td>\n",
       "      <td>1.306124</td>\n",
       "    </tr>\n",
       "    <tr>\n",
       "      <th>PDPW107</th>\n",
       "      <td>1.322876</td>\n",
       "      <td>NaN</td>\n",
       "      <td>1.322876</td>\n",
       "    </tr>\n",
       "    <tr>\n",
       "      <th>PDPW109</th>\n",
       "      <td>1.146353</td>\n",
       "      <td>NaN</td>\n",
       "      <td>1.146353</td>\n",
       "    </tr>\n",
       "    <tr>\n",
       "      <th>PDPW110</th>\n",
       "      <td>0.708424</td>\n",
       "      <td>NaN</td>\n",
       "      <td>0.708424</td>\n",
       "    </tr>\n",
       "    <tr>\n",
       "      <th>PDPW111</th>\n",
       "      <td>1.339235</td>\n",
       "      <td>NaN</td>\n",
       "      <td>1.339235</td>\n",
       "    </tr>\n",
       "    <tr>\n",
       "      <th>PDPW112</th>\n",
       "      <td>0.815789</td>\n",
       "      <td>NaN</td>\n",
       "      <td>0.815789</td>\n",
       "    </tr>\n",
       "    <tr>\n",
       "      <th>PDPW113</th>\n",
       "      <td>0.929955</td>\n",
       "      <td>NaN</td>\n",
       "      <td>0.929955</td>\n",
       "    </tr>\n",
       "  </tbody>\n",
       "</table>\n",
       "</div>"
      ],
      "text/plain": [
       "              gain1    gain2  AutoGain\n",
       "SubjectID                             \n",
       "PD104      1.116738      NaN  1.116738\n",
       "PD106      1.490556      NaN  1.490556\n",
       "PD107      0.529086      NaN  0.529086\n",
       "PD108      1.334918      NaN  1.334918\n",
       "PD109      1.278639      NaN  1.278639\n",
       "PD111      1.241435      NaN  1.241435\n",
       "PD112      1.227190      NaN  1.227190\n",
       "PD119      1.227591      NaN  1.227591\n",
       "PD120      0.309758      NaN  0.309758\n",
       "PD121      1.302987      NaN  1.302987\n",
       "PD122      0.847185      NaN  0.847185\n",
       "PD126      1.360080      NaN  1.360080\n",
       "PDPY101    1.108548      NaN  1.108548\n",
       "PDQE102    0.589716      NaN  0.589716\n",
       "PDQE103    1.435281      NaN  1.435281\n",
       "PDQE104    1.125062  0.69594  0.910501\n",
       "PDQE105    0.930134      NaN  0.930134\n",
       "PDQE107    1.216821      NaN  1.216821\n",
       "PDQE108    0.871487      NaN  0.871487\n",
       "PDQE112    1.380057      NaN  1.380057\n",
       "PDQE113    0.897752      NaN  0.897752\n",
       "PDQE114    1.440490      NaN  1.440490\n",
       "PDQE115    1.111982      NaN  1.111982\n",
       "PDPW104    0.807243      NaN  0.807243\n",
       "PDPW106    1.306124      NaN  1.306124\n",
       "PDPW107    1.322876      NaN  1.322876\n",
       "PDPW109    1.146353      NaN  1.146353\n",
       "PDPW110    0.708424      NaN  0.708424\n",
       "PDPW111    1.339235      NaN  1.339235\n",
       "PDPW112    0.815789      NaN  0.815789\n",
       "PDPW113    0.929955      NaN  0.929955"
      ]
     },
     "execution_count": 161,
     "metadata": {},
     "output_type": "execute_result"
    }
   ],
   "source": [
    "Total_PD"
   ]
  },
  {
   "cell_type": "code",
   "execution_count": 162,
   "metadata": {},
   "outputs": [],
   "source": [
    "# Combine the DataFrames\n",
    "EightHCPD = pd.concat([Total_HC, Total_PD], axis=0)"
   ]
  },
  {
   "cell_type": "code",
   "execution_count": 163,
   "metadata": {},
   "outputs": [
    {
     "name": "stdout",
     "output_type": "stream",
     "text": [
      "49\n"
     ]
    }
   ],
   "source": [
    "print(len(EightHCPD.index))"
   ]
  },
  {
   "attachments": {},
   "cell_type": "markdown",
   "metadata": {},
   "source": [
    "### Manual"
   ]
  },
  {
   "cell_type": "code",
   "execution_count": 164,
   "metadata": {},
   "outputs": [],
   "source": [
    "manual_ID = EightHCPD.index\n",
    "manual_values = [0.73848261,\n",
    "0.986636423,\n",
    "0.745501748,\n",
    "0.7579907,\n",
    "0.909797906,\n",
    "0.78105301,\n",
    "0.858659788,\n",
    "0.85951671,\n",
    "0.885411917,\n",
    "0.828367438,\n",
    "0.911980105,\n",
    "0.863014297,\n",
    "0.708399551,\n",
    "0.857059114,\n",
    "0.789595449,\n",
    "0.894818095,\n",
    "1.062361214,\n",
    "0.811056814,\n",
    "\n",
    "\n",
    "0.768461692,\n",
    "0.889365304,\n",
    "0.732299908,\n",
    "0.80410417,\n",
    "0.614253632,\n",
    "1.086722755,\n",
    "0.768287138,\n",
    "0.624113864,\n",
    "0.874898474,\n",
    "0.777961479,\n",
    "0.877308815,\n",
    "0.799197517,\n",
    "0.730673411,\n",
    "0.840238835,\n",
    "0.743815855,\n",
    "0.634293751,\n",
    "0.529398709,\n",
    "0.750469831,\n",
    "0.74858958,\n",
    "0.881237282,\n",
    "0.750773553,\n",
    "0.789284873,\n",
    "0.972603229,\n",
    "0.684932294,\n",
    "0.795542508,\n",
    "0.653688664,\n",
    "0.909587046,\n",
    "0.570216915,\n",
    "0.470689666,\n",
    "0.816745486,\n",
    "0.796820748,\n",
    "\n",
    "]\n",
    "manual_gain = pd.DataFrame({'SubjectID':manual_ID, \"ManualGain\":manual_values})\n",
    "manual_gain.set_index('SubjectID', inplace=True)"
   ]
  },
  {
   "attachments": {},
   "cell_type": "markdown",
   "metadata": {},
   "source": [
    "## Compare"
   ]
  },
  {
   "cell_type": "code",
   "execution_count": 165,
   "metadata": {},
   "outputs": [
    {
     "name": "stdout",
     "output_type": "stream",
     "text": [
      "           AutoGain  ManualGain  Difference\n",
      "SubjectID                                  \n",
      "PD012      0.956450    0.738483    0.217968\n",
      "PD001      0.000000    0.986636   -0.986636\n",
      "PD002      0.163704    0.745502   -0.581798\n",
      "PD003      0.296948    0.757991   -0.461043\n",
      "PD004      0.183092    0.909798   -0.726706\n",
      "PD005      1.069287    0.781053    0.288234\n",
      "PD006      0.464272    0.858660   -0.394388\n",
      "PD007      0.392532    0.859517   -0.466985\n",
      "PD008      0.000000    0.885412   -0.885412\n",
      "PD009      1.177500    0.828367    0.349133\n",
      "PD010      0.674050    0.911980   -0.237930\n",
      "PD011      0.534242    0.863014   -0.328773\n",
      "PD013      0.519578    0.708400   -0.188822\n",
      "PDN015     0.268604    0.857059   -0.588455\n",
      "PDN017     0.592215    0.789595   -0.197381\n",
      "PDN018     0.668373    0.894818   -0.226445\n",
      "PDN019     0.135254    1.062361   -0.927107\n",
      "PD026      0.363779    0.811057   -0.447278\n",
      "PD104      1.116738    0.768462    0.348277\n",
      "PD106      1.490556    0.889365    0.601190\n",
      "PD107      0.529086    0.732300   -0.203214\n",
      "PD108      1.334918    0.804104    0.530813\n",
      "PD109      1.278639    0.614254    0.664386\n",
      "PD111      1.241435    1.086723    0.154712\n",
      "PD112      1.227190    0.768287    0.458903\n",
      "PD119      1.227591    0.624114    0.603477\n",
      "PD120      0.309758    0.874898   -0.565140\n",
      "PD121      1.302987    0.777961    0.525026\n",
      "PD122      0.847185    0.877309   -0.030124\n",
      "PD126      1.360080    0.799198    0.560882\n",
      "PDPY101    1.108548    0.730673    0.377875\n",
      "PDQE102    0.589716    0.840239   -0.250523\n",
      "PDQE103    1.435281    0.743816    0.691465\n",
      "PDQE104    0.910501    0.634294    0.276207\n",
      "PDQE105    0.930134    0.529399    0.400735\n",
      "PDQE107    1.216821    0.750470    0.466351\n",
      "PDQE108    0.871487    0.748590    0.122897\n",
      "PDQE112    1.380057    0.881237    0.498820\n",
      "PDQE113    0.897752    0.750774    0.146978\n",
      "PDQE114    1.440490    0.789285    0.651205\n",
      "PDQE115    1.111982    0.972603    0.139379\n",
      "PDPW104    0.807243    0.684932    0.122311\n",
      "PDPW106    1.306124    0.795543    0.510582\n",
      "PDPW107    1.322876    0.653689    0.669187\n",
      "PDPW109    1.146353    0.909587    0.236766\n",
      "PDPW110    0.708424    0.570217    0.138207\n",
      "PDPW111    1.339235    0.470690    0.868546\n",
      "PDPW112    0.815789    0.816745   -0.000956\n",
      "PDPW113    0.929955    0.796821    0.133134\n",
      "The mean difference 0.06241896043197605\n"
     ]
    }
   ],
   "source": [
    "ComEightHCPD = pd.concat([EightHCPD, manual_gain], axis=1)\n",
    "ComEightHCPD = ComEightHCPD.drop(['gain1','gain2'],axis=1)\n",
    "\n",
    "ComEightHCPD['Difference'] = ComEightHCPD['AutoGain'] - ComEightHCPD['ManualGain']\n",
    "ComEightHCPD.to_csv('ComEightHCPD.csv')\n",
    "print(ComEightHCPD)\n",
    "\n",
    "print(\"The mean difference\",ComEightHCPD['Difference'].mean())"
   ]
  },
  {
   "attachments": {},
   "cell_type": "markdown",
   "metadata": {},
   "source": [
    "### Correlation plot"
   ]
  },
  {
   "cell_type": "code",
   "execution_count": 166,
   "metadata": {},
   "outputs": [
    {
     "data": {
      "image/png": "[encoded data removed]",
      "text/plain": [
       "<Figure size 432x288 with 1 Axes>"
      ]
     },
     "metadata": {
      "needs_background": "light"
     },
     "output_type": "display_data"
    }
   ],
   "source": [
    "correlation_coef = ComEightHCPD['ManualGain'].corr(ComEightHCPD['AutoGain'])\n",
    "# Create scatter plot\n",
    "import seaborn as sns\n",
    "import matplotlib.pyplot as plt\n",
    "plot = sns.scatterplot(x='ManualGain', y='AutoGain', data=ComEightHCPD)\n",
    "plot.set_title(f'Correlation (r): {correlation_coef:.2f}')\n",
    "\n",
    "# Display the plot\n",
    "plt.show()"
   ]
  },
  {
   "cell_type": "code",
   "execution_count": 333,
   "metadata": {},
   "outputs": [],
   "source": [
    "One = pd.read_csv(\"ComOneHCPD.csv\")\n",
    "Two = pd.read_csv(\"ComTwoHCPD.csv\")\n",
    "Four = pd.read_csv(\"ComFourHCPD.csv\")\n",
    "Six = pd.read_csv(\"ComSixHCPD.csv\")\n",
    "Eight = pd.read_csv(\"ComEightHCPD.csv\")\n",
    "AllSpeed = pd.concat([One, Two, Four, Six, Eight],axis=0)"
   ]
  },
  {
   "cell_type": "code",
   "execution_count": 350,
   "metadata": {},
   "outputs": [
    {
     "data": {
      "text/html": [
       "<div>\n",
       "<style scoped>\n",
       "    .dataframe tbody tr th:only-of-type {\n",
       "        vertical-align: middle;\n",
       "    }\n",
       "\n",
       "    .dataframe tbody tr th {\n",
       "        vertical-align: top;\n",
       "    }\n",
       "\n",
       "    .dataframe thead th {\n",
       "        text-align: right;\n",
       "    }\n",
       "</style>\n",
       "<table border=\"1\" class=\"dataframe\">\n",
       "  <thead>\n",
       "    <tr style=\"text-align: right;\">\n",
       "      <th></th>\n",
       "      <th>SubjectID</th>\n",
       "      <th>AutoGain</th>\n",
       "      <th>ManualGain</th>\n",
       "      <th>Difference</th>\n",
       "    </tr>\n",
       "  </thead>\n",
       "  <tbody>\n",
       "    <tr>\n",
       "      <th>0</th>\n",
       "      <td>PD001</td>\n",
       "      <td>0.925939</td>\n",
       "      <td>0.912073</td>\n",
       "      <td>0.013866</td>\n",
       "    </tr>\n",
       "    <tr>\n",
       "      <th>1</th>\n",
       "      <td>PD002</td>\n",
       "      <td>0.902734</td>\n",
       "      <td>0.913615</td>\n",
       "      <td>-0.010882</td>\n",
       "    </tr>\n",
       "    <tr>\n",
       "      <th>2</th>\n",
       "      <td>PD003</td>\n",
       "      <td>0.985709</td>\n",
       "      <td>0.946453</td>\n",
       "      <td>0.039256</td>\n",
       "    </tr>\n",
       "    <tr>\n",
       "      <th>3</th>\n",
       "      <td>PD004</td>\n",
       "      <td>1.064557</td>\n",
       "      <td>0.930324</td>\n",
       "      <td>0.134233</td>\n",
       "    </tr>\n",
       "    <tr>\n",
       "      <th>4</th>\n",
       "      <td>PD005</td>\n",
       "      <td>0.951542</td>\n",
       "      <td>1.024160</td>\n",
       "      <td>-0.072618</td>\n",
       "    </tr>\n",
       "    <tr>\n",
       "      <th>5</th>\n",
       "      <td>PD006</td>\n",
       "      <td>0.935256</td>\n",
       "      <td>0.860240</td>\n",
       "      <td>0.075016</td>\n",
       "    </tr>\n",
       "    <tr>\n",
       "      <th>6</th>\n",
       "      <td>PD007</td>\n",
       "      <td>0.940150</td>\n",
       "      <td>0.964705</td>\n",
       "      <td>-0.024555</td>\n",
       "    </tr>\n",
       "    <tr>\n",
       "      <th>7</th>\n",
       "      <td>PD008</td>\n",
       "      <td>0.961614</td>\n",
       "      <td>0.926124</td>\n",
       "      <td>0.035489</td>\n",
       "    </tr>\n",
       "    <tr>\n",
       "      <th>8</th>\n",
       "      <td>PD009</td>\n",
       "      <td>0.878762</td>\n",
       "      <td>0.968895</td>\n",
       "      <td>-0.090133</td>\n",
       "    </tr>\n",
       "    <tr>\n",
       "      <th>9</th>\n",
       "      <td>PD010</td>\n",
       "      <td>0.961301</td>\n",
       "      <td>0.971484</td>\n",
       "      <td>-0.010183</td>\n",
       "    </tr>\n",
       "    <tr>\n",
       "      <th>10</th>\n",
       "      <td>PD011</td>\n",
       "      <td>0.968085</td>\n",
       "      <td>0.944374</td>\n",
       "      <td>0.023711</td>\n",
       "    </tr>\n",
       "    <tr>\n",
       "      <th>11</th>\n",
       "      <td>PD012</td>\n",
       "      <td>0.980581</td>\n",
       "      <td>0.933779</td>\n",
       "      <td>0.046802</td>\n",
       "    </tr>\n",
       "    <tr>\n",
       "      <th>12</th>\n",
       "      <td>PD013</td>\n",
       "      <td>0.870420</td>\n",
       "      <td>0.890761</td>\n",
       "      <td>-0.020342</td>\n",
       "    </tr>\n",
       "    <tr>\n",
       "      <th>13</th>\n",
       "      <td>PDN015</td>\n",
       "      <td>0.741753</td>\n",
       "      <td>0.988454</td>\n",
       "      <td>-0.246700</td>\n",
       "    </tr>\n",
       "    <tr>\n",
       "      <th>14</th>\n",
       "      <td>PDN017</td>\n",
       "      <td>1.016066</td>\n",
       "      <td>0.875559</td>\n",
       "      <td>0.140507</td>\n",
       "    </tr>\n",
       "    <tr>\n",
       "      <th>15</th>\n",
       "      <td>PDN018</td>\n",
       "      <td>0.872085</td>\n",
       "      <td>0.895827</td>\n",
       "      <td>-0.023742</td>\n",
       "    </tr>\n",
       "    <tr>\n",
       "      <th>16</th>\n",
       "      <td>PDN019</td>\n",
       "      <td>0.898882</td>\n",
       "      <td>1.016500</td>\n",
       "      <td>-0.117618</td>\n",
       "    </tr>\n",
       "    <tr>\n",
       "      <th>17</th>\n",
       "      <td>PD026</td>\n",
       "      <td>0.963276</td>\n",
       "      <td>0.942578</td>\n",
       "      <td>0.020698</td>\n",
       "    </tr>\n",
       "    <tr>\n",
       "      <th>18</th>\n",
       "      <td>PD104</td>\n",
       "      <td>0.944921</td>\n",
       "      <td>0.693868</td>\n",
       "      <td>0.251053</td>\n",
       "    </tr>\n",
       "    <tr>\n",
       "      <th>19</th>\n",
       "      <td>PD106</td>\n",
       "      <td>0.765073</td>\n",
       "      <td>0.966204</td>\n",
       "      <td>-0.201131</td>\n",
       "    </tr>\n",
       "    <tr>\n",
       "      <th>20</th>\n",
       "      <td>PD107</td>\n",
       "      <td>0.859309</td>\n",
       "      <td>0.911918</td>\n",
       "      <td>-0.052608</td>\n",
       "    </tr>\n",
       "    <tr>\n",
       "      <th>21</th>\n",
       "      <td>PD108</td>\n",
       "      <td>0.947537</td>\n",
       "      <td>0.880597</td>\n",
       "      <td>0.066940</td>\n",
       "    </tr>\n",
       "    <tr>\n",
       "      <th>22</th>\n",
       "      <td>PD109</td>\n",
       "      <td>0.930332</td>\n",
       "      <td>0.787613</td>\n",
       "      <td>0.142719</td>\n",
       "    </tr>\n",
       "    <tr>\n",
       "      <th>23</th>\n",
       "      <td>PD111</td>\n",
       "      <td>0.654663</td>\n",
       "      <td>1.002030</td>\n",
       "      <td>-0.347367</td>\n",
       "    </tr>\n",
       "    <tr>\n",
       "      <th>24</th>\n",
       "      <td>PD112</td>\n",
       "      <td>0.855575</td>\n",
       "      <td>0.723829</td>\n",
       "      <td>0.131746</td>\n",
       "    </tr>\n",
       "    <tr>\n",
       "      <th>25</th>\n",
       "      <td>PD119</td>\n",
       "      <td>1.088829</td>\n",
       "      <td>0.977504</td>\n",
       "      <td>0.111326</td>\n",
       "    </tr>\n",
       "    <tr>\n",
       "      <th>26</th>\n",
       "      <td>PD120</td>\n",
       "      <td>0.817797</td>\n",
       "      <td>0.988502</td>\n",
       "      <td>-0.170705</td>\n",
       "    </tr>\n",
       "    <tr>\n",
       "      <th>27</th>\n",
       "      <td>PD121</td>\n",
       "      <td>0.959322</td>\n",
       "      <td>1.028938</td>\n",
       "      <td>-0.069616</td>\n",
       "    </tr>\n",
       "    <tr>\n",
       "      <th>28</th>\n",
       "      <td>PD122</td>\n",
       "      <td>0.888959</td>\n",
       "      <td>0.866447</td>\n",
       "      <td>0.022512</td>\n",
       "    </tr>\n",
       "    <tr>\n",
       "      <th>29</th>\n",
       "      <td>PD126</td>\n",
       "      <td>0.974541</td>\n",
       "      <td>0.923159</td>\n",
       "      <td>0.051382</td>\n",
       "    </tr>\n",
       "    <tr>\n",
       "      <th>30</th>\n",
       "      <td>PDPY101</td>\n",
       "      <td>0.807875</td>\n",
       "      <td>1.042950</td>\n",
       "      <td>-0.235075</td>\n",
       "    </tr>\n",
       "    <tr>\n",
       "      <th>31</th>\n",
       "      <td>PDQE102</td>\n",
       "      <td>1.018197</td>\n",
       "      <td>0.954852</td>\n",
       "      <td>0.063345</td>\n",
       "    </tr>\n",
       "    <tr>\n",
       "      <th>32</th>\n",
       "      <td>PDQE103</td>\n",
       "      <td>0.980992</td>\n",
       "      <td>0.983681</td>\n",
       "      <td>-0.002689</td>\n",
       "    </tr>\n",
       "    <tr>\n",
       "      <th>33</th>\n",
       "      <td>PDQE104</td>\n",
       "      <td>0.913321</td>\n",
       "      <td>0.831394</td>\n",
       "      <td>0.081927</td>\n",
       "    </tr>\n",
       "    <tr>\n",
       "      <th>34</th>\n",
       "      <td>PDQE105</td>\n",
       "      <td>0.990036</td>\n",
       "      <td>0.969027</td>\n",
       "      <td>0.021009</td>\n",
       "    </tr>\n",
       "    <tr>\n",
       "      <th>35</th>\n",
       "      <td>PDQE107</td>\n",
       "      <td>1.009019</td>\n",
       "      <td>0.819025</td>\n",
       "      <td>0.189994</td>\n",
       "    </tr>\n",
       "    <tr>\n",
       "      <th>36</th>\n",
       "      <td>PDQE108</td>\n",
       "      <td>2.216567</td>\n",
       "      <td>1.594418</td>\n",
       "      <td>0.622149</td>\n",
       "    </tr>\n",
       "    <tr>\n",
       "      <th>37</th>\n",
       "      <td>PDQE112</td>\n",
       "      <td>0.701832</td>\n",
       "      <td>0.827559</td>\n",
       "      <td>-0.125727</td>\n",
       "    </tr>\n",
       "    <tr>\n",
       "      <th>38</th>\n",
       "      <td>PDQE113</td>\n",
       "      <td>0.855480</td>\n",
       "      <td>0.882328</td>\n",
       "      <td>-0.026848</td>\n",
       "    </tr>\n",
       "    <tr>\n",
       "      <th>39</th>\n",
       "      <td>PDQE114</td>\n",
       "      <td>1.175313</td>\n",
       "      <td>0.900687</td>\n",
       "      <td>0.274627</td>\n",
       "    </tr>\n",
       "    <tr>\n",
       "      <th>40</th>\n",
       "      <td>PDQE115</td>\n",
       "      <td>0.979479</td>\n",
       "      <td>0.888807</td>\n",
       "      <td>0.090673</td>\n",
       "    </tr>\n",
       "    <tr>\n",
       "      <th>41</th>\n",
       "      <td>PDPW104</td>\n",
       "      <td>0.788425</td>\n",
       "      <td>0.890710</td>\n",
       "      <td>-0.102285</td>\n",
       "    </tr>\n",
       "    <tr>\n",
       "      <th>42</th>\n",
       "      <td>PDPW106</td>\n",
       "      <td>0.936917</td>\n",
       "      <td>1.011323</td>\n",
       "      <td>-0.074405</td>\n",
       "    </tr>\n",
       "    <tr>\n",
       "      <th>43</th>\n",
       "      <td>PDPW107</td>\n",
       "      <td>0.947351</td>\n",
       "      <td>0.860332</td>\n",
       "      <td>0.087019</td>\n",
       "    </tr>\n",
       "    <tr>\n",
       "      <th>44</th>\n",
       "      <td>PDPW109</td>\n",
       "      <td>1.019837</td>\n",
       "      <td>0.978210</td>\n",
       "      <td>0.041627</td>\n",
       "    </tr>\n",
       "    <tr>\n",
       "      <th>45</th>\n",
       "      <td>PDPW110</td>\n",
       "      <td>0.891614</td>\n",
       "      <td>0.898244</td>\n",
       "      <td>-0.006630</td>\n",
       "    </tr>\n",
       "    <tr>\n",
       "      <th>46</th>\n",
       "      <td>PDPW111</td>\n",
       "      <td>2.005286</td>\n",
       "      <td>0.792265</td>\n",
       "      <td>1.213020</td>\n",
       "    </tr>\n",
       "    <tr>\n",
       "      <th>47</th>\n",
       "      <td>PDPW112</td>\n",
       "      <td>0.979147</td>\n",
       "      <td>0.867632</td>\n",
       "      <td>0.111514</td>\n",
       "    </tr>\n",
       "    <tr>\n",
       "      <th>48</th>\n",
       "      <td>PDPW113</td>\n",
       "      <td>0.902364</td>\n",
       "      <td>0.896471</td>\n",
       "      <td>0.005892</td>\n",
       "    </tr>\n",
       "  </tbody>\n",
       "</table>\n",
       "</div>"
      ],
      "text/plain": [
       "   SubjectID  AutoGain  ManualGain  Difference\n",
       "0      PD001  0.925939    0.912073    0.013866\n",
       "1      PD002  0.902734    0.913615   -0.010882\n",
       "2      PD003  0.985709    0.946453    0.039256\n",
       "3      PD004  1.064557    0.930324    0.134233\n",
       "4      PD005  0.951542    1.024160   -0.072618\n",
       "5      PD006  0.935256    0.860240    0.075016\n",
       "6      PD007  0.940150    0.964705   -0.024555\n",
       "7      PD008  0.961614    0.926124    0.035489\n",
       "8      PD009  0.878762    0.968895   -0.090133\n",
       "9      PD010  0.961301    0.971484   -0.010183\n",
       "10     PD011  0.968085    0.944374    0.023711\n",
       "11     PD012  0.980581    0.933779    0.046802\n",
       "12     PD013  0.870420    0.890761   -0.020342\n",
       "13    PDN015  0.741753    0.988454   -0.246700\n",
       "14    PDN017  1.016066    0.875559    0.140507\n",
       "15    PDN018  0.872085    0.895827   -0.023742\n",
       "16    PDN019  0.898882    1.016500   -0.117618\n",
       "17     PD026  0.963276    0.942578    0.020698\n",
       "18     PD104  0.944921    0.693868    0.251053\n",
       "19     PD106  0.765073    0.966204   -0.201131\n",
       "20     PD107  0.859309    0.911918   -0.052608\n",
       "21     PD108  0.947537    0.880597    0.066940\n",
       "22     PD109  0.930332    0.787613    0.142719\n",
       "23     PD111  0.654663    1.002030   -0.347367\n",
       "24     PD112  0.855575    0.723829    0.131746\n",
       "25     PD119  1.088829    0.977504    0.111326\n",
       "26     PD120  0.817797    0.988502   -0.170705\n",
       "27     PD121  0.959322    1.028938   -0.069616\n",
       "28     PD122  0.888959    0.866447    0.022512\n",
       "29     PD126  0.974541    0.923159    0.051382\n",
       "30   PDPY101  0.807875    1.042950   -0.235075\n",
       "31   PDQE102  1.018197    0.954852    0.063345\n",
       "32   PDQE103  0.980992    0.983681   -0.002689\n",
       "33   PDQE104  0.913321    0.831394    0.081927\n",
       "34   PDQE105  0.990036    0.969027    0.021009\n",
       "35   PDQE107  1.009019    0.819025    0.189994\n",
       "36   PDQE108  2.216567    1.594418    0.622149\n",
       "37   PDQE112  0.701832    0.827559   -0.125727\n",
       "38   PDQE113  0.855480    0.882328   -0.026848\n",
       "39   PDQE114  1.175313    0.900687    0.274627\n",
       "40   PDQE115  0.979479    0.888807    0.090673\n",
       "41   PDPW104  0.788425    0.890710   -0.102285\n",
       "42   PDPW106  0.936917    1.011323   -0.074405\n",
       "43   PDPW107  0.947351    0.860332    0.087019\n",
       "44   PDPW109  1.019837    0.978210    0.041627\n",
       "45   PDPW110  0.891614    0.898244   -0.006630\n",
       "46   PDPW111  2.005286    0.792265    1.213020\n",
       "47   PDPW112  0.979147    0.867632    0.111514\n",
       "48   PDPW113  0.902364    0.896471    0.005892"
      ]
     },
     "execution_count": 350,
     "metadata": {},
     "output_type": "execute_result"
    }
   ],
   "source": [
    "One"
   ]
  },
  {
   "cell_type": "code",
   "execution_count": 354,
   "metadata": {},
   "outputs": [],
   "source": [
    "import statistics\n",
    "# Create a list of dictionaries containing the data\n",
    "data_list = [One, Two, Four, Six, Eight]\n",
    "\n",
    "# Create an empty dataframe to store the results\n",
    "results_df = pd.DataFrame(columns=['SubjectID', 'Standard deviation'])\n",
    "\n",
    "# Iterate over the range of indices from 0 to 48\n",
    "for i in range(49):\n",
    "    # Create a list of values for the current index from each dictionary\n",
    "    values = [d['AutoGain'][i] for d in data_list]\n",
    "    # Calculate the standard deviation of the values\n",
    "    std_dev = statistics.stdev(values)\n",
    "    # Print the index and standard deviation\n",
    "    #print(One['SubjectID'][i], \"Standard deviation:\", std_dev)\n",
    "    results_df = results_df.append({'SubjectID': One['SubjectID'][i], 'Standard deviation': std_dev}, ignore_index=True)\n",
    "# Save the results dataframe to an Excel file\n",
    "results_df.to_excel('results.xlsx', index=False)"
   ]
  },
  {
   "cell_type": "code",
   "execution_count": 343,
   "metadata": {},
   "outputs": [
    {
     "data": {
      "text/plain": [
       "0.043075282814873835"
      ]
     },
     "execution_count": 343,
     "metadata": {},
     "output_type": "execute_result"
    }
   ],
   "source": [
    "import statistics\n",
    "statistics.stdev([One['AutoGain'][0],Two['AutoGain'][0], Four['AutoGain'][0],Six['AutoGain'][0],Eight['AutoGain'][0]])"
   ]
  },
  {
   "cell_type": "code",
   "execution_count": 332,
   "metadata": {},
   "outputs": [
    {
     "data": {
      "text/plain": [
       "0.9094693861986128"
      ]
     },
     "execution_count": 332,
     "metadata": {},
     "output_type": "execute_result"
    }
   ],
   "source": [
    "One['AutoGain'][0]"
   ]
  },
  {
   "cell_type": "code",
   "execution_count": 342,
   "metadata": {},
   "outputs": [
    {
     "data": {
      "text/html": [
       "<div>\n",
       "<style scoped>\n",
       "    .dataframe tbody tr th:only-of-type {\n",
       "        vertical-align: middle;\n",
       "    }\n",
       "\n",
       "    .dataframe tbody tr th {\n",
       "        vertical-align: top;\n",
       "    }\n",
       "\n",
       "    .dataframe thead th {\n",
       "        text-align: right;\n",
       "    }\n",
       "</style>\n",
       "<table border=\"1\" class=\"dataframe\">\n",
       "  <thead>\n",
       "    <tr style=\"text-align: right;\">\n",
       "      <th></th>\n",
       "      <th>SubjectID</th>\n",
       "      <th>AutoGain</th>\n",
       "      <th>ManualGain</th>\n",
       "      <th>Difference</th>\n",
       "    </tr>\n",
       "  </thead>\n",
       "  <tbody>\n",
       "    <tr>\n",
       "      <th>0</th>\n",
       "      <td>PD001</td>\n",
       "      <td>0.925939</td>\n",
       "      <td>0.912073</td>\n",
       "      <td>0.013866</td>\n",
       "    </tr>\n",
       "    <tr>\n",
       "      <th>1</th>\n",
       "      <td>PD002</td>\n",
       "      <td>0.902734</td>\n",
       "      <td>0.913615</td>\n",
       "      <td>-0.010882</td>\n",
       "    </tr>\n",
       "    <tr>\n",
       "      <th>2</th>\n",
       "      <td>PD003</td>\n",
       "      <td>0.985709</td>\n",
       "      <td>0.946453</td>\n",
       "      <td>0.039256</td>\n",
       "    </tr>\n",
       "    <tr>\n",
       "      <th>3</th>\n",
       "      <td>PD004</td>\n",
       "      <td>1.064557</td>\n",
       "      <td>0.930324</td>\n",
       "      <td>0.134233</td>\n",
       "    </tr>\n",
       "    <tr>\n",
       "      <th>4</th>\n",
       "      <td>PD005</td>\n",
       "      <td>0.951542</td>\n",
       "      <td>1.024160</td>\n",
       "      <td>-0.072618</td>\n",
       "    </tr>\n",
       "    <tr>\n",
       "      <th>5</th>\n",
       "      <td>PD006</td>\n",
       "      <td>0.935256</td>\n",
       "      <td>0.860240</td>\n",
       "      <td>0.075016</td>\n",
       "    </tr>\n",
       "    <tr>\n",
       "      <th>6</th>\n",
       "      <td>PD007</td>\n",
       "      <td>0.940150</td>\n",
       "      <td>0.964705</td>\n",
       "      <td>-0.024555</td>\n",
       "    </tr>\n",
       "    <tr>\n",
       "      <th>7</th>\n",
       "      <td>PD008</td>\n",
       "      <td>0.961614</td>\n",
       "      <td>0.926124</td>\n",
       "      <td>0.035489</td>\n",
       "    </tr>\n",
       "    <tr>\n",
       "      <th>8</th>\n",
       "      <td>PD009</td>\n",
       "      <td>0.878762</td>\n",
       "      <td>0.968895</td>\n",
       "      <td>-0.090133</td>\n",
       "    </tr>\n",
       "    <tr>\n",
       "      <th>9</th>\n",
       "      <td>PD010</td>\n",
       "      <td>0.961301</td>\n",
       "      <td>0.971484</td>\n",
       "      <td>-0.010183</td>\n",
       "    </tr>\n",
       "    <tr>\n",
       "      <th>10</th>\n",
       "      <td>PD011</td>\n",
       "      <td>0.968085</td>\n",
       "      <td>0.944374</td>\n",
       "      <td>0.023711</td>\n",
       "    </tr>\n",
       "    <tr>\n",
       "      <th>11</th>\n",
       "      <td>PD012</td>\n",
       "      <td>0.980581</td>\n",
       "      <td>0.933779</td>\n",
       "      <td>0.046802</td>\n",
       "    </tr>\n",
       "    <tr>\n",
       "      <th>12</th>\n",
       "      <td>PD013</td>\n",
       "      <td>0.870420</td>\n",
       "      <td>0.890761</td>\n",
       "      <td>-0.020342</td>\n",
       "    </tr>\n",
       "    <tr>\n",
       "      <th>13</th>\n",
       "      <td>PDN015</td>\n",
       "      <td>0.741753</td>\n",
       "      <td>0.988454</td>\n",
       "      <td>-0.246700</td>\n",
       "    </tr>\n",
       "    <tr>\n",
       "      <th>14</th>\n",
       "      <td>PDN017</td>\n",
       "      <td>1.016066</td>\n",
       "      <td>0.875559</td>\n",
       "      <td>0.140507</td>\n",
       "    </tr>\n",
       "    <tr>\n",
       "      <th>15</th>\n",
       "      <td>PDN018</td>\n",
       "      <td>0.872085</td>\n",
       "      <td>0.895827</td>\n",
       "      <td>-0.023742</td>\n",
       "    </tr>\n",
       "    <tr>\n",
       "      <th>16</th>\n",
       "      <td>PDN019</td>\n",
       "      <td>0.898882</td>\n",
       "      <td>1.016500</td>\n",
       "      <td>-0.117618</td>\n",
       "    </tr>\n",
       "    <tr>\n",
       "      <th>17</th>\n",
       "      <td>PD026</td>\n",
       "      <td>0.963276</td>\n",
       "      <td>0.942578</td>\n",
       "      <td>0.020698</td>\n",
       "    </tr>\n",
       "    <tr>\n",
       "      <th>18</th>\n",
       "      <td>PD104</td>\n",
       "      <td>0.944921</td>\n",
       "      <td>0.693868</td>\n",
       "      <td>0.251053</td>\n",
       "    </tr>\n",
       "    <tr>\n",
       "      <th>19</th>\n",
       "      <td>PD106</td>\n",
       "      <td>0.765073</td>\n",
       "      <td>0.966204</td>\n",
       "      <td>-0.201131</td>\n",
       "    </tr>\n",
       "    <tr>\n",
       "      <th>20</th>\n",
       "      <td>PD107</td>\n",
       "      <td>0.859309</td>\n",
       "      <td>0.911918</td>\n",
       "      <td>-0.052608</td>\n",
       "    </tr>\n",
       "    <tr>\n",
       "      <th>21</th>\n",
       "      <td>PD108</td>\n",
       "      <td>0.947537</td>\n",
       "      <td>0.880597</td>\n",
       "      <td>0.066940</td>\n",
       "    </tr>\n",
       "    <tr>\n",
       "      <th>22</th>\n",
       "      <td>PD109</td>\n",
       "      <td>0.930332</td>\n",
       "      <td>0.787613</td>\n",
       "      <td>0.142719</td>\n",
       "    </tr>\n",
       "    <tr>\n",
       "      <th>23</th>\n",
       "      <td>PD111</td>\n",
       "      <td>0.654663</td>\n",
       "      <td>1.002030</td>\n",
       "      <td>-0.347367</td>\n",
       "    </tr>\n",
       "    <tr>\n",
       "      <th>24</th>\n",
       "      <td>PD112</td>\n",
       "      <td>0.855575</td>\n",
       "      <td>0.723829</td>\n",
       "      <td>0.131746</td>\n",
       "    </tr>\n",
       "    <tr>\n",
       "      <th>25</th>\n",
       "      <td>PD119</td>\n",
       "      <td>1.088829</td>\n",
       "      <td>0.977504</td>\n",
       "      <td>0.111326</td>\n",
       "    </tr>\n",
       "    <tr>\n",
       "      <th>26</th>\n",
       "      <td>PD120</td>\n",
       "      <td>0.817797</td>\n",
       "      <td>0.988502</td>\n",
       "      <td>-0.170705</td>\n",
       "    </tr>\n",
       "    <tr>\n",
       "      <th>27</th>\n",
       "      <td>PD121</td>\n",
       "      <td>0.959322</td>\n",
       "      <td>1.028938</td>\n",
       "      <td>-0.069616</td>\n",
       "    </tr>\n",
       "    <tr>\n",
       "      <th>28</th>\n",
       "      <td>PD122</td>\n",
       "      <td>0.888959</td>\n",
       "      <td>0.866447</td>\n",
       "      <td>0.022512</td>\n",
       "    </tr>\n",
       "    <tr>\n",
       "      <th>29</th>\n",
       "      <td>PD126</td>\n",
       "      <td>0.974541</td>\n",
       "      <td>0.923159</td>\n",
       "      <td>0.051382</td>\n",
       "    </tr>\n",
       "    <tr>\n",
       "      <th>30</th>\n",
       "      <td>PDPY101</td>\n",
       "      <td>0.807875</td>\n",
       "      <td>1.042950</td>\n",
       "      <td>-0.235075</td>\n",
       "    </tr>\n",
       "    <tr>\n",
       "      <th>31</th>\n",
       "      <td>PDQE102</td>\n",
       "      <td>1.018197</td>\n",
       "      <td>0.954852</td>\n",
       "      <td>0.063345</td>\n",
       "    </tr>\n",
       "    <tr>\n",
       "      <th>32</th>\n",
       "      <td>PDQE103</td>\n",
       "      <td>0.980992</td>\n",
       "      <td>0.983681</td>\n",
       "      <td>-0.002689</td>\n",
       "    </tr>\n",
       "    <tr>\n",
       "      <th>33</th>\n",
       "      <td>PDQE104</td>\n",
       "      <td>0.913321</td>\n",
       "      <td>0.831394</td>\n",
       "      <td>0.081927</td>\n",
       "    </tr>\n",
       "    <tr>\n",
       "      <th>34</th>\n",
       "      <td>PDQE105</td>\n",
       "      <td>0.990036</td>\n",
       "      <td>0.969027</td>\n",
       "      <td>0.021009</td>\n",
       "    </tr>\n",
       "    <tr>\n",
       "      <th>35</th>\n",
       "      <td>PDQE107</td>\n",
       "      <td>1.009019</td>\n",
       "      <td>0.819025</td>\n",
       "      <td>0.189994</td>\n",
       "    </tr>\n",
       "    <tr>\n",
       "      <th>36</th>\n",
       "      <td>PDQE108</td>\n",
       "      <td>2.216567</td>\n",
       "      <td>1.594418</td>\n",
       "      <td>0.622149</td>\n",
       "    </tr>\n",
       "    <tr>\n",
       "      <th>37</th>\n",
       "      <td>PDQE112</td>\n",
       "      <td>0.701832</td>\n",
       "      <td>0.827559</td>\n",
       "      <td>-0.125727</td>\n",
       "    </tr>\n",
       "    <tr>\n",
       "      <th>38</th>\n",
       "      <td>PDQE113</td>\n",
       "      <td>0.855480</td>\n",
       "      <td>0.882328</td>\n",
       "      <td>-0.026848</td>\n",
       "    </tr>\n",
       "    <tr>\n",
       "      <th>39</th>\n",
       "      <td>PDQE114</td>\n",
       "      <td>1.175313</td>\n",
       "      <td>0.900687</td>\n",
       "      <td>0.274627</td>\n",
       "    </tr>\n",
       "    <tr>\n",
       "      <th>40</th>\n",
       "      <td>PDQE115</td>\n",
       "      <td>0.979479</td>\n",
       "      <td>0.888807</td>\n",
       "      <td>0.090673</td>\n",
       "    </tr>\n",
       "    <tr>\n",
       "      <th>41</th>\n",
       "      <td>PDPW104</td>\n",
       "      <td>0.788425</td>\n",
       "      <td>0.890710</td>\n",
       "      <td>-0.102285</td>\n",
       "    </tr>\n",
       "    <tr>\n",
       "      <th>42</th>\n",
       "      <td>PDPW106</td>\n",
       "      <td>0.936917</td>\n",
       "      <td>1.011323</td>\n",
       "      <td>-0.074405</td>\n",
       "    </tr>\n",
       "    <tr>\n",
       "      <th>43</th>\n",
       "      <td>PDPW107</td>\n",
       "      <td>0.947351</td>\n",
       "      <td>0.860332</td>\n",
       "      <td>0.087019</td>\n",
       "    </tr>\n",
       "    <tr>\n",
       "      <th>44</th>\n",
       "      <td>PDPW109</td>\n",
       "      <td>1.019837</td>\n",
       "      <td>0.978210</td>\n",
       "      <td>0.041627</td>\n",
       "    </tr>\n",
       "    <tr>\n",
       "      <th>45</th>\n",
       "      <td>PDPW110</td>\n",
       "      <td>0.891614</td>\n",
       "      <td>0.898244</td>\n",
       "      <td>-0.006630</td>\n",
       "    </tr>\n",
       "    <tr>\n",
       "      <th>46</th>\n",
       "      <td>PDPW111</td>\n",
       "      <td>2.005286</td>\n",
       "      <td>0.792265</td>\n",
       "      <td>1.213020</td>\n",
       "    </tr>\n",
       "    <tr>\n",
       "      <th>47</th>\n",
       "      <td>PDPW112</td>\n",
       "      <td>0.979147</td>\n",
       "      <td>0.867632</td>\n",
       "      <td>0.111514</td>\n",
       "    </tr>\n",
       "    <tr>\n",
       "      <th>48</th>\n",
       "      <td>PDPW113</td>\n",
       "      <td>0.902364</td>\n",
       "      <td>0.896471</td>\n",
       "      <td>0.005892</td>\n",
       "    </tr>\n",
       "  </tbody>\n",
       "</table>\n",
       "</div>"
      ],
      "text/plain": [
       "   SubjectID  AutoGain  ManualGain  Difference\n",
       "0      PD001  0.925939    0.912073    0.013866\n",
       "1      PD002  0.902734    0.913615   -0.010882\n",
       "2      PD003  0.985709    0.946453    0.039256\n",
       "3      PD004  1.064557    0.930324    0.134233\n",
       "4      PD005  0.951542    1.024160   -0.072618\n",
       "5      PD006  0.935256    0.860240    0.075016\n",
       "6      PD007  0.940150    0.964705   -0.024555\n",
       "7      PD008  0.961614    0.926124    0.035489\n",
       "8      PD009  0.878762    0.968895   -0.090133\n",
       "9      PD010  0.961301    0.971484   -0.010183\n",
       "10     PD011  0.968085    0.944374    0.023711\n",
       "11     PD012  0.980581    0.933779    0.046802\n",
       "12     PD013  0.870420    0.890761   -0.020342\n",
       "13    PDN015  0.741753    0.988454   -0.246700\n",
       "14    PDN017  1.016066    0.875559    0.140507\n",
       "15    PDN018  0.872085    0.895827   -0.023742\n",
       "16    PDN019  0.898882    1.016500   -0.117618\n",
       "17     PD026  0.963276    0.942578    0.020698\n",
       "18     PD104  0.944921    0.693868    0.251053\n",
       "19     PD106  0.765073    0.966204   -0.201131\n",
       "20     PD107  0.859309    0.911918   -0.052608\n",
       "21     PD108  0.947537    0.880597    0.066940\n",
       "22     PD109  0.930332    0.787613    0.142719\n",
       "23     PD111  0.654663    1.002030   -0.347367\n",
       "24     PD112  0.855575    0.723829    0.131746\n",
       "25     PD119  1.088829    0.977504    0.111326\n",
       "26     PD120  0.817797    0.988502   -0.170705\n",
       "27     PD121  0.959322    1.028938   -0.069616\n",
       "28     PD122  0.888959    0.866447    0.022512\n",
       "29     PD126  0.974541    0.923159    0.051382\n",
       "30   PDPY101  0.807875    1.042950   -0.235075\n",
       "31   PDQE102  1.018197    0.954852    0.063345\n",
       "32   PDQE103  0.980992    0.983681   -0.002689\n",
       "33   PDQE104  0.913321    0.831394    0.081927\n",
       "34   PDQE105  0.990036    0.969027    0.021009\n",
       "35   PDQE107  1.009019    0.819025    0.189994\n",
       "36   PDQE108  2.216567    1.594418    0.622149\n",
       "37   PDQE112  0.701832    0.827559   -0.125727\n",
       "38   PDQE113  0.855480    0.882328   -0.026848\n",
       "39   PDQE114  1.175313    0.900687    0.274627\n",
       "40   PDQE115  0.979479    0.888807    0.090673\n",
       "41   PDPW104  0.788425    0.890710   -0.102285\n",
       "42   PDPW106  0.936917    1.011323   -0.074405\n",
       "43   PDPW107  0.947351    0.860332    0.087019\n",
       "44   PDPW109  1.019837    0.978210    0.041627\n",
       "45   PDPW110  0.891614    0.898244   -0.006630\n",
       "46   PDPW111  2.005286    0.792265    1.213020\n",
       "47   PDPW112  0.979147    0.867632    0.111514\n",
       "48   PDPW113  0.902364    0.896471    0.005892"
      ]
     },
     "execution_count": 342,
     "metadata": {},
     "output_type": "execute_result"
    }
   ],
   "source": [
    "One"
   ]
  },
  {
   "cell_type": "code",
   "execution_count": 330,
   "metadata": {},
   "outputs": [
    {
     "data": {
      "text/plain": [
       "0.7312754164005961"
      ]
     },
     "execution_count": 330,
     "metadata": {},
     "output_type": "execute_result"
    }
   ],
   "source": [
    "One['AutoGain'][17]"
   ]
  },
  {
   "attachments": {},
   "cell_type": "markdown",
   "metadata": {},
   "source": [
    "### STD For HC(One)"
   ]
  },
  {
   "cell_type": "code",
   "execution_count": 234,
   "metadata": {},
   "outputs": [
    {
     "name": "stdout",
     "output_type": "stream",
     "text": [
      "0.06776462580511375\n"
     ]
    }
   ],
   "source": [
    "# For HC\n",
    "Stdev = pd.read_csv('OneHCAverageGain.csv')\n",
    "Stdev['STDEV'] = np.std(Stdev['AutoGain'])\n",
    "print(Stdev['STDEV'].mean())"
   ]
  },
  {
   "attachments": {},
   "cell_type": "markdown",
   "metadata": {},
   "source": [
    "### Check HC one degree"
   ]
  },
  {
   "cell_type": "code",
   "execution_count": 289,
   "metadata": {},
   "outputs": [],
   "source": [
    "OneHC= pd.read_csv('ComOneHCPD.csv')\n",
    "OneHC = OneHC[0:18]"
   ]
  },
  {
   "cell_type": "code",
   "execution_count": 290,
   "metadata": {},
   "outputs": [
    {
     "name": "stdout",
     "output_type": "stream",
     "text": [
      "The following rows have values that are not within STDEV:\n",
      "   SubjectID  AutoGain  ManualGain  Difference\n",
      "3      PD004  1.064557    0.930324    0.134233\n",
      "4      PD005  0.951542    1.024160   -0.072618\n",
      "5      PD006  0.935256    0.860240    0.075016\n",
      "8      PD009  0.878762    0.968895   -0.090133\n",
      "13    PDN015  0.741753    0.988454   -0.246700\n",
      "14    PDN017  1.016066    0.875559    0.140507\n",
      "16    PDN019  0.898882    1.016500   -0.117618\n"
     ]
    }
   ],
   "source": [
    "# Calculate the absolute difference between the values in column1 and column2\n",
    "diff = abs(OneHC['Difference'])\n",
    "\n",
    "# Filter the DataFrame to include only the rows where the difference is greater than or less than a specific value\n",
    "out_of_range = OneHC[(diff > 0.06) | (diff < -0.06)]\n",
    "\n",
    "# Print the out-of-range rows\n",
    "if len(out_of_range) > 0:\n",
    "    print(\"The following rows have values that are not within STDEV:\")\n",
    "    print(out_of_range)\n",
    "else:\n",
    "    print(\"All values in column1 and column2 are within STDEV.\")"
   ]
  },
  {
   "attachments": {},
   "cell_type": "markdown",
   "metadata": {},
   "source": [
    "### STD For HC(Two)"
   ]
  },
  {
   "cell_type": "code",
   "execution_count": 235,
   "metadata": {},
   "outputs": [
    {
     "name": "stdout",
     "output_type": "stream",
     "text": [
      "0.12334948916436031\n"
     ]
    }
   ],
   "source": [
    "Stdev = pd.read_csv('TwoHCAverageGain.csv')\n",
    "Stdev['STDEV'] = np.std(Stdev['AutoGain'])\n",
    "print(Stdev['STDEV'].mean())"
   ]
  },
  {
   "attachments": {},
   "cell_type": "markdown",
   "metadata": {},
   "source": [
    "### Check for HC two degree"
   ]
  },
  {
   "cell_type": "code",
   "execution_count": 273,
   "metadata": {},
   "outputs": [],
   "source": [
    "TwoHC= pd.read_csv('ComTwoHCPD.csv')\n",
    "TwoHC = TwoHC[0:18]"
   ]
  },
  {
   "cell_type": "code",
   "execution_count": 291,
   "metadata": {},
   "outputs": [
    {
     "name": "stdout",
     "output_type": "stream",
     "text": [
      "The following rows have values that are not within STDEV:\n",
      "   SubjectID  AutoGain  ManualGain  Difference\n",
      "3      PD004  1.064557    0.930324    0.134233\n",
      "13    PDN015  0.741753    0.988454   -0.246700\n",
      "14    PDN017  1.016066    0.875559    0.140507\n"
     ]
    }
   ],
   "source": [
    "# Calculate the absolute difference between the values in column1 and column2\n",
    "diff = abs(OneHC['Difference'])\n",
    "\n",
    "# Filter the DataFrame to include only the rows where the difference is greater than or less than a specific value\n",
    "out_of_range = OneHC[(diff > 0.12) | (diff < -0.12)]\n",
    "\n",
    "# Print the out-of-range rows\n",
    "if len(out_of_range) > 0:\n",
    "    print(\"The following rows have values that are not within STDEV:\")\n",
    "    print(out_of_range)\n",
    "else:\n",
    "    print(\"All values in column1 and column2 are within STDEV.\")"
   ]
  },
  {
   "attachments": {},
   "cell_type": "markdown",
   "metadata": {},
   "source": [
    "### STD For HC(Four)"
   ]
  },
  {
   "cell_type": "code",
   "execution_count": 275,
   "metadata": {},
   "outputs": [
    {
     "name": "stdout",
     "output_type": "stream",
     "text": [
      "0.06559128316683789\n"
     ]
    }
   ],
   "source": [
    "Stdev = pd.read_csv('FourHCAverageGain.csv')\n",
    "Stdev['STDEV'] = np.std(Stdev['AutoGain'])\n",
    "print(Stdev['STDEV'].mean())"
   ]
  },
  {
   "attachments": {},
   "cell_type": "markdown",
   "metadata": {},
   "source": [
    "### Check for HC four"
   ]
  },
  {
   "cell_type": "code",
   "execution_count": 292,
   "metadata": {},
   "outputs": [],
   "source": [
    "FourHC= pd.read_csv('ComFourHCPD.csv')\n",
    "FourHC = FourHC[0:18]"
   ]
  },
  {
   "cell_type": "code",
   "execution_count": 293,
   "metadata": {},
   "outputs": [
    {
     "name": "stdout",
     "output_type": "stream",
     "text": [
      "The following rows have values that are not within STDEV:\n",
      "   SubjectID  AutoGain  ManualGain  Difference\n",
      "7      PD008  0.800924    0.945246   -0.144322\n",
      "12     PD013  0.888113    0.768451    0.119662\n",
      "14    PDN017  0.999125    0.811563    0.187562\n",
      "15    PDN018  0.968398    0.864465    0.103933\n"
     ]
    }
   ],
   "source": [
    "# Calculate the absolute difference between the values in column1 and column2\n",
    "diff = abs(FourHC['Difference'])\n",
    "\n",
    "# Filter the DataFrame to include only the rows where the difference is greater than or less than a specific value\n",
    "out_of_range = FourHC[(diff > 0.06) | (diff < -0.06)]\n",
    "\n",
    "# Print the out-of-range rows\n",
    "if len(out_of_range) > 0:\n",
    "    print(\"The following rows have values that are not within STDEV:\")\n",
    "    print(out_of_range)\n",
    "else:\n",
    "    print(\"All values in column1 and column2 are within STDEV.\")"
   ]
  },
  {
   "attachments": {},
   "cell_type": "markdown",
   "metadata": {},
   "source": [
    "### STD For HC(Six)"
   ]
  },
  {
   "cell_type": "code",
   "execution_count": 294,
   "metadata": {},
   "outputs": [
    {
     "name": "stdout",
     "output_type": "stream",
     "text": [
      "0.12464507701717993\n"
     ]
    }
   ],
   "source": [
    "One = pd.read_csv('SixHCAverageGain.csv')\n",
    "One['STDEV'] = np.std(One['AutoGain'])\n",
    "print(One['STDEV'].mean())"
   ]
  },
  {
   "attachments": {},
   "cell_type": "markdown",
   "metadata": {},
   "source": [
    "### Check for HC Six"
   ]
  },
  {
   "cell_type": "code",
   "execution_count": 295,
   "metadata": {},
   "outputs": [],
   "source": [
    "SixHC= pd.read_csv('ComSixHCPD.csv')\n",
    "SixHC = SixHC[0:18]"
   ]
  },
  {
   "cell_type": "code",
   "execution_count": 296,
   "metadata": {},
   "outputs": [
    {
     "name": "stdout",
     "output_type": "stream",
     "text": [
      "The following rows have values that are not within STDEV:\n",
      "   SubjectID  AutoGain  ManualGain  Difference\n",
      "7      PD008  0.800924    0.945246   -0.144322\n",
      "14    PDN017  0.999125    0.811563    0.187562\n"
     ]
    }
   ],
   "source": [
    "# Calculate the absolute difference between the values in column1 and column2\n",
    "diff = abs(FourHC['Difference'])\n",
    "\n",
    "# Filter the DataFrame to include only the rows where the difference is greater than or less than a specific value\n",
    "out_of_range = FourHC[(diff > 0.12) | (diff < -0.12)]\n",
    "\n",
    "# Print the out-of-range rows\n",
    "if len(out_of_range) > 0:\n",
    "    print(\"The following rows have values that are not within STDEV:\")\n",
    "    print(out_of_range)\n",
    "else:\n",
    "    print(\"All values in column1 and column2 are within STDEV.\")"
   ]
  },
  {
   "attachments": {},
   "cell_type": "markdown",
   "metadata": {},
   "source": [
    "### STD For HC(Eight)"
   ]
  },
  {
   "cell_type": "code",
   "execution_count": 297,
   "metadata": {},
   "outputs": [
    {
     "name": "stdout",
     "output_type": "stream",
     "text": [
      "0.3347185171883067\n"
     ]
    }
   ],
   "source": [
    "Stdev = pd.read_csv('EightHCAverageGain.csv')\n",
    "Stdev['STDEV'] = np.std(Stdev['AutoGain'])\n",
    "print(Stdev['STDEV'].mean())"
   ]
  },
  {
   "attachments": {},
   "cell_type": "markdown",
   "metadata": {},
   "source": [
    "### Check for HC eight"
   ]
  },
  {
   "cell_type": "code",
   "execution_count": 298,
   "metadata": {},
   "outputs": [],
   "source": [
    "EightHC= pd.read_csv('ComEightHCPD.csv')\n",
    "EightHC = EightHC[0:18]"
   ]
  },
  {
   "cell_type": "code",
   "execution_count": 299,
   "metadata": {},
   "outputs": [
    {
     "name": "stdout",
     "output_type": "stream",
     "text": [
      "The following rows have values that are not within STDEV:\n",
      "   SubjectID  AutoGain  ManualGain  Difference\n",
      "1      PD001  0.000000    0.986636   -0.986636\n",
      "2      PD002  0.163704    0.745502   -0.581798\n",
      "3      PD003  0.296948    0.757991   -0.461043\n",
      "4      PD004  0.183092    0.909798   -0.726706\n",
      "6      PD006  0.464272    0.858660   -0.394388\n",
      "7      PD007  0.392532    0.859517   -0.466985\n",
      "8      PD008  0.000000    0.885412   -0.885412\n",
      "9      PD009  1.177500    0.828367    0.349133\n",
      "13    PDN015  0.268604    0.857059   -0.588455\n",
      "16    PDN019  0.135254    1.062361   -0.927107\n",
      "17     PD026  0.363779    0.811057   -0.447278\n"
     ]
    }
   ],
   "source": [
    "# Calculate the absolute difference between the values in column1 and column2\n",
    "diff = abs(EightHC['Difference'])\n",
    "\n",
    "# Filter the DataFrame to include only the rows where the difference is greater than or less than a specific value\n",
    "out_of_range = EightHC[(diff > 0.33) | (diff < -0.33)]\n",
    "\n",
    "# Print the out-of-range rows\n",
    "if len(out_of_range) > 0:\n",
    "    print(\"The following rows have values that are not within STDEV:\")\n",
    "    print(out_of_range)\n",
    "else:\n",
    "    print(\"All values in column1 and column2 are within STDEV.\")"
   ]
  },
  {
   "attachments": {},
   "cell_type": "markdown",
   "metadata": {},
   "source": [
    "### STD For PD(One)"
   ]
  },
  {
   "cell_type": "code",
   "execution_count": 300,
   "metadata": {},
   "outputs": [
    {
     "name": "stdout",
     "output_type": "stream",
     "text": [
      "0.31267566545567205\n"
     ]
    }
   ],
   "source": [
    "Stdev = pd.read_csv('OnePDAverageGain.csv')\n",
    "Stdev['STDEV'] = np.std(Stdev['AutoGain'])\n",
    "print(Stdev['STDEV'].mean())"
   ]
  },
  {
   "attachments": {},
   "cell_type": "markdown",
   "metadata": {},
   "source": [
    "### Check"
   ]
  },
  {
   "cell_type": "code",
   "execution_count": 315,
   "metadata": {},
   "outputs": [],
   "source": [
    "OnePD= pd.read_csv('ComOneHCPD.csv')\n",
    "OnePD = OnePD[18::]"
   ]
  },
  {
   "cell_type": "code",
   "execution_count": 316,
   "metadata": {},
   "outputs": [
    {
     "name": "stdout",
     "output_type": "stream",
     "text": [
      "The following rows have values that are not within STDEV:\n",
      "   SubjectID  AutoGain  ManualGain  Difference\n",
      "23     PD111  0.654663    1.002030   -0.347367\n",
      "36   PDQE108  2.216567    1.594418    0.622149\n",
      "46   PDPW111  2.005286    0.792265    1.213020\n"
     ]
    }
   ],
   "source": [
    "# Calculate the absolute difference between the values in column1 and column2\n",
    "diff = abs(OnePD['Difference'])\n",
    "\n",
    "# Filter the DataFrame to include only the rows where the difference is greater than or less than a specific value\n",
    "out_of_range = OnePD[(diff > 0.31) | (diff < -0.31)]\n",
    "\n",
    "# Print the out-of-range rows\n",
    "if len(out_of_range) > 0:\n",
    "    print(\"The following rows have values that are not within STDEV:\")\n",
    "    print(out_of_range)\n",
    "else:\n",
    "    print(\"All values in column1 and column2 are within STDEV.\")"
   ]
  },
  {
   "attachments": {},
   "cell_type": "markdown",
   "metadata": {},
   "source": [
    "### STD For PD(Two)"
   ]
  },
  {
   "cell_type": "code",
   "execution_count": 301,
   "metadata": {},
   "outputs": [
    {
     "name": "stdout",
     "output_type": "stream",
     "text": [
      "0.1379758798806446\n"
     ]
    }
   ],
   "source": [
    "Stdev = pd.read_csv('TwoPDAverageGain.csv')\n",
    "Stdev['STDEV'] = np.std(Stdev['AutoGain'])\n",
    "print(Stdev['STDEV'].mean())"
   ]
  },
  {
   "attachments": {},
   "cell_type": "markdown",
   "metadata": {},
   "source": [
    "### Check"
   ]
  },
  {
   "cell_type": "code",
   "execution_count": 317,
   "metadata": {},
   "outputs": [],
   "source": [
    "TwoPD= pd.read_csv('ComTwoHCPD.csv')\n",
    "TwoPD = TwoPD[18::]"
   ]
  },
  {
   "cell_type": "code",
   "execution_count": 318,
   "metadata": {},
   "outputs": [
    {
     "name": "stdout",
     "output_type": "stream",
     "text": [
      "The following rows have values that are not within STDEV:\n",
      "   SubjectID  AutoGain  ManualGain  Difference\n",
      "19     PD106  0.755493    0.912264   -0.156770\n",
      "21     PD108  0.635077    0.765102   -0.130026\n",
      "23     PD111  0.694047    1.013061   -0.319014\n",
      "26     PD120  0.520483    1.054706   -0.534223\n",
      "31   PDQE102  0.764621    0.900439   -0.135818\n",
      "32   PDQE103  0.838604    1.020269   -0.181664\n",
      "33   PDQE104  0.664684    0.852846   -0.188162\n",
      "34   PDQE105  0.841561    0.662387    0.179174\n",
      "35   PDQE107  0.511115    1.026912   -0.515797\n",
      "36   PDQE108  0.725598    0.929980   -0.204383\n",
      "38   PDQE113  1.099246    0.915410    0.183836\n",
      "43   PDPW107  0.965432    0.762131    0.203300\n"
     ]
    }
   ],
   "source": [
    "# Calculate the absolute difference between the values in column1 and column2\n",
    "diff = abs(TwoPD['Difference'])\n",
    "\n",
    "# Filter the DataFrame to include only the rows where the difference is greater than or less than a specific value\n",
    "out_of_range = TwoPD[(diff > 0.13) | (diff < -0.13)]\n",
    "\n",
    "# Print the out-of-range rows\n",
    "if len(out_of_range) > 0:\n",
    "    print(\"The following rows have values that are not within STDEV:\")\n",
    "    print(out_of_range)\n",
    "else:\n",
    "    print(\"All values in column1 and column2 are within STDEV.\")"
   ]
  },
  {
   "attachments": {},
   "cell_type": "markdown",
   "metadata": {},
   "source": [
    "### STD For PD(Four)"
   ]
  },
  {
   "cell_type": "code",
   "execution_count": 302,
   "metadata": {},
   "outputs": [
    {
     "name": "stdout",
     "output_type": "stream",
     "text": [
      "0.08866129656318873\n"
     ]
    }
   ],
   "source": [
    "Stdev = pd.read_csv('FourPDAverageGain.csv')\n",
    "Stdev['STDEV'] = np.std(Stdev['AutoGain'])\n",
    "print(Stdev['STDEV'].mean())"
   ]
  },
  {
   "attachments": {},
   "cell_type": "markdown",
   "metadata": {},
   "source": [
    "### Check"
   ]
  },
  {
   "cell_type": "code",
   "execution_count": 319,
   "metadata": {},
   "outputs": [],
   "source": [
    "FourPD= pd.read_csv('ComFourHCPD.csv')\n",
    "FourPD = FourPD[18::]"
   ]
  },
  {
   "cell_type": "code",
   "execution_count": 326,
   "metadata": {},
   "outputs": [
    {
     "name": "stdout",
     "output_type": "stream",
     "text": [
      "The following rows have values that are not within STDEV:\n",
      "   SubjectID  AutoGain  ManualGain  Difference\n",
      "18     PD104  0.916583    0.701048    0.215535\n",
      "22     PD109  0.792564    0.603231    0.189333\n",
      "23     PD111  0.658984    1.116339   -0.457354\n",
      "24     PD112  0.966028    0.837634    0.128394\n",
      "25     PD119  0.770009    0.872114   -0.102105\n",
      "26     PD120  0.921913    1.006655   -0.084742\n",
      "27     PD121  0.991678    0.867235    0.124443\n",
      "28     PD122  0.682876    0.864534   -0.181658\n",
      "30   PDPY101  0.958584    0.863970    0.094614\n",
      "33   PDQE104  0.921177    0.665920    0.255257\n",
      "34   PDQE105  0.806780    0.531702    0.275078\n",
      "36   PDQE108  0.973933    0.849537    0.124396\n",
      "38   PDQE113  0.991239    0.696788    0.294451\n",
      "43   PDPW107  0.935671    0.792533    0.143137\n",
      "44   PDPW109  0.814121    0.969197   -0.155076\n",
      "45   PDPW110  0.859974    0.564497    0.295477\n",
      "46   PDPW111  0.939675    0.566934    0.372741\n",
      "47   PDPW112  0.891143    0.745105    0.146038\n"
     ]
    }
   ],
   "source": [
    "# Calculate the absolute difference between the values in column1 and column2\n",
    "diff = abs(FourPD['Difference'])\n",
    "\n",
    "# Filter the DataFrame to include only the rows where the difference is greater than or less than a specific value\n",
    "out_of_range = FourPD[(diff > 0.08) | (diff < -0.08)]\n",
    "\n",
    "# Print the out-of-range rows\n",
    "if len(out_of_range) > 0:\n",
    "    print(\"The following rows have values that are not within STDEV:\")\n",
    "    print(out_of_range)\n",
    "else:\n",
    "    print(\"All values in column1 and column2 are within STDEV.\")"
   ]
  },
  {
   "attachments": {},
   "cell_type": "markdown",
   "metadata": {},
   "source": [
    "### STD For PD(Six)"
   ]
  },
  {
   "cell_type": "code",
   "execution_count": 303,
   "metadata": {},
   "outputs": [
    {
     "name": "stdout",
     "output_type": "stream",
     "text": [
      "0.12544744204909988\n"
     ]
    }
   ],
   "source": [
    "Stdev = pd.read_csv('SixPDAverageGain.csv')\n",
    "Stdev['STDEV'] = np.std(Stdev['AutoGain'])\n",
    "print(Stdev['STDEV'].mean())"
   ]
  },
  {
   "cell_type": "code",
   "execution_count": 321,
   "metadata": {},
   "outputs": [],
   "source": [
    "SixPD= pd.read_csv('ComSixHCPD.csv')\n",
    "SixPD = SixPD[18::]"
   ]
  },
  {
   "cell_type": "code",
   "execution_count": 325,
   "metadata": {},
   "outputs": [
    {
     "name": "stdout",
     "output_type": "stream",
     "text": [
      "The following rows have values that are not within STDEV:\n",
      "   SubjectID  AutoGain  ManualGain  Difference\n",
      "18     PD104  0.895288    0.654567    0.240721\n",
      "19     PD106  0.411974    0.895222   -0.483248\n",
      "22     PD109  0.789575    0.559366    0.230209\n",
      "23     PD111  0.599788    1.045320   -0.445533\n",
      "26     PD120  0.809169    0.988183   -0.179014\n",
      "28     PD122  0.677647    0.802579   -0.124933\n",
      "31   PDQE102  0.658567    0.875686   -0.217119\n",
      "32   PDQE103  0.522537    0.857819   -0.335282\n",
      "40   PDQE115  0.616367    0.968963   -0.352596\n",
      "42   PDPW106  0.930253    0.793820    0.136432\n",
      "44   PDPW109  0.562395    0.921647   -0.359252\n",
      "45   PDPW110  0.705581    0.508275    0.197305\n",
      "46   PDPW111  0.596001    0.454614    0.141387\n",
      "48   PDPW113  0.469793    0.856514   -0.386721\n"
     ]
    }
   ],
   "source": [
    "# Calculate the absolute difference between the values in column1 and column2\n",
    "diff = abs(SixPD['Difference'])\n",
    "\n",
    "# Filter the DataFrame to include only the rows where the difference is greater than or less than a specific value\n",
    "out_of_range = SixPD[(diff > 0.12) | (diff < -0.12)]\n",
    "\n",
    "# Print the out-of-range rows\n",
    "if len(out_of_range) > 0:\n",
    "    print(\"The following rows have values that are not within STDEV:\")\n",
    "    print(out_of_range)\n",
    "else:\n",
    "    print(\"All values in column1 and column2 are within STDEV.\")"
   ]
  },
  {
   "attachments": {},
   "cell_type": "markdown",
   "metadata": {},
   "source": [
    "### STD For PD(Eight)"
   ]
  },
  {
   "cell_type": "code",
   "execution_count": 304,
   "metadata": {},
   "outputs": [
    {
     "name": "stdout",
     "output_type": "stream",
     "text": [
      "0.292069944702119\n"
     ]
    }
   ],
   "source": [
    "Stdev = pd.read_csv('EightPDAverageGain.csv')\n",
    "Stdev['STDEV'] = np.std(Stdev['AutoGain'])\n",
    "print(Stdev['STDEV'].mean())"
   ]
  },
  {
   "attachments": {},
   "cell_type": "markdown",
   "metadata": {},
   "source": [
    "### Check"
   ]
  },
  {
   "cell_type": "code",
   "execution_count": 323,
   "metadata": {},
   "outputs": [],
   "source": [
    "EightPD= pd.read_csv('ComEightHCPD.csv')\n",
    "EightPD = EightPD[18::]"
   ]
  },
  {
   "cell_type": "code",
   "execution_count": 324,
   "metadata": {},
   "outputs": [
    {
     "name": "stdout",
     "output_type": "stream",
     "text": [
      "The following rows have values that are not within STDEV:\n",
      "   SubjectID  AutoGain  ManualGain  Difference\n",
      "18     PD104  1.116738    0.768462    0.348277\n",
      "19     PD106  1.490556    0.889365    0.601190\n",
      "21     PD108  1.334918    0.804104    0.530813\n",
      "22     PD109  1.278639    0.614254    0.664386\n",
      "24     PD112  1.227190    0.768287    0.458903\n",
      "25     PD119  1.227591    0.624114    0.603477\n",
      "26     PD120  0.309758    0.874898   -0.565140\n",
      "27     PD121  1.302987    0.777961    0.525026\n",
      "29     PD126  1.360080    0.799198    0.560882\n",
      "30   PDPY101  1.108548    0.730673    0.377875\n",
      "32   PDQE103  1.435281    0.743816    0.691465\n",
      "34   PDQE105  0.930134    0.529399    0.400735\n",
      "35   PDQE107  1.216821    0.750470    0.466351\n",
      "37   PDQE112  1.380057    0.881237    0.498820\n",
      "39   PDQE114  1.440490    0.789285    0.651205\n",
      "42   PDPW106  1.306124    0.795543    0.510582\n",
      "43   PDPW107  1.322876    0.653689    0.669187\n",
      "46   PDPW111  1.339235    0.470690    0.868546\n"
     ]
    }
   ],
   "source": [
    "# Calculate the absolute difference between the values in column1 and column2\n",
    "diff = abs(EightPD['Difference'])\n",
    "\n",
    "# Filter the DataFrame to include only the rows where the difference is greater than or less than a specific value\n",
    "out_of_range = EightPD[(diff > 0.29) | (diff < -0.29)]\n",
    "\n",
    "# Print the out-of-range rows\n",
    "if len(out_of_range) > 0:\n",
    "    print(\"The following rows have values that are not within STDEV:\")\n",
    "    print(out_of_range)\n",
    "else:\n",
    "    print(\"All values in column1 and column2 are within STDEV.\")"
   ]
  },
  {
   "cell_type": "code",
   "execution_count": null,
   "metadata": {},
   "outputs": [],
   "source": []
  },
  {
   "cell_type": "code",
   "execution_count": null,
   "metadata": {},
   "outputs": [],
   "source": []
  },
  {
   "cell_type": "code",
   "execution_count": null,
   "metadata": {},
   "outputs": [],
   "source": []
  },
  {
   "cell_type": "code",
   "execution_count": null,
   "metadata": {},
   "outputs": [],
   "source": []
  },
  {
   "cell_type": "code",
   "execution_count": null,
   "metadata": {},
   "outputs": [],
   "source": []
  },
  {
   "cell_type": "code",
   "execution_count": null,
   "metadata": {},
   "outputs": [],
   "source": []
  },
  {
   "cell_type": "code",
   "execution_count": 168,
   "metadata": {},
   "outputs": [],
   "source": [
    "# Save the DataFrame to an Excel file\n",
    "file_path = 'AllSpeed.xlsx'\n",
    "AllSpeed.to_excel(file_path, index=False, engine='openpyxl')"
   ]
  },
  {
   "cell_type": "code",
   "execution_count": 169,
   "metadata": {},
   "outputs": [
    {
     "data": {
      "image/png": "[encoded data removed]",
      "text/plain": [
       "<Figure size 432x288 with 1 Axes>"
      ]
     },
     "metadata": {
      "needs_background": "light"
     },
     "output_type": "display_data"
    }
   ],
   "source": [
    "correlation_coef = AllSpeed['ManualGain'].corr(AllSpeed['AutoGain'])\n",
    "# Create scatter plot\n",
    "import seaborn as sns\n",
    "import matplotlib.pyplot as plt\n",
    "plot = sns.scatterplot(x='ManualGain', y='AutoGain', data=AllSpeed)\n",
    "plot.set_title(f'Correlation (r): {correlation_coef:.2f}')\n",
    "\n",
    "# Display the plot\n",
    "plt.show()"
   ]
  },
  {
   "cell_type": "code",
   "execution_count": null,
   "metadata": {},
   "outputs": [],
   "source": []
  },
  {
   "attachments": {},
   "cell_type": "markdown",
   "metadata": {},
   "source": [
    "### Bland-Altman plot"
   ]
  },
  {
   "cell_type": "code",
   "execution_count": null,
   "metadata": {},
   "outputs": [],
   "source": []
  },
  {
   "cell_type": "code",
   "execution_count": 210,
   "metadata": {},
   "outputs": [
    {
     "data": {
      "image/png": "[encoded data removed]",
      "text/plain": [
       "<Figure size 1800x1200 with 1 Axes>"
      ]
     },
     "metadata": {
      "needs_background": "light"
     },
     "output_type": "display_data"
    }
   ],
   "source": [
    "import statsmodels.api as sm\n",
    "import matplotlib.pyplot as plt\n",
    "\n",
    "#create Bland-Altman plot       \n",
    "# # Create a high-resolution figure\n",
    "dpi = 300  # Adjust this value for your desired resolution\n",
    "fig, ax = plt.subplots(dpi=dpi)           \n",
    "#f, ax = plt.subplots(1, figsize = (8,5))\n",
    "sm.graphics.mean_diff_plot(AllSpeed.ManualGain, AllSpeed.AutoGain, ax = ax)\n",
    "ax.set_title('Bland-Altman Plot')\n",
    "\n",
    "# Adjust the margins to accommodate the entire figure\n",
    "plt.tight_layout()\n",
    "\n",
    "plt.savefig('BA_plot.jpeg', format='jpeg', dpi=300)\n",
    "\n",
    "#display Bland-Altman plot\n",
    "plt.show()\n"
   ]
  },
  {
   "attachments": {},
   "cell_type": "markdown",
   "metadata": {},
   "source": [
    "### Scatter Plot"
   ]
  },
  {
   "cell_type": "code",
   "execution_count": 211,
   "metadata": {},
   "outputs": [
    {
     "data": {
      "image/png": "[encoded data removed]",
      "text/plain": [
       "<Figure size 1800x1200 with 1 Axes>"
      ]
     },
     "metadata": {
      "needs_background": "light"
     },
     "output_type": "display_data"
    }
   ],
   "source": [
    "import pandas as pd\n",
    "import matplotlib.pyplot as plt\n",
    "from scipy.stats import pearsonr\n",
    "import numpy as np\n",
    "\n",
    "# Assuming 'AllSpeed' is your DataFrame containing 'ManualGain' and 'AutoGain' columns\n",
    "\n",
    "# Calculate Pearson correlation coefficient (r value) and p-value\n",
    "r_value, p_value = pearsonr(AllSpeed['ManualGain'], AllSpeed['AutoGain'])\n",
    "\n",
    "# Fit a linear model to the data\n",
    "slope, intercept = np.polyfit(AllSpeed['ManualGain'], AllSpeed['AutoGain'], 1)\n",
    "linear_model = lambda x: slope * x + intercept\n",
    "x_fit = np.linspace(AllSpeed['ManualGain'].min(), AllSpeed['AutoGain'].max(), 100)\n",
    "y_fit = linear_model(x_fit)\n",
    "\n",
    "# Create a high-resolution scatter plot with the r value displayed and the fitted line\n",
    "plt.figure(dpi=300)  # Increase the dpi value for higher resolution\n",
    "plt.scatter(AllSpeed['ManualGain'], AllSpeed['AutoGain'], label=f'r = {r_value:.2f}')\n",
    "plt.plot(x_fit, y_fit, color='red', label='Fitted Line')\n",
    "plt.xlabel('ManualGain')\n",
    "plt.ylabel('AutoGain')\n",
    "plt.legend()\n",
    "plt.title('Correlation Plot between Manual Gain and Auto Gain')\n",
    "\n",
    "# Adjust the margins to accommodate the entire figure\n",
    "plt.tight_layout()\n",
    "\n",
    "# Save the figure in JPEG format\n",
    "plt.savefig('corr_plot.jpeg', format='jpeg', dpi=300)\n",
    "plt.show()\n"
   ]
  },
  {
   "cell_type": "code",
   "execution_count": 209,
   "metadata": {},
   "outputs": [
    {
     "name": "stdout",
     "output_type": "stream",
     "text": [
      "Spearman's rank correlation coefficient: 0.12311812481500002\n",
      "P-value: 0.05428237646093961\n"
     ]
    }
   ],
   "source": [
    "import pandas as pd\n",
    "from scipy.stats import spearmanr\n",
    "\n",
    "\n",
    "# Calculate the Spearman rank correlation coefficient and p-value\n",
    "corr, pval = spearmanr(AllSpeed['ManualGain'], AllSpeed['AutoGain'])\n",
    "\n",
    "# Print the correlation coefficient and p-value\n",
    "print(f\"Spearman's rank correlation coefficient: {corr}\")\n",
    "print(f\"P-value: {pval}\")"
   ]
  },
  {
   "attachments": {},
   "cell_type": "markdown",
   "metadata": {},
   "source": [
    "### Correlation coefficient"
   ]
  },
  {
   "cell_type": "code",
   "execution_count": 189,
   "metadata": {},
   "outputs": [
    {
     "name": "stdout",
     "output_type": "stream",
     "text": [
      "Correlation coefficient: 0.10332843113401481\n"
     ]
    }
   ],
   "source": [
    "import scipy.stats as stats\n",
    "# Calculate the correlation coefficient\n",
    "corr, _ = stats.pearsonr(AllSpeed['ManualGain'], AllSpeed['AutoGain'])\n",
    "\n",
    "# Print the correlation coefficient\n",
    "print(f\"Correlation coefficient: {corr}\")"
   ]
  },
  {
   "cell_type": "code",
   "execution_count": 194,
   "metadata": {},
   "outputs": [
    {
     "data": {
      "image/png": "[encoded data removed]",
      "text/plain": [
       "<Figure size 432x288 with 1 Axes>"
      ]
     },
     "metadata": {
      "needs_background": "light"
     },
     "output_type": "display_data"
    }
   ],
   "source": [
    "\n",
    "# Create a histogram\n",
    "plt.hist(AllSpeed['ManualGain'], bins=10)\n",
    "\n",
    "# Add axis labels and a title\n",
    "plt.xlabel('x')\n",
    "plt.ylabel('Frequency')\n",
    "plt.title('Histogram of x')\n",
    "\n",
    "# Show the plot\n",
    "plt.show()"
   ]
  },
  {
   "cell_type": "code",
   "execution_count": 175,
   "metadata": {},
   "outputs": [
    {
     "name": "stdout",
     "output_type": "stream",
     "text": [
      "                            OLS Regression Results                            \n",
      "==============================================================================\n",
      "Dep. Variable:             ManualGain   R-squared:                       0.011\n",
      "Model:                            OLS   Adj. R-squared:                  0.007\n",
      "Method:                 Least Squares   F-statistic:                     2.622\n",
      "Date:                Thu, 15 Jun 2023   Prob (F-statistic):              0.107\n",
      "Time:                        00:25:59   Log-Likelihood:                 160.19\n",
      "No. Observations:                 245   AIC:                            -316.4\n",
      "Df Residuals:                     243   BIC:                            -309.4\n",
      "Df Model:                           1                                         \n",
      "Covariance Type:            nonrobust                                         \n",
      "==============================================================================\n",
      "                 coef    std err          t      P>|t|      [0.025      0.975]\n",
      "------------------------------------------------------------------------------\n",
      "const          0.8054      0.029     28.071      0.000       0.749       0.862\n",
      "AutoGain       0.0516      0.032      1.619      0.107      -0.011       0.114\n",
      "==============================================================================\n",
      "Omnibus:                       24.388   Durbin-Watson:                   1.777\n",
      "Prob(Omnibus):                  0.000   Jarque-Bera (JB):              110.060\n",
      "Skew:                           0.026   Prob(JB):                     1.26e-24\n",
      "Kurtosis:                       6.283   Cond. No.                         7.00\n",
      "==============================================================================\n",
      "\n",
      "Notes:\n",
      "[1] Standard Errors assume that the covariance matrix of the errors is correctly specified.\n"
     ]
    }
   ],
   "source": [
    "import statsmodels.api as sm\n",
    "import pandas as pd\n",
    "\n",
    "\n",
    "# Define the independent variable (X) and dependent variable (Y)\n",
    "X = AllSpeed.AutoGain\n",
    "Y = AllSpeed.ManualGain\n",
    "\n",
    "# Add a constant term to the independent variable(s)\n",
    "X = sm.add_constant(X)\n",
    "\n",
    "# Fit the linear regression model\n",
    "model = sm.OLS(Y, X).fit()\n",
    "\n",
    "# Print the model summary\n",
    "print(model.summary())"
   ]
  },
  {
   "attachments": {},
   "cell_type": "markdown",
   "metadata": {},
   "source": [
    "### P value"
   ]
  },
  {
   "cell_type": "code",
   "execution_count": 212,
   "metadata": {},
   "outputs": [
    {
     "name": "stdout",
     "output_type": "stream",
     "text": [
      "T-statistic: -0.8064498703866002\n",
      "P-value: 0.4203763308985795\n",
      "Fail to reject the null hypothesis\n"
     ]
    }
   ],
   "source": [
    "import numpy as np\n",
    "from scipy import stats\n",
    " \n",
    "# Perform the two independent samples t-test\n",
    "t_statistic, p_value = stats.ttest_ind(AllSpeed.ManualGain, AllSpeed.AutoGain)\n",
    " \n",
    "# Print the results\n",
    "print(\"T-statistic:\", t_statistic)\n",
    "print(\"P-value:\", p_value)\n",
    " \n",
    "# Set significance level (α)\n",
    "alpha = 0.05\n",
    " \n",
    "# Compare the p-value with the significance level\n",
    "if p_value < alpha:\n",
    "    print(\"Reject the null hypothesis\")\n",
    "else:\n",
    "    print(\"Fail to reject the null hypothesis\")"
   ]
  },
  {
   "cell_type": "code",
   "execution_count": null,
   "metadata": {},
   "outputs": [],
   "source": []
  },
  {
   "cell_type": "code",
   "execution_count": null,
   "metadata": {},
   "outputs": [],
   "source": []
  },
  {
   "cell_type": "code",
   "execution_count": null,
   "metadata": {},
   "outputs": [],
   "source": []
  },
  {
   "cell_type": "code",
   "execution_count": 171,
   "metadata": {},
   "outputs": [
    {
     "data": {
      "application/vnd.plotly.v1+json": {
       "config": {
        "plotlyServerURL": "https://plot.ly"
       },
       "data": [
        {
         "marker": {
          "color": "blue",
          "opacity": 0.5,
          "size": 8,
          "symbol": "circle"
         },
         "mode": "markers",
         "name": "ManualGain vs. AutoGain",
         "type": "scatter",
         "x": [
          0.912073222,
          0.9136153,
          0.946453363,
          0.930324124,
          1.024160204,
          0.860239838,
          0.964705222,
          0.926124391,
          0.968894501,
          0.971483673,
          0.944374367,
          0.933778991,
          0.890761283,
          0.988453628,
          0.875559126,
          0.895827128,
          1.016499658,
          0.942578402,
          0.693867928,
          0.966204026,
          0.911917526,
          0.88059683,
          0.787612966,
          1.002030367,
          0.723829141,
          0.977503904,
          0.98850198,
          1.028937991,
          0.866446545,
          0.923159411,
          1.042949957,
          0.954852019,
          0.983681259,
          0.831394353,
          0.969027024,
          0.819025317,
          1.594417873,
          0.827558755,
          0.882328238,
          0.900686808,
          0.888806663,
          0.890709987,
          1.011322545,
          0.860332024,
          0.978209757,
          0.898244125,
          0.79226521,
          0.86763214,
          0.896471445,
          0.887954823,
          0.851255832,
          0.90557114,
          0.839308532,
          0.944624518,
          0.936063494,
          0.91976169,
          0.857703025,
          0.973218178,
          0.936570807,
          0.95565309,
          0.943385867,
          1.018644673,
          0.897711899,
          0.843732835,
          0.898378885,
          0.983049632,
          0.88665677,
          0.730420733,
          0.912263537,
          0.844406181,
          0.76510247,
          0.708851801,
          1.013060953,
          0.709259156,
          0.766172025,
          1.054705839,
          0.991729167,
          0.86271223,
          0.921219896,
          0.882514199,
          0.900439093,
          1.020268699,
          0.852845557,
          0.662387044,
          1.026911899,
          0.9299805,
          0.795054975,
          0.915409616,
          0.77689629,
          0.936562782,
          0.842049578,
          0.84786327,
          0.762131388,
          1.008797904,
          0.717623686,
          0.69902342,
          0.860669706,
          0.972858133,
          0.842657429,
          0.927453825,
          0.860997989,
          0.82628446,
          0.907866303,
          0.886319853,
          0.879363614,
          0.945246227,
          0.865730996,
          0.949044696,
          0.927054434,
          0.907460104,
          0.768451296,
          0.824017605,
          0.811562703,
          0.864465361,
          1.018469625,
          0.835846561,
          0.701047864,
          0.889725099,
          0.860892919,
          0.842337432,
          0.603231184,
          1.11633862,
          0.837634157,
          0.872113846,
          1.006655281,
          0.867235325,
          0.864534497,
          0.911235509,
          0.863969644,
          0.810695263,
          0.871698328,
          0.665919935,
          0.531701684,
          0.804825843,
          0.849537458,
          0.843883704,
          0.69678833,
          0.783769251,
          0.87821069,
          0.712485419,
          0.82906287,
          0.792533492,
          0.96919708,
          0.564497325,
          0.566934463,
          0.745104906,
          0.955859208,
          0.795081992,
          0.810824946,
          0.776092811,
          0.667632973,
          0.87556368,
          0.832291613,
          0.896167466,
          0.838934215,
          0.919519996,
          0.931875303,
          0.881653294,
          0.866711107,
          0.950478365,
          0.837782552,
          0.790184316,
          0.773900113,
          1.07422539,
          0.838624874,
          0.65456717,
          0.895222489,
          0.854136383,
          0.724005492,
          0.559365857,
          1.045320355,
          0.742815067,
          0.717658563,
          0.988182766,
          0.892810205,
          0.802579385,
          0.872242689,
          0.708138512,
          0.875686044,
          0.857818638,
          0.621973743,
          0.682965128,
          0.745383783,
          0.90491956,
          0.973499277,
          0.79022132,
          0.797564375,
          0.968962788,
          0.639960352,
          0.793820437,
          0.674619969,
          0.921646985,
          0.508275304,
          0.454613572,
          0.761053356,
          0.856514396,
          0.73848261,
          0.986636423,
          0.745501748,
          0.7579907,
          0.909797906,
          0.78105301,
          0.858659788,
          0.85951671,
          0.885411917,
          0.828367438,
          0.911980105,
          0.863014297,
          0.708399551,
          0.857059114,
          0.789595449,
          0.894818095,
          1.062361214,
          0.811056814,
          0.768461692,
          0.889365304,
          0.732299908,
          0.80410417,
          0.614253632,
          1.086722755,
          0.768287138,
          0.624113864,
          0.874898474,
          0.777961479,
          0.877308815,
          0.799197517,
          0.730673411,
          0.840238835,
          0.743815855,
          0.634293751,
          0.529398709,
          0.750469831,
          0.74858958,
          0.881237282,
          0.750773553,
          0.789284873,
          0.972603229,
          0.684932294,
          0.795542508,
          0.653688664,
          0.909587046,
          0.570216915,
          0.470689666,
          0.816745486,
          0.796820748
         ],
         "y": [
          -0.013865885514376841,
          0.010881536448089979,
          -0.03925550942949896,
          -0.13423289201615796,
          0.07261843991827799,
          -0.07501578789418373,
          0.0245551296362988,
          -0.03548931791505561,
          0.0901325818627371,
          0.010182710771796,
          -0.023710876067634,
          -0.04680246056037762,
          0.020341667885912518,
          0.24670036888673208,
          -0.1405065129509988,
          0.02374249746684398,
          0.11761781228625723,
          -0.020698040017618435,
          -0.2510526549797585,
          0.2011310183333319,
          0.05260813702837519,
          -0.06693992933578397,
          -0.14271917294524106,
          0.3473670203357506,
          -0.13174606830278512,
          -0.11132559567872624,
          0.1707052582088212,
          0.06961575607731685,
          -0.022511986025449127,
          -0.051381979912952236,
          0.23507462754312825,
          -0.06334477092369384,
          0.0026893751385522746,
          -0.08192709819144439,
          -0.021008881598205797,
          -0.18999398150392166,
          -0.6221487665054066,
          0.12572678251334923,
          0.02684809052726078,
          -0.2746266333709263,
          -0.09067256655059042,
          0.10228453041193586,
          0.07440527286128451,
          -0.0870194650128,
          -0.041627299199923695,
          0.006629893887359795,
          -1.2130203507806838,
          -0.11151436621209798,
          -0.0058921509501642655,
          -0.0913795642635501,
          0.03647646902494117,
          0.10371175347245531,
          -0.05946012627049668,
          0.08380562218671994,
          -0.015193656219462559,
          -0.03755835343285885,
          -0.15634586630155822,
          -0.035821833400283554,
          0.04814360759938752,
          -0.41681312621621514,
          -0.0423608177481547,
          0.006929649914895419,
          -0.08074908606781794,
          -0.2093933914518673,
          0.041354123853083014,
          -0.07995417988183884,
          -0.12276079962484843,
          0.014353333780644628,
          0.15677017448954744,
          -0.01815932872001713,
          0.130025868062128,
          -0.049569677165266945,
          0.3190137240454214,
          -0.10148290673765714,
          0.020814042249097997,
          0.5342225579926297,
          0.00720689485608883,
          -0.06714178452337682,
          -0.06573396982643842,
          -0.03956608873164791,
          0.13581805554274762,
          0.18166442785485615,
          0.1881615704866606,
          -0.1791737049671368,
          0.5157971586244445,
          0.20438263963731085,
          -0.12247028335225218,
          -0.18383642350000828,
          -0.11080012884584045,
          -0.07765601927400811,
          -0.020342611938108823,
          0.08541524874926831,
          -0.2033001565527126,
          0.051286075703848355,
          -0.004334551414994725,
          -0.09007856931909208,
          -0.12024584013813899,
          0.09620796793927189,
          -0.025094165816853975,
          -0.023833051596454435,
          0.04328276545186038,
          0.00871742207209969,
          0.01736215543532671,
          -0.009099381582941102,
          -0.05546655918730281,
          0.14432191093990632,
          -0.03701239891647079,
          -0.04390714987672528,
          -0.019450201754981578,
          0.031514856330345675,
          -0.11966173759562326,
          0.027352867040470907,
          -0.18756201505633863,
          -0.10393310195868355,
          0.026113428599112476,
          -0.0020946550772001915,
          -0.21553467811758842,
          0.043447551950219876,
          -0.012419965420311319,
          -0.04421132011456652,
          -0.18933264820981677,
          0.45735414942980035,
          -0.12839428660847085,
          0.10210469707472458,
          0.08474197123198102,
          -0.12444273273621198,
          0.18165849003523205,
          -0.06663459424437557,
          -0.09461398580396563,
          -0.014919716227709157,
          -0.05835630164278238,
          -0.25525664051291297,
          -0.27507795478094854,
          -0.039999244965358116,
          -0.12439583688891243,
          -0.02933482859967662,
          -0.29445070958722463,
          0.040865991902226395,
          0.04126165424124062,
          -0.03836370947692591,
          -0.03699276149148112,
          -0.1431371245410108,
          0.155076395815126,
          -0.2954767121032498,
          -0.37274069059549253,
          -0.14603778759988428,
          -0.042505332844983146,
          -0.11438739419861288,
          0.12944516629316538,
          -0.09488805648286347,
          0.07731106330204207,
          0.12788962194231468,
          0.07490950857342815,
          0.054219749931814665,
          0.014036799364025021,
          0.11369638015996641,
          0.04476875241650513,
          0.24048488097149423,
          0.4732888056951366,
          0.15957084490054674,
          -0.016660038144429512,
          -0.11311341317214751,
          -0.02727466254184463,
          0.30859312611367806,
          0.10734945759940384,
          -0.24072073854073484,
          0.4832480013941099,
          0.11574887307421433,
          0.03750604903719135,
          -0.2302091145708942,
          0.4455326253004529,
          -0.09493961024088216,
          0.012576623210398652,
          0.17901362117765918,
          -0.0233815121903308,
          0.12493250282533763,
          0.08787080241635181,
          0.023729280648058015,
          0.21711887187848755,
          0.3352817889866635,
          -0.0015784234900384497,
          0.0022510311449456255,
          -0.0804694395016865,
          0.043106924358823795,
          0.10010515283883692,
          0.03147248466111363,
          -0.0008893126591869027,
          0.35259626080850004,
          -0.0902190627088264,
          -0.13643243184822973,
          -0.05211979480226381,
          0.35925215326923066,
          -0.19730530161689652,
          -0.14138724988360724,
          0.05019760859125566,
          0.3867212968419726,
          -0.2179677339499444,
          0.986636423,
          0.5817980442962963,
          0.4610430255813954,
          0.7267055560080867,
          -0.28823371316384205,
          0.3943875436440903,
          0.4669850644303797,
          0.885411917,
          -0.349132562,
          0.23793035375621896,
          0.3287727239662922,
          0.1888217242745962,
          0.5884548316843776,
          0.19738090019705345,
          0.22644529597146323,
          0.9271070211278827,
          0.44727782849275366,
          -0.34827667891791103,
          -0.6011902515555556,
          0.2032136506900586,
          -0.5308133700113742,
          -0.6643857526567736,
          -0.15471221692891213,
          -0.45890335889409917,
          -0.6034773018962506,
          0.5651404616235338,
          -0.5250258732619897,
          0.03012387703293906,
          -0.5608824433362972,
          -0.3778748417754282,
          0.25052297618572417,
          -0.6914649218758593,
          -0.27620717482620105,
          -0.4007349358981266,
          -0.46635074032285995,
          -0.12289729021810647,
          -0.49881966560820035,
          -0.14697835256131697,
          -0.6512050533335408,
          -0.13937850760179726,
          -0.1223105387542146,
          -0.5105818031062448,
          -0.6691872619820717,
          -0.23676551810256385,
          -0.13820703998617867,
          -0.8685457220161101,
          0.0009562711998319928,
          -0.1331339267880296
         ]
        },
        {
         "line": {
          "color": "red",
          "dash": "dash",
          "width": 2
         },
         "mode": "lines",
         "name": "Mean difference (-0.01)",
         "type": "scatter",
         "x": [
          0.454613572,
          1.594417873
         ],
         "y": [
          -0.014626777772057675,
          -0.014626777772057675
         ]
        },
        {
         "line": {
          "color": "green",
          "dash": "dash",
          "width": 2
         },
         "mode": "lines",
         "name": "Upper limit of agreement (0.52)",
         "type": "scatter",
         "x": [
          0.454613572,
          1.594417873
         ],
         "y": [
          0.517247105525801,
          0.517247105525801
         ]
        },
        {
         "line": {
          "color": "green",
          "dash": "dash",
          "width": 2
         },
         "mode": "lines",
         "name": "Lower limit of agreement (-0.55)",
         "type": "scatter",
         "x": [
          0.454613572,
          1.594417873
         ],
         "y": [
          -0.5465006610699163,
          -0.5465006610699163
         ]
        }
       ],
       "layout": {
        "legend": {
         "bordercolor": "black",
         "borderwidth": 1,
         "font": {
          "size": 10
         },
         "x": 0.02,
         "y": 0.02
        },
        "showlegend": true,
        "template": {
         "data": {
          "bar": [
           {
            "error_x": {
             "color": "#2a3f5f"
            },
            "error_y": {
             "color": "#2a3f5f"
            },
            "marker": {
             "line": {
              "color": "#E5ECF6",
              "width": 0.5
             },
             "pattern": {
              "fillmode": "overlay",
              "size": 10,
              "solidity": 0.2
             }
            },
            "type": "bar"
           }
          ],
          "barpolar": [
           {
            "marker": {
             "line": {
              "color": "#E5ECF6",
              "width": 0.5
             },
             "pattern": {
              "fillmode": "overlay",
              "size": 10,
              "solidity": 0.2
             }
            },
            "type": "barpolar"
           }
          ],
          "carpet": [
           {
            "aaxis": {
             "endlinecolor": "#2a3f5f",
             "gridcolor": "white",
             "linecolor": "white",
             "minorgridcolor": "white",
             "startlinecolor": "#2a3f5f"
            },
            "baxis": {
             "endlinecolor": "#2a3f5f",
             "gridcolor": "white",
             "linecolor": "white",
             "minorgridcolor": "white",
             "startlinecolor": "#2a3f5f"
            },
            "type": "carpet"
           }
          ],
          "choropleth": [
           {
            "colorbar": {
             "outlinewidth": 0,
             "ticks": ""
            },
            "type": "choropleth"
           }
          ],
          "contour": [
           {
            "colorbar": {
             "outlinewidth": 0,
             "ticks": ""
            },
            "colorscale": [
             [
              0,
              "#0d0887"
             ],
             [
              0.1111111111111111,
              "#46039f"
             ],
             [
              0.2222222222222222,
              "#7201a8"
             ],
             [
              0.3333333333333333,
              "#9c179e"
             ],
             [
              0.4444444444444444,
              "#bd3786"
             ],
             [
              0.5555555555555556,
              "#d8576b"
             ],
             [
              0.6666666666666666,
              "#ed7953"
             ],
             [
              0.7777777777777778,
              "#fb9f3a"
             ],
             [
              0.8888888888888888,
              "#fdca26"
             ],
             [
              1,
              "#f0f921"
             ]
            ],
            "type": "contour"
           }
          ],
          "contourcarpet": [
           {
            "colorbar": {
             "outlinewidth": 0,
             "ticks": ""
            },
            "type": "contourcarpet"
           }
          ],
          "heatmap": [
           {
            "colorbar": {
             "outlinewidth": 0,
             "ticks": ""
            },
            "colorscale": [
             [
              0,
              "#0d0887"
             ],
             [
              0.1111111111111111,
              "#46039f"
             ],
             [
              0.2222222222222222,
              "#7201a8"
             ],
             [
              0.3333333333333333,
              "#9c179e"
             ],
             [
              0.4444444444444444,
              "#bd3786"
             ],
             [
              0.5555555555555556,
              "#d8576b"
             ],
             [
              0.6666666666666666,
              "#ed7953"
             ],
             [
              0.7777777777777778,
              "#fb9f3a"
             ],
             [
              0.8888888888888888,
              "#fdca26"
             ],
             [
              1,
              "#f0f921"
             ]
            ],
            "type": "heatmap"
           }
          ],
          "heatmapgl": [
           {
            "colorbar": {
             "outlinewidth": 0,
             "ticks": ""
            },
            "colorscale": [
             [
              0,
              "#0d0887"
             ],
             [
              0.1111111111111111,
              "#46039f"
             ],
             [
              0.2222222222222222,
              "#7201a8"
             ],
             [
              0.3333333333333333,
              "#9c179e"
             ],
             [
              0.4444444444444444,
              "#bd3786"
             ],
             [
              0.5555555555555556,
              "#d8576b"
             ],
             [
              0.6666666666666666,
              "#ed7953"
             ],
             [
              0.7777777777777778,
              "#fb9f3a"
             ],
             [
              0.8888888888888888,
              "#fdca26"
             ],
             [
              1,
              "#f0f921"
             ]
            ],
            "type": "heatmapgl"
           }
          ],
          "histogram": [
           {
            "marker": {
             "pattern": {
              "fillmode": "overlay",
              "size": 10,
              "solidity": 0.2
             }
            },
            "type": "histogram"
           }
          ],
          "histogram2d": [
           {
            "colorbar": {
             "outlinewidth": 0,
             "ticks": ""
            },
            "colorscale": [
             [
              0,
              "#0d0887"
             ],
             [
              0.1111111111111111,
              "#46039f"
             ],
             [
              0.2222222222222222,
              "#7201a8"
             ],
             [
              0.3333333333333333,
              "#9c179e"
             ],
             [
              0.4444444444444444,
              "#bd3786"
             ],
             [
              0.5555555555555556,
              "#d8576b"
             ],
             [
              0.6666666666666666,
              "#ed7953"
             ],
             [
              0.7777777777777778,
              "#fb9f3a"
             ],
             [
              0.8888888888888888,
              "#fdca26"
             ],
             [
              1,
              "#f0f921"
             ]
            ],
            "type": "histogram2d"
           }
          ],
          "histogram2dcontour": [
           {
            "colorbar": {
             "outlinewidth": 0,
             "ticks": ""
            },
            "colorscale": [
             [
              0,
              "#0d0887"
             ],
             [
              0.1111111111111111,
              "#46039f"
             ],
             [
              0.2222222222222222,
              "#7201a8"
             ],
             [
              0.3333333333333333,
              "#9c179e"
             ],
             [
              0.4444444444444444,
              "#bd3786"
             ],
             [
              0.5555555555555556,
              "#d8576b"
             ],
             [
              0.6666666666666666,
              "#ed7953"
             ],
             [
              0.7777777777777778,
              "#fb9f3a"
             ],
             [
              0.8888888888888888,
              "#fdca26"
             ],
             [
              1,
              "#f0f921"
             ]
            ],
            "type": "histogram2dcontour"
           }
          ],
          "mesh3d": [
           {
            "colorbar": {
             "outlinewidth": 0,
             "ticks": ""
            },
            "type": "mesh3d"
           }
          ],
          "parcoords": [
           {
            "line": {
             "colorbar": {
              "outlinewidth": 0,
              "ticks": ""
             }
            },
            "type": "parcoords"
           }
          ],
          "pie": [
           {
            "automargin": true,
            "type": "pie"
           }
          ],
          "scatter": [
           {
            "marker": {
             "colorbar": {
              "outlinewidth": 0,
              "ticks": ""
             }
            },
            "type": "scatter"
           }
          ],
          "scatter3d": [
           {
            "line": {
             "colorbar": {
              "outlinewidth": 0,
              "ticks": ""
             }
            },
            "marker": {
             "colorbar": {
              "outlinewidth": 0,
              "ticks": ""
             }
            },
            "type": "scatter3d"
           }
          ],
          "scattercarpet": [
           {
            "marker": {
             "colorbar": {
              "outlinewidth": 0,
              "ticks": ""
             }
            },
            "type": "scattercarpet"
           }
          ],
          "scattergeo": [
           {
            "marker": {
             "colorbar": {
              "outlinewidth": 0,
              "ticks": ""
             }
            },
            "type": "scattergeo"
           }
          ],
          "scattergl": [
           {
            "marker": {
             "colorbar": {
              "outlinewidth": 0,
              "ticks": ""
             }
            },
            "type": "scattergl"
           }
          ],
          "scattermapbox": [
           {
            "marker": {
             "colorbar": {
              "outlinewidth": 0,
              "ticks": ""
             }
            },
            "type": "scattermapbox"
           }
          ],
          "scatterpolar": [
           {
            "marker": {
             "colorbar": {
              "outlinewidth": 0,
              "ticks": ""
             }
            },
            "type": "scatterpolar"
           }
          ],
          "scatterpolargl": [
           {
            "marker": {
             "colorbar": {
              "outlinewidth": 0,
              "ticks": ""
             }
            },
            "type": "scatterpolargl"
           }
          ],
          "scatterternary": [
           {
            "marker": {
             "colorbar": {
              "outlinewidth": 0,
              "ticks": ""
             }
            },
            "type": "scatterternary"
           }
          ],
          "surface": [
           {
            "colorbar": {
             "outlinewidth": 0,
             "ticks": ""
            },
            "colorscale": [
             [
              0,
              "#0d0887"
             ],
             [
              0.1111111111111111,
              "#46039f"
             ],
             [
              0.2222222222222222,
              "#7201a8"
             ],
             [
              0.3333333333333333,
              "#9c179e"
             ],
             [
              0.4444444444444444,
              "#bd3786"
             ],
             [
              0.5555555555555556,
              "#d8576b"
             ],
             [
              0.6666666666666666,
              "#ed7953"
             ],
             [
              0.7777777777777778,
              "#fb9f3a"
             ],
             [
              0.8888888888888888,
              "#fdca26"
             ],
             [
              1,
              "#f0f921"
             ]
            ],
            "type": "surface"
           }
          ],
          "table": [
           {
            "cells": {
             "fill": {
              "color": "#EBF0F8"
             },
             "line": {
              "color": "white"
             }
            },
            "header": {
             "fill": {
              "color": "#C8D4E3"
             },
             "line": {
              "color": "white"
             }
            },
            "type": "table"
           }
          ]
         },
         "layout": {
          "annotationdefaults": {
           "arrowcolor": "#2a3f5f",
           "arrowhead": 0,
           "arrowwidth": 1
          },
          "autotypenumbers": "strict",
          "coloraxis": {
           "colorbar": {
            "outlinewidth": 0,
            "ticks": ""
           }
          },
          "colorscale": {
           "diverging": [
            [
             0,
             "#8e0152"
            ],
            [
             0.1,
             "#c51b7d"
            ],
            [
             0.2,
             "#de77ae"
            ],
            [
             0.3,
             "#f1b6da"
            ],
            [
             0.4,
             "#fde0ef"
            ],
            [
             0.5,
             "#f7f7f7"
            ],
            [
             0.6,
             "#e6f5d0"
            ],
            [
             0.7,
             "#b8e186"
            ],
            [
             0.8,
             "#7fbc41"
            ],
            [
             0.9,
             "#4d9221"
            ],
            [
             1,
             "#276419"
            ]
           ],
           "sequential": [
            [
             0,
             "#0d0887"
            ],
            [
             0.1111111111111111,
             "#46039f"
            ],
            [
             0.2222222222222222,
             "#7201a8"
            ],
            [
             0.3333333333333333,
             "#9c179e"
            ],
            [
             0.4444444444444444,
             "#bd3786"
            ],
            [
             0.5555555555555556,
             "#d8576b"
            ],
            [
             0.6666666666666666,
             "#ed7953"
            ],
            [
             0.7777777777777778,
             "#fb9f3a"
            ],
            [
             0.8888888888888888,
             "#fdca26"
            ],
            [
             1,
             "#f0f921"
            ]
           ],
           "sequentialminus": [
            [
             0,
             "#0d0887"
            ],
            [
             0.1111111111111111,
             "#46039f"
            ],
            [
             0.2222222222222222,
             "#7201a8"
            ],
            [
             0.3333333333333333,
             "#9c179e"
            ],
            [
             0.4444444444444444,
             "#bd3786"
            ],
            [
             0.5555555555555556,
             "#d8576b"
            ],
            [
             0.6666666666666666,
             "#ed7953"
            ],
            [
             0.7777777777777778,
             "#fb9f3a"
            ],
            [
             0.8888888888888888,
             "#fdca26"
            ],
            [
             1,
             "#f0f921"
            ]
           ]
          },
          "colorway": [
           "#636efa",
           "#EF553B",
           "#00cc96",
           "#ab63fa",
           "#FFA15A",
           "#19d3f3",
           "#FF6692",
           "#B6E880",
           "#FF97FF",
           "#FECB52"
          ],
          "font": {
           "color": "#2a3f5f"
          },
          "geo": {
           "bgcolor": "white",
           "lakecolor": "white",
           "landcolor": "#E5ECF6",
           "showlakes": true,
           "showland": true,
           "subunitcolor": "white"
          },
          "hoverlabel": {
           "align": "left"
          },
          "hovermode": "closest",
          "mapbox": {
           "style": "light"
          },
          "paper_bgcolor": "white",
          "plot_bgcolor": "#E5ECF6",
          "polar": {
           "angularaxis": {
            "gridcolor": "white",
            "linecolor": "white",
            "ticks": ""
           },
           "bgcolor": "#E5ECF6",
           "radialaxis": {
            "gridcolor": "white",
            "linecolor": "white",
            "ticks": ""
           }
          },
          "scene": {
           "xaxis": {
            "backgroundcolor": "#E5ECF6",
            "gridcolor": "white",
            "gridwidth": 2,
            "linecolor": "white",
            "showbackground": true,
            "ticks": "",
            "zerolinecolor": "white"
           },
           "yaxis": {
            "backgroundcolor": "#E5ECF6",
            "gridcolor": "white",
            "gridwidth": 2,
            "linecolor": "white",
            "showbackground": true,
            "ticks": "",
            "zerolinecolor": "white"
           },
           "zaxis": {
            "backgroundcolor": "#E5ECF6",
            "gridcolor": "white",
            "gridwidth": 2,
            "linecolor": "white",
            "showbackground": true,
            "ticks": "",
            "zerolinecolor": "white"
           }
          },
          "shapedefaults": {
           "line": {
            "color": "#2a3f5f"
           }
          },
          "ternary": {
           "aaxis": {
            "gridcolor": "white",
            "linecolor": "white",
            "ticks": ""
           },
           "baxis": {
            "gridcolor": "white",
            "linecolor": "white",
            "ticks": ""
           },
           "bgcolor": "#E5ECF6",
           "caxis": {
            "gridcolor": "white",
            "linecolor": "white",
            "ticks": ""
           }
          },
          "title": {
           "x": 0.05
          },
          "xaxis": {
           "automargin": true,
           "gridcolor": "white",
           "linecolor": "white",
           "ticks": "",
           "title": {
            "standoff": 15
           },
           "zerolinecolor": "white",
           "zerolinewidth": 2
          },
          "yaxis": {
           "automargin": true,
           "gridcolor": "white",
           "linecolor": "white",
           "ticks": "",
           "title": {
            "standoff": 15
           },
           "zerolinecolor": "white",
           "zerolinewidth": 2
          }
         }
        },
        "title": {
         "text": "Bland-Altman Plot"
        },
        "xaxis": {
         "title": {
          "text": "ManualGain"
         }
        },
        "yaxis": {
         "title": {
          "text": "Difference (ManualGain - AutoGain)"
         }
        }
       }
      }
     },
     "metadata": {},
     "output_type": "display_data"
    }
   ],
   "source": [
    "import plotly.graph_objects as go\n",
    "import pandas as pd\n",
    "import numpy as np\n",
    "\n",
    "# Calculate the mean difference and limits of agreement\n",
    "mean_diff = AllSpeed['ManualGain'].mean() - AllSpeed['AutoGain'].mean()\n",
    "std_diff = np.std(AllSpeed['ManualGain'] - AllSpeed['AutoGain'])\n",
    "loa_upper = mean_diff + 1.96 * std_diff\n",
    "loa_lower = mean_diff - 1.96 * std_diff\n",
    "\n",
    "# Create the Bland-Altman plot\n",
    "fig = go.Figure()\n",
    "\n",
    "fig.add_trace(go.Scatter(\n",
    "    x=AllSpeed['ManualGain'],\n",
    "    y=(AllSpeed['ManualGain'] - AllSpeed['AutoGain']),\n",
    "    mode='markers',\n",
    "    marker=dict(\n",
    "        size=8,\n",
    "        color='blue',\n",
    "        symbol='circle',\n",
    "        opacity=0.5\n",
    "    ),\n",
    "    name='ManualGain vs. AutoGain'\n",
    "))\n",
    "\n",
    "fig.add_trace(go.Scatter(\n",
    "    x=[AllSpeed['ManualGain'].min(), AllSpeed['ManualGain'].max()],\n",
    "    y=[mean_diff, mean_diff],\n",
    "    mode='lines',\n",
    "    line=dict(\n",
    "        color='red',\n",
    "        width=2,\n",
    "        dash='dash'\n",
    "    ),\n",
    "    name=f'Mean difference ({mean_diff:.2f})'\n",
    "))\n",
    "\n",
    "fig.add_trace(go.Scatter(\n",
    "    x=[AllSpeed['ManualGain'].min(), AllSpeed['ManualGain'].max()],\n",
    "    y=[loa_upper, loa_upper],\n",
    "    mode='lines',\n",
    "    line=dict(\n",
    "        color='green',\n",
    "        width=2,\n",
    "        dash='dash'\n",
    "    ),\n",
    "    name=f'Upper limit of agreement ({loa_upper:.2f})'\n",
    "))\n",
    "\n",
    "fig.add_trace(go.Scatter(\n",
    "    x=[AllSpeed['ManualGain'].min(), AllSpeed['ManualGain'].max()],\n",
    "    y=[loa_lower, loa_lower],\n",
    "    mode='lines',\n",
    "    line=dict(\n",
    "        color='green',\n",
    "        width=2,\n",
    "        dash='dash'\n",
    "    ),\n",
    "    name=f'Lower limit of agreement ({loa_lower:.2f})'\n",
    "))\n",
    "\n",
    "fig.update_layout(\n",
    "    title='Bland-Altman Plot',\n",
    "    xaxis_title='ManualGain',\n",
    "    yaxis_title='Difference (ManualGain - AutoGain)',\n",
    "    showlegend=True,\n",
    "    legend=dict(\n",
    "        x=0.02,\n",
    "        y=0.02,\n",
    "        font=dict(size=10),\n",
    "        bordercolor='black',\n",
    "        borderwidth=1\n",
    "    )\n",
    ")\n",
    "\n",
    "fig.show()"
   ]
  },
  {
   "cell_type": "code",
   "execution_count": 139,
   "metadata": {},
   "outputs": [
    {
     "data": {
      "application/vnd.plotly.v1+json": {
       "config": {
        "plotlyServerURL": "https://plot.ly"
       },
       "data": [
        {
         "marker": {
          "color": "blue",
          "opacity": 0.5,
          "size": 8,
          "symbol": "circle"
         },
         "mode": "markers",
         "name": "ManualGain vs. AutoGain",
         "type": "scatter",
         "x": [
          0.912073222,
          0.9136153,
          0.946453363,
          0.930324124,
          1.024160204,
          0.860239838,
          0.964705222,
          0.926124391,
          0.968894501,
          0.971483673,
          0.944374367,
          0.933778991,
          0.890761283,
          0.988453628,
          0.875559126,
          0.895827128,
          1.016499658,
          0.942578402,
          0.693867928,
          0.966204026,
          0.911917526,
          0.88059683,
          0.787612966,
          1.002030367,
          0.723829141,
          0.977503904,
          0.98850198,
          1.028937991,
          0.866446545,
          0.923159411,
          1.042949957,
          0.954852019,
          0.983681259,
          0.831394353,
          0.969027024,
          0.819025317,
          1.594417873,
          0.827558755,
          0.882328238,
          0.900686808,
          0.888806663,
          0.890709987,
          1.011322545,
          0.860332024,
          0.978209757,
          0.898244125,
          0.79226521,
          0.86763214,
          0.896471445,
          0.887954823,
          0.851255832,
          0.90557114,
          0.839308532,
          0.944624518,
          0.936063494,
          0.91976169,
          0.857703025,
          0.973218178,
          0.936570807,
          0.95565309,
          0.943385867,
          1.018644673,
          0.897711899,
          0.843732835,
          0.898378885,
          0.983049632,
          0.88665677,
          0.730420733,
          0.912263537,
          0.844406181,
          0.76510247,
          0.708851801,
          1.013060953,
          0.709259156,
          0.766172025,
          1.054705839,
          0.991729167,
          0.86271223,
          0.921219896,
          0.882514199,
          0.900439093,
          1.020268699,
          0.852845557,
          0.662387044,
          1.026911899,
          0.9299805,
          0.795054975,
          0.915409616,
          0.77689629,
          0.936562782,
          0.842049578,
          0.84786327,
          0.762131388,
          1.008797904,
          0.717623686,
          0.69902342,
          0.860669706,
          0.972858133,
          0.842657429,
          0.927453825,
          0.860997989,
          0.82628446,
          0.907866303,
          0.886319853,
          0.879363614,
          0.945246227,
          0.865730996,
          0.949044696,
          0.927054434,
          0.907460104,
          0.768451296,
          0.824017605,
          0.811562703,
          0.864465361,
          1.018469625,
          0.835846561,
          0.701047864,
          0.889725099,
          0.860892919,
          0.842337432,
          0.603231184,
          1.11633862,
          0.837634157,
          0.872113846,
          1.006655281,
          0.867235325,
          0.864534497,
          0.911235509,
          0.863969644,
          0.810695263,
          0.871698328,
          0.665919935,
          0.531701684,
          0.804825843,
          0.849537458,
          0.843883704,
          0.69678833,
          0.783769251,
          0.87821069,
          0.712485419,
          0.82906287,
          0.792533492,
          0.96919708,
          0.564497325,
          0.566934463,
          0.745104906,
          0.955859208,
          0.795081992,
          0.810824946,
          0.776092811,
          0.667632973,
          0.87556368,
          0.832291613,
          0.896167466,
          0.838934215,
          0.919519996,
          0.931875303,
          0.881653294,
          0.866711107,
          0.950478365,
          0.837782552,
          0.790184316,
          0.773900113,
          1.07422539,
          0.838624874,
          0.65456717,
          0.895222489,
          0.854136383,
          0.724005492,
          0.559365857,
          1.045320355,
          0.742815067,
          0.717658563,
          0.988182766,
          0.892810205,
          0.802579385,
          0.872242689,
          0.708138512,
          0.875686044,
          0.857818638,
          0.621973743,
          0.682965128,
          0.745383783,
          0.90491956,
          0.973499277,
          0.79022132,
          0.797564375,
          0.968962788,
          0.639960352,
          0.793820437,
          0.674619969,
          0.921646985,
          0.508275304,
          0.454613572,
          0.761053356,
          0.856514396,
          0.73848261,
          0.986636423,
          0.745501748,
          0.7579907,
          0.909797906,
          0.78105301,
          0.858659788,
          0.85951671,
          0.885411917,
          0.828367438,
          0.911980105,
          0.863014297,
          0.708399551,
          0.857059114,
          0.789595449,
          0.894818095,
          1.062361214,
          0.811056814,
          0.768461692,
          0.889365304,
          0.732299908,
          0.80410417,
          0.614253632,
          1.086722755,
          0.768287138,
          0.624113864,
          0.874898474,
          0.777961479,
          0.877308815,
          0.799197517,
          0.730673411,
          0.840238835,
          0.743815855,
          0.634293751,
          0.529398709,
          0.750469831,
          0.74858958,
          0.881237282,
          0.750773553,
          0.789284873,
          0.972603229,
          0.684932294,
          0.795542508,
          0.653688664,
          0.909587046,
          0.570216915,
          0.470689666,
          0.816745486,
          0.796820748
         ],
         "y": [
          -0.013865885514376841,
          0.010881536448089979,
          -0.03925550942949896,
          -0.13423289201615796,
          0.07261843991827799,
          -0.07501578789418373,
          0.0245551296362988,
          -0.03548931791505561,
          0.0901325818627371,
          0.010182710771796,
          -0.023710876067634,
          -0.04680246056037762,
          0.020341667885912518,
          0.24670036888673208,
          -0.1405065129509988,
          0.02374249746684398,
          0.11761781228625723,
          -0.020698040017618435,
          -0.2510526549797585,
          0.2011310183333319,
          0.05260813702837519,
          -0.06693992933578397,
          -0.14271917294524106,
          0.3473670203357506,
          -0.13174606830278512,
          -0.11132559567872624,
          0.1707052582088212,
          0.06961575607731685,
          -0.022511986025449127,
          -0.051381979912952236,
          0.23507462754312825,
          -0.06334477092369384,
          0.0026893751385522746,
          -0.08192709819144439,
          -0.021008881598205797,
          -0.18999398150392166,
          -0.6221487665054066,
          0.12572678251334923,
          0.02684809052726078,
          -0.2746266333709263,
          -0.09067256655059042,
          0.10228453041193586,
          0.07440527286128451,
          -0.0870194650128,
          -0.041627299199923695,
          0.006629893887359795,
          -1.2130203507806838,
          -0.11151436621209798,
          -0.0058921509501642655,
          -0.0913795642635501,
          0.03647646902494117,
          0.10371175347245531,
          -0.05946012627049668,
          0.08380562218671994,
          -0.015193656219462559,
          -0.03755835343285885,
          -0.15634586630155822,
          -0.035821833400283554,
          0.04814360759938752,
          -0.41681312621621514,
          -0.0423608177481547,
          0.006929649914895419,
          -0.08074908606781794,
          -0.2093933914518673,
          0.041354123853083014,
          -0.07995417988183884,
          -0.12276079962484843,
          0.014353333780644628,
          0.15677017448954744,
          -0.01815932872001713,
          0.130025868062128,
          -0.049569677165266945,
          0.3190137240454214,
          -0.10148290673765714,
          0.020814042249097997,
          0.5342225579926297,
          0.00720689485608883,
          -0.06714178452337682,
          -0.06573396982643842,
          -0.03956608873164791,
          0.13581805554274762,
          0.18166442785485615,
          0.1881615704866606,
          -0.1791737049671368,
          0.5157971586244445,
          0.20438263963731085,
          -0.12247028335225218,
          -0.18383642350000828,
          -0.11080012884584045,
          -0.07765601927400811,
          -0.020342611938108823,
          0.08541524874926831,
          -0.2033001565527126,
          0.051286075703848355,
          -0.004334551414994725,
          -0.09007856931909208,
          -0.12024584013813899,
          0.09620796793927189,
          -0.025094165816853975,
          -0.023833051596454435,
          0.04328276545186038,
          0.00871742207209969,
          0.01736215543532671,
          -0.009099381582941102,
          -0.05546655918730281,
          0.14432191093990632,
          -0.03701239891647079,
          -0.04390714987672528,
          -0.019450201754981578,
          0.031514856330345675,
          -0.11966173759562326,
          0.027352867040470907,
          -0.18756201505633863,
          -0.10393310195868355,
          0.026113428599112476,
          -0.0020946550772001915,
          -0.21553467811758842,
          0.043447551950219876,
          -0.012419965420311319,
          -0.04421132011456652,
          -0.18933264820981677,
          0.45735414942980035,
          -0.12839428660847085,
          0.10210469707472458,
          0.08474197123198102,
          -0.12444273273621198,
          0.18165849003523205,
          -0.06663459424437557,
          -0.09461398580396563,
          -0.014919716227709157,
          -0.05835630164278238,
          -0.25525664051291297,
          -0.27507795478094854,
          -0.039999244965358116,
          -0.12439583688891243,
          -0.02933482859967662,
          -0.29445070958722463,
          0.040865991902226395,
          0.04126165424124062,
          -0.03836370947692591,
          -0.03699276149148112,
          -0.1431371245410108,
          0.155076395815126,
          -0.2954767121032498,
          -0.37274069059549253,
          -0.14603778759988428,
          -0.042505332844983146,
          -0.11438739419861288,
          0.12944516629316538,
          -0.09488805648286347,
          0.07731106330204207,
          0.12788962194231468,
          0.07490950857342815,
          0.054219749931814665,
          0.014036799364025021,
          0.11369638015996641,
          0.04476875241650513,
          0.24048488097149423,
          0.4732888056951366,
          0.15957084490054674,
          -0.016660038144429512,
          -0.11311341317214751,
          -0.02727466254184463,
          0.30859312611367806,
          0.10734945759940384,
          -0.24072073854073484,
          0.4832480013941099,
          0.11574887307421433,
          0.03750604903719135,
          -0.2302091145708942,
          0.4455326253004529,
          -0.09493961024088216,
          0.012576623210398652,
          0.17901362117765918,
          -0.0233815121903308,
          0.12493250282533763,
          0.08787080241635181,
          0.023729280648058015,
          0.21711887187848755,
          0.3352817889866635,
          -0.0015784234900384497,
          0.0022510311449456255,
          -0.0804694395016865,
          0.043106924358823795,
          0.10010515283883692,
          0.03147248466111363,
          -0.0008893126591869027,
          0.35259626080850004,
          -0.0902190627088264,
          -0.13643243184822973,
          -0.05211979480226381,
          0.35925215326923066,
          -0.19730530161689652,
          -0.14138724988360724,
          0.05019760859125566,
          0.3867212968419726,
          0.36447681289855083,
          0.8334278572914344,
          0.3824848500719864,
          0.45411164030238343,
          0.13266129205640553,
          0.25521968680423346,
          0.03256917889040345,
          0.6359168948428837,
          0.03661723945532247,
          0.13544116621755087,
          0.5463842998403423,
          0.2382959871408452,
          0.10909773238076681,
          0.4667408909708438,
          0.13164403879605757,
          0.16807640322664774,
          0.5208464443327233,
          0.3401077796419922,
          -0.19769896866066072,
          0.37270408395642707,
          0.3792644765001995,
          0.2693777198656552,
          0.29486763490608486,
          0.3984759864278138,
          0.24795487756496193,
          0.19729335847215673,
          0.4685776325738068,
          -0.11638155436504694,
          0.5599287563061808,
          0.34921315282813586,
          0.44094179085431556,
          0.6213216607041214,
          0.42441745927807495,
          -0.38046056506905757,
          0.19583303554519477,
          0.2755811957776278,
          0.5512125171158863,
          0.39875782039619545,
          0.5534542913271656,
          0.5511114343243042,
          0.566647046640776,
          0.6251266925614821,
          0.17471363099465254,
          0.3262219311634865,
          0.24071396840980597,
          0.4050705678551776,
          0.17617794725000002,
          0.5802558494783526,
          0.517863689573
         ]
        },
        {
         "line": {
          "color": "red",
          "dash": "dash",
          "width": 2
         },
         "mode": "lines",
         "name": "Mean difference (0.06)",
         "type": "scatter",
         "x": [
          0.454613572,
          1.594417873
         ],
         "y": [
          0.06419439927645021,
          0.06419439927645021
         ]
        },
        {
         "line": {
          "color": "green",
          "dash": "dash",
          "width": 2
         },
         "mode": "lines",
         "name": "Upper limit of agreement (0.53)",
         "type": "scatter",
         "x": [
          0.454613572,
          1.594417873
         ],
         "y": [
          0.5267411460549295,
          0.5267411460549295
         ]
        },
        {
         "line": {
          "color": "green",
          "dash": "dash",
          "width": 2
         },
         "mode": "lines",
         "name": "Lower limit of agreement (-0.40)",
         "type": "scatter",
         "x": [
          0.454613572,
          1.594417873
         ],
         "y": [
          -0.3983523475020291,
          -0.3983523475020291
         ]
        }
       ],
       "layout": {
        "legend": {
         "bordercolor": "black",
         "borderwidth": 1,
         "font": {
          "size": 10
         },
         "x": 0.02,
         "y": 0.02
        },
        "showlegend": true,
        "template": {
         "data": {
          "bar": [
           {
            "error_x": {
             "color": "#2a3f5f"
            },
            "error_y": {
             "color": "#2a3f5f"
            },
            "marker": {
             "line": {
              "color": "#E5ECF6",
              "width": 0.5
             },
             "pattern": {
              "fillmode": "overlay",
              "size": 10,
              "solidity": 0.2
             }
            },
            "type": "bar"
           }
          ],
          "barpolar": [
           {
            "marker": {
             "line": {
              "color": "#E5ECF6",
              "width": 0.5
             },
             "pattern": {
              "fillmode": "overlay",
              "size": 10,
              "solidity": 0.2
             }
            },
            "type": "barpolar"
           }
          ],
          "carpet": [
           {
            "aaxis": {
             "endlinecolor": "#2a3f5f",
             "gridcolor": "white",
             "linecolor": "white",
             "minorgridcolor": "white",
             "startlinecolor": "#2a3f5f"
            },
            "baxis": {
             "endlinecolor": "#2a3f5f",
             "gridcolor": "white",
             "linecolor": "white",
             "minorgridcolor": "white",
             "startlinecolor": "#2a3f5f"
            },
            "type": "carpet"
           }
          ],
          "choropleth": [
           {
            "colorbar": {
             "outlinewidth": 0,
             "ticks": ""
            },
            "type": "choropleth"
           }
          ],
          "contour": [
           {
            "colorbar": {
             "outlinewidth": 0,
             "ticks": ""
            },
            "colorscale": [
             [
              0,
              "#0d0887"
             ],
             [
              0.1111111111111111,
              "#46039f"
             ],
             [
              0.2222222222222222,
              "#7201a8"
             ],
             [
              0.3333333333333333,
              "#9c179e"
             ],
             [
              0.4444444444444444,
              "#bd3786"
             ],
             [
              0.5555555555555556,
              "#d8576b"
             ],
             [
              0.6666666666666666,
              "#ed7953"
             ],
             [
              0.7777777777777778,
              "#fb9f3a"
             ],
             [
              0.8888888888888888,
              "#fdca26"
             ],
             [
              1,
              "#f0f921"
             ]
            ],
            "type": "contour"
           }
          ],
          "contourcarpet": [
           {
            "colorbar": {
             "outlinewidth": 0,
             "ticks": ""
            },
            "type": "contourcarpet"
           }
          ],
          "heatmap": [
           {
            "colorbar": {
             "outlinewidth": 0,
             "ticks": ""
            },
            "colorscale": [
             [
              0,
              "#0d0887"
             ],
             [
              0.1111111111111111,
              "#46039f"
             ],
             [
              0.2222222222222222,
              "#7201a8"
             ],
             [
              0.3333333333333333,
              "#9c179e"
             ],
             [
              0.4444444444444444,
              "#bd3786"
             ],
             [
              0.5555555555555556,
              "#d8576b"
             ],
             [
              0.6666666666666666,
              "#ed7953"
             ],
             [
              0.7777777777777778,
              "#fb9f3a"
             ],
             [
              0.8888888888888888,
              "#fdca26"
             ],
             [
              1,
              "#f0f921"
             ]
            ],
            "type": "heatmap"
           }
          ],
          "heatmapgl": [
           {
            "colorbar": {
             "outlinewidth": 0,
             "ticks": ""
            },
            "colorscale": [
             [
              0,
              "#0d0887"
             ],
             [
              0.1111111111111111,
              "#46039f"
             ],
             [
              0.2222222222222222,
              "#7201a8"
             ],
             [
              0.3333333333333333,
              "#9c179e"
             ],
             [
              0.4444444444444444,
              "#bd3786"
             ],
             [
              0.5555555555555556,
              "#d8576b"
             ],
             [
              0.6666666666666666,
              "#ed7953"
             ],
             [
              0.7777777777777778,
              "#fb9f3a"
             ],
             [
              0.8888888888888888,
              "#fdca26"
             ],
             [
              1,
              "#f0f921"
             ]
            ],
            "type": "heatmapgl"
           }
          ],
          "histogram": [
           {
            "marker": {
             "pattern": {
              "fillmode": "overlay",
              "size": 10,
              "solidity": 0.2
             }
            },
            "type": "histogram"
           }
          ],
          "histogram2d": [
           {
            "colorbar": {
             "outlinewidth": 0,
             "ticks": ""
            },
            "colorscale": [
             [
              0,
              "#0d0887"
             ],
             [
              0.1111111111111111,
              "#46039f"
             ],
             [
              0.2222222222222222,
              "#7201a8"
             ],
             [
              0.3333333333333333,
              "#9c179e"
             ],
             [
              0.4444444444444444,
              "#bd3786"
             ],
             [
              0.5555555555555556,
              "#d8576b"
             ],
             [
              0.6666666666666666,
              "#ed7953"
             ],
             [
              0.7777777777777778,
              "#fb9f3a"
             ],
             [
              0.8888888888888888,
              "#fdca26"
             ],
             [
              1,
              "#f0f921"
             ]
            ],
            "type": "histogram2d"
           }
          ],
          "histogram2dcontour": [
           {
            "colorbar": {
             "outlinewidth": 0,
             "ticks": ""
            },
            "colorscale": [
             [
              0,
              "#0d0887"
             ],
             [
              0.1111111111111111,
              "#46039f"
             ],
             [
              0.2222222222222222,
              "#7201a8"
             ],
             [
              0.3333333333333333,
              "#9c179e"
             ],
             [
              0.4444444444444444,
              "#bd3786"
             ],
             [
              0.5555555555555556,
              "#d8576b"
             ],
             [
              0.6666666666666666,
              "#ed7953"
             ],
             [
              0.7777777777777778,
              "#fb9f3a"
             ],
             [
              0.8888888888888888,
              "#fdca26"
             ],
             [
              1,
              "#f0f921"
             ]
            ],
            "type": "histogram2dcontour"
           }
          ],
          "mesh3d": [
           {
            "colorbar": {
             "outlinewidth": 0,
             "ticks": ""
            },
            "type": "mesh3d"
           }
          ],
          "parcoords": [
           {
            "line": {
             "colorbar": {
              "outlinewidth": 0,
              "ticks": ""
             }
            },
            "type": "parcoords"
           }
          ],
          "pie": [
           {
            "automargin": true,
            "type": "pie"
           }
          ],
          "scatter": [
           {
            "marker": {
             "colorbar": {
              "outlinewidth": 0,
              "ticks": ""
             }
            },
            "type": "scatter"
           }
          ],
          "scatter3d": [
           {
            "line": {
             "colorbar": {
              "outlinewidth": 0,
              "ticks": ""
             }
            },
            "marker": {
             "colorbar": {
              "outlinewidth": 0,
              "ticks": ""
             }
            },
            "type": "scatter3d"
           }
          ],
          "scattercarpet": [
           {
            "marker": {
             "colorbar": {
              "outlinewidth": 0,
              "ticks": ""
             }
            },
            "type": "scattercarpet"
           }
          ],
          "scattergeo": [
           {
            "marker": {
             "colorbar": {
              "outlinewidth": 0,
              "ticks": ""
             }
            },
            "type": "scattergeo"
           }
          ],
          "scattergl": [
           {
            "marker": {
             "colorbar": {
              "outlinewidth": 0,
              "ticks": ""
             }
            },
            "type": "scattergl"
           }
          ],
          "scattermapbox": [
           {
            "marker": {
             "colorbar": {
              "outlinewidth": 0,
              "ticks": ""
             }
            },
            "type": "scattermapbox"
           }
          ],
          "scatterpolar": [
           {
            "marker": {
             "colorbar": {
              "outlinewidth": 0,
              "ticks": ""
             }
            },
            "type": "scatterpolar"
           }
          ],
          "scatterpolargl": [
           {
            "marker": {
             "colorbar": {
              "outlinewidth": 0,
              "ticks": ""
             }
            },
            "type": "scatterpolargl"
           }
          ],
          "scatterternary": [
           {
            "marker": {
             "colorbar": {
              "outlinewidth": 0,
              "ticks": ""
             }
            },
            "type": "scatterternary"
           }
          ],
          "surface": [
           {
            "colorbar": {
             "outlinewidth": 0,
             "ticks": ""
            },
            "colorscale": [
             [
              0,
              "#0d0887"
             ],
             [
              0.1111111111111111,
              "#46039f"
             ],
             [
              0.2222222222222222,
              "#7201a8"
             ],
             [
              0.3333333333333333,
              "#9c179e"
             ],
             [
              0.4444444444444444,
              "#bd3786"
             ],
             [
              0.5555555555555556,
              "#d8576b"
             ],
             [
              0.6666666666666666,
              "#ed7953"
             ],
             [
              0.7777777777777778,
              "#fb9f3a"
             ],
             [
              0.8888888888888888,
              "#fdca26"
             ],
             [
              1,
              "#f0f921"
             ]
            ],
            "type": "surface"
           }
          ],
          "table": [
           {
            "cells": {
             "fill": {
              "color": "#EBF0F8"
             },
             "line": {
              "color": "white"
             }
            },
            "header": {
             "fill": {
              "color": "#C8D4E3"
             },
             "line": {
              "color": "white"
             }
            },
            "type": "table"
           }
          ]
         },
         "layout": {
          "annotationdefaults": {
           "arrowcolor": "#2a3f5f",
           "arrowhead": 0,
           "arrowwidth": 1
          },
          "autotypenumbers": "strict",
          "coloraxis": {
           "colorbar": {
            "outlinewidth": 0,
            "ticks": ""
           }
          },
          "colorscale": {
           "diverging": [
            [
             0,
             "#8e0152"
            ],
            [
             0.1,
             "#c51b7d"
            ],
            [
             0.2,
             "#de77ae"
            ],
            [
             0.3,
             "#f1b6da"
            ],
            [
             0.4,
             "#fde0ef"
            ],
            [
             0.5,
             "#f7f7f7"
            ],
            [
             0.6,
             "#e6f5d0"
            ],
            [
             0.7,
             "#b8e186"
            ],
            [
             0.8,
             "#7fbc41"
            ],
            [
             0.9,
             "#4d9221"
            ],
            [
             1,
             "#276419"
            ]
           ],
           "sequential": [
            [
             0,
             "#0d0887"
            ],
            [
             0.1111111111111111,
             "#46039f"
            ],
            [
             0.2222222222222222,
             "#7201a8"
            ],
            [
             0.3333333333333333,
             "#9c179e"
            ],
            [
             0.4444444444444444,
             "#bd3786"
            ],
            [
             0.5555555555555556,
             "#d8576b"
            ],
            [
             0.6666666666666666,
             "#ed7953"
            ],
            [
             0.7777777777777778,
             "#fb9f3a"
            ],
            [
             0.8888888888888888,
             "#fdca26"
            ],
            [
             1,
             "#f0f921"
            ]
           ],
           "sequentialminus": [
            [
             0,
             "#0d0887"
            ],
            [
             0.1111111111111111,
             "#46039f"
            ],
            [
             0.2222222222222222,
             "#7201a8"
            ],
            [
             0.3333333333333333,
             "#9c179e"
            ],
            [
             0.4444444444444444,
             "#bd3786"
            ],
            [
             0.5555555555555556,
             "#d8576b"
            ],
            [
             0.6666666666666666,
             "#ed7953"
            ],
            [
             0.7777777777777778,
             "#fb9f3a"
            ],
            [
             0.8888888888888888,
             "#fdca26"
            ],
            [
             1,
             "#f0f921"
            ]
           ]
          },
          "colorway": [
           "#636efa",
           "#EF553B",
           "#00cc96",
           "#ab63fa",
           "#FFA15A",
           "#19d3f3",
           "#FF6692",
           "#B6E880",
           "#FF97FF",
           "#FECB52"
          ],
          "font": {
           "color": "#2a3f5f"
          },
          "geo": {
           "bgcolor": "white",
           "lakecolor": "white",
           "landcolor": "#E5ECF6",
           "showlakes": true,
           "showland": true,
           "subunitcolor": "white"
          },
          "hoverlabel": {
           "align": "left"
          },
          "hovermode": "closest",
          "mapbox": {
           "style": "light"
          },
          "paper_bgcolor": "white",
          "plot_bgcolor": "#E5ECF6",
          "polar": {
           "angularaxis": {
            "gridcolor": "white",
            "linecolor": "white",
            "ticks": ""
           },
           "bgcolor": "#E5ECF6",
           "radialaxis": {
            "gridcolor": "white",
            "linecolor": "white",
            "ticks": ""
           }
          },
          "scene": {
           "xaxis": {
            "backgroundcolor": "#E5ECF6",
            "gridcolor": "white",
            "gridwidth": 2,
            "linecolor": "white",
            "showbackground": true,
            "ticks": "",
            "zerolinecolor": "white"
           },
           "yaxis": {
            "backgroundcolor": "#E5ECF6",
            "gridcolor": "white",
            "gridwidth": 2,
            "linecolor": "white",
            "showbackground": true,
            "ticks": "",
            "zerolinecolor": "white"
           },
           "zaxis": {
            "backgroundcolor": "#E5ECF6",
            "gridcolor": "white",
            "gridwidth": 2,
            "linecolor": "white",
            "showbackground": true,
            "ticks": "",
            "zerolinecolor": "white"
           }
          },
          "shapedefaults": {
           "line": {
            "color": "#2a3f5f"
           }
          },
          "ternary": {
           "aaxis": {
            "gridcolor": "white",
            "linecolor": "white",
            "ticks": ""
           },
           "baxis": {
            "gridcolor": "white",
            "linecolor": "white",
            "ticks": ""
           },
           "bgcolor": "#E5ECF6",
           "caxis": {
            "gridcolor": "white",
            "linecolor": "white",
            "ticks": ""
           }
          },
          "title": {
           "x": 0.05
          },
          "xaxis": {
           "automargin": true,
           "gridcolor": "white",
           "linecolor": "white",
           "ticks": "",
           "title": {
            "standoff": 15
           },
           "zerolinecolor": "white",
           "zerolinewidth": 2
          },
          "yaxis": {
           "automargin": true,
           "gridcolor": "white",
           "linecolor": "white",
           "ticks": "",
           "title": {
            "standoff": 15
           },
           "zerolinecolor": "white",
           "zerolinewidth": 2
          }
         }
        },
        "title": {
         "text": "Bland-Altman Plot (r=0.38)"
        },
        "xaxis": {
         "title": {
          "text": "ManualGain"
         }
        },
        "yaxis": {
         "title": {
          "text": "Difference (ManualGain - AutoGain)"
         }
        }
       }
      }
     },
     "metadata": {},
     "output_type": "display_data"
    }
   ],
   "source": [
    "import plotly.graph_objects as go\n",
    "import pandas as pd\n",
    "import numpy as np\n",
    "from scipy.stats import pearsonr\n",
    "\n",
    "\n",
    "# Calculate the mean difference and limits of agreement\n",
    "mean_diff = AllSpeed['ManualGain'].mean() - AllSpeed['AutoGain'].mean()\n",
    "std_diff = np.std(AllSpeed['ManualGain'] - AllSpeed['AutoGain'])\n",
    "loa_upper = mean_diff + 1.96 * std_diff\n",
    "loa_lower = mean_diff - 1.96 * std_diff\n",
    "\n",
    "# Calculate the correlation coefficient\n",
    "corr, _ = pearsonr(AllSpeed['ManualGain'], AllSpeed['AutoGain'])\n",
    "\n",
    "# Create the Bland-Altman plot\n",
    "fig = go.Figure()\n",
    "\n",
    "fig.add_trace(go.Scatter(\n",
    "    x=AllSpeed['ManualGain'],\n",
    "    y=(AllSpeed['ManualGain'] - AllSpeed['AutoGain']),\n",
    "    mode='markers',\n",
    "    marker=dict(\n",
    "        size=8,\n",
    "        color='blue',\n",
    "        symbol='circle',\n",
    "        opacity=0.5\n",
    "    ),\n",
    "    name='ManualGain vs. AutoGain'\n",
    "))\n",
    "\n",
    "fig.add_trace(go.Scatter(\n",
    "    x=[AllSpeed['ManualGain'].min(), AllSpeed['ManualGain'].max()],\n",
    "    y=[mean_diff, mean_diff],\n",
    "    mode='lines',\n",
    "    line=dict(\n",
    "        color='red',\n",
    "        width=2,\n",
    "        dash='dash'\n",
    "    ),\n",
    "    name=f'Mean difference ({mean_diff:.2f})'\n",
    "))\n",
    "\n",
    "fig.add_trace(go.Scatter(\n",
    "    x=[AllSpeed['ManualGain'].min(), AllSpeed['ManualGain'].max()],\n",
    "    y=[loa_upper, loa_upper],\n",
    "    mode='lines',\n",
    "    line=dict(\n",
    "        color='green',\n",
    "        width=2,\n",
    "        dash='dash'\n",
    "    ),\n",
    "    name=f'Upper limit of agreement ({loa_upper:.2f})'\n",
    "))\n",
    "\n",
    "fig.add_trace(go.Scatter(\n",
    "    x=[AllSpeed['ManualGain'].min(), AllSpeed['ManualGain'].max()],\n",
    "    y=[loa_lower, loa_lower],\n",
    "    mode='lines',\n",
    "    line=dict(\n",
    "        color='green',\n",
    "        width=2,\n",
    "        dash='dash'\n",
    "    ),\n",
    "    name=f'Lower limit of agreement ({loa_lower:.2f})'\n",
    "))\n",
    "\n",
    "fig.update_layout(\n",
    "    title=f'Bland-Altman Plot (r={corr:.2f})',\n",
    "    xaxis_title='ManualGain',\n",
    "    yaxis_title='Difference (ManualGain - AutoGain)',\n",
    "    showlegend=True,\n",
    "    legend=dict(\n",
    "        x=0.02,\n",
    "        y=0.02,\n",
    "        font=dict(size=10),\n",
    "        bordercolor='black',\n",
    "        borderwidth=1\n",
    "    )\n",
    ")\n",
    "\n",
    "fig.show()"
   ]
  },
  {
   "attachments": {},
   "cell_type": "markdown",
   "metadata": {},
   "source": [
    "### Get the datapoints"
   ]
  },
  {
   "cell_type": "code",
   "execution_count": 122,
   "metadata": {},
   "outputs": [
    {
     "name": "stdout",
     "output_type": "stream",
     "text": [
      "Slope: 0.18927275112661218, Intercept: 0.7012822656024188\n"
     ]
    }
   ],
   "source": [
    "from sklearn.linear_model import LinearRegression\n",
    "\n",
    "# Create a LinearRegression object\n",
    "model = LinearRegression()\n",
    "\n",
    "# Fit the linear regression model\n",
    "X = AllSpeed['AutoGain'].values.reshape(-1, 1)\n",
    "y = AllSpeed['ManualGain']\n",
    "model.fit(X, y)\n",
    "\n",
    "# Get the coefficients and intercept\n",
    "slope = model.coef_[0]\n",
    "intercept = model.intercept_\n",
    "\n",
    "# Print the results\n",
    "print(f\"Slope: {slope}, Intercept: {intercept}\")"
   ]
  },
  {
   "cell_type": "code",
   "execution_count": 172,
   "metadata": {},
   "outputs": [
    {
     "data": {
      "image/png": "[encoded data removed]",
      "text/plain": [
       "<Figure size 432x288 with 1 Axes>"
      ]
     },
     "metadata": {
      "needs_background": "light"
     },
     "output_type": "display_data"
    }
   ],
   "source": [
    "# Create a scatter plot of the data points\n",
    "plt.scatter(X, y, color='blue', label='Data points')\n",
    "\n",
    "# Plot the regression line\n",
    "regression_line_x = X\n",
    "regression_line_y = slope * regression_line_x + intercept\n",
    "plt.plot(regression_line_x, regression_line_y, color='red', label='Regression line')\n",
    "\n",
    "# Add labels and title\n",
    "plt.xlabel('ManualGain')\n",
    "plt.ylabel('AutoGain')\n",
    "plt.title('Linear Regression: ManualGain vs AutoGain')\n",
    "\n",
    "# Add legend\n",
    "plt.legend()\n",
    "\n",
    "# Show the plot\n",
    "plt.show()"
   ]
  },
  {
   "cell_type": "code",
   "execution_count": 173,
   "metadata": {},
   "outputs": [
    {
     "data": {
      "image/png": "[encoded data removed]",
      "text/plain": [
       "<Figure size 432x288 with 1 Axes>"
      ]
     },
     "metadata": {
      "needs_background": "light"
     },
     "output_type": "display_data"
    }
   ],
   "source": [
    "import matplotlib.pyplot as plt\n",
    "import numpy as np\n",
    "import scipy.stats as stats\n",
    "\n",
    "# Fit the linear regression model\n",
    "X = AllSpeed['ManualGain'].values.reshape(-1, 1)\n",
    "y = AllSpeed['AutoGain']\n",
    "\n",
    "# Calculate the Pearson correlation coefficient\n",
    "correlation, p_value = stats.pearsonr(X.reshape(-1), y)\n",
    "\n",
    "# Create a scatter plot of the data points\n",
    "plt.scatter(X, y, color='blue', label='Data points')\n",
    "\n",
    "# Add labels and title\n",
    "plt.xlabel('ManualGain')\n",
    "plt.ylabel('AutoGain')\n",
    "plt.title('Scatter Plot: ManualGain vs AutoGain')\n",
    "\n",
    "# Add legend\n",
    "plt.legend()\n",
    "\n",
    "# Add the Pearson correlation coefficient as text on the plot\n",
    "correlation_text = f\"Pearson Correlation: {correlation:.2f}\"\n",
    "plt.text(min(X), max(y), correlation_text, fontsize=12, bbox=dict(facecolor='white', alpha=0.8))\n",
    "\n",
    "# Show the plot\n",
    "plt.show()"
   ]
  },
  {
   "cell_type": "code",
   "execution_count": null,
   "metadata": {},
   "outputs": [],
   "source": []
  }
 ],
 "metadata": {
  "kernelspec": {
   "display_name": "ds",
   "language": "python",
   "name": "python3"
  },
  "language_info": {
   "codemirror_mode": {
    "name": "ipython",
    "version": 3
   },
   "file_extension": ".py",
   "mimetype": "text/x-python",
   "name": "python",
   "nbconvert_exporter": "python",
   "pygments_lexer": "ipython3",
   "version": "3.9.5"
  },
  "orig_nbformat": 4
 },
 "nbformat": 4,
 "nbformat_minor": 2
}
